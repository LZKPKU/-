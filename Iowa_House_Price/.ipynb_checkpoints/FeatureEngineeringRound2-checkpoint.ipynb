{
 "cells": [
  {
   "cell_type": "markdown",
   "metadata": {},
   "source": [
    "###### Importing libraries:"
   ]
  },
  {
   "cell_type": "code",
   "execution_count": 533,
   "metadata": {
    "collapsed": true
   },
   "outputs": [],
   "source": [
    "import numpy as np\n",
    "import pandas as pd\n",
    "from matplotlib import pyplot as plt\n",
    "% matplotlib inline"
   ]
  },
  {
   "cell_type": "code",
   "execution_count": 534,
   "metadata": {},
   "outputs": [
    {
     "name": "stdout",
     "output_type": "stream",
     "text": [
      "The autoreload extension is already loaded. To reload it, use:\n",
      "  %reload_ext autoreload\n"
     ]
    }
   ],
   "source": [
    "%load_ext autoreload\n",
    "%autoreload 2"
   ]
  },
  {
   "cell_type": "markdown",
   "metadata": {
    "collapsed": true
   },
   "source": [
    "###### Reading in both test and train files"
   ]
  },
  {
   "cell_type": "code",
   "execution_count": 535,
   "metadata": {
    "collapsed": true
   },
   "outputs": [],
   "source": [
    "test = pd.read_csv('test.csv')\n",
    "train = pd.read_csv('train.csv')"
   ]
  },
  {
   "cell_type": "code",
   "execution_count": 536,
   "metadata": {},
   "outputs": [
    {
     "data": {
      "text/plain": [
       "(1460, 81)"
      ]
     },
     "execution_count": 536,
     "metadata": {},
     "output_type": "execute_result"
    }
   ],
   "source": [
    "# Check data frame sizes:\n",
    "train.shape  # 1460 by 81"
   ]
  },
  {
   "cell_type": "code",
   "execution_count": 537,
   "metadata": {
    "scrolled": true
   },
   "outputs": [
    {
     "data": {
      "text/plain": [
       "(1459, 80)"
      ]
     },
     "execution_count": 537,
     "metadata": {},
     "output_type": "execute_result"
    }
   ],
   "source": [
    "test.shape   # 1459 by 80 - why only 80 columns?"
   ]
  },
  {
   "cell_type": "code",
   "execution_count": 538,
   "metadata": {},
   "outputs": [
    {
     "data": {
      "text/plain": [
       "1460"
      ]
     },
     "execution_count": 538,
     "metadata": {},
     "output_type": "execute_result"
    }
   ],
   "source": [
    "# saving sample size as N for train and N2 for test:\n",
    "N = train.shape[0]\n",
    "N"
   ]
  },
  {
   "cell_type": "code",
   "execution_count": 539,
   "metadata": {},
   "outputs": [
    {
     "data": {
      "text/plain": [
       "1459"
      ]
     },
     "execution_count": 539,
     "metadata": {},
     "output_type": "execute_result"
    }
   ],
   "source": [
    "N2 = test.shape[0]\n",
    "N2"
   ]
  },
  {
   "cell_type": "code",
   "execution_count": 540,
   "metadata": {
    "collapsed": true
   },
   "outputs": [],
   "source": [
    "# Because test, unlike train, doesn't have the very last variable - SalePrice\n",
    "# list(train)\n",
    "# list(test)"
   ]
  },
  {
   "cell_type": "code",
   "execution_count": 541,
   "metadata": {
    "collapsed": true,
    "scrolled": true
   },
   "outputs": [],
   "source": [
    "# Checking column types:\n",
    "# train.dtypes   # 81 columns"
   ]
  },
  {
   "cell_type": "code",
   "execution_count": 542,
   "metadata": {
    "collapsed": true
   },
   "outputs": [],
   "source": [
    "# test.dtypes   # 80 columns"
   ]
  },
  {
   "cell_type": "markdown",
   "metadata": {},
   "source": [
    "###### Remove 2 outliers:"
   ]
  },
  {
   "cell_type": "code",
   "execution_count": 543,
   "metadata": {
    "collapsed": true
   },
   "outputs": [],
   "source": [
    "train = train.drop(train[(train['GrLivArea']>4000) & (train['SalePrice']<300000)].index)"
   ]
  },
  {
   "cell_type": "markdown",
   "metadata": {},
   "source": [
    "#### MISSING DATA"
   ]
  },
  {
   "cell_type": "code",
   "execution_count": 544,
   "metadata": {
    "collapsed": true
   },
   "outputs": [],
   "source": [
    "# How many missings in each column?\n",
    "#misscounts = np.sum(train.isnull(), axis=0)/N*100\n",
    "#print(misscounts[40:].round(2))\n",
    "# LotFrontage      17.7%\n",
    "# Alley            93.8% - not really missings, NA = no alley access to property\n",
    "# MasVnrType        0.5% (8 houses)\n",
    "# MasVnrArea        0.5% (8 houses)\n",
    "# BsmtQual          2.5%\n",
    "# BsmtCond          2.5%\n",
    "# BsmtExposure      2.6%\n",
    "# BsmtFinType1      2.5%\n",
    "# BsmtFinType2      2.6%\n",
    "# Electrical        0.1% (1 house)\n",
    "# FireplaceQu      47.3%\n",
    "# GarageType        5.5%\n",
    "# GarageYrBlt       5.5%\n",
    "# GarageFinish      5.5%\n",
    "# GarageQual        5.5%\n",
    "# GarageCond        5.5%\n",
    "# PoolQC           99.5%\n",
    "# Fence            80.8%\n",
    "# MiscFeature      96.3%"
   ]
  },
  {
   "cell_type": "code",
   "execution_count": 545,
   "metadata": {
    "collapsed": true
   },
   "outputs": [],
   "source": [
    "# Replacing NAs with 'None' in both data frames:\n",
    "train['BsmtQual'].fillna('NoBasement', inplace=True)\n",
    "test['BsmtQual'].fillna('NoBasement', inplace=True)"
   ]
  },
  {
   "cell_type": "code",
   "execution_count": 546,
   "metadata": {},
   "outputs": [
    {
     "name": "stdout",
     "output_type": "stream",
     "text": [
      "TA            44.45\n",
      "Gd            42.33\n",
      "Ex             8.15\n",
      "NoBasement     2.53\n",
      "Fa             2.40\n",
      "Name: BsmtQual, dtype: float64\n",
      "TA            43.42\n",
      "Gd            40.48\n",
      "Ex             9.38\n",
      "Fa             3.63\n",
      "NoBasement     3.01\n",
      "Name: BsmtQual, dtype: float64\n"
     ]
    }
   ],
   "source": [
    "print((train.BsmtQual.value_counts().sort_values(ascending = False)/N*100).round(2))\n",
    "print((test.BsmtQual.value_counts().sort_values(ascending = False)/N*100).round(2))"
   ]
  },
  {
   "cell_type": "code",
   "execution_count": 547,
   "metadata": {},
   "outputs": [
    {
     "data": {
      "text/html": [
       "<div>\n",
       "<style>\n",
       "    .dataframe thead tr:only-child th {\n",
       "        text-align: right;\n",
       "    }\n",
       "\n",
       "    .dataframe thead th {\n",
       "        text-align: left;\n",
       "    }\n",
       "\n",
       "    .dataframe tbody tr th {\n",
       "        vertical-align: top;\n",
       "    }\n",
       "</style>\n",
       "<table border=\"1\" class=\"dataframe\">\n",
       "  <thead>\n",
       "    <tr style=\"text-align: right;\">\n",
       "      <th>bsmt_height</th>\n",
       "      <th>0</th>\n",
       "      <th>1</th>\n",
       "      <th>2</th>\n",
       "      <th>3</th>\n",
       "      <th>4</th>\n",
       "    </tr>\n",
       "    <tr>\n",
       "      <th>BsmtQual</th>\n",
       "      <th></th>\n",
       "      <th></th>\n",
       "      <th></th>\n",
       "      <th></th>\n",
       "      <th></th>\n",
       "    </tr>\n",
       "  </thead>\n",
       "  <tbody>\n",
       "    <tr>\n",
       "      <th>Ex</th>\n",
       "      <td>0</td>\n",
       "      <td>0</td>\n",
       "      <td>0</td>\n",
       "      <td>0</td>\n",
       "      <td>119</td>\n",
       "    </tr>\n",
       "    <tr>\n",
       "      <th>Fa</th>\n",
       "      <td>0</td>\n",
       "      <td>35</td>\n",
       "      <td>0</td>\n",
       "      <td>0</td>\n",
       "      <td>0</td>\n",
       "    </tr>\n",
       "    <tr>\n",
       "      <th>Gd</th>\n",
       "      <td>0</td>\n",
       "      <td>0</td>\n",
       "      <td>0</td>\n",
       "      <td>618</td>\n",
       "      <td>0</td>\n",
       "    </tr>\n",
       "    <tr>\n",
       "      <th>NoBasement</th>\n",
       "      <td>37</td>\n",
       "      <td>0</td>\n",
       "      <td>0</td>\n",
       "      <td>0</td>\n",
       "      <td>0</td>\n",
       "    </tr>\n",
       "    <tr>\n",
       "      <th>TA</th>\n",
       "      <td>0</td>\n",
       "      <td>0</td>\n",
       "      <td>649</td>\n",
       "      <td>0</td>\n",
       "      <td>0</td>\n",
       "    </tr>\n",
       "  </tbody>\n",
       "</table>\n",
       "</div>"
      ],
      "text/plain": [
       "bsmt_height   0   1    2    3    4\n",
       "BsmtQual                          \n",
       "Ex            0   0    0    0  119\n",
       "Fa            0  35    0    0    0\n",
       "Gd            0   0    0  618    0\n",
       "NoBasement   37   0    0    0    0\n",
       "TA            0   0  649    0    0"
      ]
     },
     "execution_count": 547,
     "metadata": {},
     "output_type": "execute_result"
    }
   ],
   "source": [
    "train['bsmt_height'] = 0\n",
    "train.loc[(train.BsmtQual == 'Fa'), 'bsmt_height'] = 1\n",
    "train.loc[(train.BsmtQual == 'TA'), 'bsmt_height'] = 2\n",
    "train.loc[(train.BsmtQual == 'Gd'), 'bsmt_height'] = 3\n",
    "train.loc[(train.BsmtQual == 'Ex'), 'bsmt_height'] = 4\n",
    "pd.crosstab(train.BsmtQual, train.bsmt_height)"
   ]
  },
  {
   "cell_type": "code",
   "execution_count": 548,
   "metadata": {},
   "outputs": [
    {
     "data": {
      "text/html": [
       "<div>\n",
       "<style>\n",
       "    .dataframe thead tr:only-child th {\n",
       "        text-align: right;\n",
       "    }\n",
       "\n",
       "    .dataframe thead th {\n",
       "        text-align: left;\n",
       "    }\n",
       "\n",
       "    .dataframe tbody tr th {\n",
       "        vertical-align: top;\n",
       "    }\n",
       "</style>\n",
       "<table border=\"1\" class=\"dataframe\">\n",
       "  <thead>\n",
       "    <tr style=\"text-align: right;\">\n",
       "      <th>bsmt_height</th>\n",
       "      <th>0</th>\n",
       "      <th>1</th>\n",
       "      <th>2</th>\n",
       "      <th>3</th>\n",
       "      <th>4</th>\n",
       "    </tr>\n",
       "    <tr>\n",
       "      <th>BsmtQual</th>\n",
       "      <th></th>\n",
       "      <th></th>\n",
       "      <th></th>\n",
       "      <th></th>\n",
       "      <th></th>\n",
       "    </tr>\n",
       "  </thead>\n",
       "  <tbody>\n",
       "    <tr>\n",
       "      <th>Ex</th>\n",
       "      <td>0</td>\n",
       "      <td>0</td>\n",
       "      <td>0</td>\n",
       "      <td>0</td>\n",
       "      <td>137</td>\n",
       "    </tr>\n",
       "    <tr>\n",
       "      <th>Fa</th>\n",
       "      <td>0</td>\n",
       "      <td>53</td>\n",
       "      <td>0</td>\n",
       "      <td>0</td>\n",
       "      <td>0</td>\n",
       "    </tr>\n",
       "    <tr>\n",
       "      <th>Gd</th>\n",
       "      <td>0</td>\n",
       "      <td>0</td>\n",
       "      <td>0</td>\n",
       "      <td>591</td>\n",
       "      <td>0</td>\n",
       "    </tr>\n",
       "    <tr>\n",
       "      <th>NoBasement</th>\n",
       "      <td>44</td>\n",
       "      <td>0</td>\n",
       "      <td>0</td>\n",
       "      <td>0</td>\n",
       "      <td>0</td>\n",
       "    </tr>\n",
       "    <tr>\n",
       "      <th>TA</th>\n",
       "      <td>0</td>\n",
       "      <td>0</td>\n",
       "      <td>634</td>\n",
       "      <td>0</td>\n",
       "      <td>0</td>\n",
       "    </tr>\n",
       "  </tbody>\n",
       "</table>\n",
       "</div>"
      ],
      "text/plain": [
       "bsmt_height   0   1    2    3    4\n",
       "BsmtQual                          \n",
       "Ex            0   0    0    0  137\n",
       "Fa            0  53    0    0    0\n",
       "Gd            0   0    0  591    0\n",
       "NoBasement   44   0    0    0    0\n",
       "TA            0   0  634    0    0"
      ]
     },
     "execution_count": 548,
     "metadata": {},
     "output_type": "execute_result"
    }
   ],
   "source": [
    "test['bsmt_height'] = 0\n",
    "test.loc[(test.BsmtQual == 'Fa'), 'bsmt_height'] = 1\n",
    "test.loc[(test.BsmtQual == 'TA'), 'bsmt_height'] = 2\n",
    "test.loc[(test.BsmtQual == 'Gd'), 'bsmt_height'] = 3\n",
    "test.loc[(test.BsmtQual == 'Ex'), 'bsmt_height'] = 4\n",
    "pd.crosstab(test.BsmtQual, test.bsmt_height)"
   ]
  },
  {
   "cell_type": "code",
   "execution_count": 549,
   "metadata": {},
   "outputs": [
    {
     "name": "stdout",
     "output_type": "stream",
     "text": [
      "(1458, 82)\n",
      "(1459, 81)\n"
     ]
    }
   ],
   "source": [
    "print(train.shape)\n",
    "print(test.shape)"
   ]
  },
  {
   "cell_type": "markdown",
   "metadata": {},
   "source": [
    "#### Checking number of levels for categorical predictors"
   ]
  },
  {
   "cell_type": "markdown",
   "metadata": {},
   "source": [
    "###### MasVnrArea: Masonry veneer area in square feet"
   ]
  },
  {
   "cell_type": "markdown",
   "metadata": {},
   "source": [
    "Check distribution"
   ]
  },
  {
   "cell_type": "code",
   "execution_count": 550,
   "metadata": {},
   "outputs": [
    {
     "data": {
      "text/plain": [
       "count    1450.000000\n",
       "mean      102.753793\n",
       "std       179.442156\n",
       "min         0.000000\n",
       "25%         0.000000\n",
       "50%         0.000000\n",
       "75%       164.750000\n",
       "max      1600.000000\n",
       "Name: MasVnrArea, dtype: float64"
      ]
     },
     "execution_count": 550,
     "metadata": {},
     "output_type": "execute_result"
    }
   ],
   "source": [
    "train.MasVnrArea.describe()"
   ]
  },
  {
   "cell_type": "markdown",
   "metadata": {},
   "source": [
    "###### ExterQual: Exterior material quality"
   ]
  },
  {
   "cell_type": "markdown",
   "metadata": {},
   "source": [
    "Recoded into numeric 'exterior_quality':\n",
    "Fa = Fair = 0\n",
    "TA = Average = 1\n",
    "Gd = Good = 2\n",
    "Ex = Excellent = 3\n"
   ]
  },
  {
   "cell_type": "code",
   "execution_count": 551,
   "metadata": {
    "collapsed": true
   },
   "outputs": [],
   "source": [
    "# (train.ExterQual.value_counts().sort_values(ascending = False)/N*100).round(2)"
   ]
  },
  {
   "cell_type": "code",
   "execution_count": 552,
   "metadata": {
    "collapsed": true
   },
   "outputs": [],
   "source": [
    "# (test.ExterQual.value_counts().sort_values(ascending = False)/N*100).round(2)"
   ]
  },
  {
   "cell_type": "code",
   "execution_count": 553,
   "metadata": {},
   "outputs": [
    {
     "data": {
      "text/html": [
       "<div>\n",
       "<style>\n",
       "    .dataframe thead tr:only-child th {\n",
       "        text-align: right;\n",
       "    }\n",
       "\n",
       "    .dataframe thead th {\n",
       "        text-align: left;\n",
       "    }\n",
       "\n",
       "    .dataframe tbody tr th {\n",
       "        vertical-align: top;\n",
       "    }\n",
       "</style>\n",
       "<table border=\"1\" class=\"dataframe\">\n",
       "  <thead>\n",
       "    <tr style=\"text-align: right;\">\n",
       "      <th>exterior_quality</th>\n",
       "      <th>0</th>\n",
       "      <th>1</th>\n",
       "      <th>2</th>\n",
       "      <th>3</th>\n",
       "    </tr>\n",
       "    <tr>\n",
       "      <th>ExterQual</th>\n",
       "      <th></th>\n",
       "      <th></th>\n",
       "      <th></th>\n",
       "      <th></th>\n",
       "    </tr>\n",
       "  </thead>\n",
       "  <tbody>\n",
       "    <tr>\n",
       "      <th>Ex</th>\n",
       "      <td>0</td>\n",
       "      <td>0</td>\n",
       "      <td>0</td>\n",
       "      <td>50</td>\n",
       "    </tr>\n",
       "    <tr>\n",
       "      <th>Fa</th>\n",
       "      <td>14</td>\n",
       "      <td>0</td>\n",
       "      <td>0</td>\n",
       "      <td>0</td>\n",
       "    </tr>\n",
       "    <tr>\n",
       "      <th>Gd</th>\n",
       "      <td>0</td>\n",
       "      <td>0</td>\n",
       "      <td>488</td>\n",
       "      <td>0</td>\n",
       "    </tr>\n",
       "    <tr>\n",
       "      <th>TA</th>\n",
       "      <td>0</td>\n",
       "      <td>906</td>\n",
       "      <td>0</td>\n",
       "      <td>0</td>\n",
       "    </tr>\n",
       "  </tbody>\n",
       "</table>\n",
       "</div>"
      ],
      "text/plain": [
       "exterior_quality   0    1    2   3\n",
       "ExterQual                         \n",
       "Ex                 0    0    0  50\n",
       "Fa                14    0    0   0\n",
       "Gd                 0    0  488   0\n",
       "TA                 0  906    0   0"
      ]
     },
     "execution_count": 553,
     "metadata": {},
     "output_type": "execute_result"
    }
   ],
   "source": [
    "train['exterior_quality'] = 0\n",
    "train.loc[(train.ExterQual == 'TA'), 'exterior_quality'] = 1\n",
    "train.loc[(train.ExterQual == 'Gd'), 'exterior_quality'] = 2\n",
    "train.loc[(train.ExterQual == 'Ex'), 'exterior_quality'] = 3\n",
    "pd.crosstab(train.ExterQual, train.exterior_quality)"
   ]
  },
  {
   "cell_type": "code",
   "execution_count": 554,
   "metadata": {
    "scrolled": true
   },
   "outputs": [
    {
     "data": {
      "text/html": [
       "<div>\n",
       "<style>\n",
       "    .dataframe thead tr:only-child th {\n",
       "        text-align: right;\n",
       "    }\n",
       "\n",
       "    .dataframe thead th {\n",
       "        text-align: left;\n",
       "    }\n",
       "\n",
       "    .dataframe tbody tr th {\n",
       "        vertical-align: top;\n",
       "    }\n",
       "</style>\n",
       "<table border=\"1\" class=\"dataframe\">\n",
       "  <thead>\n",
       "    <tr style=\"text-align: right;\">\n",
       "      <th>exterior_quality</th>\n",
       "      <th>0</th>\n",
       "      <th>1</th>\n",
       "      <th>2</th>\n",
       "      <th>3</th>\n",
       "    </tr>\n",
       "    <tr>\n",
       "      <th>ExterQual</th>\n",
       "      <th></th>\n",
       "      <th></th>\n",
       "      <th></th>\n",
       "      <th></th>\n",
       "    </tr>\n",
       "  </thead>\n",
       "  <tbody>\n",
       "    <tr>\n",
       "      <th>Ex</th>\n",
       "      <td>0</td>\n",
       "      <td>0</td>\n",
       "      <td>0</td>\n",
       "      <td>55</td>\n",
       "    </tr>\n",
       "    <tr>\n",
       "      <th>Fa</th>\n",
       "      <td>21</td>\n",
       "      <td>0</td>\n",
       "      <td>0</td>\n",
       "      <td>0</td>\n",
       "    </tr>\n",
       "    <tr>\n",
       "      <th>Gd</th>\n",
       "      <td>0</td>\n",
       "      <td>0</td>\n",
       "      <td>491</td>\n",
       "      <td>0</td>\n",
       "    </tr>\n",
       "    <tr>\n",
       "      <th>TA</th>\n",
       "      <td>0</td>\n",
       "      <td>892</td>\n",
       "      <td>0</td>\n",
       "      <td>0</td>\n",
       "    </tr>\n",
       "  </tbody>\n",
       "</table>\n",
       "</div>"
      ],
      "text/plain": [
       "exterior_quality   0    1    2   3\n",
       "ExterQual                         \n",
       "Ex                 0    0    0  55\n",
       "Fa                21    0    0   0\n",
       "Gd                 0    0  491   0\n",
       "TA                 0  892    0   0"
      ]
     },
     "execution_count": 554,
     "metadata": {},
     "output_type": "execute_result"
    }
   ],
   "source": [
    "test['exterior_quality'] = 0\n",
    "test.loc[(test.ExterQual == 'TA'), 'exterior_quality'] = 1\n",
    "test.loc[(test.ExterQual == 'Gd'), 'exterior_quality'] = 2\n",
    "test.loc[(test.ExterQual == 'Ex'), 'exterior_quality'] = 3\n",
    "pd.crosstab(test.ExterQual, test.exterior_quality)"
   ]
  },
  {
   "cell_type": "markdown",
   "metadata": {},
   "source": [
    "###### ExterCond: Evaluates the present condition of the material on the exterior"
   ]
  },
  {
   "cell_type": "markdown",
   "metadata": {},
   "source": [
    "Recoded into numeric 'exterior_condition': Po = Poor = 0, Fa = Fair = 1 TA = Average = 2 Gd = Good = 3 Ex = Excellent = 4"
   ]
  },
  {
   "cell_type": "code",
   "execution_count": 555,
   "metadata": {
    "collapsed": true
   },
   "outputs": [],
   "source": [
    "# print((train.ExterCond.value_counts().sort_values(ascending = False)/N*100).round(2))\n",
    "# print((test.ExterCond.value_counts().sort_values(ascending = False)/N*100).round(2))"
   ]
  },
  {
   "cell_type": "code",
   "execution_count": 556,
   "metadata": {},
   "outputs": [
    {
     "data": {
      "text/html": [
       "<div>\n",
       "<style>\n",
       "    .dataframe thead tr:only-child th {\n",
       "        text-align: right;\n",
       "    }\n",
       "\n",
       "    .dataframe thead th {\n",
       "        text-align: left;\n",
       "    }\n",
       "\n",
       "    .dataframe tbody tr th {\n",
       "        vertical-align: top;\n",
       "    }\n",
       "</style>\n",
       "<table border=\"1\" class=\"dataframe\">\n",
       "  <thead>\n",
       "    <tr style=\"text-align: right;\">\n",
       "      <th>exterior_condition</th>\n",
       "      <th>0</th>\n",
       "      <th>1</th>\n",
       "      <th>2</th>\n",
       "      <th>3</th>\n",
       "      <th>4</th>\n",
       "    </tr>\n",
       "    <tr>\n",
       "      <th>ExterCond</th>\n",
       "      <th></th>\n",
       "      <th></th>\n",
       "      <th></th>\n",
       "      <th></th>\n",
       "      <th></th>\n",
       "    </tr>\n",
       "  </thead>\n",
       "  <tbody>\n",
       "    <tr>\n",
       "      <th>Ex</th>\n",
       "      <td>0</td>\n",
       "      <td>0</td>\n",
       "      <td>0</td>\n",
       "      <td>0</td>\n",
       "      <td>3</td>\n",
       "    </tr>\n",
       "    <tr>\n",
       "      <th>Fa</th>\n",
       "      <td>0</td>\n",
       "      <td>28</td>\n",
       "      <td>0</td>\n",
       "      <td>0</td>\n",
       "      <td>0</td>\n",
       "    </tr>\n",
       "    <tr>\n",
       "      <th>Gd</th>\n",
       "      <td>0</td>\n",
       "      <td>0</td>\n",
       "      <td>0</td>\n",
       "      <td>146</td>\n",
       "      <td>0</td>\n",
       "    </tr>\n",
       "    <tr>\n",
       "      <th>Po</th>\n",
       "      <td>1</td>\n",
       "      <td>0</td>\n",
       "      <td>0</td>\n",
       "      <td>0</td>\n",
       "      <td>0</td>\n",
       "    </tr>\n",
       "    <tr>\n",
       "      <th>TA</th>\n",
       "      <td>0</td>\n",
       "      <td>0</td>\n",
       "      <td>1280</td>\n",
       "      <td>0</td>\n",
       "      <td>0</td>\n",
       "    </tr>\n",
       "  </tbody>\n",
       "</table>\n",
       "</div>"
      ],
      "text/plain": [
       "exterior_condition  0   1     2    3  4\n",
       "ExterCond                              \n",
       "Ex                  0   0     0    0  3\n",
       "Fa                  0  28     0    0  0\n",
       "Gd                  0   0     0  146  0\n",
       "Po                  1   0     0    0  0\n",
       "TA                  0   0  1280    0  0"
      ]
     },
     "execution_count": 556,
     "metadata": {},
     "output_type": "execute_result"
    }
   ],
   "source": [
    "train['exterior_condition'] = 0\n",
    "train.loc[(train.ExterCond == 'Fa'), 'exterior_condition'] = 1\n",
    "train.loc[(train.ExterCond == 'TA'), 'exterior_condition'] = 2\n",
    "train.loc[(train.ExterCond == 'Gd'), 'exterior_condition'] = 3\n",
    "train.loc[(train.ExterCond == 'Ex'), 'exterior_condition'] = 4\n",
    "pd.crosstab(train.ExterCond, train.exterior_condition)"
   ]
  },
  {
   "cell_type": "code",
   "execution_count": 557,
   "metadata": {
    "scrolled": true
   },
   "outputs": [
    {
     "data": {
      "text/html": [
       "<div>\n",
       "<style>\n",
       "    .dataframe thead tr:only-child th {\n",
       "        text-align: right;\n",
       "    }\n",
       "\n",
       "    .dataframe thead th {\n",
       "        text-align: left;\n",
       "    }\n",
       "\n",
       "    .dataframe tbody tr th {\n",
       "        vertical-align: top;\n",
       "    }\n",
       "</style>\n",
       "<table border=\"1\" class=\"dataframe\">\n",
       "  <thead>\n",
       "    <tr style=\"text-align: right;\">\n",
       "      <th>exterior_condition</th>\n",
       "      <th>0</th>\n",
       "      <th>1</th>\n",
       "      <th>2</th>\n",
       "      <th>3</th>\n",
       "      <th>4</th>\n",
       "    </tr>\n",
       "    <tr>\n",
       "      <th>ExterCond</th>\n",
       "      <th></th>\n",
       "      <th></th>\n",
       "      <th></th>\n",
       "      <th></th>\n",
       "      <th></th>\n",
       "    </tr>\n",
       "  </thead>\n",
       "  <tbody>\n",
       "    <tr>\n",
       "      <th>Ex</th>\n",
       "      <td>0</td>\n",
       "      <td>0</td>\n",
       "      <td>0</td>\n",
       "      <td>0</td>\n",
       "      <td>9</td>\n",
       "    </tr>\n",
       "    <tr>\n",
       "      <th>Fa</th>\n",
       "      <td>0</td>\n",
       "      <td>39</td>\n",
       "      <td>0</td>\n",
       "      <td>0</td>\n",
       "      <td>0</td>\n",
       "    </tr>\n",
       "    <tr>\n",
       "      <th>Gd</th>\n",
       "      <td>0</td>\n",
       "      <td>0</td>\n",
       "      <td>0</td>\n",
       "      <td>153</td>\n",
       "      <td>0</td>\n",
       "    </tr>\n",
       "    <tr>\n",
       "      <th>Po</th>\n",
       "      <td>2</td>\n",
       "      <td>0</td>\n",
       "      <td>0</td>\n",
       "      <td>0</td>\n",
       "      <td>0</td>\n",
       "    </tr>\n",
       "    <tr>\n",
       "      <th>TA</th>\n",
       "      <td>0</td>\n",
       "      <td>0</td>\n",
       "      <td>1256</td>\n",
       "      <td>0</td>\n",
       "      <td>0</td>\n",
       "    </tr>\n",
       "  </tbody>\n",
       "</table>\n",
       "</div>"
      ],
      "text/plain": [
       "exterior_condition  0   1     2    3  4\n",
       "ExterCond                              \n",
       "Ex                  0   0     0    0  9\n",
       "Fa                  0  39     0    0  0\n",
       "Gd                  0   0     0  153  0\n",
       "Po                  2   0     0    0  0\n",
       "TA                  0   0  1256    0  0"
      ]
     },
     "execution_count": 557,
     "metadata": {},
     "output_type": "execute_result"
    }
   ],
   "source": [
    "test['exterior_condition'] = 0\n",
    "test.loc[(test.ExterCond == 'Fa'), 'exterior_condition'] = 1\n",
    "test.loc[(test.ExterCond == 'TA'), 'exterior_condition'] = 2\n",
    "test.loc[(test.ExterCond == 'Gd'), 'exterior_condition'] = 3\n",
    "test.loc[(test.ExterCond == 'Ex'), 'exterior_condition'] = 4\n",
    "pd.crosstab(test.ExterCond, test.exterior_condition)"
   ]
  },
  {
   "cell_type": "code",
   "execution_count": 558,
   "metadata": {},
   "outputs": [
    {
     "data": {
      "text/html": [
       "<div>\n",
       "<style>\n",
       "    .dataframe thead tr:only-child th {\n",
       "        text-align: right;\n",
       "    }\n",
       "\n",
       "    .dataframe thead th {\n",
       "        text-align: left;\n",
       "    }\n",
       "\n",
       "    .dataframe tbody tr th {\n",
       "        vertical-align: top;\n",
       "    }\n",
       "</style>\n",
       "<table border=\"1\" class=\"dataframe\">\n",
       "  <thead>\n",
       "    <tr style=\"text-align: right;\">\n",
       "      <th></th>\n",
       "      <th>exterior_quality</th>\n",
       "      <th>exterior_condition</th>\n",
       "    </tr>\n",
       "  </thead>\n",
       "  <tbody>\n",
       "    <tr>\n",
       "      <th>exterior_quality</th>\n",
       "      <td>1.000000</td>\n",
       "      <td>0.010152</td>\n",
       "    </tr>\n",
       "    <tr>\n",
       "      <th>exterior_condition</th>\n",
       "      <td>0.010152</td>\n",
       "      <td>1.000000</td>\n",
       "    </tr>\n",
       "  </tbody>\n",
       "</table>\n",
       "</div>"
      ],
      "text/plain": [
       "                    exterior_quality  exterior_condition\n",
       "exterior_quality            1.000000            0.010152\n",
       "exterior_condition          0.010152            1.000000"
      ]
     },
     "execution_count": 558,
     "metadata": {},
     "output_type": "execute_result"
    }
   ],
   "source": [
    "train[['exterior_quality','exterior_condition']].corr()  # Correlation is just 0.009, good!"
   ]
  },
  {
   "cell_type": "markdown",
   "metadata": {},
   "source": [
    "###### BsmtCond: Evaluates the general condition of the basement"
   ]
  },
  {
   "cell_type": "code",
   "execution_count": 559,
   "metadata": {
    "collapsed": true
   },
   "outputs": [],
   "source": [
    "# Replacing NAs with 'None' in both data frames:\n",
    "train['BsmtCond'].fillna('NoBasement', inplace=True)\n",
    "test['BsmtCond'].fillna('NoBasement', inplace=True)"
   ]
  },
  {
   "cell_type": "code",
   "execution_count": 560,
   "metadata": {},
   "outputs": [
    {
     "name": "stdout",
     "output_type": "stream",
     "text": [
      "TA            89.66\n",
      "Gd             4.45\n",
      "Fa             3.08\n",
      "NoBasement     2.53\n",
      "Po             0.14\n",
      "Name: BsmtCond, dtype: float64\n",
      "TA            88.70\n",
      "Fa             4.04\n",
      "Gd             3.90\n",
      "NoBasement     3.08\n",
      "Po             0.21\n",
      "Name: BsmtCond, dtype: float64\n"
     ]
    }
   ],
   "source": [
    "print((train.BsmtCond.value_counts().sort_values(ascending = False)/N*100).round(2))\n",
    "print((test.BsmtCond.value_counts().sort_values(ascending = False)/N*100).round(2))"
   ]
  },
  {
   "cell_type": "code",
   "execution_count": 561,
   "metadata": {},
   "outputs": [
    {
     "data": {
      "text/html": [
       "<div>\n",
       "<style>\n",
       "    .dataframe thead tr:only-child th {\n",
       "        text-align: right;\n",
       "    }\n",
       "\n",
       "    .dataframe thead th {\n",
       "        text-align: left;\n",
       "    }\n",
       "\n",
       "    .dataframe tbody tr th {\n",
       "        vertical-align: top;\n",
       "    }\n",
       "</style>\n",
       "<table border=\"1\" class=\"dataframe\">\n",
       "  <thead>\n",
       "    <tr style=\"text-align: right;\">\n",
       "      <th>bsmt_condition</th>\n",
       "      <th>0</th>\n",
       "      <th>1</th>\n",
       "      <th>2</th>\n",
       "      <th>3</th>\n",
       "      <th>4</th>\n",
       "    </tr>\n",
       "    <tr>\n",
       "      <th>BsmtCond</th>\n",
       "      <th></th>\n",
       "      <th></th>\n",
       "      <th></th>\n",
       "      <th></th>\n",
       "      <th></th>\n",
       "    </tr>\n",
       "  </thead>\n",
       "  <tbody>\n",
       "    <tr>\n",
       "      <th>Fa</th>\n",
       "      <td>0</td>\n",
       "      <td>0</td>\n",
       "      <td>45</td>\n",
       "      <td>0</td>\n",
       "      <td>0</td>\n",
       "    </tr>\n",
       "    <tr>\n",
       "      <th>Gd</th>\n",
       "      <td>0</td>\n",
       "      <td>0</td>\n",
       "      <td>0</td>\n",
       "      <td>0</td>\n",
       "      <td>65</td>\n",
       "    </tr>\n",
       "    <tr>\n",
       "      <th>NoBasement</th>\n",
       "      <td>37</td>\n",
       "      <td>0</td>\n",
       "      <td>0</td>\n",
       "      <td>0</td>\n",
       "      <td>0</td>\n",
       "    </tr>\n",
       "    <tr>\n",
       "      <th>Po</th>\n",
       "      <td>0</td>\n",
       "      <td>2</td>\n",
       "      <td>0</td>\n",
       "      <td>0</td>\n",
       "      <td>0</td>\n",
       "    </tr>\n",
       "    <tr>\n",
       "      <th>TA</th>\n",
       "      <td>0</td>\n",
       "      <td>0</td>\n",
       "      <td>0</td>\n",
       "      <td>1309</td>\n",
       "      <td>0</td>\n",
       "    </tr>\n",
       "  </tbody>\n",
       "</table>\n",
       "</div>"
      ],
      "text/plain": [
       "bsmt_condition   0  1   2     3   4\n",
       "BsmtCond                           \n",
       "Fa               0  0  45     0   0\n",
       "Gd               0  0   0     0  65\n",
       "NoBasement      37  0   0     0   0\n",
       "Po               0  2   0     0   0\n",
       "TA               0  0   0  1309   0"
      ]
     },
     "execution_count": 561,
     "metadata": {},
     "output_type": "execute_result"
    }
   ],
   "source": [
    "train['bsmt_condition'] = 0\n",
    "train.loc[(train.BsmtCond == 'Po'), 'bsmt_condition'] = 1\n",
    "train.loc[(train.BsmtCond == 'Fa'), 'bsmt_condition'] = 2\n",
    "train.loc[(train.BsmtCond == 'TA'), 'bsmt_condition'] = 3\n",
    "train.loc[(train.BsmtCond == 'Gd'), 'bsmt_condition'] = 4\n",
    "pd.crosstab(train.BsmtCond, train.bsmt_condition)"
   ]
  },
  {
   "cell_type": "code",
   "execution_count": 562,
   "metadata": {},
   "outputs": [
    {
     "data": {
      "text/html": [
       "<div>\n",
       "<style>\n",
       "    .dataframe thead tr:only-child th {\n",
       "        text-align: right;\n",
       "    }\n",
       "\n",
       "    .dataframe thead th {\n",
       "        text-align: left;\n",
       "    }\n",
       "\n",
       "    .dataframe tbody tr th {\n",
       "        vertical-align: top;\n",
       "    }\n",
       "</style>\n",
       "<table border=\"1\" class=\"dataframe\">\n",
       "  <thead>\n",
       "    <tr style=\"text-align: right;\">\n",
       "      <th>bsmt_condition</th>\n",
       "      <th>0</th>\n",
       "      <th>1</th>\n",
       "      <th>2</th>\n",
       "      <th>3</th>\n",
       "      <th>4</th>\n",
       "    </tr>\n",
       "    <tr>\n",
       "      <th>BsmtCond</th>\n",
       "      <th></th>\n",
       "      <th></th>\n",
       "      <th></th>\n",
       "      <th></th>\n",
       "      <th></th>\n",
       "    </tr>\n",
       "  </thead>\n",
       "  <tbody>\n",
       "    <tr>\n",
       "      <th>Fa</th>\n",
       "      <td>0</td>\n",
       "      <td>0</td>\n",
       "      <td>59</td>\n",
       "      <td>0</td>\n",
       "      <td>0</td>\n",
       "    </tr>\n",
       "    <tr>\n",
       "      <th>Gd</th>\n",
       "      <td>0</td>\n",
       "      <td>0</td>\n",
       "      <td>0</td>\n",
       "      <td>0</td>\n",
       "      <td>57</td>\n",
       "    </tr>\n",
       "    <tr>\n",
       "      <th>NoBasement</th>\n",
       "      <td>45</td>\n",
       "      <td>0</td>\n",
       "      <td>0</td>\n",
       "      <td>0</td>\n",
       "      <td>0</td>\n",
       "    </tr>\n",
       "    <tr>\n",
       "      <th>Po</th>\n",
       "      <td>0</td>\n",
       "      <td>3</td>\n",
       "      <td>0</td>\n",
       "      <td>0</td>\n",
       "      <td>0</td>\n",
       "    </tr>\n",
       "    <tr>\n",
       "      <th>TA</th>\n",
       "      <td>0</td>\n",
       "      <td>0</td>\n",
       "      <td>0</td>\n",
       "      <td>1295</td>\n",
       "      <td>0</td>\n",
       "    </tr>\n",
       "  </tbody>\n",
       "</table>\n",
       "</div>"
      ],
      "text/plain": [
       "bsmt_condition   0  1   2     3   4\n",
       "BsmtCond                           \n",
       "Fa               0  0  59     0   0\n",
       "Gd               0  0   0     0  57\n",
       "NoBasement      45  0   0     0   0\n",
       "Po               0  3   0     0   0\n",
       "TA               0  0   0  1295   0"
      ]
     },
     "execution_count": 562,
     "metadata": {},
     "output_type": "execute_result"
    }
   ],
   "source": [
    "test['bsmt_condition'] = 0\n",
    "test.loc[(test.BsmtCond == 'Po'), 'bsmt_condition'] = 1\n",
    "test.loc[(test.BsmtCond == 'Fa'), 'bsmt_condition'] = 2\n",
    "test.loc[(test.BsmtCond == 'TA'), 'bsmt_condition'] = 3\n",
    "test.loc[(test.BsmtCond == 'Gd'), 'bsmt_condition'] = 4\n",
    "pd.crosstab(test.BsmtCond, test.bsmt_condition)"
   ]
  },
  {
   "cell_type": "markdown",
   "metadata": {},
   "source": [
    "###### BsmtExposure: Refers to walkout or garden level walls"
   ]
  },
  {
   "cell_type": "code",
   "execution_count": 563,
   "metadata": {
    "collapsed": true
   },
   "outputs": [],
   "source": [
    "# Replacing NAs with 'None' in both data frames:\n",
    "train['BsmtExposure'].fillna('NoBasement', inplace=True)\n",
    "test['BsmtExposure'].fillna('NoBasement', inplace=True)"
   ]
  },
  {
   "cell_type": "code",
   "execution_count": 564,
   "metadata": {},
   "outputs": [
    {
     "name": "stdout",
     "output_type": "stream",
     "text": [
      "No            65.27\n",
      "Av            15.14\n",
      "Gd             9.04\n",
      "Mn             7.81\n",
      "NoBasement     2.60\n",
      "Name: BsmtExposure, dtype: float64\n",
      "No            65.14\n",
      "Av            13.49\n",
      "Gd             9.73\n",
      "Mn             8.56\n",
      "NoBasement     3.01\n",
      "Name: BsmtExposure, dtype: float64\n"
     ]
    }
   ],
   "source": [
    "print((train.BsmtExposure.value_counts().sort_values(ascending = False)/N*100).round(2))\n",
    "print((test.BsmtExposure.value_counts().sort_values(ascending = False)/N*100).round(2))"
   ]
  },
  {
   "cell_type": "code",
   "execution_count": 565,
   "metadata": {},
   "outputs": [
    {
     "data": {
      "text/html": [
       "<div>\n",
       "<style>\n",
       "    .dataframe thead tr:only-child th {\n",
       "        text-align: right;\n",
       "    }\n",
       "\n",
       "    .dataframe thead th {\n",
       "        text-align: left;\n",
       "    }\n",
       "\n",
       "    .dataframe tbody tr th {\n",
       "        vertical-align: top;\n",
       "    }\n",
       "</style>\n",
       "<table border=\"1\" class=\"dataframe\">\n",
       "  <thead>\n",
       "    <tr style=\"text-align: right;\">\n",
       "      <th>bsmt_exposure</th>\n",
       "      <th>0</th>\n",
       "      <th>1</th>\n",
       "      <th>2</th>\n",
       "      <th>3</th>\n",
       "    </tr>\n",
       "    <tr>\n",
       "      <th>BsmtExposure</th>\n",
       "      <th></th>\n",
       "      <th></th>\n",
       "      <th></th>\n",
       "      <th></th>\n",
       "    </tr>\n",
       "  </thead>\n",
       "  <tbody>\n",
       "    <tr>\n",
       "      <th>Av</th>\n",
       "      <td>0</td>\n",
       "      <td>0</td>\n",
       "      <td>221</td>\n",
       "      <td>0</td>\n",
       "    </tr>\n",
       "    <tr>\n",
       "      <th>Gd</th>\n",
       "      <td>0</td>\n",
       "      <td>0</td>\n",
       "      <td>0</td>\n",
       "      <td>132</td>\n",
       "    </tr>\n",
       "    <tr>\n",
       "      <th>Mn</th>\n",
       "      <td>0</td>\n",
       "      <td>114</td>\n",
       "      <td>0</td>\n",
       "      <td>0</td>\n",
       "    </tr>\n",
       "    <tr>\n",
       "      <th>No</th>\n",
       "      <td>953</td>\n",
       "      <td>0</td>\n",
       "      <td>0</td>\n",
       "      <td>0</td>\n",
       "    </tr>\n",
       "    <tr>\n",
       "      <th>NoBasement</th>\n",
       "      <td>38</td>\n",
       "      <td>0</td>\n",
       "      <td>0</td>\n",
       "      <td>0</td>\n",
       "    </tr>\n",
       "  </tbody>\n",
       "</table>\n",
       "</div>"
      ],
      "text/plain": [
       "bsmt_exposure    0    1    2    3\n",
       "BsmtExposure                     \n",
       "Av               0    0  221    0\n",
       "Gd               0    0    0  132\n",
       "Mn               0  114    0    0\n",
       "No             953    0    0    0\n",
       "NoBasement      38    0    0    0"
      ]
     },
     "execution_count": 565,
     "metadata": {},
     "output_type": "execute_result"
    }
   ],
   "source": [
    "train['bsmt_exposure'] = 0\n",
    "train.loc[(train.BsmtExposure == 'Mn'), 'bsmt_exposure'] = 1\n",
    "train.loc[(train.BsmtExposure == 'Av'), 'bsmt_exposure'] = 2\n",
    "train.loc[(train.BsmtExposure == 'Gd'), 'bsmt_exposure'] = 3\n",
    "pd.crosstab(train.BsmtExposure, train.bsmt_exposure)"
   ]
  },
  {
   "cell_type": "code",
   "execution_count": 566,
   "metadata": {},
   "outputs": [
    {
     "data": {
      "text/html": [
       "<div>\n",
       "<style>\n",
       "    .dataframe thead tr:only-child th {\n",
       "        text-align: right;\n",
       "    }\n",
       "\n",
       "    .dataframe thead th {\n",
       "        text-align: left;\n",
       "    }\n",
       "\n",
       "    .dataframe tbody tr th {\n",
       "        vertical-align: top;\n",
       "    }\n",
       "</style>\n",
       "<table border=\"1\" class=\"dataframe\">\n",
       "  <thead>\n",
       "    <tr style=\"text-align: right;\">\n",
       "      <th>bsmt_exposure</th>\n",
       "      <th>0</th>\n",
       "      <th>1</th>\n",
       "      <th>2</th>\n",
       "      <th>3</th>\n",
       "    </tr>\n",
       "    <tr>\n",
       "      <th>BsmtExposure</th>\n",
       "      <th></th>\n",
       "      <th></th>\n",
       "      <th></th>\n",
       "      <th></th>\n",
       "    </tr>\n",
       "  </thead>\n",
       "  <tbody>\n",
       "    <tr>\n",
       "      <th>Av</th>\n",
       "      <td>0</td>\n",
       "      <td>0</td>\n",
       "      <td>197</td>\n",
       "      <td>0</td>\n",
       "    </tr>\n",
       "    <tr>\n",
       "      <th>Gd</th>\n",
       "      <td>0</td>\n",
       "      <td>0</td>\n",
       "      <td>0</td>\n",
       "      <td>142</td>\n",
       "    </tr>\n",
       "    <tr>\n",
       "      <th>Mn</th>\n",
       "      <td>0</td>\n",
       "      <td>125</td>\n",
       "      <td>0</td>\n",
       "      <td>0</td>\n",
       "    </tr>\n",
       "    <tr>\n",
       "      <th>No</th>\n",
       "      <td>951</td>\n",
       "      <td>0</td>\n",
       "      <td>0</td>\n",
       "      <td>0</td>\n",
       "    </tr>\n",
       "    <tr>\n",
       "      <th>NoBasement</th>\n",
       "      <td>44</td>\n",
       "      <td>0</td>\n",
       "      <td>0</td>\n",
       "      <td>0</td>\n",
       "    </tr>\n",
       "  </tbody>\n",
       "</table>\n",
       "</div>"
      ],
      "text/plain": [
       "bsmt_exposure    0    1    2    3\n",
       "BsmtExposure                     \n",
       "Av               0    0  197    0\n",
       "Gd               0    0    0  142\n",
       "Mn               0  125    0    0\n",
       "No             951    0    0    0\n",
       "NoBasement      44    0    0    0"
      ]
     },
     "execution_count": 566,
     "metadata": {},
     "output_type": "execute_result"
    }
   ],
   "source": [
    "test['bsmt_exposure'] = 0\n",
    "test.loc[(test.BsmtExposure == 'Mn'), 'bsmt_exposure'] = 1\n",
    "test.loc[(test.BsmtExposure == 'Av'), 'bsmt_exposure'] = 2\n",
    "test.loc[(test.BsmtExposure == 'Gd'), 'bsmt_exposure'] = 3\n",
    "pd.crosstab(test.BsmtExposure, test.bsmt_exposure)"
   ]
  },
  {
   "cell_type": "markdown",
   "metadata": {},
   "source": [
    "###### BsmtFinType1: Rating of basement finished area"
   ]
  },
  {
   "cell_type": "markdown",
   "metadata": {},
   "source": [
    "Created 2 quantitative vars: bsmt_finished1 and bsmt_finished2"
   ]
  },
  {
   "cell_type": "code",
   "execution_count": 567,
   "metadata": {
    "collapsed": true
   },
   "outputs": [],
   "source": [
    "# Replacing NAs with 'None' in both data frames:\n",
    "train['BsmtFinType1'].fillna('NoBasement', inplace=True)\n",
    "train['BsmtFinType2'].fillna('NoBasement', inplace=True)\n",
    "test['BsmtFinType1'].fillna('NoBasement', inplace=True)\n",
    "test['BsmtFinType2'].fillna('NoBasement', inplace=True)"
   ]
  },
  {
   "cell_type": "code",
   "execution_count": 568,
   "metadata": {
    "collapsed": true
   },
   "outputs": [],
   "source": [
    "# print((train.BsmtFinType1.value_counts().sort_values(ascending = False)/N*100).round(2))\n",
    "# print((train.BsmtFinType2.value_counts().sort_values(ascending = False)/N*100).round(2))"
   ]
  },
  {
   "cell_type": "code",
   "execution_count": 569,
   "metadata": {
    "collapsed": true
   },
   "outputs": [],
   "source": [
    "# print((test.BsmtFinType1.value_counts().sort_values(ascending = False)/N*100).round(2))\n",
    "# print((test.BsmtFinType2.value_counts().sort_values(ascending = False)/N*100).round(2))"
   ]
  },
  {
   "cell_type": "code",
   "execution_count": 570,
   "metadata": {},
   "outputs": [
    {
     "data": {
      "text/html": [
       "<div>\n",
       "<style>\n",
       "    .dataframe thead tr:only-child th {\n",
       "        text-align: right;\n",
       "    }\n",
       "\n",
       "    .dataframe thead th {\n",
       "        text-align: left;\n",
       "    }\n",
       "\n",
       "    .dataframe tbody tr th {\n",
       "        vertical-align: top;\n",
       "    }\n",
       "</style>\n",
       "<table border=\"1\" class=\"dataframe\">\n",
       "  <thead>\n",
       "    <tr style=\"text-align: right;\">\n",
       "      <th>bsmt_finished1</th>\n",
       "      <th>0</th>\n",
       "      <th>1</th>\n",
       "      <th>2</th>\n",
       "      <th>3</th>\n",
       "      <th>4</th>\n",
       "    </tr>\n",
       "    <tr>\n",
       "      <th>BsmtFinType1</th>\n",
       "      <th></th>\n",
       "      <th></th>\n",
       "      <th></th>\n",
       "      <th></th>\n",
       "      <th></th>\n",
       "    </tr>\n",
       "  </thead>\n",
       "  <tbody>\n",
       "    <tr>\n",
       "      <th>ALQ</th>\n",
       "      <td>0</td>\n",
       "      <td>0</td>\n",
       "      <td>0</td>\n",
       "      <td>220</td>\n",
       "      <td>0</td>\n",
       "    </tr>\n",
       "    <tr>\n",
       "      <th>BLQ</th>\n",
       "      <td>0</td>\n",
       "      <td>0</td>\n",
       "      <td>148</td>\n",
       "      <td>0</td>\n",
       "      <td>0</td>\n",
       "    </tr>\n",
       "    <tr>\n",
       "      <th>GLQ</th>\n",
       "      <td>0</td>\n",
       "      <td>0</td>\n",
       "      <td>0</td>\n",
       "      <td>0</td>\n",
       "      <td>416</td>\n",
       "    </tr>\n",
       "    <tr>\n",
       "      <th>LwQ</th>\n",
       "      <td>0</td>\n",
       "      <td>74</td>\n",
       "      <td>0</td>\n",
       "      <td>0</td>\n",
       "      <td>0</td>\n",
       "    </tr>\n",
       "    <tr>\n",
       "      <th>NoBasement</th>\n",
       "      <td>37</td>\n",
       "      <td>0</td>\n",
       "      <td>0</td>\n",
       "      <td>0</td>\n",
       "      <td>0</td>\n",
       "    </tr>\n",
       "    <tr>\n",
       "      <th>Rec</th>\n",
       "      <td>0</td>\n",
       "      <td>0</td>\n",
       "      <td>133</td>\n",
       "      <td>0</td>\n",
       "      <td>0</td>\n",
       "    </tr>\n",
       "    <tr>\n",
       "      <th>Unf</th>\n",
       "      <td>0</td>\n",
       "      <td>430</td>\n",
       "      <td>0</td>\n",
       "      <td>0</td>\n",
       "      <td>0</td>\n",
       "    </tr>\n",
       "  </tbody>\n",
       "</table>\n",
       "</div>"
      ],
      "text/plain": [
       "bsmt_finished1   0    1    2    3    4\n",
       "BsmtFinType1                          \n",
       "ALQ              0    0    0  220    0\n",
       "BLQ              0    0  148    0    0\n",
       "GLQ              0    0    0    0  416\n",
       "LwQ              0   74    0    0    0\n",
       "NoBasement      37    0    0    0    0\n",
       "Rec              0    0  133    0    0\n",
       "Unf              0  430    0    0    0"
      ]
     },
     "execution_count": 570,
     "metadata": {},
     "output_type": "execute_result"
    }
   ],
   "source": [
    "train['bsmt_finished1'] = 0\n",
    "train.loc[(train.BsmtFinType1 == 'Unf'), 'bsmt_finished1'] = 1\n",
    "train.loc[(train.BsmtFinType1 == 'LwQ'), 'bsmt_finished1'] = 1\n",
    "train.loc[(train.BsmtFinType1 == 'BLQ'), 'bsmt_finished1'] = 2\n",
    "train.loc[(train.BsmtFinType1 == 'Rec'), 'bsmt_finished1'] = 2\n",
    "train.loc[(train.BsmtFinType1 == 'ALQ'), 'bsmt_finished1'] = 3\n",
    "train.loc[(train.BsmtFinType1 == 'GLQ'), 'bsmt_finished1'] = 4\n",
    "pd.crosstab(train.BsmtFinType1, train.bsmt_finished1)"
   ]
  },
  {
   "cell_type": "code",
   "execution_count": 571,
   "metadata": {},
   "outputs": [
    {
     "data": {
      "text/html": [
       "<div>\n",
       "<style>\n",
       "    .dataframe thead tr:only-child th {\n",
       "        text-align: right;\n",
       "    }\n",
       "\n",
       "    .dataframe thead th {\n",
       "        text-align: left;\n",
       "    }\n",
       "\n",
       "    .dataframe tbody tr th {\n",
       "        vertical-align: top;\n",
       "    }\n",
       "</style>\n",
       "<table border=\"1\" class=\"dataframe\">\n",
       "  <thead>\n",
       "    <tr style=\"text-align: right;\">\n",
       "      <th>bsmt_finished1</th>\n",
       "      <th>0</th>\n",
       "      <th>1</th>\n",
       "      <th>2</th>\n",
       "      <th>3</th>\n",
       "      <th>4</th>\n",
       "    </tr>\n",
       "    <tr>\n",
       "      <th>BsmtFinType2</th>\n",
       "      <th></th>\n",
       "      <th></th>\n",
       "      <th></th>\n",
       "      <th></th>\n",
       "      <th></th>\n",
       "    </tr>\n",
       "  </thead>\n",
       "  <tbody>\n",
       "    <tr>\n",
       "      <th>ALQ</th>\n",
       "      <td>0</td>\n",
       "      <td>9</td>\n",
       "      <td>6</td>\n",
       "      <td>0</td>\n",
       "      <td>4</td>\n",
       "    </tr>\n",
       "    <tr>\n",
       "      <th>BLQ</th>\n",
       "      <td>0</td>\n",
       "      <td>4</td>\n",
       "      <td>12</td>\n",
       "      <td>15</td>\n",
       "      <td>2</td>\n",
       "    </tr>\n",
       "    <tr>\n",
       "      <th>GLQ</th>\n",
       "      <td>0</td>\n",
       "      <td>7</td>\n",
       "      <td>5</td>\n",
       "      <td>2</td>\n",
       "      <td>0</td>\n",
       "    </tr>\n",
       "    <tr>\n",
       "      <th>LwQ</th>\n",
       "      <td>0</td>\n",
       "      <td>0</td>\n",
       "      <td>21</td>\n",
       "      <td>15</td>\n",
       "      <td>10</td>\n",
       "    </tr>\n",
       "    <tr>\n",
       "      <th>NoBasement</th>\n",
       "      <td>37</td>\n",
       "      <td>0</td>\n",
       "      <td>0</td>\n",
       "      <td>0</td>\n",
       "      <td>1</td>\n",
       "    </tr>\n",
       "    <tr>\n",
       "      <th>Rec</th>\n",
       "      <td>0</td>\n",
       "      <td>8</td>\n",
       "      <td>15</td>\n",
       "      <td>22</td>\n",
       "      <td>9</td>\n",
       "    </tr>\n",
       "    <tr>\n",
       "      <th>Unf</th>\n",
       "      <td>0</td>\n",
       "      <td>476</td>\n",
       "      <td>222</td>\n",
       "      <td>166</td>\n",
       "      <td>390</td>\n",
       "    </tr>\n",
       "  </tbody>\n",
       "</table>\n",
       "</div>"
      ],
      "text/plain": [
       "bsmt_finished1   0    1    2    3    4\n",
       "BsmtFinType2                          \n",
       "ALQ              0    9    6    0    4\n",
       "BLQ              0    4   12   15    2\n",
       "GLQ              0    7    5    2    0\n",
       "LwQ              0    0   21   15   10\n",
       "NoBasement      37    0    0    0    1\n",
       "Rec              0    8   15   22    9\n",
       "Unf              0  476  222  166  390"
      ]
     },
     "execution_count": 571,
     "metadata": {},
     "output_type": "execute_result"
    }
   ],
   "source": [
    "train['bsmt_finished2'] = 0\n",
    "train.loc[(train.BsmtFinType2 == 'Unf'), 'bsmt_finished2'] = 1\n",
    "train.loc[(train.BsmtFinType2 == 'LwQ'), 'bsmt_finished2'] = 1\n",
    "train.loc[(train.BsmtFinType2 == 'BLQ'), 'bsmt_finished2'] = 2\n",
    "train.loc[(train.BsmtFinType2 == 'Rec'), 'bsmt_finished2'] = 2\n",
    "train.loc[(train.BsmtFinType2 == 'ALQ'), 'bsmt_finished2'] = 3\n",
    "train.loc[(train.BsmtFinType2 == 'GLQ'), 'bsmt_finished2'] = 4\n",
    "pd.crosstab(train.BsmtFinType2, train.bsmt_finished1)"
   ]
  },
  {
   "cell_type": "code",
   "execution_count": 572,
   "metadata": {},
   "outputs": [
    {
     "data": {
      "text/html": [
       "<div>\n",
       "<style>\n",
       "    .dataframe thead tr:only-child th {\n",
       "        text-align: right;\n",
       "    }\n",
       "\n",
       "    .dataframe thead th {\n",
       "        text-align: left;\n",
       "    }\n",
       "\n",
       "    .dataframe tbody tr th {\n",
       "        vertical-align: top;\n",
       "    }\n",
       "</style>\n",
       "<table border=\"1\" class=\"dataframe\">\n",
       "  <thead>\n",
       "    <tr style=\"text-align: right;\">\n",
       "      <th>bsmt_finished1</th>\n",
       "      <th>0</th>\n",
       "      <th>1</th>\n",
       "      <th>2</th>\n",
       "      <th>3</th>\n",
       "      <th>4</th>\n",
       "    </tr>\n",
       "    <tr>\n",
       "      <th>BsmtFinType1</th>\n",
       "      <th></th>\n",
       "      <th></th>\n",
       "      <th></th>\n",
       "      <th></th>\n",
       "      <th></th>\n",
       "    </tr>\n",
       "  </thead>\n",
       "  <tbody>\n",
       "    <tr>\n",
       "      <th>ALQ</th>\n",
       "      <td>0</td>\n",
       "      <td>0</td>\n",
       "      <td>0</td>\n",
       "      <td>209</td>\n",
       "      <td>0</td>\n",
       "    </tr>\n",
       "    <tr>\n",
       "      <th>BLQ</th>\n",
       "      <td>0</td>\n",
       "      <td>0</td>\n",
       "      <td>121</td>\n",
       "      <td>0</td>\n",
       "      <td>0</td>\n",
       "    </tr>\n",
       "    <tr>\n",
       "      <th>GLQ</th>\n",
       "      <td>0</td>\n",
       "      <td>0</td>\n",
       "      <td>0</td>\n",
       "      <td>0</td>\n",
       "      <td>431</td>\n",
       "    </tr>\n",
       "    <tr>\n",
       "      <th>LwQ</th>\n",
       "      <td>0</td>\n",
       "      <td>80</td>\n",
       "      <td>0</td>\n",
       "      <td>0</td>\n",
       "      <td>0</td>\n",
       "    </tr>\n",
       "    <tr>\n",
       "      <th>NoBasement</th>\n",
       "      <td>42</td>\n",
       "      <td>0</td>\n",
       "      <td>0</td>\n",
       "      <td>0</td>\n",
       "      <td>0</td>\n",
       "    </tr>\n",
       "    <tr>\n",
       "      <th>Rec</th>\n",
       "      <td>0</td>\n",
       "      <td>0</td>\n",
       "      <td>155</td>\n",
       "      <td>0</td>\n",
       "      <td>0</td>\n",
       "    </tr>\n",
       "    <tr>\n",
       "      <th>Unf</th>\n",
       "      <td>0</td>\n",
       "      <td>421</td>\n",
       "      <td>0</td>\n",
       "      <td>0</td>\n",
       "      <td>0</td>\n",
       "    </tr>\n",
       "  </tbody>\n",
       "</table>\n",
       "</div>"
      ],
      "text/plain": [
       "bsmt_finished1   0    1    2    3    4\n",
       "BsmtFinType1                          \n",
       "ALQ              0    0    0  209    0\n",
       "BLQ              0    0  121    0    0\n",
       "GLQ              0    0    0    0  431\n",
       "LwQ              0   80    0    0    0\n",
       "NoBasement      42    0    0    0    0\n",
       "Rec              0    0  155    0    0\n",
       "Unf              0  421    0    0    0"
      ]
     },
     "execution_count": 572,
     "metadata": {},
     "output_type": "execute_result"
    }
   ],
   "source": [
    "test['bsmt_finished1'] = 0\n",
    "test.loc[(test.BsmtFinType1 == 'Unf'), 'bsmt_finished1'] = 1\n",
    "test.loc[(test.BsmtFinType1 == 'LwQ'), 'bsmt_finished1'] = 1\n",
    "test.loc[(test.BsmtFinType1 == 'BLQ'), 'bsmt_finished1'] = 2\n",
    "test.loc[(test.BsmtFinType1 == 'Rec'), 'bsmt_finished1'] = 2\n",
    "test.loc[(test.BsmtFinType1 == 'ALQ'), 'bsmt_finished1'] = 3\n",
    "test.loc[(test.BsmtFinType1 == 'GLQ'), 'bsmt_finished1'] = 4\n",
    "pd.crosstab(test.BsmtFinType1, test.bsmt_finished1)"
   ]
  },
  {
   "cell_type": "code",
   "execution_count": 573,
   "metadata": {},
   "outputs": [
    {
     "data": {
      "text/html": [
       "<div>\n",
       "<style>\n",
       "    .dataframe thead tr:only-child th {\n",
       "        text-align: right;\n",
       "    }\n",
       "\n",
       "    .dataframe thead th {\n",
       "        text-align: left;\n",
       "    }\n",
       "\n",
       "    .dataframe tbody tr th {\n",
       "        vertical-align: top;\n",
       "    }\n",
       "</style>\n",
       "<table border=\"1\" class=\"dataframe\">\n",
       "  <thead>\n",
       "    <tr style=\"text-align: right;\">\n",
       "      <th>bsmt_finished2</th>\n",
       "      <th>0</th>\n",
       "      <th>1</th>\n",
       "      <th>2</th>\n",
       "      <th>3</th>\n",
       "      <th>4</th>\n",
       "    </tr>\n",
       "    <tr>\n",
       "      <th>BsmtFinType2</th>\n",
       "      <th></th>\n",
       "      <th></th>\n",
       "      <th></th>\n",
       "      <th></th>\n",
       "      <th></th>\n",
       "    </tr>\n",
       "  </thead>\n",
       "  <tbody>\n",
       "    <tr>\n",
       "      <th>ALQ</th>\n",
       "      <td>0</td>\n",
       "      <td>0</td>\n",
       "      <td>0</td>\n",
       "      <td>33</td>\n",
       "      <td>0</td>\n",
       "    </tr>\n",
       "    <tr>\n",
       "      <th>BLQ</th>\n",
       "      <td>0</td>\n",
       "      <td>0</td>\n",
       "      <td>35</td>\n",
       "      <td>0</td>\n",
       "      <td>0</td>\n",
       "    </tr>\n",
       "    <tr>\n",
       "      <th>GLQ</th>\n",
       "      <td>0</td>\n",
       "      <td>0</td>\n",
       "      <td>0</td>\n",
       "      <td>0</td>\n",
       "      <td>20</td>\n",
       "    </tr>\n",
       "    <tr>\n",
       "      <th>LwQ</th>\n",
       "      <td>0</td>\n",
       "      <td>41</td>\n",
       "      <td>0</td>\n",
       "      <td>0</td>\n",
       "      <td>0</td>\n",
       "    </tr>\n",
       "    <tr>\n",
       "      <th>NoBasement</th>\n",
       "      <td>42</td>\n",
       "      <td>0</td>\n",
       "      <td>0</td>\n",
       "      <td>0</td>\n",
       "      <td>0</td>\n",
       "    </tr>\n",
       "    <tr>\n",
       "      <th>Rec</th>\n",
       "      <td>0</td>\n",
       "      <td>0</td>\n",
       "      <td>51</td>\n",
       "      <td>0</td>\n",
       "      <td>0</td>\n",
       "    </tr>\n",
       "    <tr>\n",
       "      <th>Unf</th>\n",
       "      <td>0</td>\n",
       "      <td>1237</td>\n",
       "      <td>0</td>\n",
       "      <td>0</td>\n",
       "      <td>0</td>\n",
       "    </tr>\n",
       "  </tbody>\n",
       "</table>\n",
       "</div>"
      ],
      "text/plain": [
       "bsmt_finished2   0     1   2   3   4\n",
       "BsmtFinType2                        \n",
       "ALQ              0     0   0  33   0\n",
       "BLQ              0     0  35   0   0\n",
       "GLQ              0     0   0   0  20\n",
       "LwQ              0    41   0   0   0\n",
       "NoBasement      42     0   0   0   0\n",
       "Rec              0     0  51   0   0\n",
       "Unf              0  1237   0   0   0"
      ]
     },
     "execution_count": 573,
     "metadata": {},
     "output_type": "execute_result"
    }
   ],
   "source": [
    "test['bsmt_finished2'] = 0\n",
    "test.loc[(test.BsmtFinType2 == 'Unf'), 'bsmt_finished2'] = 1\n",
    "test.loc[(test.BsmtFinType2 == 'LwQ'), 'bsmt_finished2'] = 1\n",
    "test.loc[(test.BsmtFinType2 == 'BLQ'), 'bsmt_finished2'] = 2\n",
    "test.loc[(test.BsmtFinType2 == 'Rec'), 'bsmt_finished2'] = 2\n",
    "test.loc[(test.BsmtFinType2 == 'ALQ'), 'bsmt_finished2'] = 3\n",
    "test.loc[(test.BsmtFinType2 == 'GLQ'), 'bsmt_finished2'] = 4\n",
    "pd.crosstab(test.BsmtFinType2, test.bsmt_finished2)"
   ]
  },
  {
   "cell_type": "code",
   "execution_count": 574,
   "metadata": {},
   "outputs": [
    {
     "name": "stdout",
     "output_type": "stream",
     "text": [
      "(1458, 88)\n",
      "(1459, 87)\n"
     ]
    }
   ],
   "source": [
    "print(train.shape)\n",
    "print(test.shape)"
   ]
  },
  {
   "cell_type": "markdown",
   "metadata": {},
   "source": [
    "###### Basement Square Footage - create a new var - share of finished"
   ]
  },
  {
   "cell_type": "code",
   "execution_count": 575,
   "metadata": {
    "collapsed": true
   },
   "outputs": [],
   "source": [
    "train['BsmtFinishedShare'] = 1 - train['BsmtUnfSF']/train['TotalBsmtSF']\n",
    "train.loc[train.TotalBsmtSF == 0, 'BsmtFinishedShare'] = 0"
   ]
  },
  {
   "cell_type": "code",
   "execution_count": 576,
   "metadata": {
    "collapsed": true
   },
   "outputs": [],
   "source": [
    "test['BsmtFinishedShare'] = 1 - test['BsmtUnfSF']/test['TotalBsmtSF']\n",
    "test.loc[test.TotalBsmtSF == 0, 'BsmtFinishedShare'] = 0"
   ]
  },
  {
   "cell_type": "code",
   "execution_count": 577,
   "metadata": {
    "collapsed": true
   },
   "outputs": [],
   "source": [
    "# train[['BsmtUnfSF','TotalBsmtSF','BsmtFinishedShare']]"
   ]
  },
  {
   "cell_type": "markdown",
   "metadata": {},
   "source": [
    "###### HeatingQC: Heating quality and condition"
   ]
  },
  {
   "cell_type": "markdown",
   "metadata": {},
   "source": [
    "Created quantitative variable 'heating_quality'"
   ]
  },
  {
   "cell_type": "code",
   "execution_count": 578,
   "metadata": {},
   "outputs": [
    {
     "name": "stdout",
     "output_type": "stream",
     "text": [
      "Ex    50.62\n",
      "TA    29.32\n",
      "Gd    16.51\n",
      "Fa     3.36\n",
      "Po     0.07\n",
      "Name: HeatingQC, dtype: float64\n",
      "Ex    51.51\n",
      "TA    29.38\n",
      "Gd    15.96\n",
      "Fa     2.95\n",
      "Po     0.14\n",
      "Name: HeatingQC, dtype: float64\n"
     ]
    }
   ],
   "source": [
    "print((train.HeatingQC.value_counts().sort_values(ascending = False)/N*100).round(2))\n",
    "print((test.HeatingQC.value_counts().sort_values(ascending = False)/N*100).round(2))"
   ]
  },
  {
   "cell_type": "code",
   "execution_count": 579,
   "metadata": {},
   "outputs": [
    {
     "data": {
      "text/html": [
       "<div>\n",
       "<style>\n",
       "    .dataframe thead tr:only-child th {\n",
       "        text-align: right;\n",
       "    }\n",
       "\n",
       "    .dataframe thead th {\n",
       "        text-align: left;\n",
       "    }\n",
       "\n",
       "    .dataframe tbody tr th {\n",
       "        vertical-align: top;\n",
       "    }\n",
       "</style>\n",
       "<table border=\"1\" class=\"dataframe\">\n",
       "  <thead>\n",
       "    <tr style=\"text-align: right;\">\n",
       "      <th>heating_quality</th>\n",
       "      <th>0</th>\n",
       "      <th>1</th>\n",
       "      <th>2</th>\n",
       "      <th>3</th>\n",
       "      <th>4</th>\n",
       "    </tr>\n",
       "    <tr>\n",
       "      <th>HeatingQC</th>\n",
       "      <th></th>\n",
       "      <th></th>\n",
       "      <th></th>\n",
       "      <th></th>\n",
       "      <th></th>\n",
       "    </tr>\n",
       "  </thead>\n",
       "  <tbody>\n",
       "    <tr>\n",
       "      <th>Ex</th>\n",
       "      <td>0</td>\n",
       "      <td>0</td>\n",
       "      <td>0</td>\n",
       "      <td>0</td>\n",
       "      <td>739</td>\n",
       "    </tr>\n",
       "    <tr>\n",
       "      <th>Fa</th>\n",
       "      <td>0</td>\n",
       "      <td>49</td>\n",
       "      <td>0</td>\n",
       "      <td>0</td>\n",
       "      <td>0</td>\n",
       "    </tr>\n",
       "    <tr>\n",
       "      <th>Gd</th>\n",
       "      <td>0</td>\n",
       "      <td>0</td>\n",
       "      <td>0</td>\n",
       "      <td>241</td>\n",
       "      <td>0</td>\n",
       "    </tr>\n",
       "    <tr>\n",
       "      <th>Po</th>\n",
       "      <td>1</td>\n",
       "      <td>0</td>\n",
       "      <td>0</td>\n",
       "      <td>0</td>\n",
       "      <td>0</td>\n",
       "    </tr>\n",
       "    <tr>\n",
       "      <th>TA</th>\n",
       "      <td>0</td>\n",
       "      <td>0</td>\n",
       "      <td>428</td>\n",
       "      <td>0</td>\n",
       "      <td>0</td>\n",
       "    </tr>\n",
       "  </tbody>\n",
       "</table>\n",
       "</div>"
      ],
      "text/plain": [
       "heating_quality  0   1    2    3    4\n",
       "HeatingQC                            \n",
       "Ex               0   0    0    0  739\n",
       "Fa               0  49    0    0    0\n",
       "Gd               0   0    0  241    0\n",
       "Po               1   0    0    0    0\n",
       "TA               0   0  428    0    0"
      ]
     },
     "execution_count": 579,
     "metadata": {},
     "output_type": "execute_result"
    }
   ],
   "source": [
    "train['heating_quality'] = 0\n",
    "train.loc[train.HeatingQC == 'Fa', 'heating_quality'] = 1\n",
    "train.loc[train.HeatingQC == 'TA', 'heating_quality'] = 2\n",
    "train.loc[train.HeatingQC == 'Gd', 'heating_quality'] = 3\n",
    "train.loc[train.HeatingQC == 'Ex', 'heating_quality'] = 4\n",
    "pd.crosstab(train.HeatingQC, train.heating_quality)"
   ]
  },
  {
   "cell_type": "code",
   "execution_count": 580,
   "metadata": {},
   "outputs": [
    {
     "data": {
      "text/html": [
       "<div>\n",
       "<style>\n",
       "    .dataframe thead tr:only-child th {\n",
       "        text-align: right;\n",
       "    }\n",
       "\n",
       "    .dataframe thead th {\n",
       "        text-align: left;\n",
       "    }\n",
       "\n",
       "    .dataframe tbody tr th {\n",
       "        vertical-align: top;\n",
       "    }\n",
       "</style>\n",
       "<table border=\"1\" class=\"dataframe\">\n",
       "  <thead>\n",
       "    <tr style=\"text-align: right;\">\n",
       "      <th>heating_quality</th>\n",
       "      <th>0</th>\n",
       "      <th>1</th>\n",
       "      <th>2</th>\n",
       "      <th>3</th>\n",
       "      <th>4</th>\n",
       "    </tr>\n",
       "    <tr>\n",
       "      <th>HeatingQC</th>\n",
       "      <th></th>\n",
       "      <th></th>\n",
       "      <th></th>\n",
       "      <th></th>\n",
       "      <th></th>\n",
       "    </tr>\n",
       "  </thead>\n",
       "  <tbody>\n",
       "    <tr>\n",
       "      <th>Ex</th>\n",
       "      <td>0</td>\n",
       "      <td>0</td>\n",
       "      <td>0</td>\n",
       "      <td>0</td>\n",
       "      <td>752</td>\n",
       "    </tr>\n",
       "    <tr>\n",
       "      <th>Fa</th>\n",
       "      <td>0</td>\n",
       "      <td>43</td>\n",
       "      <td>0</td>\n",
       "      <td>0</td>\n",
       "      <td>0</td>\n",
       "    </tr>\n",
       "    <tr>\n",
       "      <th>Gd</th>\n",
       "      <td>0</td>\n",
       "      <td>0</td>\n",
       "      <td>0</td>\n",
       "      <td>233</td>\n",
       "      <td>0</td>\n",
       "    </tr>\n",
       "    <tr>\n",
       "      <th>Po</th>\n",
       "      <td>2</td>\n",
       "      <td>0</td>\n",
       "      <td>0</td>\n",
       "      <td>0</td>\n",
       "      <td>0</td>\n",
       "    </tr>\n",
       "    <tr>\n",
       "      <th>TA</th>\n",
       "      <td>0</td>\n",
       "      <td>0</td>\n",
       "      <td>429</td>\n",
       "      <td>0</td>\n",
       "      <td>0</td>\n",
       "    </tr>\n",
       "  </tbody>\n",
       "</table>\n",
       "</div>"
      ],
      "text/plain": [
       "heating_quality  0   1    2    3    4\n",
       "HeatingQC                            \n",
       "Ex               0   0    0    0  752\n",
       "Fa               0  43    0    0    0\n",
       "Gd               0   0    0  233    0\n",
       "Po               2   0    0    0    0\n",
       "TA               0   0  429    0    0"
      ]
     },
     "execution_count": 580,
     "metadata": {},
     "output_type": "execute_result"
    }
   ],
   "source": [
    "test['heating_quality'] = 0\n",
    "test.loc[test.HeatingQC == 'Fa', 'heating_quality'] = 1\n",
    "test.loc[test.HeatingQC == 'TA', 'heating_quality'] = 2\n",
    "test.loc[test.HeatingQC == 'Gd', 'heating_quality'] = 3\n",
    "test.loc[test.HeatingQC == 'Ex', 'heating_quality'] = 4\n",
    "pd.crosstab(test.HeatingQC, test.heating_quality)"
   ]
  },
  {
   "cell_type": "code",
   "execution_count": 581,
   "metadata": {},
   "outputs": [
    {
     "name": "stdout",
     "output_type": "stream",
     "text": [
      "(1458, 90)\n",
      "(1459, 89)\n"
     ]
    }
   ],
   "source": [
    "print(train.shape)\n",
    "print(test.shape)"
   ]
  },
  {
   "cell_type": "markdown",
   "metadata": {
    "collapsed": true
   },
   "source": [
    "###### KitchenQual: Kitchen quality"
   ]
  },
  {
   "cell_type": "markdown",
   "metadata": {},
   "source": [
    "Created a numeric variable kitchen_quality"
   ]
  },
  {
   "cell_type": "code",
   "execution_count": 582,
   "metadata": {},
   "outputs": [
    {
     "name": "stdout",
     "output_type": "stream",
     "text": [
      "TA    50.34\n",
      "Gd    40.14\n",
      "Ex     6.71\n",
      "Fa     2.67\n",
      "Name: KitchenQual, dtype: float64\n",
      "TA    51.85\n",
      "Gd    38.70\n",
      "Ex     7.19\n",
      "Fa     2.12\n",
      "Name: KitchenQual, dtype: float64\n"
     ]
    }
   ],
   "source": [
    "print((train.KitchenQual.value_counts().sort_values(ascending = False)/N*100).round(2))\n",
    "print((test.KitchenQual.value_counts().sort_values(ascending = False)/N*100).round(2))"
   ]
  },
  {
   "cell_type": "code",
   "execution_count": 583,
   "metadata": {},
   "outputs": [
    {
     "data": {
      "text/html": [
       "<div>\n",
       "<style>\n",
       "    .dataframe thead tr:only-child th {\n",
       "        text-align: right;\n",
       "    }\n",
       "\n",
       "    .dataframe thead th {\n",
       "        text-align: left;\n",
       "    }\n",
       "\n",
       "    .dataframe tbody tr th {\n",
       "        vertical-align: top;\n",
       "    }\n",
       "</style>\n",
       "<table border=\"1\" class=\"dataframe\">\n",
       "  <thead>\n",
       "    <tr style=\"text-align: right;\">\n",
       "      <th>kitchen_quality</th>\n",
       "      <th>0</th>\n",
       "      <th>1</th>\n",
       "      <th>2</th>\n",
       "      <th>3</th>\n",
       "    </tr>\n",
       "    <tr>\n",
       "      <th>KitchenQual</th>\n",
       "      <th></th>\n",
       "      <th></th>\n",
       "      <th></th>\n",
       "      <th></th>\n",
       "    </tr>\n",
       "  </thead>\n",
       "  <tbody>\n",
       "    <tr>\n",
       "      <th>Ex</th>\n",
       "      <td>0</td>\n",
       "      <td>0</td>\n",
       "      <td>0</td>\n",
       "      <td>98</td>\n",
       "    </tr>\n",
       "    <tr>\n",
       "      <th>Fa</th>\n",
       "      <td>39</td>\n",
       "      <td>0</td>\n",
       "      <td>0</td>\n",
       "      <td>0</td>\n",
       "    </tr>\n",
       "    <tr>\n",
       "      <th>Gd</th>\n",
       "      <td>0</td>\n",
       "      <td>0</td>\n",
       "      <td>586</td>\n",
       "      <td>0</td>\n",
       "    </tr>\n",
       "    <tr>\n",
       "      <th>TA</th>\n",
       "      <td>0</td>\n",
       "      <td>735</td>\n",
       "      <td>0</td>\n",
       "      <td>0</td>\n",
       "    </tr>\n",
       "  </tbody>\n",
       "</table>\n",
       "</div>"
      ],
      "text/plain": [
       "kitchen_quality   0    1    2   3\n",
       "KitchenQual                      \n",
       "Ex                0    0    0  98\n",
       "Fa               39    0    0   0\n",
       "Gd                0    0  586   0\n",
       "TA                0  735    0   0"
      ]
     },
     "execution_count": 583,
     "metadata": {},
     "output_type": "execute_result"
    }
   ],
   "source": [
    "train['kitchen_quality'] = 0\n",
    "train.loc[train.KitchenQual == 'TA', 'kitchen_quality'] = 1\n",
    "train.loc[train.KitchenQual == 'Gd', 'kitchen_quality'] = 2\n",
    "train.loc[train.KitchenQual == 'Ex', 'kitchen_quality'] = 3\n",
    "pd.crosstab(train.KitchenQual, train.kitchen_quality)"
   ]
  },
  {
   "cell_type": "code",
   "execution_count": 584,
   "metadata": {},
   "outputs": [
    {
     "data": {
      "text/html": [
       "<div>\n",
       "<style>\n",
       "    .dataframe thead tr:only-child th {\n",
       "        text-align: right;\n",
       "    }\n",
       "\n",
       "    .dataframe thead th {\n",
       "        text-align: left;\n",
       "    }\n",
       "\n",
       "    .dataframe tbody tr th {\n",
       "        vertical-align: top;\n",
       "    }\n",
       "</style>\n",
       "<table border=\"1\" class=\"dataframe\">\n",
       "  <thead>\n",
       "    <tr style=\"text-align: right;\">\n",
       "      <th>kitchen_quality</th>\n",
       "      <th>0</th>\n",
       "      <th>1</th>\n",
       "      <th>2</th>\n",
       "      <th>3</th>\n",
       "    </tr>\n",
       "    <tr>\n",
       "      <th>KitchenQual</th>\n",
       "      <th></th>\n",
       "      <th></th>\n",
       "      <th></th>\n",
       "      <th></th>\n",
       "    </tr>\n",
       "  </thead>\n",
       "  <tbody>\n",
       "    <tr>\n",
       "      <th>Ex</th>\n",
       "      <td>0</td>\n",
       "      <td>0</td>\n",
       "      <td>0</td>\n",
       "      <td>105</td>\n",
       "    </tr>\n",
       "    <tr>\n",
       "      <th>Fa</th>\n",
       "      <td>31</td>\n",
       "      <td>0</td>\n",
       "      <td>0</td>\n",
       "      <td>0</td>\n",
       "    </tr>\n",
       "    <tr>\n",
       "      <th>Gd</th>\n",
       "      <td>0</td>\n",
       "      <td>0</td>\n",
       "      <td>565</td>\n",
       "      <td>0</td>\n",
       "    </tr>\n",
       "    <tr>\n",
       "      <th>TA</th>\n",
       "      <td>0</td>\n",
       "      <td>757</td>\n",
       "      <td>0</td>\n",
       "      <td>0</td>\n",
       "    </tr>\n",
       "  </tbody>\n",
       "</table>\n",
       "</div>"
      ],
      "text/plain": [
       "kitchen_quality   0    1    2    3\n",
       "KitchenQual                       \n",
       "Ex                0    0    0  105\n",
       "Fa               31    0    0    0\n",
       "Gd                0    0  565    0\n",
       "TA                0  757    0    0"
      ]
     },
     "execution_count": 584,
     "metadata": {},
     "output_type": "execute_result"
    }
   ],
   "source": [
    "test['kitchen_quality'] = 0\n",
    "test.loc[test.KitchenQual == 'TA', 'kitchen_quality'] = 1\n",
    "test.loc[test.KitchenQual == 'Gd', 'kitchen_quality'] = 2\n",
    "test.loc[test.KitchenQual == 'Ex', 'kitchen_quality'] = 3\n",
    "pd.crosstab(test.KitchenQual, test.kitchen_quality)"
   ]
  },
  {
   "cell_type": "markdown",
   "metadata": {},
   "source": [
    "###### Functional: Home functionality (Assume typical unless deductions are warranted)"
   ]
  },
  {
   "cell_type": "markdown",
   "metadata": {
    "collapsed": true
   },
   "source": [
    "Created quantiative variable home_funct"
   ]
  },
  {
   "cell_type": "code",
   "execution_count": 585,
   "metadata": {
    "collapsed": true
   },
   "outputs": [],
   "source": [
    "# print((train.Functional.value_counts().sort_values(ascending = False)/N*100).round(2))\n",
    "# print((test.Functional.value_counts().sort_values(ascending = False)/N*100).round(2))"
   ]
  },
  {
   "cell_type": "code",
   "execution_count": 586,
   "metadata": {},
   "outputs": [
    {
     "data": {
      "text/html": [
       "<div>\n",
       "<style>\n",
       "    .dataframe thead tr:only-child th {\n",
       "        text-align: right;\n",
       "    }\n",
       "\n",
       "    .dataframe thead th {\n",
       "        text-align: left;\n",
       "    }\n",
       "\n",
       "    .dataframe tbody tr th {\n",
       "        vertical-align: top;\n",
       "    }\n",
       "</style>\n",
       "<table border=\"1\" class=\"dataframe\">\n",
       "  <thead>\n",
       "    <tr style=\"text-align: right;\">\n",
       "      <th>home_funct</th>\n",
       "      <th>0.0</th>\n",
       "      <th>1.0</th>\n",
       "      <th>1.5</th>\n",
       "      <th>3.0</th>\n",
       "      <th>5.0</th>\n",
       "      <th>5.5</th>\n",
       "      <th>7.0</th>\n",
       "    </tr>\n",
       "    <tr>\n",
       "      <th>Functional</th>\n",
       "      <th></th>\n",
       "      <th></th>\n",
       "      <th></th>\n",
       "      <th></th>\n",
       "      <th></th>\n",
       "      <th></th>\n",
       "      <th></th>\n",
       "    </tr>\n",
       "  </thead>\n",
       "  <tbody>\n",
       "    <tr>\n",
       "      <th>Maj1</th>\n",
       "      <td>0</td>\n",
       "      <td>0</td>\n",
       "      <td>14</td>\n",
       "      <td>0</td>\n",
       "      <td>0</td>\n",
       "      <td>0</td>\n",
       "      <td>0</td>\n",
       "    </tr>\n",
       "    <tr>\n",
       "      <th>Maj2</th>\n",
       "      <td>0</td>\n",
       "      <td>5</td>\n",
       "      <td>0</td>\n",
       "      <td>0</td>\n",
       "      <td>0</td>\n",
       "      <td>0</td>\n",
       "      <td>0</td>\n",
       "    </tr>\n",
       "    <tr>\n",
       "      <th>Min1</th>\n",
       "      <td>0</td>\n",
       "      <td>0</td>\n",
       "      <td>0</td>\n",
       "      <td>0</td>\n",
       "      <td>0</td>\n",
       "      <td>31</td>\n",
       "      <td>0</td>\n",
       "    </tr>\n",
       "    <tr>\n",
       "      <th>Min2</th>\n",
       "      <td>0</td>\n",
       "      <td>0</td>\n",
       "      <td>0</td>\n",
       "      <td>0</td>\n",
       "      <td>34</td>\n",
       "      <td>0</td>\n",
       "      <td>0</td>\n",
       "    </tr>\n",
       "    <tr>\n",
       "      <th>Mod</th>\n",
       "      <td>0</td>\n",
       "      <td>0</td>\n",
       "      <td>0</td>\n",
       "      <td>15</td>\n",
       "      <td>0</td>\n",
       "      <td>0</td>\n",
       "      <td>0</td>\n",
       "    </tr>\n",
       "    <tr>\n",
       "      <th>Sev</th>\n",
       "      <td>1</td>\n",
       "      <td>0</td>\n",
       "      <td>0</td>\n",
       "      <td>0</td>\n",
       "      <td>0</td>\n",
       "      <td>0</td>\n",
       "      <td>0</td>\n",
       "    </tr>\n",
       "    <tr>\n",
       "      <th>Typ</th>\n",
       "      <td>0</td>\n",
       "      <td>0</td>\n",
       "      <td>0</td>\n",
       "      <td>0</td>\n",
       "      <td>0</td>\n",
       "      <td>0</td>\n",
       "      <td>1358</td>\n",
       "    </tr>\n",
       "  </tbody>\n",
       "</table>\n",
       "</div>"
      ],
      "text/plain": [
       "home_funct  0.0  1.0  1.5  3.0  5.0  5.5   7.0\n",
       "Functional                                    \n",
       "Maj1          0    0   14    0    0    0     0\n",
       "Maj2          0    5    0    0    0    0     0\n",
       "Min1          0    0    0    0    0   31     0\n",
       "Min2          0    0    0    0   34    0     0\n",
       "Mod           0    0    0   15    0    0     0\n",
       "Sev           1    0    0    0    0    0     0\n",
       "Typ           0    0    0    0    0    0  1358"
      ]
     },
     "execution_count": 586,
     "metadata": {},
     "output_type": "execute_result"
    }
   ],
   "source": [
    "train['home_funct'] = 0\n",
    "train.loc[train.Functional == 'Sev', 'home_funct'] = 0\n",
    "train.loc[train.Functional == 'Maj2', 'home_funct'] = 1\n",
    "train.loc[train.Functional == 'Maj1', 'home_funct'] = 1.5\n",
    "train.loc[train.Functional == 'Mod', 'home_funct'] = 3\n",
    "train.loc[train.Functional == 'Min2', 'home_funct'] = 5\n",
    "train.loc[train.Functional == 'Min1', 'home_funct'] = 5.5\n",
    "train.loc[train.Functional == 'Typ', 'home_funct'] = 7\n",
    "pd.crosstab(train.Functional, train.home_funct)"
   ]
  },
  {
   "cell_type": "code",
   "execution_count": 587,
   "metadata": {},
   "outputs": [
    {
     "data": {
      "text/html": [
       "<div>\n",
       "<style>\n",
       "    .dataframe thead tr:only-child th {\n",
       "        text-align: right;\n",
       "    }\n",
       "\n",
       "    .dataframe thead th {\n",
       "        text-align: left;\n",
       "    }\n",
       "\n",
       "    .dataframe tbody tr th {\n",
       "        vertical-align: top;\n",
       "    }\n",
       "</style>\n",
       "<table border=\"1\" class=\"dataframe\">\n",
       "  <thead>\n",
       "    <tr style=\"text-align: right;\">\n",
       "      <th>home_funct</th>\n",
       "      <th>0.0</th>\n",
       "      <th>1.0</th>\n",
       "      <th>1.5</th>\n",
       "      <th>3.0</th>\n",
       "      <th>5.0</th>\n",
       "      <th>5.5</th>\n",
       "      <th>7.0</th>\n",
       "    </tr>\n",
       "    <tr>\n",
       "      <th>Functional</th>\n",
       "      <th></th>\n",
       "      <th></th>\n",
       "      <th></th>\n",
       "      <th></th>\n",
       "      <th></th>\n",
       "      <th></th>\n",
       "      <th></th>\n",
       "    </tr>\n",
       "  </thead>\n",
       "  <tbody>\n",
       "    <tr>\n",
       "      <th>Maj1</th>\n",
       "      <td>0</td>\n",
       "      <td>0</td>\n",
       "      <td>5</td>\n",
       "      <td>0</td>\n",
       "      <td>0</td>\n",
       "      <td>0</td>\n",
       "      <td>0</td>\n",
       "    </tr>\n",
       "    <tr>\n",
       "      <th>Maj2</th>\n",
       "      <td>0</td>\n",
       "      <td>4</td>\n",
       "      <td>0</td>\n",
       "      <td>0</td>\n",
       "      <td>0</td>\n",
       "      <td>0</td>\n",
       "      <td>0</td>\n",
       "    </tr>\n",
       "    <tr>\n",
       "      <th>Min1</th>\n",
       "      <td>0</td>\n",
       "      <td>0</td>\n",
       "      <td>0</td>\n",
       "      <td>0</td>\n",
       "      <td>0</td>\n",
       "      <td>34</td>\n",
       "      <td>0</td>\n",
       "    </tr>\n",
       "    <tr>\n",
       "      <th>Min2</th>\n",
       "      <td>0</td>\n",
       "      <td>0</td>\n",
       "      <td>0</td>\n",
       "      <td>0</td>\n",
       "      <td>36</td>\n",
       "      <td>0</td>\n",
       "      <td>0</td>\n",
       "    </tr>\n",
       "    <tr>\n",
       "      <th>Mod</th>\n",
       "      <td>0</td>\n",
       "      <td>0</td>\n",
       "      <td>0</td>\n",
       "      <td>20</td>\n",
       "      <td>0</td>\n",
       "      <td>0</td>\n",
       "      <td>0</td>\n",
       "    </tr>\n",
       "    <tr>\n",
       "      <th>Sev</th>\n",
       "      <td>1</td>\n",
       "      <td>0</td>\n",
       "      <td>0</td>\n",
       "      <td>0</td>\n",
       "      <td>0</td>\n",
       "      <td>0</td>\n",
       "      <td>0</td>\n",
       "    </tr>\n",
       "    <tr>\n",
       "      <th>Typ</th>\n",
       "      <td>0</td>\n",
       "      <td>0</td>\n",
       "      <td>0</td>\n",
       "      <td>0</td>\n",
       "      <td>0</td>\n",
       "      <td>0</td>\n",
       "      <td>1357</td>\n",
       "    </tr>\n",
       "  </tbody>\n",
       "</table>\n",
       "</div>"
      ],
      "text/plain": [
       "home_funct  0.0  1.0  1.5  3.0  5.0  5.5   7.0\n",
       "Functional                                    \n",
       "Maj1          0    0    5    0    0    0     0\n",
       "Maj2          0    4    0    0    0    0     0\n",
       "Min1          0    0    0    0    0   34     0\n",
       "Min2          0    0    0    0   36    0     0\n",
       "Mod           0    0    0   20    0    0     0\n",
       "Sev           1    0    0    0    0    0     0\n",
       "Typ           0    0    0    0    0    0  1357"
      ]
     },
     "execution_count": 587,
     "metadata": {},
     "output_type": "execute_result"
    }
   ],
   "source": [
    "test['home_funct'] = 0\n",
    "test.loc[test.Functional == 'Sev', 'home_funct'] = 0\n",
    "test.loc[test.Functional == 'Maj2', 'home_funct'] = 1\n",
    "test.loc[test.Functional == 'Maj1', 'home_funct'] = 1.5\n",
    "test.loc[test.Functional == 'Mod', 'home_funct'] = 3\n",
    "test.loc[test.Functional == 'Min2', 'home_funct'] = 5\n",
    "test.loc[test.Functional == 'Min1', 'home_funct'] = 5.5\n",
    "test.loc[test.Functional == 'Typ', 'home_funct'] = 7\n",
    "pd.crosstab(test.Functional, test.home_funct)"
   ]
  },
  {
   "cell_type": "markdown",
   "metadata": {},
   "source": [
    "###### FireplaceQu: Fireplace quality"
   ]
  },
  {
   "cell_type": "markdown",
   "metadata": {},
   "source": [
    "Creating variable fireplace_quality\n",
    "Consider no fireplace same as Poor quality - just for the sake of it"
   ]
  },
  {
   "cell_type": "code",
   "execution_count": 588,
   "metadata": {},
   "outputs": [
    {
     "data": {
      "text/plain": [
       "47.260273972602739"
      ]
     },
     "execution_count": 588,
     "metadata": {},
     "output_type": "execute_result"
    }
   ],
   "source": [
    "np.sum(train.FireplaceQu.isnull(), axis=0)/N*100"
   ]
  },
  {
   "cell_type": "code",
   "execution_count": 589,
   "metadata": {},
   "outputs": [
    {
     "name": "stdout",
     "output_type": "stream",
     "text": [
      "Gd    25.89\n",
      "TA    21.44\n",
      "Fa     2.26\n",
      "Ex     1.64\n",
      "Po     1.37\n",
      "Name: FireplaceQu, dtype: float64\n",
      "Gd    24.93\n",
      "TA    19.11\n",
      "Fa     2.81\n",
      "Po     1.78\n",
      "Ex     1.30\n",
      "Name: FireplaceQu, dtype: float64\n"
     ]
    }
   ],
   "source": [
    "print((train.FireplaceQu.value_counts().sort_values(ascending = False)/N*100).round(2))\n",
    "print((test.FireplaceQu.value_counts().sort_values(ascending = False)/N*100).round(2))"
   ]
  },
  {
   "cell_type": "code",
   "execution_count": 590,
   "metadata": {},
   "outputs": [
    {
     "name": "stdout",
     "output_type": "stream",
     "text": [
      "(1458, 92)\n",
      "(1459, 91)\n"
     ]
    }
   ],
   "source": [
    "print(train.shape)\n",
    "print(test.shape)"
   ]
  },
  {
   "cell_type": "code",
   "execution_count": 591,
   "metadata": {
    "collapsed": true
   },
   "outputs": [],
   "source": [
    "# Creating a quantitative variable - treating \"no fireplace\" as the worst level (zero)\n",
    "train['fireplace_quality'] = 0\n",
    "train.loc[train.FireplaceQu == 'Po', 'fireplace_quality'] = 1\n",
    "train.loc[train.FireplaceQu == 'Fa', 'fireplace_quality'] = 1  # same as Ben Franklin Stove\n",
    "train.loc[train.FireplaceQu == 'TA', 'fireplace_quality'] = 2\n",
    "train.loc[train.FireplaceQu == 'Gd', 'fireplace_quality'] = 3\n",
    "train.loc[train.Functional == 'Ex', 'fireplace_quality'] = 3.5\n",
    "# pd.crosstab(train.FireplaceQu, train.fireplace_quality)"
   ]
  },
  {
   "cell_type": "code",
   "execution_count": 592,
   "metadata": {},
   "outputs": [
    {
     "data": {
      "text/html": [
       "<div>\n",
       "<style>\n",
       "    .dataframe thead tr:only-child th {\n",
       "        text-align: right;\n",
       "    }\n",
       "\n",
       "    .dataframe thead th {\n",
       "        text-align: left;\n",
       "    }\n",
       "\n",
       "    .dataframe tbody tr th {\n",
       "        vertical-align: top;\n",
       "    }\n",
       "</style>\n",
       "<table border=\"1\" class=\"dataframe\">\n",
       "  <thead>\n",
       "    <tr style=\"text-align: right;\">\n",
       "      <th>fireplace_quality</th>\n",
       "      <th>0.0</th>\n",
       "      <th>1.0</th>\n",
       "      <th>2.0</th>\n",
       "      <th>3.0</th>\n",
       "    </tr>\n",
       "    <tr>\n",
       "      <th>FireplaceQu</th>\n",
       "      <th></th>\n",
       "      <th></th>\n",
       "      <th></th>\n",
       "      <th></th>\n",
       "    </tr>\n",
       "  </thead>\n",
       "  <tbody>\n",
       "    <tr>\n",
       "      <th>Ex</th>\n",
       "      <td>24</td>\n",
       "      <td>0</td>\n",
       "      <td>0</td>\n",
       "      <td>0</td>\n",
       "    </tr>\n",
       "    <tr>\n",
       "      <th>Fa</th>\n",
       "      <td>0</td>\n",
       "      <td>33</td>\n",
       "      <td>0</td>\n",
       "      <td>0</td>\n",
       "    </tr>\n",
       "    <tr>\n",
       "      <th>Gd</th>\n",
       "      <td>0</td>\n",
       "      <td>0</td>\n",
       "      <td>0</td>\n",
       "      <td>378</td>\n",
       "    </tr>\n",
       "    <tr>\n",
       "      <th>Po</th>\n",
       "      <td>0</td>\n",
       "      <td>20</td>\n",
       "      <td>0</td>\n",
       "      <td>0</td>\n",
       "    </tr>\n",
       "    <tr>\n",
       "      <th>TA</th>\n",
       "      <td>0</td>\n",
       "      <td>0</td>\n",
       "      <td>313</td>\n",
       "      <td>0</td>\n",
       "    </tr>\n",
       "  </tbody>\n",
       "</table>\n",
       "</div>"
      ],
      "text/plain": [
       "fireplace_quality  0.0  1.0  2.0  3.0\n",
       "FireplaceQu                          \n",
       "Ex                  24    0    0    0\n",
       "Fa                   0   33    0    0\n",
       "Gd                   0    0    0  378\n",
       "Po                   0   20    0    0\n",
       "TA                   0    0  313    0"
      ]
     },
     "execution_count": 592,
     "metadata": {},
     "output_type": "execute_result"
    }
   ],
   "source": [
    "pd.crosstab(train.FireplaceQu, train.fireplace_quality)"
   ]
  },
  {
   "cell_type": "code",
   "execution_count": 593,
   "metadata": {
    "collapsed": true
   },
   "outputs": [],
   "source": [
    "test['fireplace_quality'] = 0\n",
    "test.loc[test.FireplaceQu == 'Po', 'fireplace_quality'] = 1\n",
    "test.loc[test.FireplaceQu == 'Fa', 'fireplace_quality'] = 1  # same as Ben Franklin Stove\n",
    "test.loc[test.FireplaceQu == 'TA', 'fireplace_quality'] = 2\n",
    "test.loc[test.FireplaceQu == 'Gd', 'fireplace_quality'] = 3\n",
    "test.loc[test.Functional == 'Ex', 'fireplace_quality'] = 3.5\n",
    "# pd.crosstab(test.FireplaceQu, test.fireplace_quality)"
   ]
  },
  {
   "cell_type": "code",
   "execution_count": 594,
   "metadata": {},
   "outputs": [
    {
     "name": "stdout",
     "output_type": "stream",
     "text": [
      "(1458, 93)\n",
      "(1459, 92)\n"
     ]
    }
   ],
   "source": [
    "print(train.shape)\n",
    "print(test.shape)"
   ]
  },
  {
   "cell_type": "markdown",
   "metadata": {},
   "source": [
    "###### Dealing with Fireplaces (number of fireplaces)"
   ]
  },
  {
   "cell_type": "code",
   "execution_count": 595,
   "metadata": {
    "collapsed": true,
    "scrolled": true
   },
   "outputs": [],
   "source": [
    "# print((train.Fireplaces.value_counts().sort_values(ascending = False)/N*100).round(2))\n",
    "# print((test.Fireplaces.value_counts().sort_values(ascending = False)/N*100).round(2))"
   ]
  },
  {
   "cell_type": "code",
   "execution_count": 596,
   "metadata": {},
   "outputs": [
    {
     "name": "stdout",
     "output_type": "stream",
     "text": [
      "fireplace_quality  0.0  1.0  2.0  3.0\n",
      "Fireplaces                           \n",
      "0                  690    0    0    0\n",
      "1                   19   48  259  323\n",
      "2                    4    4   53   54\n",
      "3                    1    1    1    1\n"
     ]
    },
    {
     "data": {
      "text/plain": [
       "0.81499338914099473"
      ]
     },
     "execution_count": 596,
     "metadata": {},
     "output_type": "execute_result"
    }
   ],
   "source": [
    "print(pd.crosstab(train.Fireplaces, train.fireplace_quality))\n",
    "train['Fireplaces'].corr(train['fireplace_quality'])"
   ]
  },
  {
   "cell_type": "code",
   "execution_count": 597,
   "metadata": {
    "collapsed": true
   },
   "outputs": [],
   "source": [
    "# Replacing with NAs those values of fireplace_quality that were actually missing originally:\n",
    "train.loc[(train.Fireplaces>0)&(train.fireplace_quality == 0), 'fireplace_quality'] = None"
   ]
  },
  {
   "cell_type": "code",
   "execution_count": 598,
   "metadata": {
    "collapsed": true
   },
   "outputs": [],
   "source": [
    "test.loc[(test.Fireplaces>0)&(test.fireplace_quality == 0), 'fireplace_quality'] = None"
   ]
  },
  {
   "cell_type": "code",
   "execution_count": 599,
   "metadata": {
    "collapsed": true
   },
   "outputs": [],
   "source": [
    "# Create product of fireplace_quality and Fireplaces:\n",
    "train['fireplace_ttlscore'] = train['Fireplaces'] * train['fireplace_quality']\n",
    "test['fireplace_ttlscore'] = test['Fireplaces'] * test['fireplace_quality']"
   ]
  },
  {
   "cell_type": "code",
   "execution_count": 600,
   "metadata": {},
   "outputs": [
    {
     "name": "stdout",
     "output_type": "stream",
     "text": [
      "0.849153136283\n",
      "0.944547823425\n",
      "0.912629997469\n"
     ]
    }
   ],
   "source": [
    "print(train['Fireplaces'].corr(train['fireplace_quality']))\n",
    "print(train['Fireplaces'].corr(train['fireplace_ttlscore']))\n",
    "print(train['fireplace_quality'].corr(train['fireplace_ttlscore']))"
   ]
  },
  {
   "cell_type": "markdown",
   "metadata": {},
   "source": [
    "###### GarageType: Garage location"
   ]
  },
  {
   "cell_type": "markdown",
   "metadata": {
    "collapsed": true
   },
   "source": [
    "Building a quantitative var gar_type"
   ]
  },
  {
   "cell_type": "code",
   "execution_count": 601,
   "metadata": {},
   "outputs": [
    {
     "name": "stdout",
     "output_type": "stream",
     "text": [
      "Attchd     59.52\n",
      "Detchd     26.51\n",
      "BuiltIn     5.96\n",
      "Basment     1.30\n",
      "CarPort     0.62\n",
      "2Types      0.41\n",
      "Name: GarageType, dtype: float64\n",
      "Attchd     58.42\n",
      "Detchd     26.85\n",
      "BuiltIn     6.71\n",
      "2Types      1.16\n",
      "Basment     1.16\n",
      "CarPort     0.41\n",
      "Name: GarageType, dtype: float64\n"
     ]
    }
   ],
   "source": [
    "print((train.GarageType.value_counts().sort_values(ascending = False)/N*100).round(2))\n",
    "print((test.GarageType.value_counts().sort_values(ascending = False)/N*100).round(2))"
   ]
  },
  {
   "cell_type": "code",
   "execution_count": 602,
   "metadata": {},
   "outputs": [
    {
     "data": {
      "text/html": [
       "<div>\n",
       "<style>\n",
       "    .dataframe thead tr:only-child th {\n",
       "        text-align: right;\n",
       "    }\n",
       "\n",
       "    .dataframe thead th {\n",
       "        text-align: left;\n",
       "    }\n",
       "\n",
       "    .dataframe tbody tr th {\n",
       "        vertical-align: top;\n",
       "    }\n",
       "</style>\n",
       "<table border=\"1\" class=\"dataframe\">\n",
       "  <thead>\n",
       "    <tr style=\"text-align: right;\">\n",
       "      <th>gar_type</th>\n",
       "      <th>1.0</th>\n",
       "      <th>1.5</th>\n",
       "      <th>2.0</th>\n",
       "      <th>2.5</th>\n",
       "      <th>3.0</th>\n",
       "    </tr>\n",
       "    <tr>\n",
       "      <th>GarageType</th>\n",
       "      <th></th>\n",
       "      <th></th>\n",
       "      <th></th>\n",
       "      <th></th>\n",
       "      <th></th>\n",
       "    </tr>\n",
       "  </thead>\n",
       "  <tbody>\n",
       "    <tr>\n",
       "      <th>2Types</th>\n",
       "      <td>0</td>\n",
       "      <td>0</td>\n",
       "      <td>0</td>\n",
       "      <td>0</td>\n",
       "      <td>6</td>\n",
       "    </tr>\n",
       "    <tr>\n",
       "      <th>Attchd</th>\n",
       "      <td>0</td>\n",
       "      <td>0</td>\n",
       "      <td>869</td>\n",
       "      <td>0</td>\n",
       "      <td>0</td>\n",
       "    </tr>\n",
       "    <tr>\n",
       "      <th>Basment</th>\n",
       "      <td>0</td>\n",
       "      <td>0</td>\n",
       "      <td>19</td>\n",
       "      <td>0</td>\n",
       "      <td>0</td>\n",
       "    </tr>\n",
       "    <tr>\n",
       "      <th>BuiltIn</th>\n",
       "      <td>0</td>\n",
       "      <td>0</td>\n",
       "      <td>0</td>\n",
       "      <td>87</td>\n",
       "      <td>0</td>\n",
       "    </tr>\n",
       "    <tr>\n",
       "      <th>CarPort</th>\n",
       "      <td>9</td>\n",
       "      <td>0</td>\n",
       "      <td>0</td>\n",
       "      <td>0</td>\n",
       "      <td>0</td>\n",
       "    </tr>\n",
       "    <tr>\n",
       "      <th>Detchd</th>\n",
       "      <td>0</td>\n",
       "      <td>387</td>\n",
       "      <td>0</td>\n",
       "      <td>0</td>\n",
       "      <td>0</td>\n",
       "    </tr>\n",
       "  </tbody>\n",
       "</table>\n",
       "</div>"
      ],
      "text/plain": [
       "gar_type    1.0  1.5  2.0  2.5  3.0\n",
       "GarageType                         \n",
       "2Types        0    0    0    0    6\n",
       "Attchd        0    0  869    0    0\n",
       "Basment       0    0   19    0    0\n",
       "BuiltIn       0    0    0   87    0\n",
       "CarPort       9    0    0    0    0\n",
       "Detchd        0  387    0    0    0"
      ]
     },
     "execution_count": 602,
     "metadata": {},
     "output_type": "execute_result"
    }
   ],
   "source": [
    "# Creating a quantitative variable - treating \"no garage\" as the worst level (zero)\n",
    "train['gar_type'] = 0\n",
    "train.loc[train.GarageType == 'CarPort', 'gar_type'] = 1\n",
    "train.loc[train.GarageType == 'Detchd', 'gar_type'] = 1.5\n",
    "train.loc[train.GarageType == 'Attchd', 'gar_type'] = 2\n",
    "train.loc[train.GarageType == 'Basment', 'gar_type'] = 2   # same as Attached\n",
    "train.loc[train.GarageType == 'BuiltIn', 'gar_type'] = 2.5\n",
    "train.loc[train.GarageType == '2Types', 'gar_type'] = 3\n",
    "pd.crosstab(train.GarageType, train.gar_type)"
   ]
  },
  {
   "cell_type": "code",
   "execution_count": 603,
   "metadata": {},
   "outputs": [
    {
     "data": {
      "text/html": [
       "<div>\n",
       "<style>\n",
       "    .dataframe thead tr:only-child th {\n",
       "        text-align: right;\n",
       "    }\n",
       "\n",
       "    .dataframe thead th {\n",
       "        text-align: left;\n",
       "    }\n",
       "\n",
       "    .dataframe tbody tr th {\n",
       "        vertical-align: top;\n",
       "    }\n",
       "</style>\n",
       "<table border=\"1\" class=\"dataframe\">\n",
       "  <thead>\n",
       "    <tr style=\"text-align: right;\">\n",
       "      <th>gar_type</th>\n",
       "      <th>1.0</th>\n",
       "      <th>1.5</th>\n",
       "      <th>2.0</th>\n",
       "      <th>2.5</th>\n",
       "      <th>3.0</th>\n",
       "    </tr>\n",
       "    <tr>\n",
       "      <th>GarageType</th>\n",
       "      <th></th>\n",
       "      <th></th>\n",
       "      <th></th>\n",
       "      <th></th>\n",
       "      <th></th>\n",
       "    </tr>\n",
       "  </thead>\n",
       "  <tbody>\n",
       "    <tr>\n",
       "      <th>2Types</th>\n",
       "      <td>0</td>\n",
       "      <td>0</td>\n",
       "      <td>0</td>\n",
       "      <td>0</td>\n",
       "      <td>17</td>\n",
       "    </tr>\n",
       "    <tr>\n",
       "      <th>Attchd</th>\n",
       "      <td>0</td>\n",
       "      <td>0</td>\n",
       "      <td>853</td>\n",
       "      <td>0</td>\n",
       "      <td>0</td>\n",
       "    </tr>\n",
       "    <tr>\n",
       "      <th>Basment</th>\n",
       "      <td>0</td>\n",
       "      <td>0</td>\n",
       "      <td>17</td>\n",
       "      <td>0</td>\n",
       "      <td>0</td>\n",
       "    </tr>\n",
       "    <tr>\n",
       "      <th>BuiltIn</th>\n",
       "      <td>0</td>\n",
       "      <td>0</td>\n",
       "      <td>0</td>\n",
       "      <td>98</td>\n",
       "      <td>0</td>\n",
       "    </tr>\n",
       "    <tr>\n",
       "      <th>CarPort</th>\n",
       "      <td>6</td>\n",
       "      <td>0</td>\n",
       "      <td>0</td>\n",
       "      <td>0</td>\n",
       "      <td>0</td>\n",
       "    </tr>\n",
       "    <tr>\n",
       "      <th>Detchd</th>\n",
       "      <td>0</td>\n",
       "      <td>392</td>\n",
       "      <td>0</td>\n",
       "      <td>0</td>\n",
       "      <td>0</td>\n",
       "    </tr>\n",
       "  </tbody>\n",
       "</table>\n",
       "</div>"
      ],
      "text/plain": [
       "gar_type    1.0  1.5  2.0  2.5  3.0\n",
       "GarageType                         \n",
       "2Types        0    0    0    0   17\n",
       "Attchd        0    0  853    0    0\n",
       "Basment       0    0   17    0    0\n",
       "BuiltIn       0    0    0   98    0\n",
       "CarPort       6    0    0    0    0\n",
       "Detchd        0  392    0    0    0"
      ]
     },
     "execution_count": 603,
     "metadata": {},
     "output_type": "execute_result"
    }
   ],
   "source": [
    "test['gar_type'] = 0\n",
    "test.loc[test.GarageType == 'CarPort', 'gar_type'] = 1\n",
    "test.loc[test.GarageType == 'Detchd', 'gar_type'] = 1.5\n",
    "test.loc[test.GarageType == 'Attchd', 'gar_type'] = 2\n",
    "test.loc[test.GarageType == 'Basment', 'gar_type'] = 2   # same as Attached\n",
    "test.loc[test.GarageType == 'BuiltIn', 'gar_type'] = 2.5\n",
    "test.loc[test.GarageType == '2Types', 'gar_type'] = 3\n",
    "pd.crosstab(test.GarageType, test.gar_type)"
   ]
  },
  {
   "cell_type": "code",
   "execution_count": 604,
   "metadata": {},
   "outputs": [
    {
     "name": "stdout",
     "output_type": "stream",
     "text": [
      "(1458, 95)\n",
      "(1459, 94)\n"
     ]
    }
   ],
   "source": [
    "print(train.shape)\n",
    "print(test.shape)"
   ]
  },
  {
   "cell_type": "markdown",
   "metadata": {},
   "source": [
    "###### GarageFinish: Interior finish of the garage"
   ]
  },
  {
   "cell_type": "code",
   "execution_count": 605,
   "metadata": {},
   "outputs": [
    {
     "name": "stdout",
     "output_type": "stream",
     "text": [
      "Unf    41.44\n",
      "RFn    28.90\n",
      "Fin    23.97\n",
      "Name: GarageFinish, dtype: float64\n",
      "Unf    42.81\n",
      "RFn    26.64\n",
      "Fin    25.14\n",
      "Name: GarageFinish, dtype: float64\n"
     ]
    }
   ],
   "source": [
    "print((train.GarageFinish.value_counts().sort_values(ascending = False)/N*100).round(2))\n",
    "print((test.GarageFinish.value_counts().sort_values(ascending = False)/N*100).round(2))"
   ]
  },
  {
   "cell_type": "code",
   "execution_count": 606,
   "metadata": {},
   "outputs": [
    {
     "data": {
      "text/html": [
       "<div>\n",
       "<style>\n",
       "    .dataframe thead tr:only-child th {\n",
       "        text-align: right;\n",
       "    }\n",
       "\n",
       "    .dataframe thead th {\n",
       "        text-align: left;\n",
       "    }\n",
       "\n",
       "    .dataframe tbody tr th {\n",
       "        vertical-align: top;\n",
       "    }\n",
       "</style>\n",
       "<table border=\"1\" class=\"dataframe\">\n",
       "  <thead>\n",
       "    <tr style=\"text-align: right;\">\n",
       "      <th>gar_finish</th>\n",
       "      <th>1</th>\n",
       "      <th>2</th>\n",
       "      <th>3</th>\n",
       "    </tr>\n",
       "    <tr>\n",
       "      <th>GarageFinish</th>\n",
       "      <th></th>\n",
       "      <th></th>\n",
       "      <th></th>\n",
       "    </tr>\n",
       "  </thead>\n",
       "  <tbody>\n",
       "    <tr>\n",
       "      <th>Fin</th>\n",
       "      <td>0</td>\n",
       "      <td>0</td>\n",
       "      <td>350</td>\n",
       "    </tr>\n",
       "    <tr>\n",
       "      <th>RFn</th>\n",
       "      <td>0</td>\n",
       "      <td>422</td>\n",
       "      <td>0</td>\n",
       "    </tr>\n",
       "    <tr>\n",
       "      <th>Unf</th>\n",
       "      <td>605</td>\n",
       "      <td>0</td>\n",
       "      <td>0</td>\n",
       "    </tr>\n",
       "  </tbody>\n",
       "</table>\n",
       "</div>"
      ],
      "text/plain": [
       "gar_finish      1    2    3\n",
       "GarageFinish               \n",
       "Fin             0    0  350\n",
       "RFn             0  422    0\n",
       "Unf           605    0    0"
      ]
     },
     "execution_count": 606,
     "metadata": {},
     "output_type": "execute_result"
    }
   ],
   "source": [
    "# Creating a quantitative variable - treating \"no garage\" as the worst level (zero)\n",
    "train['gar_finish'] = 0\n",
    "train.loc[train.GarageFinish == 'Unf', 'gar_finish'] = 1\n",
    "train.loc[train.GarageFinish == 'RFn', 'gar_finish'] = 2\n",
    "train.loc[train.GarageFinish == 'Fin', 'gar_finish'] = 3\n",
    "pd.crosstab(train.GarageFinish, train.gar_finish)"
   ]
  },
  {
   "cell_type": "code",
   "execution_count": 607,
   "metadata": {},
   "outputs": [
    {
     "data": {
      "text/html": [
       "<div>\n",
       "<style>\n",
       "    .dataframe thead tr:only-child th {\n",
       "        text-align: right;\n",
       "    }\n",
       "\n",
       "    .dataframe thead th {\n",
       "        text-align: left;\n",
       "    }\n",
       "\n",
       "    .dataframe tbody tr th {\n",
       "        vertical-align: top;\n",
       "    }\n",
       "</style>\n",
       "<table border=\"1\" class=\"dataframe\">\n",
       "  <thead>\n",
       "    <tr style=\"text-align: right;\">\n",
       "      <th>gar_finish</th>\n",
       "      <th>1</th>\n",
       "      <th>2</th>\n",
       "      <th>3</th>\n",
       "    </tr>\n",
       "    <tr>\n",
       "      <th>GarageFinish</th>\n",
       "      <th></th>\n",
       "      <th></th>\n",
       "      <th></th>\n",
       "    </tr>\n",
       "  </thead>\n",
       "  <tbody>\n",
       "    <tr>\n",
       "      <th>Fin</th>\n",
       "      <td>0</td>\n",
       "      <td>0</td>\n",
       "      <td>367</td>\n",
       "    </tr>\n",
       "    <tr>\n",
       "      <th>RFn</th>\n",
       "      <td>0</td>\n",
       "      <td>389</td>\n",
       "      <td>0</td>\n",
       "    </tr>\n",
       "    <tr>\n",
       "      <th>Unf</th>\n",
       "      <td>625</td>\n",
       "      <td>0</td>\n",
       "      <td>0</td>\n",
       "    </tr>\n",
       "  </tbody>\n",
       "</table>\n",
       "</div>"
      ],
      "text/plain": [
       "gar_finish      1    2    3\n",
       "GarageFinish               \n",
       "Fin             0    0  367\n",
       "RFn             0  389    0\n",
       "Unf           625    0    0"
      ]
     },
     "execution_count": 607,
     "metadata": {},
     "output_type": "execute_result"
    }
   ],
   "source": [
    "test['gar_finish'] = 0\n",
    "test.loc[test.GarageFinish == 'Unf', 'gar_finish'] = 1\n",
    "test.loc[test.GarageFinish == 'RFn', 'gar_finish'] = 2\n",
    "test.loc[test.GarageFinish == 'Fin', 'gar_finish'] = 3\n",
    "pd.crosstab(test.GarageFinish, test.gar_finish)"
   ]
  },
  {
   "cell_type": "code",
   "execution_count": 608,
   "metadata": {},
   "outputs": [
    {
     "name": "stdout",
     "output_type": "stream",
     "text": [
      "(1458, 96)\n",
      "(1459, 95)\n"
     ]
    }
   ],
   "source": [
    "print(train.shape)\n",
    "print(test.shape)"
   ]
  },
  {
   "cell_type": "markdown",
   "metadata": {},
   "source": [
    "###### GarageQual: Garage quality"
   ]
  },
  {
   "cell_type": "code",
   "execution_count": 609,
   "metadata": {},
   "outputs": [
    {
     "name": "stdout",
     "output_type": "stream",
     "text": [
      "TA    89.66\n",
      "Fa     3.29\n",
      "Gd     0.96\n",
      "Ex     0.21\n",
      "Po     0.21\n",
      "Name: GarageQual, dtype: float64\n",
      "TA    88.56\n",
      "Fa     5.21\n",
      "Gd     0.68\n",
      "Po     0.14\n",
      "Name: GarageQual, dtype: float64\n"
     ]
    }
   ],
   "source": [
    "print((train.GarageQual.value_counts().sort_values(ascending = False)/N*100).round(2))\n",
    "print((test.GarageQual.value_counts().sort_values(ascending = False)/N*100).round(2))"
   ]
  },
  {
   "cell_type": "code",
   "execution_count": 610,
   "metadata": {},
   "outputs": [
    {
     "data": {
      "text/html": [
       "<div>\n",
       "<style>\n",
       "    .dataframe thead tr:only-child th {\n",
       "        text-align: right;\n",
       "    }\n",
       "\n",
       "    .dataframe thead th {\n",
       "        text-align: left;\n",
       "    }\n",
       "\n",
       "    .dataframe tbody tr th {\n",
       "        vertical-align: top;\n",
       "    }\n",
       "</style>\n",
       "<table border=\"1\" class=\"dataframe\">\n",
       "  <thead>\n",
       "    <tr style=\"text-align: right;\">\n",
       "      <th>GarageCond</th>\n",
       "      <th>Ex</th>\n",
       "      <th>Fa</th>\n",
       "      <th>Gd</th>\n",
       "      <th>Po</th>\n",
       "      <th>TA</th>\n",
       "    </tr>\n",
       "    <tr>\n",
       "      <th>GarageQual</th>\n",
       "      <th></th>\n",
       "      <th></th>\n",
       "      <th></th>\n",
       "      <th></th>\n",
       "      <th></th>\n",
       "    </tr>\n",
       "  </thead>\n",
       "  <tbody>\n",
       "    <tr>\n",
       "      <th>Ex</th>\n",
       "      <td>2</td>\n",
       "      <td>0</td>\n",
       "      <td>0</td>\n",
       "      <td>0</td>\n",
       "      <td>1</td>\n",
       "    </tr>\n",
       "    <tr>\n",
       "      <th>Fa</th>\n",
       "      <td>0</td>\n",
       "      <td>20</td>\n",
       "      <td>0</td>\n",
       "      <td>4</td>\n",
       "      <td>24</td>\n",
       "    </tr>\n",
       "    <tr>\n",
       "      <th>Gd</th>\n",
       "      <td>0</td>\n",
       "      <td>0</td>\n",
       "      <td>4</td>\n",
       "      <td>0</td>\n",
       "      <td>10</td>\n",
       "    </tr>\n",
       "    <tr>\n",
       "      <th>Po</th>\n",
       "      <td>0</td>\n",
       "      <td>0</td>\n",
       "      <td>0</td>\n",
       "      <td>3</td>\n",
       "      <td>0</td>\n",
       "    </tr>\n",
       "    <tr>\n",
       "      <th>TA</th>\n",
       "      <td>0</td>\n",
       "      <td>15</td>\n",
       "      <td>5</td>\n",
       "      <td>0</td>\n",
       "      <td>1289</td>\n",
       "    </tr>\n",
       "  </tbody>\n",
       "</table>\n",
       "</div>"
      ],
      "text/plain": [
       "GarageCond  Ex  Fa  Gd  Po    TA\n",
       "GarageQual                      \n",
       "Ex           2   0   0   0     1\n",
       "Fa           0  20   0   4    24\n",
       "Gd           0   0   4   0    10\n",
       "Po           0   0   0   3     0\n",
       "TA           0  15   5   0  1289"
      ]
     },
     "execution_count": 610,
     "metadata": {},
     "output_type": "execute_result"
    }
   ],
   "source": [
    "pd.crosstab(train.GarageQual, train.GarageCond)"
   ]
  },
  {
   "cell_type": "code",
   "execution_count": 611,
   "metadata": {},
   "outputs": [
    {
     "data": {
      "text/html": [
       "<div>\n",
       "<style>\n",
       "    .dataframe thead tr:only-child th {\n",
       "        text-align: right;\n",
       "    }\n",
       "\n",
       "    .dataframe thead th {\n",
       "        text-align: left;\n",
       "    }\n",
       "\n",
       "    .dataframe tbody tr th {\n",
       "        vertical-align: top;\n",
       "    }\n",
       "</style>\n",
       "<table border=\"1\" class=\"dataframe\">\n",
       "  <thead>\n",
       "    <tr style=\"text-align: right;\">\n",
       "      <th>gar_qual</th>\n",
       "      <th>1.0</th>\n",
       "      <th>2.0</th>\n",
       "      <th>3.0</th>\n",
       "      <th>3.5</th>\n",
       "      <th>4.0</th>\n",
       "    </tr>\n",
       "    <tr>\n",
       "      <th>GarageQual</th>\n",
       "      <th></th>\n",
       "      <th></th>\n",
       "      <th></th>\n",
       "      <th></th>\n",
       "      <th></th>\n",
       "    </tr>\n",
       "  </thead>\n",
       "  <tbody>\n",
       "    <tr>\n",
       "      <th>Ex</th>\n",
       "      <td>0</td>\n",
       "      <td>0</td>\n",
       "      <td>0</td>\n",
       "      <td>0</td>\n",
       "      <td>3</td>\n",
       "    </tr>\n",
       "    <tr>\n",
       "      <th>Fa</th>\n",
       "      <td>0</td>\n",
       "      <td>48</td>\n",
       "      <td>0</td>\n",
       "      <td>0</td>\n",
       "      <td>0</td>\n",
       "    </tr>\n",
       "    <tr>\n",
       "      <th>Gd</th>\n",
       "      <td>0</td>\n",
       "      <td>0</td>\n",
       "      <td>0</td>\n",
       "      <td>14</td>\n",
       "      <td>0</td>\n",
       "    </tr>\n",
       "    <tr>\n",
       "      <th>Po</th>\n",
       "      <td>3</td>\n",
       "      <td>0</td>\n",
       "      <td>0</td>\n",
       "      <td>0</td>\n",
       "      <td>0</td>\n",
       "    </tr>\n",
       "    <tr>\n",
       "      <th>TA</th>\n",
       "      <td>0</td>\n",
       "      <td>0</td>\n",
       "      <td>1309</td>\n",
       "      <td>0</td>\n",
       "      <td>0</td>\n",
       "    </tr>\n",
       "  </tbody>\n",
       "</table>\n",
       "</div>"
      ],
      "text/plain": [
       "gar_qual    1.0  2.0   3.0  3.5  4.0\n",
       "GarageQual                          \n",
       "Ex            0    0     0    0    3\n",
       "Fa            0   48     0    0    0\n",
       "Gd            0    0     0   14    0\n",
       "Po            3    0     0    0    0\n",
       "TA            0    0  1309    0    0"
      ]
     },
     "execution_count": 611,
     "metadata": {},
     "output_type": "execute_result"
    }
   ],
   "source": [
    "# GarageQual\n",
    "# Creating a quantitative variable - treating \"no garage\" as the average level (no headache)\n",
    "train['gar_qual'] = 3\n",
    "train.loc[train.GarageQual == 'Po', 'gar_qual'] = 1\n",
    "train.loc[train.GarageQual == 'Fa', 'gar_qual'] = 2\n",
    "train.loc[train.GarageQual == 'Gd', 'gar_qual'] = 3.5\n",
    "train.loc[train.GarageQual == 'Ex', 'gar_qual'] = 4\n",
    "pd.crosstab(train.GarageQual, train.gar_qual)"
   ]
  },
  {
   "cell_type": "code",
   "execution_count": 612,
   "metadata": {},
   "outputs": [
    {
     "data": {
      "text/html": [
       "<div>\n",
       "<style>\n",
       "    .dataframe thead tr:only-child th {\n",
       "        text-align: right;\n",
       "    }\n",
       "\n",
       "    .dataframe thead th {\n",
       "        text-align: left;\n",
       "    }\n",
       "\n",
       "    .dataframe tbody tr th {\n",
       "        vertical-align: top;\n",
       "    }\n",
       "</style>\n",
       "<table border=\"1\" class=\"dataframe\">\n",
       "  <thead>\n",
       "    <tr style=\"text-align: right;\">\n",
       "      <th>gar_qual</th>\n",
       "      <th>1.0</th>\n",
       "      <th>2.0</th>\n",
       "      <th>3.0</th>\n",
       "      <th>3.5</th>\n",
       "    </tr>\n",
       "    <tr>\n",
       "      <th>GarageQual</th>\n",
       "      <th></th>\n",
       "      <th></th>\n",
       "      <th></th>\n",
       "      <th></th>\n",
       "    </tr>\n",
       "  </thead>\n",
       "  <tbody>\n",
       "    <tr>\n",
       "      <th>Fa</th>\n",
       "      <td>0</td>\n",
       "      <td>76</td>\n",
       "      <td>0</td>\n",
       "      <td>0</td>\n",
       "    </tr>\n",
       "    <tr>\n",
       "      <th>Gd</th>\n",
       "      <td>0</td>\n",
       "      <td>0</td>\n",
       "      <td>0</td>\n",
       "      <td>10</td>\n",
       "    </tr>\n",
       "    <tr>\n",
       "      <th>Po</th>\n",
       "      <td>2</td>\n",
       "      <td>0</td>\n",
       "      <td>0</td>\n",
       "      <td>0</td>\n",
       "    </tr>\n",
       "    <tr>\n",
       "      <th>TA</th>\n",
       "      <td>0</td>\n",
       "      <td>0</td>\n",
       "      <td>1293</td>\n",
       "      <td>0</td>\n",
       "    </tr>\n",
       "  </tbody>\n",
       "</table>\n",
       "</div>"
      ],
      "text/plain": [
       "gar_qual    1.0  2.0   3.0  3.5\n",
       "GarageQual                     \n",
       "Fa            0   76     0    0\n",
       "Gd            0    0     0   10\n",
       "Po            2    0     0    0\n",
       "TA            0    0  1293    0"
      ]
     },
     "execution_count": 612,
     "metadata": {},
     "output_type": "execute_result"
    }
   ],
   "source": [
    "test['gar_qual'] = 3\n",
    "test.loc[test.GarageQual == 'Po', 'gar_qual'] = 1\n",
    "test.loc[test.GarageQual == 'Fa', 'gar_qual'] = 2\n",
    "test.loc[test.GarageQual == 'Gd', 'gar_qual'] = 3.5\n",
    "test.loc[test.GarageQual == 'Ex', 'gar_qual'] = 4\n",
    "pd.crosstab(test.GarageQual, test.gar_qual)"
   ]
  },
  {
   "cell_type": "code",
   "execution_count": 613,
   "metadata": {},
   "outputs": [
    {
     "name": "stdout",
     "output_type": "stream",
     "text": [
      "TA    90.68\n",
      "Fa     2.40\n",
      "Gd     0.62\n",
      "Po     0.48\n",
      "Ex     0.14\n",
      "Name: GarageCond, dtype: float64\n",
      "TA    90.96\n",
      "Fa     2.67\n",
      "Po     0.48\n",
      "Gd     0.41\n",
      "Ex     0.07\n",
      "Name: GarageCond, dtype: float64\n"
     ]
    }
   ],
   "source": [
    "print((train.GarageCond.value_counts().sort_values(ascending = False)/N*100).round(2))\n",
    "print((test.GarageCond.value_counts().sort_values(ascending = False)/N*100).round(2))"
   ]
  },
  {
   "cell_type": "code",
   "execution_count": 614,
   "metadata": {},
   "outputs": [
    {
     "data": {
      "text/html": [
       "<div>\n",
       "<style>\n",
       "    .dataframe thead tr:only-child th {\n",
       "        text-align: right;\n",
       "    }\n",
       "\n",
       "    .dataframe thead th {\n",
       "        text-align: left;\n",
       "    }\n",
       "\n",
       "    .dataframe tbody tr th {\n",
       "        vertical-align: top;\n",
       "    }\n",
       "</style>\n",
       "<table border=\"1\" class=\"dataframe\">\n",
       "  <thead>\n",
       "    <tr style=\"text-align: right;\">\n",
       "      <th>gar_cond</th>\n",
       "      <th>1.0</th>\n",
       "      <th>1.5</th>\n",
       "      <th>2.0</th>\n",
       "      <th>2.5</th>\n",
       "      <th>3.0</th>\n",
       "    </tr>\n",
       "    <tr>\n",
       "      <th>GarageCond</th>\n",
       "      <th></th>\n",
       "      <th></th>\n",
       "      <th></th>\n",
       "      <th></th>\n",
       "      <th></th>\n",
       "    </tr>\n",
       "  </thead>\n",
       "  <tbody>\n",
       "    <tr>\n",
       "      <th>Ex</th>\n",
       "      <td>0</td>\n",
       "      <td>0</td>\n",
       "      <td>0</td>\n",
       "      <td>0</td>\n",
       "      <td>2</td>\n",
       "    </tr>\n",
       "    <tr>\n",
       "      <th>Fa</th>\n",
       "      <td>0</td>\n",
       "      <td>35</td>\n",
       "      <td>0</td>\n",
       "      <td>0</td>\n",
       "      <td>0</td>\n",
       "    </tr>\n",
       "    <tr>\n",
       "      <th>Gd</th>\n",
       "      <td>0</td>\n",
       "      <td>0</td>\n",
       "      <td>0</td>\n",
       "      <td>9</td>\n",
       "      <td>0</td>\n",
       "    </tr>\n",
       "    <tr>\n",
       "      <th>Po</th>\n",
       "      <td>7</td>\n",
       "      <td>0</td>\n",
       "      <td>0</td>\n",
       "      <td>0</td>\n",
       "      <td>0</td>\n",
       "    </tr>\n",
       "    <tr>\n",
       "      <th>TA</th>\n",
       "      <td>0</td>\n",
       "      <td>0</td>\n",
       "      <td>1324</td>\n",
       "      <td>0</td>\n",
       "      <td>0</td>\n",
       "    </tr>\n",
       "  </tbody>\n",
       "</table>\n",
       "</div>"
      ],
      "text/plain": [
       "gar_cond    1.0  1.5   2.0  2.5  3.0\n",
       "GarageCond                          \n",
       "Ex            0    0     0    0    2\n",
       "Fa            0   35     0    0    0\n",
       "Gd            0    0     0    9    0\n",
       "Po            7    0     0    0    0\n",
       "TA            0    0  1324    0    0"
      ]
     },
     "execution_count": 614,
     "metadata": {},
     "output_type": "execute_result"
    }
   ],
   "source": [
    "# GarageCond\n",
    "# Creating a quantitative variable - treating \"no garage\" as the average level (no headache)\n",
    "train['gar_cond'] = 2\n",
    "train.loc[train.GarageCond == 'Po', 'gar_cond'] = 1\n",
    "train.loc[train.GarageCond == 'Fa', 'gar_cond'] = 1.5\n",
    "train.loc[train.GarageCond == 'Gd', 'gar_cond'] = 2.5\n",
    "train.loc[train.GarageCond == 'Ex', 'gar_cond'] = 3\n",
    "pd.crosstab(train.GarageCond, train.gar_cond)"
   ]
  },
  {
   "cell_type": "code",
   "execution_count": 615,
   "metadata": {},
   "outputs": [
    {
     "data": {
      "text/html": [
       "<div>\n",
       "<style>\n",
       "    .dataframe thead tr:only-child th {\n",
       "        text-align: right;\n",
       "    }\n",
       "\n",
       "    .dataframe thead th {\n",
       "        text-align: left;\n",
       "    }\n",
       "\n",
       "    .dataframe tbody tr th {\n",
       "        vertical-align: top;\n",
       "    }\n",
       "</style>\n",
       "<table border=\"1\" class=\"dataframe\">\n",
       "  <thead>\n",
       "    <tr style=\"text-align: right;\">\n",
       "      <th>gar_cond</th>\n",
       "      <th>1.0</th>\n",
       "      <th>1.5</th>\n",
       "      <th>2.0</th>\n",
       "      <th>2.5</th>\n",
       "      <th>3.0</th>\n",
       "    </tr>\n",
       "    <tr>\n",
       "      <th>GarageCond</th>\n",
       "      <th></th>\n",
       "      <th></th>\n",
       "      <th></th>\n",
       "      <th></th>\n",
       "      <th></th>\n",
       "    </tr>\n",
       "  </thead>\n",
       "  <tbody>\n",
       "    <tr>\n",
       "      <th>Ex</th>\n",
       "      <td>0</td>\n",
       "      <td>0</td>\n",
       "      <td>0</td>\n",
       "      <td>0</td>\n",
       "      <td>1</td>\n",
       "    </tr>\n",
       "    <tr>\n",
       "      <th>Fa</th>\n",
       "      <td>0</td>\n",
       "      <td>39</td>\n",
       "      <td>0</td>\n",
       "      <td>0</td>\n",
       "      <td>0</td>\n",
       "    </tr>\n",
       "    <tr>\n",
       "      <th>Gd</th>\n",
       "      <td>0</td>\n",
       "      <td>0</td>\n",
       "      <td>0</td>\n",
       "      <td>6</td>\n",
       "      <td>0</td>\n",
       "    </tr>\n",
       "    <tr>\n",
       "      <th>Po</th>\n",
       "      <td>7</td>\n",
       "      <td>0</td>\n",
       "      <td>0</td>\n",
       "      <td>0</td>\n",
       "      <td>0</td>\n",
       "    </tr>\n",
       "    <tr>\n",
       "      <th>TA</th>\n",
       "      <td>0</td>\n",
       "      <td>0</td>\n",
       "      <td>1328</td>\n",
       "      <td>0</td>\n",
       "      <td>0</td>\n",
       "    </tr>\n",
       "  </tbody>\n",
       "</table>\n",
       "</div>"
      ],
      "text/plain": [
       "gar_cond    1.0  1.5   2.0  2.5  3.0\n",
       "GarageCond                          \n",
       "Ex            0    0     0    0    1\n",
       "Fa            0   39     0    0    0\n",
       "Gd            0    0     0    6    0\n",
       "Po            7    0     0    0    0\n",
       "TA            0    0  1328    0    0"
      ]
     },
     "execution_count": 615,
     "metadata": {},
     "output_type": "execute_result"
    }
   ],
   "source": [
    "test['gar_cond'] = 2\n",
    "test.loc[test.GarageCond == 'Po', 'gar_cond'] = 1\n",
    "test.loc[test.GarageCond == 'Fa', 'gar_cond'] = 1.5\n",
    "test.loc[test.GarageCond == 'Gd', 'gar_cond'] = 2.5\n",
    "test.loc[test.GarageCond == 'Ex', 'gar_cond'] = 3\n",
    "pd.crosstab(test.GarageCond, test.gar_cond)"
   ]
  },
  {
   "cell_type": "code",
   "execution_count": 616,
   "metadata": {
    "collapsed": true
   },
   "outputs": [],
   "source": [
    "# Creating a new variable - product of garage quality & condition:\n",
    "train['gar_perception'] = train['gar_qual'] * train['gar_cond']\n",
    "test['gar_perception'] = test['gar_qual'] * test['gar_cond']"
   ]
  },
  {
   "cell_type": "code",
   "execution_count": 617,
   "metadata": {
    "collapsed": true
   },
   "outputs": [],
   "source": [
    "# pd.crosstab(train.gar_qual, train.gar_perception)\n",
    "# pd.crosstab(train.gar_cond, train.gar_perception)"
   ]
  },
  {
   "cell_type": "code",
   "execution_count": 618,
   "metadata": {},
   "outputs": [
    {
     "name": "stdout",
     "output_type": "stream",
     "text": [
      "(1458, 99)\n",
      "(1459, 98)\n"
     ]
    }
   ],
   "source": [
    "print(train.shape)\n",
    "print(test.shape)"
   ]
  },
  {
   "cell_type": "markdown",
   "metadata": {},
   "source": [
    "###### PavedDrive: Paved driveway"
   ]
  },
  {
   "cell_type": "code",
   "execution_count": 619,
   "metadata": {},
   "outputs": [
    {
     "name": "stdout",
     "output_type": "stream",
     "text": [
      "Y    91.64\n",
      "N     6.16\n",
      "P     2.05\n",
      "Name: PavedDrive, dtype: float64\n",
      "Y    89.11\n",
      "N     8.63\n",
      "P     2.19\n",
      "Name: PavedDrive, dtype: float64\n"
     ]
    }
   ],
   "source": [
    "print((train.PavedDrive.value_counts().sort_values(ascending = False)/N*100).round(2))\n",
    "print((test.PavedDrive.value_counts().sort_values(ascending = False)/N*100).round(2))"
   ]
  },
  {
   "cell_type": "code",
   "execution_count": 620,
   "metadata": {},
   "outputs": [
    {
     "data": {
      "text/html": [
       "<div>\n",
       "<style>\n",
       "    .dataframe thead tr:only-child th {\n",
       "        text-align: right;\n",
       "    }\n",
       "\n",
       "    .dataframe thead th {\n",
       "        text-align: left;\n",
       "    }\n",
       "\n",
       "    .dataframe tbody tr th {\n",
       "        vertical-align: top;\n",
       "    }\n",
       "</style>\n",
       "<table border=\"1\" class=\"dataframe\">\n",
       "  <thead>\n",
       "    <tr style=\"text-align: right;\">\n",
       "      <th>driveway</th>\n",
       "      <th>0</th>\n",
       "      <th>2</th>\n",
       "      <th>3</th>\n",
       "    </tr>\n",
       "    <tr>\n",
       "      <th>PavedDrive</th>\n",
       "      <th></th>\n",
       "      <th></th>\n",
       "      <th></th>\n",
       "    </tr>\n",
       "  </thead>\n",
       "  <tbody>\n",
       "    <tr>\n",
       "      <th>N</th>\n",
       "      <td>90</td>\n",
       "      <td>0</td>\n",
       "      <td>0</td>\n",
       "    </tr>\n",
       "    <tr>\n",
       "      <th>P</th>\n",
       "      <td>0</td>\n",
       "      <td>30</td>\n",
       "      <td>0</td>\n",
       "    </tr>\n",
       "    <tr>\n",
       "      <th>Y</th>\n",
       "      <td>0</td>\n",
       "      <td>0</td>\n",
       "      <td>1338</td>\n",
       "    </tr>\n",
       "  </tbody>\n",
       "</table>\n",
       "</div>"
      ],
      "text/plain": [
       "driveway     0   2     3\n",
       "PavedDrive              \n",
       "N           90   0     0\n",
       "P            0  30     0\n",
       "Y            0   0  1338"
      ]
     },
     "execution_count": 620,
     "metadata": {},
     "output_type": "execute_result"
    }
   ],
   "source": [
    "# Creating a quantitative variable\n",
    "train['driveway'] = 0\n",
    "train.loc[train.PavedDrive == 'P', 'driveway'] = 2\n",
    "train.loc[train.PavedDrive == 'Y', 'driveway'] = 3\n",
    "pd.crosstab(train.PavedDrive, train.driveway)"
   ]
  },
  {
   "cell_type": "code",
   "execution_count": 621,
   "metadata": {},
   "outputs": [
    {
     "data": {
      "text/html": [
       "<div>\n",
       "<style>\n",
       "    .dataframe thead tr:only-child th {\n",
       "        text-align: right;\n",
       "    }\n",
       "\n",
       "    .dataframe thead th {\n",
       "        text-align: left;\n",
       "    }\n",
       "\n",
       "    .dataframe tbody tr th {\n",
       "        vertical-align: top;\n",
       "    }\n",
       "</style>\n",
       "<table border=\"1\" class=\"dataframe\">\n",
       "  <thead>\n",
       "    <tr style=\"text-align: right;\">\n",
       "      <th>driveway</th>\n",
       "      <th>0</th>\n",
       "      <th>2</th>\n",
       "      <th>3</th>\n",
       "    </tr>\n",
       "    <tr>\n",
       "      <th>PavedDrive</th>\n",
       "      <th></th>\n",
       "      <th></th>\n",
       "      <th></th>\n",
       "    </tr>\n",
       "  </thead>\n",
       "  <tbody>\n",
       "    <tr>\n",
       "      <th>N</th>\n",
       "      <td>126</td>\n",
       "      <td>0</td>\n",
       "      <td>0</td>\n",
       "    </tr>\n",
       "    <tr>\n",
       "      <th>P</th>\n",
       "      <td>0</td>\n",
       "      <td>32</td>\n",
       "      <td>0</td>\n",
       "    </tr>\n",
       "    <tr>\n",
       "      <th>Y</th>\n",
       "      <td>0</td>\n",
       "      <td>0</td>\n",
       "      <td>1301</td>\n",
       "    </tr>\n",
       "  </tbody>\n",
       "</table>\n",
       "</div>"
      ],
      "text/plain": [
       "driveway      0   2     3\n",
       "PavedDrive               \n",
       "N           126   0     0\n",
       "P             0  32     0\n",
       "Y             0   0  1301"
      ]
     },
     "execution_count": 621,
     "metadata": {},
     "output_type": "execute_result"
    }
   ],
   "source": [
    "test['driveway'] = 0\n",
    "test.loc[test.PavedDrive == 'P', 'driveway'] = 2\n",
    "test.loc[test.PavedDrive == 'Y', 'driveway'] = 3\n",
    "pd.crosstab(test.PavedDrive, test.driveway)"
   ]
  },
  {
   "cell_type": "code",
   "execution_count": 622,
   "metadata": {},
   "outputs": [
    {
     "name": "stdout",
     "output_type": "stream",
     "text": [
      "(1458, 100)\n",
      "(1459, 99)\n"
     ]
    }
   ],
   "source": [
    "print(train.shape)\n",
    "print(test.shape)"
   ]
  },
  {
   "cell_type": "markdown",
   "metadata": {},
   "source": [
    "###### Fence: Fence quality"
   ]
  },
  {
   "cell_type": "markdown",
   "metadata": {},
   "source": [
    "Build a new var fence"
   ]
  },
  {
   "cell_type": "code",
   "execution_count": 623,
   "metadata": {},
   "outputs": [
    {
     "name": "stdout",
     "output_type": "stream",
     "text": [
      "MnPrv    10.75\n",
      "GdPrv     4.04\n",
      "GdWo      3.70\n",
      "MnWw      0.75\n",
      "Name: Fence, dtype: float64\n",
      "MnPrv    11.78\n",
      "GdPrv     4.04\n",
      "GdWo      3.97\n",
      "MnWw      0.07\n",
      "Name: Fence, dtype: float64\n"
     ]
    }
   ],
   "source": [
    "print((train.Fence.value_counts().sort_values(ascending = False)/N*100).round(2))\n",
    "print((test.Fence.value_counts().sort_values(ascending = False)/N*100).round(2))"
   ]
  },
  {
   "cell_type": "code",
   "execution_count": 624,
   "metadata": {},
   "outputs": [
    {
     "data": {
      "text/html": [
       "<div>\n",
       "<style>\n",
       "    .dataframe thead tr:only-child th {\n",
       "        text-align: right;\n",
       "    }\n",
       "\n",
       "    .dataframe thead th {\n",
       "        text-align: left;\n",
       "    }\n",
       "\n",
       "    .dataframe tbody tr th {\n",
       "        vertical-align: top;\n",
       "    }\n",
       "</style>\n",
       "<table border=\"1\" class=\"dataframe\">\n",
       "  <thead>\n",
       "    <tr style=\"text-align: right;\">\n",
       "      <th>fence</th>\n",
       "      <th>0.5</th>\n",
       "      <th>1.5</th>\n",
       "    </tr>\n",
       "    <tr>\n",
       "      <th>Fence</th>\n",
       "      <th></th>\n",
       "      <th></th>\n",
       "    </tr>\n",
       "  </thead>\n",
       "  <tbody>\n",
       "    <tr>\n",
       "      <th>GdPrv</th>\n",
       "      <td>0</td>\n",
       "      <td>59</td>\n",
       "    </tr>\n",
       "    <tr>\n",
       "      <th>GdWo</th>\n",
       "      <td>0</td>\n",
       "      <td>54</td>\n",
       "    </tr>\n",
       "    <tr>\n",
       "      <th>MnPrv</th>\n",
       "      <td>157</td>\n",
       "      <td>0</td>\n",
       "    </tr>\n",
       "    <tr>\n",
       "      <th>MnWw</th>\n",
       "      <td>11</td>\n",
       "      <td>0</td>\n",
       "    </tr>\n",
       "  </tbody>\n",
       "</table>\n",
       "</div>"
      ],
      "text/plain": [
       "fence  0.5  1.5\n",
       "Fence          \n",
       "GdPrv    0   59\n",
       "GdWo     0   54\n",
       "MnPrv  157    0\n",
       "MnWw    11    0"
      ]
     },
     "execution_count": 624,
     "metadata": {},
     "output_type": "execute_result"
    }
   ],
   "source": [
    "train['fence'] = 0  # No fence are all zero \n",
    "train.loc[(train.Fence == 'MnWw')|(train.Fence == 'MnPrv'), 'fence'] = 0.5 # Minimum Wood or Minimum Privacy are 0.5\n",
    "train.loc[(train.Fence == 'GdWo')|(train.Fence == 'GdPrv'), 'fence'] = 1.5\n",
    "pd.crosstab(train.Fence, train.fence)"
   ]
  },
  {
   "cell_type": "code",
   "execution_count": 625,
   "metadata": {},
   "outputs": [
    {
     "data": {
      "text/html": [
       "<div>\n",
       "<style>\n",
       "    .dataframe thead tr:only-child th {\n",
       "        text-align: right;\n",
       "    }\n",
       "\n",
       "    .dataframe thead th {\n",
       "        text-align: left;\n",
       "    }\n",
       "\n",
       "    .dataframe tbody tr th {\n",
       "        vertical-align: top;\n",
       "    }\n",
       "</style>\n",
       "<table border=\"1\" class=\"dataframe\">\n",
       "  <thead>\n",
       "    <tr style=\"text-align: right;\">\n",
       "      <th>fence</th>\n",
       "      <th>0.5</th>\n",
       "      <th>1.5</th>\n",
       "    </tr>\n",
       "    <tr>\n",
       "      <th>Fence</th>\n",
       "      <th></th>\n",
       "      <th></th>\n",
       "    </tr>\n",
       "  </thead>\n",
       "  <tbody>\n",
       "    <tr>\n",
       "      <th>GdPrv</th>\n",
       "      <td>0</td>\n",
       "      <td>59</td>\n",
       "    </tr>\n",
       "    <tr>\n",
       "      <th>GdWo</th>\n",
       "      <td>0</td>\n",
       "      <td>58</td>\n",
       "    </tr>\n",
       "    <tr>\n",
       "      <th>MnPrv</th>\n",
       "      <td>172</td>\n",
       "      <td>0</td>\n",
       "    </tr>\n",
       "    <tr>\n",
       "      <th>MnWw</th>\n",
       "      <td>1</td>\n",
       "      <td>0</td>\n",
       "    </tr>\n",
       "  </tbody>\n",
       "</table>\n",
       "</div>"
      ],
      "text/plain": [
       "fence  0.5  1.5\n",
       "Fence          \n",
       "GdPrv    0   59\n",
       "GdWo     0   58\n",
       "MnPrv  172    0\n",
       "MnWw     1    0"
      ]
     },
     "execution_count": 625,
     "metadata": {},
     "output_type": "execute_result"
    }
   ],
   "source": [
    "test['fence'] = 0  # No fence are all zero \n",
    "test.loc[(test.Fence == 'MnWw')|(test.Fence == 'MnPrv'), 'fence'] = 0.5 # Minimum Wood or Minimum Privacy are 0.5\n",
    "test.loc[(test.Fence == 'GdWo')|(test.Fence == 'GdPrv'), 'fence'] = 1.5\n",
    "pd.crosstab(test.Fence, test.fence)"
   ]
  },
  {
   "cell_type": "code",
   "execution_count": 626,
   "metadata": {},
   "outputs": [
    {
     "name": "stdout",
     "output_type": "stream",
     "text": [
      "0.0    80.62\n",
      "0.5    11.51\n",
      "1.5     7.74\n",
      "Name: fence, dtype: float64\n",
      "0.0    80.07\n",
      "0.5    11.85\n",
      "1.5     8.01\n",
      "Name: fence, dtype: float64\n"
     ]
    }
   ],
   "source": [
    "print((train.fence.value_counts().sort_values(ascending = False)/N*100).round(2))\n",
    "print((test.fence.value_counts().sort_values(ascending = False)/N*100).round(2))"
   ]
  },
  {
   "cell_type": "markdown",
   "metadata": {},
   "source": [
    "###### MiscFeature: Miscellaneous feature not covered in other categories"
   ]
  },
  {
   "cell_type": "code",
   "execution_count": 627,
   "metadata": {},
   "outputs": [
    {
     "name": "stdout",
     "output_type": "stream",
     "text": [
      "Shed    3.36\n",
      "Gar2    0.14\n",
      "Othr    0.14\n",
      "TenC    0.07\n",
      "Name: MiscFeature, dtype: float64\n",
      "Shed    3.15\n",
      "Gar2    0.21\n",
      "Othr    0.14\n",
      "Name: MiscFeature, dtype: float64\n"
     ]
    }
   ],
   "source": [
    "print((train.MiscFeature.value_counts().sort_values(ascending = False)/N*100).round(2))\n",
    "print((test.MiscFeature.value_counts().sort_values(ascending = False)/N*100).round(2))"
   ]
  },
  {
   "cell_type": "markdown",
   "metadata": {},
   "source": [
    "###### MiscVal: $Value of miscellaneous feature - 96% are zeroes, but could use as is"
   ]
  },
  {
   "cell_type": "code",
   "execution_count": 628,
   "metadata": {
    "collapsed": true
   },
   "outputs": [],
   "source": [
    "# print((train.MiscVal.value_counts().sort_values(ascending = False)/N*100).round(2))"
   ]
  },
  {
   "cell_type": "markdown",
   "metadata": {},
   "source": [
    "###### MoSold: Month Sold (MM) - could use as is"
   ]
  },
  {
   "cell_type": "code",
   "execution_count": 629,
   "metadata": {
    "collapsed": true
   },
   "outputs": [],
   "source": [
    "# print((train.MoSold.value_counts().sort_values(ascending = False)/N*100).round(2))"
   ]
  },
  {
   "cell_type": "markdown",
   "metadata": {},
   "source": [
    "###### YrSold: Year Sold (YYYY) - could use as is"
   ]
  },
  {
   "cell_type": "code",
   "execution_count": 630,
   "metadata": {
    "collapsed": true
   },
   "outputs": [],
   "source": [
    "# print((train.YrSold.value_counts().sort_values(ascending = False)/N*100).round(2))"
   ]
  },
  {
   "cell_type": "markdown",
   "metadata": {},
   "source": [
    "###### SaleType: Type of sale"
   ]
  },
  {
   "cell_type": "code",
   "execution_count": 631,
   "metadata": {},
   "outputs": [
    {
     "name": "stdout",
     "output_type": "stream",
     "text": [
      "WD       86.78\n",
      "New       8.22\n",
      "COD       2.95\n",
      "ConLD     0.62\n",
      "ConLw     0.34\n",
      "ConLI     0.34\n",
      "CWD       0.27\n",
      "Oth       0.21\n",
      "Con       0.14\n",
      "Name: SaleType, dtype: float64\n"
     ]
    }
   ],
   "source": [
    "print((train.SaleType.value_counts().sort_values(ascending = False)/N*100).round(2))"
   ]
  },
  {
   "cell_type": "markdown",
   "metadata": {},
   "source": [
    "###### Summing the number of baths"
   ]
  },
  {
   "cell_type": "markdown",
   "metadata": {},
   "source": [
    "Created 2 new variables: full_baths and half_baths"
   ]
  },
  {
   "cell_type": "code",
   "execution_count": 632,
   "metadata": {
    "collapsed": true
   },
   "outputs": [],
   "source": [
    "# print((train.BsmtFullBath.value_counts().sort_values(ascending = False)/N*100).round(2))"
   ]
  },
  {
   "cell_type": "code",
   "execution_count": 633,
   "metadata": {
    "collapsed": true
   },
   "outputs": [],
   "source": [
    "# print((train.BsmtHalfBath.value_counts().sort_values(ascending = False)/N*100).round(2))"
   ]
  },
  {
   "cell_type": "code",
   "execution_count": 634,
   "metadata": {
    "collapsed": true
   },
   "outputs": [],
   "source": [
    "# print((train.FullBath.value_counts().sort_values(ascending = False)/N*100).round(2))"
   ]
  },
  {
   "cell_type": "code",
   "execution_count": 635,
   "metadata": {
    "collapsed": true
   },
   "outputs": [],
   "source": [
    "# print((train.HalfBath.value_counts().sort_values(ascending = False)/N*100).round(2))"
   ]
  },
  {
   "cell_type": "code",
   "execution_count": 636,
   "metadata": {
    "collapsed": true
   },
   "outputs": [],
   "source": [
    "train['full_baths'] = train['BsmtFullBath'] + train['FullBath']\n",
    "train['half_baths'] = train['BsmtHalfBath'] + train['HalfBath']"
   ]
  },
  {
   "cell_type": "code",
   "execution_count": 637,
   "metadata": {
    "collapsed": true
   },
   "outputs": [],
   "source": [
    "test['full_baths'] = test['BsmtFullBath'] + test['FullBath']\n",
    "test['half_baths'] = test['BsmtHalfBath'] + test['HalfBath']"
   ]
  },
  {
   "cell_type": "code",
   "execution_count": 638,
   "metadata": {},
   "outputs": [
    {
     "data": {
      "text/plain": [
       "0.0066530493961176529"
      ]
     },
     "execution_count": 638,
     "metadata": {},
     "output_type": "execute_result"
    }
   ],
   "source": [
    "# No correlation between number of full and half baths:\n",
    "train['full_baths'].corr(train['half_baths'])"
   ]
  },
  {
   "cell_type": "code",
   "execution_count": 639,
   "metadata": {
    "collapsed": true
   },
   "outputs": [],
   "source": [
    "# train[['half_baths', 'BsmtHalfBath', 'HalfBath']]"
   ]
  },
  {
   "cell_type": "code",
   "execution_count": 640,
   "metadata": {},
   "outputs": [
    {
     "name": "stdout",
     "output_type": "stream",
     "text": [
      "(1458, 103)\n",
      "(1459, 102)\n"
     ]
    }
   ],
   "source": [
    "print(train.shape)\n",
    "print(test.shape)"
   ]
  },
  {
   "cell_type": "markdown",
   "metadata": {},
   "source": [
    "**Averaging quality variables**"
   ]
  },
  {
   "cell_type": "markdown",
   "metadata": {},
   "source": [
    "Creating one new variable -- average_quality\n",
    "Includes: exterior_quality, heating_quality, kitchen_quality, OverallQual and bsmt_heigh"
   ]
  },
  {
   "cell_type": "code",
   "execution_count": 641,
   "metadata": {
    "collapsed": true
   },
   "outputs": [],
   "source": [
    "# print((train.exterior_quality.value_counts().sort_values(ascending = False)/N*100).round(2))\n",
    "# print((train.heating_quality.value_counts().sort_values(ascending = False)/N*100).round(2))\n",
    "# print((train.kitchen_quality.value_counts().sort_values(ascending = False)/N*100).round(2))\n",
    "# print((train.OverallQual.value_counts().sort_values(ascending = False)/N*100).round(2))\n",
    "# We have to scale them before averaging - they are on different scales"
   ]
  },
  {
   "cell_type": "code",
   "execution_count": 642,
   "metadata": {
    "collapsed": true
   },
   "outputs": [],
   "source": [
    "# Standardizing quality variables before averaging them:\n",
    "\n",
    "from sklearn.preprocessing import StandardScaler\n",
    "temp = train[['exterior_quality', 'heating_quality', 'kitchen_quality', 'OverallQual', 'bsmt_height']]\n",
    "scaler = StandardScaler()\n",
    "temp_scaled = pd.DataFrame(scaler.fit_transform(temp), columns=temp.columns)\n",
    "train['average_quality'] = temp_scaled.mean(axis = 1)\n",
    "\n",
    "temp = test[['exterior_quality', 'heating_quality', 'kitchen_quality', 'OverallQual', 'bsmt_height']]\n",
    "scaler = StandardScaler()\n",
    "temp_scaled = pd.DataFrame(scaler.fit_transform(temp), columns=temp.columns)\n",
    "test['average_quality'] = temp_scaled.mean(axis = 1)\n"
   ]
  },
  {
   "cell_type": "code",
   "execution_count": 643,
   "metadata": {},
   "outputs": [
    {
     "name": "stdout",
     "output_type": "stream",
     "text": [
      "(1458, 104)\n",
      "(1459, 103)\n"
     ]
    }
   ],
   "source": [
    "print(train.shape)\n",
    "print(test.shape)"
   ]
  },
  {
   "cell_type": "markdown",
   "metadata": {},
   "source": [
    "**Dividing GrLivArea / TotRmsAbvGr -- New Variable**"
   ]
  },
  {
   "cell_type": "code",
   "execution_count": 644,
   "metadata": {
    "collapsed": true
   },
   "outputs": [],
   "source": [
    "train['room_size'] = train['GrLivArea'] / train['TotRmsAbvGrd']"
   ]
  },
  {
   "cell_type": "code",
   "execution_count": 645,
   "metadata": {
    "collapsed": true
   },
   "outputs": [],
   "source": [
    "test['room_size'] = test['GrLivArea'] / train['TotRmsAbvGrd']"
   ]
  },
  {
   "cell_type": "code",
   "execution_count": 646,
   "metadata": {},
   "outputs": [
    {
     "name": "stdout",
     "output_type": "stream",
     "text": [
      "(1458, 105)\n",
      "(1459, 104)\n"
     ]
    }
   ],
   "source": [
    "print(train.shape)\n",
    "print(test.shape)"
   ]
  },
  {
   "cell_type": "markdown",
   "metadata": {},
   "source": [
    "###### Building house age variable:"
   ]
  },
  {
   "cell_type": "code",
   "execution_count": 647,
   "metadata": {
    "collapsed": true
   },
   "outputs": [],
   "source": [
    "train['age'] = train['YrSold'] - train['YearBuilt']\n",
    "test['age'] = test['YrSold'] - test['YearBuilt']"
   ]
  },
  {
   "cell_type": "markdown",
   "metadata": {},
   "source": [
    "###### Creating and average Garage-related variable:"
   ]
  },
  {
   "cell_type": "code",
   "execution_count": 648,
   "metadata": {
    "collapsed": true
   },
   "outputs": [],
   "source": [
    "# print((train.gar_type.value_counts().sort_values(ascending = False)/N*100).round(2))\n",
    "# print((train.GarageCars.value_counts().sort_values(ascending = False)/N*100).round(2))\n",
    "# print((train.gar_finish.value_counts().sort_values(ascending = False)/N*100).round(2))\n",
    "# Similar range - so it's OK to take an average"
   ]
  },
  {
   "cell_type": "code",
   "execution_count": 649,
   "metadata": {
    "collapsed": true
   },
   "outputs": [],
   "source": [
    "# print((test.gar_type.value_counts().sort_values(ascending = False)/N*100).round(2))\n",
    "# print((test.GarageCars.value_counts().sort_values(ascending = False)/N*100).round(2))\n",
    "# print((test.gar_finish.value_counts().sort_values(ascending = False)/N*100).round(2))\n",
    "# Similar range - so it's OK to take an average"
   ]
  },
  {
   "cell_type": "code",
   "execution_count": 650,
   "metadata": {
    "collapsed": true
   },
   "outputs": [],
   "source": [
    "# giving more weight to the number of cars in the garage: GarageCars - because it's so important!\n",
    "train['garage_perception'] = (train['gar_type'] + 2*train['GarageCars'] + train['gar_finish'])/3\n",
    "test['garage_perception'] = (test['gar_type'] + 2*test['GarageCars'] + test['gar_finish'])/3"
   ]
  },
  {
   "cell_type": "markdown",
   "metadata": {},
   "source": [
    "###### Separating quant and categorical variables in training set"
   ]
  },
  {
   "cell_type": "code",
   "execution_count": 651,
   "metadata": {},
   "outputs": [
    {
     "name": "stdout",
     "output_type": "stream",
     "text": [
      "(1458, 64)\n",
      "(1458, 43)\n"
     ]
    }
   ],
   "source": [
    "quant_vars_all = train.select_dtypes(include=['number'])\n",
    "cat_vars_all = train.select_dtypes(exclude=['number'])\n",
    "print(quant_vars_all.shape)\n",
    "print(cat_vars_all.shape)"
   ]
  },
  {
   "cell_type": "markdown",
   "metadata": {},
   "source": [
    "###### Imputing missing values for train and test -- DO AFTER TRANS"
   ]
  },
  {
   "cell_type": "code",
   "execution_count": 652,
   "metadata": {
    "collapsed": true
   },
   "outputs": [],
   "source": [
    "#quant_vars_all_train = pd.Series(['SalePrice']).append(quant_vars_all, ignore_index=True)\n",
    "#train2 = train[quant_vars_all].as_matrix()\n",
    "#test2 = test[quant_vars_all].as_matrix()\n",
    "#print(train2.shape)\n",
    "#print(test2.shape)"
   ]
  },
  {
   "cell_type": "code",
   "execution_count": 653,
   "metadata": {
    "collapsed": true
   },
   "outputs": [],
   "source": [
    "# test2"
   ]
  },
  {
   "cell_type": "code",
   "execution_count": 654,
   "metadata": {
    "collapsed": true
   },
   "outputs": [],
   "source": [
    "# from fancyimpute import MICE\n",
    "\n",
    "# mice = MICE(n_imputations=100, impute_type='col',)  # In this line we can vary arguments for MICE\n",
    "# # I can't check what arguments MICE can take as I don't have the package installed\n",
    "# train2_filled = mice.complete(train2)\n",
    "# test2_filled = mice.complete(test2)\n"
   ]
  },
  {
   "cell_type": "code",
   "execution_count": 655,
   "metadata": {
    "collapsed": true
   },
   "outputs": [],
   "source": [
    "# pd.set_option('')\n",
    "# print(quant_vars_all)"
   ]
  },
  {
   "cell_type": "code",
   "execution_count": 656,
   "metadata": {
    "collapsed": true
   },
   "outputs": [],
   "source": [
    "# from fancyimpute import MICE\n",
    "\n",
    "# mice = MICE(n_imputations=100, impute_type='col',)  # In this line we can vary arguments for MICE\n",
    "# # I can't check what arguments MICE can take as I don't have the package installed\n",
    "# train2_filled = mice.complete(train2)\n",
    "# test2_filled = mice.complete(test2)\n",
    "# # From np arrays back to np dataframes:\n",
    "# train2 = pd.DataFrame(data = train2_filled, columns = quant_vars_all)\n",
    "# test2 = pd.DataFrame(data = test2_filled, columns = quant_vars_all)\n",
    "# print(train2.shape)\n",
    "# print(test2.shape)\n"
   ]
  },
  {
   "cell_type": "code",
   "execution_count": 657,
   "metadata": {
    "collapsed": true
   },
   "outputs": [],
   "source": [
    "# # Addding back the DV SalePrice:\n",
    "# train2['SalePrice'] = train.SalePrice"
   ]
  },
  {
   "cell_type": "code",
   "execution_count": 658,
   "metadata": {
    "collapsed": true
   },
   "outputs": [],
   "source": [
    "# pd.set_option('display.max_columns', 80)\n",
    "# # train[quant_vars_all].head()\n",
    "# np.sum(train.SalePrice == train2.SalePrice)"
   ]
  },
  {
   "cell_type": "code",
   "execution_count": 659,
   "metadata": {
    "collapsed": true
   },
   "outputs": [],
   "source": [
    "# import numpy as np\n",
    "# from sklearn.preprocessing import Imputer\n",
    "# from sklearn.neighbors import KNeighborsClassifier\n",
    "# from sklearn.metrics import accuracy_score"
   ]
  },
  {
   "cell_type": "code",
   "execution_count": 660,
   "metadata": {
    "collapsed": true
   },
   "outputs": [],
   "source": [
    "# temp1 = train2[quant_vars_all]\n",
    "# misscounts = np.sum(temp1.isnull(), axis=0)\n",
    "# print(misscounts.loc[misscounts>0])\n",
    "\n",
    "# temp2 = test2[quant_vars_all]\n",
    "# misscounts2 = np.sum(temp2.isnull(), axis=0)\n",
    "# print(misscounts2.loc[misscounts2>0])"
   ]
  },
  {
   "cell_type": "markdown",
   "metadata": {},
   "source": [
    "###### Transforming Variables - Log(SalePrice)"
   ]
  },
  {
   "cell_type": "code",
   "execution_count": 661,
   "metadata": {
    "scrolled": true
   },
   "outputs": [
    {
     "name": "stdout",
     "output_type": "stream",
     "text": [
      "\n",
      " mu = 180932.92 and sigma = 79467.79\n",
      "\n"
     ]
    },
    {
     "data": {
      "image/png": "[encoded data removed]",
      "text/plain": [
       "<matplotlib.figure.Figure at 0x1b7b66fb048>"
      ]
     },
     "metadata": {},
     "output_type": "display_data"
    },
    {
     "data": {
      "image/png": "[encoded data removed]",
      "text/plain": [
       "<matplotlib.figure.Figure at 0x1b7b68fa5c0>"
      ]
     },
     "metadata": {},
     "output_type": "display_data"
    }
   ],
   "source": [
    "# Visualizing SalePrice vs. log(SalePrice)\n",
    "# import seaborn and fit and skew functions from scipy\n",
    "import seaborn as sns\n",
    "from scipy import stats\n",
    "from scipy.stats import norm, skew #for some statistics\n",
    "\n",
    "# Plotting Saleprice Distribution\n",
    "sns.distplot(train['SalePrice'] , fit=norm);\n",
    "\n",
    "# Get the fitted parameters used by the function\n",
    "(mu, sigma) = norm.fit(train['SalePrice'])\n",
    "print( '\\n mu = {:.2f} and sigma = {:.2f}\\n'.format(mu, sigma))\n",
    "\n",
    "#Now plot the distribution\n",
    "plt.legend(['Normal dist. ($\\mu=$ {:.2f} and $\\sigma=$ {:.2f} )'.format(mu, sigma)],\n",
    "            loc='best')\n",
    "plt.ylabel('Frequency')\n",
    "plt.title('SalePrice distribution')\n",
    "\n",
    "#Get also the QQ-plot\n",
    "fig = plt.figure()\n",
    "res = stats.probplot(train['SalePrice'], plot=plt)\n",
    "plt.show()"
   ]
  },
  {
   "cell_type": "code",
   "execution_count": 662,
   "metadata": {
    "scrolled": true
   },
   "outputs": [
    {
     "name": "stdout",
     "output_type": "stream",
     "text": [
      "\n",
      " mu = 180932.92 and sigma = 79467.79\n",
      "\n"
     ]
    },
    {
     "data": {
      "image/png": "[encoded data removed]",
      "text/plain": [
       "<matplotlib.figure.Figure at 0x1b7b67e14e0>"
      ]
     },
     "metadata": {},
     "output_type": "display_data"
    },
    {
     "data": {
      "image/png": "[encoded data removed]",
      "text/plain": [
       "<matplotlib.figure.Figure at 0x1b7b67893c8>"
      ]
     },
     "metadata": {},
     "output_type": "display_data"
    }
   ],
   "source": [
    "# Plotting log(Saleprice) Distribution and QQ Plot\n",
    "sns.distplot(np.log(train['SalePrice']) , fit=norm);\n",
    "\n",
    "# Get the fitted parameters used by the function\n",
    "(mu, sigma) = norm.fit(train['SalePrice'])\n",
    "print( '\\n mu = {:.2f} and sigma = {:.2f}\\n'.format(mu, sigma))\n",
    "\n",
    "#Now plot the distribution\n",
    "plt.legend(['Normal dist. ($\\mu=$ {:.2f} and $\\sigma=$ {:.2f} )'.format(mu, sigma)],\n",
    "            loc='best')\n",
    "plt.ylabel('Frequency')\n",
    "plt.title('SalePrice distribution')\n",
    "\n",
    "#Get also the QQ-plot\n",
    "fig = plt.figure()\n",
    "res = stats.probplot(np.log(train['SalePrice']), plot=plt)\n",
    "plt.show()"
   ]
  },
  {
   "cell_type": "markdown",
   "metadata": {},
   "source": [
    "###### Creating new variable - log of SalePrice"
   ]
  },
  {
   "cell_type": "code",
   "execution_count": 663,
   "metadata": {
    "collapsed": true
   },
   "outputs": [],
   "source": [
    "train['LogSalePrice'] = np.log(train['SalePrice'])"
   ]
  },
  {
   "cell_type": "code",
   "execution_count": 664,
   "metadata": {},
   "outputs": [
    {
     "name": "stdout",
     "output_type": "stream",
     "text": [
      "Done\n"
     ]
    }
   ],
   "source": [
    "print('Done')"
   ]
  },
  {
   "cell_type": "code",
   "execution_count": 665,
   "metadata": {},
   "outputs": [
    {
     "data": {
      "text/plain": [
       "(1458, 108)"
      ]
     },
     "execution_count": 665,
     "metadata": {},
     "output_type": "execute_result"
    }
   ],
   "source": [
    "train.shape"
   ]
  },
  {
   "cell_type": "markdown",
   "metadata": {},
   "source": [
    "###### Creating y - logged SalePrice"
   ]
  },
  {
   "cell_type": "code",
   "execution_count": 666,
   "metadata": {
    "collapsed": true
   },
   "outputs": [],
   "source": [
    "y = train.LogSalePrice\n",
    "train_y = train[['SalePrice']]"
   ]
  },
  {
   "cell_type": "code",
   "execution_count": 667,
   "metadata": {
    "collapsed": true
   },
   "outputs": [],
   "source": [
    "train.drop(\"Id\", axis = 1, inplace = True) \n",
    "test.drop(\"Id\", axis = 1, inplace = True)"
   ]
  },
  {
   "cell_type": "markdown",
   "metadata": {},
   "source": [
    "### Label Encoding"
   ]
  },
  {
   "cell_type": "code",
   "execution_count": 668,
   "metadata": {
    "collapsed": true
   },
   "outputs": [],
   "source": [
    "train_x = train.copy()\n",
    "train_x = train_x.drop(['SalePrice', 'LogSalePrice'],axis=1)"
   ]
  },
  {
   "cell_type": "code",
   "execution_count": 669,
   "metadata": {},
   "outputs": [
    {
     "name": "stdout",
     "output_type": "stream",
     "text": [
      "(1458, 105)\n",
      "(1459, 105)\n"
     ]
    }
   ],
   "source": [
    "print(train_x.shape)\n",
    "print(test.shape)"
   ]
  },
  {
   "cell_type": "code",
   "execution_count": 670,
   "metadata": {
    "collapsed": true
   },
   "outputs": [],
   "source": [
    "ntrain = train_x.shape[0]\n",
    "ntest = test.shape[0]"
   ]
  },
  {
   "cell_type": "code",
   "execution_count": 671,
   "metadata": {},
   "outputs": [
    {
     "data": {
      "text/plain": [
       "(2917, 105)"
      ]
     },
     "execution_count": 671,
     "metadata": {},
     "output_type": "execute_result"
    }
   ],
   "source": [
    "all_data = pd.concat([train_x, test]).reset_index(drop=True)\n",
    "all_data.shape"
   ]
  },
  {
   "cell_type": "markdown",
   "metadata": {},
   "source": [
    "###### Dropping unnecessary columns"
   ]
  },
  {
   "cell_type": "code",
   "execution_count": 672,
   "metadata": {
    "collapsed": true
   },
   "outputs": [],
   "source": [
    "all_data = all_data.drop(['Utilities', 'RoofMatl'],axis=1)"
   ]
  },
  {
   "cell_type": "code",
   "execution_count": 673,
   "metadata": {
    "collapsed": true
   },
   "outputs": [],
   "source": [
    "all_data = all_data.drop(['Heating','MiscFeature'],axis=1)"
   ]
  },
  {
   "cell_type": "code",
   "execution_count": 674,
   "metadata": {
    "collapsed": true
   },
   "outputs": [],
   "source": [
    "all_data = all_data.drop(['BsmtQual','ExterQual','ExterCond', 'BsmtCond','BsmtExposure','BsmtFinType1','BsmtFinType2','HeatingQC',\n",
    "'KitchenQual','Functional','FireplaceQu','Fireplaces','GarageType','GarageFinish','GarageQual','GarageCond',\n",
    "'PavedDrive','Fence','BsmtFullBath','BsmtHalfBath', 'YearBuilt','gar_type','GarageCars','gar_finish'], axis=1)"
   ]
  },
  {
   "cell_type": "markdown",
   "metadata": {},
   "source": [
    "###### Transforming variables that are really categorical"
   ]
  },
  {
   "cell_type": "code",
   "execution_count": 675,
   "metadata": {
    "collapsed": true
   },
   "outputs": [],
   "source": [
    "#MSSubClass=The building class\n",
    "all_data['MSSubClass'] = all_data['MSSubClass'].apply(str) \n",
    "#Changing OverallCond into a categorical variable \n",
    "all_data['OverallCond'] = all_data['OverallCond'].astype(str) \n",
    "#Year and month sold are transformed into categorical features. \n",
    "all_data['YrSold'] = all_data['YrSold'].astype(str) \n",
    "all_data['MoSold'] = all_data['MoSold'].astype(str)"
   ]
  },
  {
   "cell_type": "code",
   "execution_count": 676,
   "metadata": {
    "collapsed": true
   },
   "outputs": [],
   "source": [
    "cols = ('PoolQC', 'LandSlope', 'LotShape', 'Street', 'Alley', 'CentralAir', 'MSSubClass', 'OverallCond', 'YrSold', 'MoSold')"
   ]
  },
  {
   "cell_type": "code",
   "execution_count": 677,
   "metadata": {
    "collapsed": true
   },
   "outputs": [],
   "source": [
    "from sklearn.preprocessing import LabelEncoder\n",
    "\n",
    "label_df = all_data.copy()\n",
    "\n",
    "for c in cols:\n",
    "    if label_df[c].dtype == 'object':\n",
    "        le = LabelEncoder()\n",
    "        #Need to convert the column type to string in order to encode missing values\n",
    "        label_df[c] = le.fit_transform(label_df[c].astype(str))"
   ]
  },
  {
   "cell_type": "code",
   "execution_count": 678,
   "metadata": {
    "collapsed": true
   },
   "outputs": [],
   "source": [
    "# label_df.head()"
   ]
  },
  {
   "cell_type": "code",
   "execution_count": 679,
   "metadata": {
    "collapsed": true
   },
   "outputs": [],
   "source": [
    "# pd.set_option('display.max_rows', 200)\n",
    "# print(label_df.dtypes)"
   ]
  },
  {
   "cell_type": "markdown",
   "metadata": {},
   "source": [
    "### Imputing Missing Values"
   ]
  },
  {
   "cell_type": "markdown",
   "metadata": {},
   "source": [
    "######  Transforming Necessary Numeric Features"
   ]
  },
  {
   "cell_type": "code",
   "execution_count": 680,
   "metadata": {},
   "outputs": [
    {
     "name": "stdout",
     "output_type": "stream",
     "text": [
      "Index(['MSSubClass', 'LotFrontage', 'LotArea', 'Street', 'Alley', 'LotShape',\n",
      "       'LandSlope', 'OverallQual', 'OverallCond', 'YearRemodAdd', 'MasVnrArea',\n",
      "       'BsmtFinSF1', 'BsmtFinSF2', 'BsmtUnfSF', 'TotalBsmtSF', 'CentralAir',\n",
      "       '1stFlrSF', '2ndFlrSF', 'LowQualFinSF', 'GrLivArea', 'FullBath',\n",
      "       'HalfBath', 'BedroomAbvGr', 'KitchenAbvGr', 'TotRmsAbvGrd',\n",
      "       'GarageYrBlt', 'GarageArea', 'WoodDeckSF', 'OpenPorchSF',\n",
      "       'EnclosedPorch', '3SsnPorch', 'ScreenPorch', 'PoolArea', 'PoolQC',\n",
      "       'MiscVal', 'MoSold', 'YrSold', 'bsmt_height', 'exterior_quality',\n",
      "       'exterior_condition', 'bsmt_condition', 'bsmt_exposure',\n",
      "       'bsmt_finished1', 'bsmt_finished2', 'BsmtFinishedShare',\n",
      "       'heating_quality', 'kitchen_quality', 'home_funct', 'fireplace_quality',\n",
      "       'fireplace_ttlscore', 'gar_qual', 'gar_cond', 'gar_perception',\n",
      "       'driveway', 'fence', 'full_baths', 'half_baths', 'average_quality',\n",
      "       'room_size', 'age', 'garage_perception'],\n",
      "      dtype='object')\n"
     ]
    }
   ],
   "source": [
    "# Boxcox Transformations\n",
    "# numeric variables\n",
    "all_data = label_df\n",
    "numeric_vars = all_data.select_dtypes(include=['number']).columns\n",
    "print(numeric_vars)"
   ]
  },
  {
   "cell_type": "code",
   "execution_count": 681,
   "metadata": {},
   "outputs": [
    {
     "name": "stdout",
     "output_type": "stream",
     "text": [
      "\n",
      "Skew in numerical features: \n",
      "\n"
     ]
    }
   ],
   "source": [
    "# Check the skew of all numerical features\n",
    "skewed_feats = all_data[numeric_vars].apply(lambda x: skew(x.dropna())).sort_values(ascending=False)\n",
    "print(\"\\nSkew in numerical features: \\n\")\n",
    "skewness = pd.DataFrame({'Skew' :skewed_feats})\n",
    "# skewness.head(20)"
   ]
  },
  {
   "cell_type": "code",
   "execution_count": 682,
   "metadata": {},
   "outputs": [
    {
     "name": "stdout",
     "output_type": "stream",
     "text": [
      "There are 61 skewed numerical features to Box Cox transform\n"
     ]
    }
   ],
   "source": [
    "skewness = skewness[abs(skewness) > 0.75]\n",
    "print(\"There are {} skewed numerical features to Box Cox transform\".format(skewness.shape[0]))\n",
    "\n",
    "from scipy.special import boxcox1p\n",
    "skewed_features = skewness.index\n",
    "lam = 0.15\n",
    "for feat in skewed_features:\n",
    "    #all_data[feat] += 1\n",
    "    all_data[feat] = boxcox1p(all_data[feat], lam)\n",
    "    \n",
    "#all_data[skewed_features] = np.log1p(all_data[skewed_features])"
   ]
  },
  {
   "cell_type": "code",
   "execution_count": 683,
   "metadata": {},
   "outputs": [
    {
     "data": {
      "text/plain": [
       "(2917, 77)"
      ]
     },
     "execution_count": 683,
     "metadata": {},
     "output_type": "execute_result"
    }
   ],
   "source": [
    "all_data.shape"
   ]
  },
  {
   "cell_type": "markdown",
   "metadata": {},
   "source": [
    "###### Dummifying categorical features:"
   ]
  },
  {
   "cell_type": "code",
   "execution_count": 684,
   "metadata": {},
   "outputs": [
    {
     "name": "stdout",
     "output_type": "stream",
     "text": [
      "(2917, 181)\n"
     ]
    }
   ],
   "source": [
    "all_data = pd.get_dummies(all_data, drop_first = True)\n",
    "print(all_data.shape)"
   ]
  },
  {
   "cell_type": "markdown",
   "metadata": {},
   "source": [
    "######  Getting the new train and test sets"
   ]
  },
  {
   "cell_type": "code",
   "execution_count": 685,
   "metadata": {},
   "outputs": [
    {
     "name": "stdout",
     "output_type": "stream",
     "text": [
      "(1458, 181)\n",
      "(1459, 181)\n"
     ]
    }
   ],
   "source": [
    "train2 = all_data[:ntrain]\n",
    "test2 = all_data[ntrain:]\n",
    "print(train2.shape)\n",
    "print(test2.shape)"
   ]
  },
  {
   "cell_type": "code",
   "execution_count": 686,
   "metadata": {},
   "outputs": [
    {
     "data": {
      "text/plain": [
       "pandas.core.frame.DataFrame"
      ]
     },
     "execution_count": 686,
     "metadata": {},
     "output_type": "execute_result"
    }
   ],
   "source": [
    "type(train2)"
   ]
  },
  {
   "cell_type": "markdown",
   "metadata": {},
   "source": [
    "###### Impute missing values - if any - using MICE"
   ]
  },
  {
   "cell_type": "markdown",
   "metadata": {},
   "source": [
    "###### Change type of train2 and test2 to matrix - just for fancyimpute"
   ]
  },
  {
   "cell_type": "code",
   "execution_count": 687,
   "metadata": {
    "collapsed": true
   },
   "outputs": [],
   "source": [
    "allvars = train2.columns\n",
    "# allvars"
   ]
  },
  {
   "cell_type": "code",
   "execution_count": 688,
   "metadata": {},
   "outputs": [
    {
     "name": "stdout",
     "output_type": "stream",
     "text": [
      "(1458, 181)\n",
      "(1459, 181)\n"
     ]
    }
   ],
   "source": [
    "train2 = train2.as_matrix()\n",
    "test2 = test2.as_matrix()\n",
    "print(train2.shape)\n",
    "print(test2.shape)"
   ]
  },
  {
   "cell_type": "code",
   "execution_count": 689,
   "metadata": {},
   "outputs": [
    {
     "name": "stdout",
     "output_type": "stream",
     "text": [
      "<class 'numpy.ndarray'>\n",
      "<class 'numpy.ndarray'>\n"
     ]
    }
   ],
   "source": [
    "print(type(train2))\n",
    "print(type(test2))"
   ]
  },
  {
   "cell_type": "code",
   "execution_count": 690,
   "metadata": {},
   "outputs": [
    {
     "name": "stdout",
     "output_type": "stream",
     "text": [
      "[MICE] Completing matrix with shape (1458, 181)\n",
      "[MICE] Starting imputation round 1/110, elapsed time 0.000\n",
      "[MICE] Starting imputation round 2/110, elapsed time 0.047\n",
      "[MICE] Starting imputation round 3/110, elapsed time 0.111\n",
      "[MICE] Starting imputation round 4/110, elapsed time 0.166\n",
      "[MICE] Starting imputation round 5/110, elapsed time 0.218\n",
      "[MICE] Starting imputation round 6/110, elapsed time 0.274\n",
      "[MICE] Starting imputation round 7/110, elapsed time 0.330\n",
      "[MICE] Starting imputation round 8/110, elapsed time 0.386\n",
      "[MICE] Starting imputation round 9/110, elapsed time 0.441\n",
      "[MICE] Starting imputation round 10/110, elapsed time 0.493\n",
      "[MICE] Starting imputation round 11/110, elapsed time 0.553\n",
      "[MICE] Starting imputation round 12/110, elapsed time 0.603\n",
      "[MICE] Starting imputation round 13/110, elapsed time 0.666\n",
      "[MICE] Starting imputation round 14/110, elapsed time 0.722\n",
      "[MICE] Starting imputation round 15/110, elapsed time 0.778\n",
      "[MICE] Starting imputation round 16/110, elapsed time 0.833\n",
      "[MICE] Starting imputation round 17/110, elapsed time 0.889\n",
      "[MICE] Starting imputation round 18/110, elapsed time 0.945\n",
      "[MICE] Starting imputation round 19/110, elapsed time 1.005\n",
      "[MICE] Starting imputation round 20/110, elapsed time 1.049\n",
      "[MICE] Starting imputation round 21/110, elapsed time 1.112\n",
      "[MICE] Starting imputation round 22/110, elapsed time 1.168\n",
      "[MICE] Starting imputation round 23/110, elapsed time 1.228\n",
      "[MICE] Starting imputation round 24/110, elapsed time 1.268\n",
      "[MICE] Starting imputation round 25/110, elapsed time 1.335\n",
      "[MICE] Starting imputation round 26/110, elapsed time 1.395\n",
      "[MICE] Starting imputation round 27/110, elapsed time 1.451\n",
      "[MICE] Starting imputation round 28/110, elapsed time 1.498\n",
      "[MICE] Starting imputation round 29/110, elapsed time 1.560\n",
      "[MICE] Starting imputation round 30/110, elapsed time 1.624\n",
      "[MICE] Starting imputation round 31/110, elapsed time 1.688\n",
      "[MICE] Starting imputation round 32/110, elapsed time 1.731\n",
      "[MICE] Starting imputation round 33/110, elapsed time 1.798\n",
      "[MICE] Starting imputation round 34/110, elapsed time 1.850\n",
      "[MICE] Starting imputation round 35/110, elapsed time 1.910\n",
      "[MICE] Starting imputation round 36/110, elapsed time 1.962\n",
      "[MICE] Starting imputation round 37/110, elapsed time 2.018\n",
      "[MICE] Starting imputation round 38/110, elapsed time 2.074\n",
      "[MICE] Starting imputation round 39/110, elapsed time 2.130\n",
      "[MICE] Starting imputation round 40/110, elapsed time 2.179\n",
      "[MICE] Starting imputation round 41/110, elapsed time 2.239\n",
      "[MICE] Starting imputation round 42/110, elapsed time 2.291\n",
      "[MICE] Starting imputation round 43/110, elapsed time 2.351\n",
      "[MICE] Starting imputation round 44/110, elapsed time 2.407\n",
      "[MICE] Starting imputation round 45/110, elapsed time 2.459\n",
      "[MICE] Starting imputation round 46/110, elapsed time 2.515\n",
      "[MICE] Starting imputation round 47/110, elapsed time 2.575\n",
      "[MICE] Starting imputation round 48/110, elapsed time 2.623\n",
      "[MICE] Starting imputation round 49/110, elapsed time 2.683\n",
      "[MICE] Starting imputation round 50/110, elapsed time 2.739\n",
      "[MICE] Starting imputation round 51/110, elapsed time 2.799\n",
      "[MICE] Starting imputation round 52/110, elapsed time 2.846\n",
      "[MICE] Starting imputation round 53/110, elapsed time 2.917\n",
      "[MICE] Starting imputation round 54/110, elapsed time 2.973\n",
      "[MICE] Starting imputation round 55/110, elapsed time 3.033\n",
      "[MICE] Starting imputation round 56/110, elapsed time 3.095\n",
      "[MICE] Starting imputation round 57/110, elapsed time 3.150\n",
      "[MICE] Starting imputation round 58/110, elapsed time 3.206\n",
      "[MICE] Starting imputation round 59/110, elapsed time 3.262\n",
      "[MICE] Starting imputation round 60/110, elapsed time 3.314\n",
      "[MICE] Starting imputation round 61/110, elapsed time 3.369\n",
      "[MICE] Starting imputation round 62/110, elapsed time 3.425\n",
      "[MICE] Starting imputation round 63/110, elapsed time 3.485\n",
      "[MICE] Starting imputation round 64/110, elapsed time 3.529\n",
      "[MICE] Starting imputation round 65/110, elapsed time 3.596\n",
      "[MICE] Starting imputation round 66/110, elapsed time 3.652\n",
      "[MICE] Starting imputation round 67/110, elapsed time 3.712\n",
      "[MICE] Starting imputation round 68/110, elapsed time 3.763\n",
      "[MICE] Starting imputation round 69/110, elapsed time 3.818\n",
      "[MICE] Starting imputation round 70/110, elapsed time 3.874\n",
      "[MICE] Starting imputation round 71/110, elapsed time 3.930\n",
      "[MICE] Starting imputation round 72/110, elapsed time 3.978\n",
      "[MICE] Starting imputation round 73/110, elapsed time 4.045\n",
      "[MICE] Starting imputation round 74/110, elapsed time 4.097\n",
      "[MICE] Starting imputation round 75/110, elapsed time 4.157\n",
      "[MICE] Starting imputation round 76/110, elapsed time 4.197\n",
      "[MICE] Starting imputation round 77/110, elapsed time 4.264\n",
      "[MICE] Starting imputation round 78/110, elapsed time 4.320\n",
      "[MICE] Starting imputation round 79/110, elapsed time 4.380\n",
      "[MICE] Starting imputation round 80/110, elapsed time 4.428\n",
      "[MICE] Starting imputation round 81/110, elapsed time 4.487\n",
      "[MICE] Starting imputation round 82/110, elapsed time 4.543\n",
      "[MICE] Starting imputation round 83/110, elapsed time 4.603\n",
      "[MICE] Starting imputation round 84/110, elapsed time 4.647\n",
      "[MICE] Starting imputation round 85/110, elapsed time 4.707\n",
      "[MICE] Starting imputation round 86/110, elapsed time 4.763\n",
      "[MICE] Starting imputation round 87/110, elapsed time 4.823\n",
      "[MICE] Starting imputation round 88/110, elapsed time 4.862\n",
      "[MICE] Starting imputation round 89/110, elapsed time 4.934\n",
      "[MICE] Starting imputation round 90/110, elapsed time 4.994\n",
      "[MICE] Starting imputation round 91/110, elapsed time 5.054\n",
      "[MICE] Starting imputation round 92/110, elapsed time 5.110\n",
      "[MICE] Starting imputation round 93/110, elapsed time 5.161\n",
      "[MICE] Starting imputation round 94/110, elapsed time 5.217\n",
      "[MICE] Starting imputation round 95/110, elapsed time 5.277\n",
      "[MICE] Starting imputation round 96/110, elapsed time 5.329\n",
      "[MICE] Starting imputation round 97/110, elapsed time 5.384\n",
      "[MICE] Starting imputation round 98/110, elapsed time 5.444\n",
      "[MICE] Starting imputation round 99/110, elapsed time 5.500\n",
      "[MICE] Starting imputation round 100/110, elapsed time 5.544\n",
      "[MICE] Starting imputation round 101/110, elapsed time 5.614\n",
      "[MICE] Starting imputation round 102/110, elapsed time 5.670\n",
      "[MICE] Starting imputation round 103/110, elapsed time 5.734\n",
      "[MICE] Starting imputation round 104/110, elapsed time 5.793\n",
      "[MICE] Starting imputation round 105/110, elapsed time 5.852\n",
      "[MICE] Starting imputation round 106/110, elapsed time 5.908\n",
      "[MICE] Starting imputation round 107/110, elapsed time 5.968\n",
      "[MICE] Starting imputation round 108/110, elapsed time 6.023\n",
      "[MICE] Starting imputation round 109/110, elapsed time 6.079\n",
      "[MICE] Starting imputation round 110/110, elapsed time 6.131\n",
      "[MICE] Completing matrix with shape (1459, 181)\n",
      "[MICE] Starting imputation round 1/110, elapsed time 0.004\n",
      "[MICE] Starting imputation round 2/110, elapsed time 0.150\n",
      "[MICE] Starting imputation round 3/110, elapsed time 0.310\n",
      "[MICE] Starting imputation round 4/110, elapsed time 0.475\n",
      "[MICE] Starting imputation round 5/110, elapsed time 0.620\n",
      "[MICE] Starting imputation round 6/110, elapsed time 0.767\n",
      "[MICE] Starting imputation round 7/110, elapsed time 0.912\n",
      "[MICE] Starting imputation round 8/110, elapsed time 1.067\n",
      "[MICE] Starting imputation round 9/110, elapsed time 1.212\n",
      "[MICE] Starting imputation round 10/110, elapsed time 1.359\n",
      "[MICE] Starting imputation round 11/110, elapsed time 1.508\n",
      "[MICE] Starting imputation round 12/110, elapsed time 1.655\n",
      "[MICE] Starting imputation round 13/110, elapsed time 1.792\n",
      "[MICE] Starting imputation round 14/110, elapsed time 1.946\n",
      "[MICE] Starting imputation round 15/110, elapsed time 2.076\n",
      "[MICE] Starting imputation round 16/110, elapsed time 2.230\n",
      "[MICE] Starting imputation round 17/110, elapsed time 2.376\n",
      "[MICE] Starting imputation round 18/110, elapsed time 2.531\n",
      "[MICE] Starting imputation round 19/110, elapsed time 2.676\n",
      "[MICE] Starting imputation round 20/110, elapsed time 2.823\n",
      "[MICE] Starting imputation round 21/110, elapsed time 2.960\n",
      "[MICE] Starting imputation round 22/110, elapsed time 3.115\n",
      "[MICE] Starting imputation round 23/110, elapsed time 3.257\n",
      "[MICE] Starting imputation round 24/110, elapsed time 3.403\n",
      "[MICE] Starting imputation round 25/110, elapsed time 3.541\n",
      "[MICE] Starting imputation round 26/110, elapsed time 3.699\n",
      "[MICE] Starting imputation round 27/110, elapsed time 3.841\n"
     ]
    },
    {
     "name": "stdout",
     "output_type": "stream",
     "text": [
      "[MICE] Starting imputation round 28/110, elapsed time 4.008\n",
      "[MICE] Starting imputation round 29/110, elapsed time 4.141\n",
      "[MICE] Starting imputation round 30/110, elapsed time 4.300\n",
      "[MICE] Starting imputation round 31/110, elapsed time 4.441\n",
      "[MICE] Starting imputation round 32/110, elapsed time 4.592\n",
      "[MICE] Starting imputation round 33/110, elapsed time 4.737\n",
      "[MICE] Starting imputation round 34/110, elapsed time 4.884\n",
      "[MICE] Starting imputation round 35/110, elapsed time 5.021\n",
      "[MICE] Starting imputation round 36/110, elapsed time 5.183\n",
      "[MICE] Starting imputation round 37/110, elapsed time 5.321\n",
      "[MICE] Starting imputation round 38/110, elapsed time 5.479\n",
      "[MICE] Starting imputation round 39/110, elapsed time 5.620\n",
      "[MICE] Starting imputation round 40/110, elapsed time 5.770\n",
      "[MICE] Starting imputation round 41/110, elapsed time 5.908\n",
      "[MICE] Starting imputation round 42/110, elapsed time 6.059\n",
      "[MICE] Starting imputation round 43/110, elapsed time 6.204\n",
      "[MICE] Starting imputation round 44/110, elapsed time 6.350\n",
      "[MICE] Starting imputation round 45/110, elapsed time 6.486\n",
      "[MICE] Starting imputation round 46/110, elapsed time 6.641\n",
      "[MICE] Starting imputation round 47/110, elapsed time 6.786\n",
      "[MICE] Starting imputation round 48/110, elapsed time 6.933\n",
      "[MICE] Starting imputation round 49/110, elapsed time 7.070\n",
      "[MICE] Starting imputation round 50/110, elapsed time 7.220\n",
      "[MICE] Starting imputation round 51/110, elapsed time 7.370\n",
      "[MICE] Starting imputation round 52/110, elapsed time 7.521\n",
      "[MICE] Starting imputation round 53/110, elapsed time 7.666\n",
      "[MICE] Starting imputation round 54/110, elapsed time 7.817\n",
      "[MICE] Starting imputation round 55/110, elapsed time 7.951\n",
      "[MICE] Starting imputation round 56/110, elapsed time 8.109\n",
      "[MICE] Starting imputation round 57/110, elapsed time 8.239\n",
      "[MICE] Starting imputation round 58/110, elapsed time 8.405\n",
      "[MICE] Starting imputation round 59/110, elapsed time 8.550\n",
      "[MICE] Starting imputation round 60/110, elapsed time 8.725\n",
      "[MICE] Starting imputation round 61/110, elapsed time 8.881\n",
      "[MICE] Starting imputation round 62/110, elapsed time 9.040\n",
      "[MICE] Starting imputation round 63/110, elapsed time 9.185\n",
      "[MICE] Starting imputation round 64/110, elapsed time 9.339\n",
      "[MICE] Starting imputation round 65/110, elapsed time 9.481\n",
      "[MICE] Starting imputation round 66/110, elapsed time 9.639\n",
      "[MICE] Starting imputation round 67/110, elapsed time 9.785\n",
      "[MICE] Starting imputation round 68/110, elapsed time 9.936\n",
      "[MICE] Starting imputation round 69/110, elapsed time 10.081\n",
      "[MICE] Starting imputation round 70/110, elapsed time 10.241\n",
      "[MICE] Starting imputation round 71/110, elapsed time 10.382\n",
      "[MICE] Starting imputation round 72/110, elapsed time 10.541\n",
      "[MICE] Starting imputation round 73/110, elapsed time 10.682\n",
      "[MICE] Starting imputation round 74/110, elapsed time 10.844\n",
      "[MICE] Starting imputation round 75/110, elapsed time 10.982\n",
      "[MICE] Starting imputation round 76/110, elapsed time 11.144\n",
      "[MICE] Starting imputation round 77/110, elapsed time 11.297\n",
      "[MICE] Starting imputation round 78/110, elapsed time 11.452\n",
      "[MICE] Starting imputation round 79/110, elapsed time 11.597\n",
      "[MICE] Starting imputation round 80/110, elapsed time 11.744\n",
      "[MICE] Starting imputation round 81/110, elapsed time 11.881\n",
      "[MICE] Starting imputation round 82/110, elapsed time 12.036\n",
      "[MICE] Starting imputation round 83/110, elapsed time 12.166\n",
      "[MICE] Starting imputation round 84/110, elapsed time 12.328\n",
      "[MICE] Starting imputation round 85/110, elapsed time 12.461\n",
      "[MICE] Starting imputation round 86/110, elapsed time 12.625\n",
      "[MICE] Starting imputation round 87/110, elapsed time 12.762\n",
      "[MICE] Starting imputation round 88/110, elapsed time 12.933\n",
      "[MICE] Starting imputation round 89/110, elapsed time 13.078\n",
      "[MICE] Starting imputation round 90/110, elapsed time 13.242\n",
      "[MICE] Starting imputation round 91/110, elapsed time 13.379\n",
      "[MICE] Starting imputation round 92/110, elapsed time 13.549\n",
      "[MICE] Starting imputation round 93/110, elapsed time 13.694\n",
      "[MICE] Starting imputation round 94/110, elapsed time 13.853\n",
      "[MICE] Starting imputation round 95/110, elapsed time 13.995\n",
      "[MICE] Starting imputation round 96/110, elapsed time 14.149\n",
      "[MICE] Starting imputation round 97/110, elapsed time 14.279\n",
      "[MICE] Starting imputation round 98/110, elapsed time 14.437\n",
      "[MICE] Starting imputation round 99/110, elapsed time 14.578\n",
      "[MICE] Starting imputation round 100/110, elapsed time 14.733\n",
      "[MICE] Starting imputation round 101/110, elapsed time 14.874\n",
      "[MICE] Starting imputation round 102/110, elapsed time 15.025\n",
      "[MICE] Starting imputation round 103/110, elapsed time 15.159\n",
      "[MICE] Starting imputation round 104/110, elapsed time 15.318\n",
      "[MICE] Starting imputation round 105/110, elapsed time 15.460\n",
      "[MICE] Starting imputation round 106/110, elapsed time 15.611\n",
      "[MICE] Starting imputation round 107/110, elapsed time 15.744\n",
      "[MICE] Starting imputation round 108/110, elapsed time 15.902\n",
      "[MICE] Starting imputation round 109/110, elapsed time 16.040\n",
      "[MICE] Starting imputation round 110/110, elapsed time 16.191\n",
      "(1458, 181)\n",
      "(1459, 181)\n"
     ]
    }
   ],
   "source": [
    "from fancyimpute import MICE\n",
    "mice = MICE(n_imputations=100, impute_type='col')  # In this line we can vary arguments for MICE\n",
    "\n",
    "train2_filled = mice.complete(train2)\n",
    "test2_filled = mice.complete(test2)\n",
    "\n",
    "# From np arrays back to np dataframes:\n",
    "train2 = pd.DataFrame(data = train2_filled, columns = allvars)\n",
    "test2 = pd.DataFrame(data = test2_filled, columns = allvars)\n",
    "print(train2.shape)\n",
    "print(test2.shape)"
   ]
  },
  {
   "cell_type": "markdown",
   "metadata": {},
   "source": [
    "###### Standardizing all Variables in our training2 dataframe so that we can detect outliers"
   ]
  },
  {
   "cell_type": "code",
   "execution_count": 691,
   "metadata": {
    "collapsed": true
   },
   "outputs": [],
   "source": [
    "from sklearn.preprocessing import StandardScaler\n",
    "scaler = StandardScaler()\n",
    "train2 = pd.DataFrame(scaler.fit_transform(train2), columns=train2.columns)"
   ]
  },
  {
   "cell_type": "code",
   "execution_count": 692,
   "metadata": {},
   "outputs": [
    {
     "name": "stdout",
     "output_type": "stream",
     "text": [
      "5.00347779422e-13\n",
      "181.062103279\n"
     ]
    },
    {
     "data": {
      "text/plain": [
       "(1458, 181)"
      ]
     },
     "execution_count": 692,
     "metadata": {},
     "output_type": "execute_result"
    }
   ],
   "source": [
    "# Checking it worked\n",
    "print(sum(train2.mean(axis = 0)))\n",
    "print(sum(train2.std(axis = 0)))\n",
    "train2.shape"
   ]
  },
  {
   "cell_type": "markdown",
   "metadata": {},
   "source": [
    "### Saving Prepped Data"
   ]
  },
  {
   "cell_type": "code",
   "execution_count": 693,
   "metadata": {},
   "outputs": [
    {
     "name": "stdout",
     "output_type": "stream",
     "text": [
      "(1458,)\n",
      "(1458, 181)\n",
      "(1459, 181)\n"
     ]
    }
   ],
   "source": [
    "print(y.shape)\n",
    "print(train2.shape)\n",
    "print(test2.shape)"
   ]
  },
  {
   "cell_type": "code",
   "execution_count": 694,
   "metadata": {
    "collapsed": true
   },
   "outputs": [],
   "source": [
    "train_y = y\n",
    "train_x = train2\n",
    "test_x = test2\n",
    "train_y.to_csv('Data/train_y2.csv', index=False)\n",
    "train_x.to_csv('Data/train_x2.csv', index=False)\n",
    "test_x.to_csv('Data/test_x2.csv', index=False)"
   ]
  },
  {
   "cell_type": "code",
   "execution_count": 695,
   "metadata": {},
   "outputs": [
    {
     "name": "stdout",
     "output_type": "stream",
     "text": [
      "Done\n"
     ]
    }
   ],
   "source": [
    "print('Done')"
   ]
  },
  {
   "cell_type": "code",
   "execution_count": null,
   "metadata": {
    "collapsed": true
   },
   "outputs": [],
   "source": []
  }
 ],
 "metadata": {
  "kernelspec": {
   "display_name": "Python 3",
   "language": "python",
   "name": "python3"
  },
  "language_info": {
   "codemirror_mode": {
    "name": "ipython",
    "version": 3
   },
   "file_extension": ".py",
   "mimetype": "text/x-python",
   "name": "python",
   "nbconvert_exporter": "python",
   "pygments_lexer": "ipython3",
   "version": "3.6.1"
  }
 },
 "nbformat": 4,
 "nbformat_minor": 2
}
