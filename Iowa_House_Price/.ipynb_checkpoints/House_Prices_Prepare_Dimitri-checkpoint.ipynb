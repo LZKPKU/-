{
 "cells": [
  {
   "cell_type": "markdown",
   "metadata": {},
   "source": [
    "###### Importing libraries:"
   ]
  },
  {
   "cell_type": "code",
   "execution_count": 715,
   "metadata": {
    "collapsed": true
   },
   "outputs": [],
   "source": [
    "import numpy as np\n",
    "import pandas as pd\n",
    "from matplotlib import pyplot as plt\n",
    "% matplotlib inline"
   ]
  },
  {
   "cell_type": "code",
   "execution_count": 716,
   "metadata": {},
   "outputs": [
    {
     "name": "stdout",
     "output_type": "stream",
     "text": [
      "The autoreload extension is already loaded. To reload it, use:\n",
      "  %reload_ext autoreload\n"
     ]
    }
   ],
   "source": [
    "%load_ext autoreload\n",
    "%autoreload 2"
   ]
  },
  {
   "cell_type": "markdown",
   "metadata": {
    "collapsed": true
   },
   "source": [
    "###### Reading in both test and train files"
   ]
  },
  {
   "cell_type": "code",
   "execution_count": 717,
   "metadata": {
    "collapsed": true
   },
   "outputs": [],
   "source": [
    "test = pd.read_csv('test.csv')\n",
    "train = pd.read_csv('train.csv')"
   ]
  },
  {
   "cell_type": "code",
   "execution_count": 718,
   "metadata": {},
   "outputs": [
    {
     "data": {
      "text/plain": [
       "(1460, 81)"
      ]
     },
     "execution_count": 718,
     "metadata": {},
     "output_type": "execute_result"
    }
   ],
   "source": [
    "# Check data frame sizes:\n",
    "train.shape  # 1460 by 81"
   ]
  },
  {
   "cell_type": "code",
   "execution_count": 719,
   "metadata": {
    "scrolled": true
   },
   "outputs": [
    {
     "data": {
      "text/plain": [
       "(1459, 80)"
      ]
     },
     "execution_count": 719,
     "metadata": {},
     "output_type": "execute_result"
    }
   ],
   "source": [
    "test.shape   # 1459 by 80 - why only 80 columns?"
   ]
  },
  {
   "cell_type": "code",
   "execution_count": 720,
   "metadata": {},
   "outputs": [
    {
     "data": {
      "text/plain": [
       "1460"
      ]
     },
     "execution_count": 720,
     "metadata": {},
     "output_type": "execute_result"
    }
   ],
   "source": [
    "# saving sample size as N for train and N2 for test:\n",
    "N = train.shape[0]\n",
    "N"
   ]
  },
  {
   "cell_type": "code",
   "execution_count": 721,
   "metadata": {},
   "outputs": [
    {
     "data": {
      "text/plain": [
       "1459"
      ]
     },
     "execution_count": 721,
     "metadata": {},
     "output_type": "execute_result"
    }
   ],
   "source": [
    "N2 = test.shape[0]\n",
    "N2"
   ]
  },
  {
   "cell_type": "code",
   "execution_count": 722,
   "metadata": {
    "collapsed": true
   },
   "outputs": [],
   "source": [
    "# Because test, unlike train, doesn't have the very last variable - SalePrice\n",
    "# list(train)\n",
    "# list(test)"
   ]
  },
  {
   "cell_type": "code",
   "execution_count": 723,
   "metadata": {
    "collapsed": true,
    "scrolled": true
   },
   "outputs": [],
   "source": [
    "# Checking column types:\n",
    "# train.dtypes   # 81 columns"
   ]
  },
  {
   "cell_type": "code",
   "execution_count": 724,
   "metadata": {
    "collapsed": true
   },
   "outputs": [],
   "source": [
    "# test.dtypes   # 80 columns"
   ]
  },
  {
   "cell_type": "markdown",
   "metadata": {},
   "source": [
    "#### MISSING DATA"
   ]
  },
  {
   "cell_type": "code",
   "execution_count": 725,
   "metadata": {
    "collapsed": true
   },
   "outputs": [],
   "source": [
    "# How many missings in each column?\n",
    "#misscounts = np.sum(train.isnull(), axis=0)/N*100\n",
    "#print(misscounts[40:].round(2))\n",
    "# LotFrontage      17.7%\n",
    "# Alley            93.8% - not really missings, NA = no alley access to property\n",
    "# MasVnrType        0.5% (8 houses)\n",
    "# MasVnrArea        0.5% (8 houses)\n",
    "# BsmtQual          2.5%\n",
    "# BsmtCond          2.5%\n",
    "# BsmtExposure      2.6%\n",
    "# BsmtFinType1      2.5%\n",
    "# BsmtFinType2      2.6%\n",
    "# Electrical        0.1% (1 house)\n",
    "# FireplaceQu      47.3%\n",
    "# GarageType        5.5%\n",
    "# GarageYrBlt       5.5%\n",
    "# GarageFinish      5.5%\n",
    "# GarageQual        5.5%\n",
    "# GarageCond        5.5%\n",
    "# PoolQC           99.5%\n",
    "# Fence            80.8%\n",
    "# MiscFeature      96.3%"
   ]
  },
  {
   "cell_type": "markdown",
   "metadata": {},
   "source": [
    "#### Checking number of levels for categorical predictors"
   ]
  },
  {
   "cell_type": "markdown",
   "metadata": {},
   "source": [
    "###### MSSubClass: The building class (originally integer):"
   ]
  },
  {
   "cell_type": "markdown",
   "metadata": {},
   "source": [
    "Built dummies forthe levels with the highest incidence"
   ]
  },
  {
   "cell_type": "code",
   "execution_count": 726,
   "metadata": {},
   "outputs": [
    {
     "data": {
      "text/plain": [
       "20     36.71\n",
       "60     20.48\n",
       "50      9.86\n",
       "120     5.96\n",
       "30      4.73\n",
       "160     4.32\n",
       "70      4.11\n",
       "80      3.97\n",
       "90      3.56\n",
       "190     2.05\n",
       "85      1.37\n",
       "75      1.10\n",
       "45      0.82\n",
       "180     0.68\n",
       "40      0.27\n",
       "Name: MSSubClass, dtype: float64"
      ]
     },
     "execution_count": 726,
     "metadata": {},
     "output_type": "execute_result"
    }
   ],
   "source": [
    "# Observations in each level of MSSubClass (% of total):\n",
    "(train.MSSubClass.value_counts().sort_values(ascending = False)/N*100).round(2)"
   ]
  },
  {
   "cell_type": "code",
   "execution_count": 727,
   "metadata": {},
   "outputs": [
    {
     "data": {
      "text/plain": [
       "20     37.19\n",
       "60     18.90\n",
       "50      9.79\n",
       "120     6.51\n",
       "30      4.79\n",
       "70      4.66\n",
       "160     4.45\n",
       "80      4.11\n",
       "90      3.90\n",
       "190     2.12\n",
       "85      1.92\n",
       "75      0.48\n",
       "180     0.48\n",
       "45      0.41\n",
       "40      0.14\n",
       "150     0.07\n",
       "Name: MSSubClass, dtype: float64"
      ]
     },
     "execution_count": 727,
     "metadata": {},
     "output_type": "execute_result"
    }
   ],
   "source": [
    "# test dataset has one extra value (150) with only one observation:\n",
    "(test.MSSubClass.value_counts().sort_values(ascending = False)/N*100).round(2)"
   ]
  },
  {
   "cell_type": "code",
   "execution_count": 728,
   "metadata": {
    "collapsed": true
   },
   "outputs": [],
   "source": [
    "# Build dummies for some classes (with somewhat decent incidence levels):\n",
    "myclasses = [20, 60, 50, 120, 30, 70, 160, 80, 90, 190, 85]"
   ]
  },
  {
   "cell_type": "code",
   "execution_count": 729,
   "metadata": {
    "collapsed": true
   },
   "outputs": [],
   "source": [
    "for cl in myclasses:\n",
    "    forname = 'class_' + str(cl)\n",
    "    train[forname] = 0\n",
    "    test[forname] = 0\n",
    "    train.loc[train.MSSubClass == cl, forname] = 1\n",
    "    test.loc[test.MSSubClass == cl, forname] = 1"
   ]
  },
  {
   "cell_type": "code",
   "execution_count": 730,
   "metadata": {
    "scrolled": true
   },
   "outputs": [
    {
     "data": {
      "text/html": [
       "<div>\n",
       "<style>\n",
       "    .dataframe thead tr:only-child th {\n",
       "        text-align: right;\n",
       "    }\n",
       "\n",
       "    .dataframe thead th {\n",
       "        text-align: left;\n",
       "    }\n",
       "\n",
       "    .dataframe tbody tr th {\n",
       "        vertical-align: top;\n",
       "    }\n",
       "</style>\n",
       "<table border=\"1\" class=\"dataframe\">\n",
       "  <thead>\n",
       "    <tr style=\"text-align: right;\">\n",
       "      <th>MSSubClass</th>\n",
       "      <th>20</th>\n",
       "      <th>30</th>\n",
       "      <th>40</th>\n",
       "      <th>45</th>\n",
       "      <th>50</th>\n",
       "      <th>60</th>\n",
       "      <th>70</th>\n",
       "      <th>75</th>\n",
       "      <th>80</th>\n",
       "      <th>85</th>\n",
       "      <th>90</th>\n",
       "      <th>120</th>\n",
       "      <th>160</th>\n",
       "      <th>180</th>\n",
       "      <th>190</th>\n",
       "    </tr>\n",
       "    <tr>\n",
       "      <th>class_190</th>\n",
       "      <th></th>\n",
       "      <th></th>\n",
       "      <th></th>\n",
       "      <th></th>\n",
       "      <th></th>\n",
       "      <th></th>\n",
       "      <th></th>\n",
       "      <th></th>\n",
       "      <th></th>\n",
       "      <th></th>\n",
       "      <th></th>\n",
       "      <th></th>\n",
       "      <th></th>\n",
       "      <th></th>\n",
       "      <th></th>\n",
       "    </tr>\n",
       "  </thead>\n",
       "  <tbody>\n",
       "    <tr>\n",
       "      <th>0</th>\n",
       "      <td>536</td>\n",
       "      <td>69</td>\n",
       "      <td>4</td>\n",
       "      <td>12</td>\n",
       "      <td>144</td>\n",
       "      <td>299</td>\n",
       "      <td>60</td>\n",
       "      <td>16</td>\n",
       "      <td>58</td>\n",
       "      <td>20</td>\n",
       "      <td>52</td>\n",
       "      <td>87</td>\n",
       "      <td>63</td>\n",
       "      <td>10</td>\n",
       "      <td>0</td>\n",
       "    </tr>\n",
       "    <tr>\n",
       "      <th>1</th>\n",
       "      <td>0</td>\n",
       "      <td>0</td>\n",
       "      <td>0</td>\n",
       "      <td>0</td>\n",
       "      <td>0</td>\n",
       "      <td>0</td>\n",
       "      <td>0</td>\n",
       "      <td>0</td>\n",
       "      <td>0</td>\n",
       "      <td>0</td>\n",
       "      <td>0</td>\n",
       "      <td>0</td>\n",
       "      <td>0</td>\n",
       "      <td>0</td>\n",
       "      <td>30</td>\n",
       "    </tr>\n",
       "  </tbody>\n",
       "</table>\n",
       "</div>"
      ],
      "text/plain": [
       "MSSubClass  20   30   40   45   50   60   70   75   80   85   90   120  160  \\\n",
       "class_190                                                                     \n",
       "0           536   69    4   12  144  299   60   16   58   20   52   87   63   \n",
       "1             0    0    0    0    0    0    0    0    0    0    0    0    0   \n",
       "\n",
       "MSSubClass  180  190  \n",
       "class_190             \n",
       "0            10    0  \n",
       "1             0   30  "
      ]
     },
     "execution_count": 730,
     "metadata": {},
     "output_type": "execute_result"
    }
   ],
   "source": [
    "pd.crosstab(train.class_190, train.MSSubClass)"
   ]
  },
  {
   "cell_type": "code",
   "execution_count": 731,
   "metadata": {
    "scrolled": true
   },
   "outputs": [
    {
     "data": {
      "text/html": [
       "<div>\n",
       "<style>\n",
       "    .dataframe thead tr:only-child th {\n",
       "        text-align: right;\n",
       "    }\n",
       "\n",
       "    .dataframe thead th {\n",
       "        text-align: left;\n",
       "    }\n",
       "\n",
       "    .dataframe tbody tr th {\n",
       "        vertical-align: top;\n",
       "    }\n",
       "</style>\n",
       "<table border=\"1\" class=\"dataframe\">\n",
       "  <thead>\n",
       "    <tr style=\"text-align: right;\">\n",
       "      <th>MSSubClass</th>\n",
       "      <th>20</th>\n",
       "      <th>30</th>\n",
       "      <th>40</th>\n",
       "      <th>45</th>\n",
       "      <th>50</th>\n",
       "      <th>60</th>\n",
       "      <th>70</th>\n",
       "      <th>75</th>\n",
       "      <th>80</th>\n",
       "      <th>85</th>\n",
       "      <th>90</th>\n",
       "      <th>120</th>\n",
       "      <th>150</th>\n",
       "      <th>160</th>\n",
       "      <th>180</th>\n",
       "      <th>190</th>\n",
       "    </tr>\n",
       "    <tr>\n",
       "      <th>class_160</th>\n",
       "      <th></th>\n",
       "      <th></th>\n",
       "      <th></th>\n",
       "      <th></th>\n",
       "      <th></th>\n",
       "      <th></th>\n",
       "      <th></th>\n",
       "      <th></th>\n",
       "      <th></th>\n",
       "      <th></th>\n",
       "      <th></th>\n",
       "      <th></th>\n",
       "      <th></th>\n",
       "      <th></th>\n",
       "      <th></th>\n",
       "      <th></th>\n",
       "    </tr>\n",
       "  </thead>\n",
       "  <tbody>\n",
       "    <tr>\n",
       "      <th>0</th>\n",
       "      <td>543</td>\n",
       "      <td>70</td>\n",
       "      <td>2</td>\n",
       "      <td>6</td>\n",
       "      <td>143</td>\n",
       "      <td>276</td>\n",
       "      <td>68</td>\n",
       "      <td>7</td>\n",
       "      <td>60</td>\n",
       "      <td>28</td>\n",
       "      <td>57</td>\n",
       "      <td>95</td>\n",
       "      <td>1</td>\n",
       "      <td>0</td>\n",
       "      <td>7</td>\n",
       "      <td>31</td>\n",
       "    </tr>\n",
       "    <tr>\n",
       "      <th>1</th>\n",
       "      <td>0</td>\n",
       "      <td>0</td>\n",
       "      <td>0</td>\n",
       "      <td>0</td>\n",
       "      <td>0</td>\n",
       "      <td>0</td>\n",
       "      <td>0</td>\n",
       "      <td>0</td>\n",
       "      <td>0</td>\n",
       "      <td>0</td>\n",
       "      <td>0</td>\n",
       "      <td>0</td>\n",
       "      <td>0</td>\n",
       "      <td>65</td>\n",
       "      <td>0</td>\n",
       "      <td>0</td>\n",
       "    </tr>\n",
       "  </tbody>\n",
       "</table>\n",
       "</div>"
      ],
      "text/plain": [
       "MSSubClass  20   30   40   45   50   60   70   75   80   85   90   120  150  \\\n",
       "class_160                                                                     \n",
       "0           543   70    2    6  143  276   68    7   60   28   57   95    1   \n",
       "1             0    0    0    0    0    0    0    0    0    0    0    0    0   \n",
       "\n",
       "MSSubClass  160  180  190  \n",
       "class_160                  \n",
       "0             0    7   31  \n",
       "1            65    0    0  "
      ]
     },
     "execution_count": 731,
     "metadata": {},
     "output_type": "execute_result"
    }
   ],
   "source": [
    "pd.crosstab(test.class_160, test.MSSubClass)"
   ]
  },
  {
   "cell_type": "code",
   "execution_count": 732,
   "metadata": {},
   "outputs": [
    {
     "name": "stdout",
     "output_type": "stream",
     "text": [
      "(1460, 92)\n",
      "(1459, 91)\n"
     ]
    }
   ],
   "source": [
    "print(train.shape)\n",
    "print(test.shape)"
   ]
  },
  {
   "cell_type": "markdown",
   "metadata": {},
   "source": [
    "###### MSZoning: The general zoning classification (currently object)"
   ]
  },
  {
   "cell_type": "markdown",
   "metadata": {},
   "source": [
    "Built dummies for levels RL (Residential Low Density), RM (Residential Medium Density), FV (Floating Village Residential)?"
   ]
  },
  {
   "cell_type": "code",
   "execution_count": 733,
   "metadata": {},
   "outputs": [
    {
     "data": {
      "text/plain": [
       "RL         78.84\n",
       "RM         14.93\n",
       "FV          4.45\n",
       "RH          1.10\n",
       "C (all)     0.68\n",
       "Name: MSZoning, dtype: float64"
      ]
     },
     "execution_count": 733,
     "metadata": {},
     "output_type": "execute_result"
    }
   ],
   "source": [
    "# Observations in each level of MSZoning (%):\n",
    "(train.MSZoning.value_counts().sort_values(ascending = False)/N*100).round(2)"
   ]
  },
  {
   "cell_type": "code",
   "execution_count": 734,
   "metadata": {
    "collapsed": true
   },
   "outputs": [],
   "source": [
    "# Variable MSZoning\n",
    "# (test.MSZoning.value_counts().sort_values(ascending = False)/N*100).round(2)"
   ]
  },
  {
   "cell_type": "code",
   "execution_count": 735,
   "metadata": {
    "collapsed": true
   },
   "outputs": [],
   "source": [
    "# Creating dummies based on MSZoning and dropping two of them (with too few observations):\n",
    "temp = pd.get_dummies(train.MSZoning, prefix = \"zone\", drop_first = True)\n",
    "temp.drop('zone_RH', axis=1, inplace = True)\n",
    "train = pd.concat([train, temp], axis = 1)"
   ]
  },
  {
   "cell_type": "code",
   "execution_count": 736,
   "metadata": {
    "collapsed": true
   },
   "outputs": [],
   "source": [
    "temp = pd.get_dummies(test.MSZoning, prefix = \"zone\", drop_first = True)\n",
    "temp.drop('zone_RH', axis=1, inplace = True)\n",
    "test = pd.concat([test, temp], axis = 1)"
   ]
  },
  {
   "cell_type": "code",
   "execution_count": 737,
   "metadata": {},
   "outputs": [
    {
     "name": "stdout",
     "output_type": "stream",
     "text": [
      "(1460, 95)\n",
      "(1459, 94)\n"
     ]
    }
   ],
   "source": [
    "print(train.shape)\n",
    "print(test.shape)"
   ]
  },
  {
   "cell_type": "markdown",
   "metadata": {},
   "source": [
    "###### Street: Type of road access to property - IGNORE THIS VAR!"
   ]
  },
  {
   "cell_type": "markdown",
   "metadata": {},
   "source": [
    "99.6% are Paved and 0.41 (only 6 houses) have unpaved street\n",
    "LETS NOT USE THIS VARIABLE\n"
   ]
  },
  {
   "cell_type": "code",
   "execution_count": 738,
   "metadata": {},
   "outputs": [
    {
     "data": {
      "text/plain": [
       "Pave    99.59\n",
       "Grvl     0.41\n",
       "Name: Street, dtype: float64"
      ]
     },
     "execution_count": 738,
     "metadata": {},
     "output_type": "execute_result"
    }
   ],
   "source": [
    "# Observations in each level of Street (%):\n",
    "(train.Street.value_counts().sort_values(ascending = False)/N*100).round(2)"
   ]
  },
  {
   "cell_type": "code",
   "execution_count": 739,
   "metadata": {},
   "outputs": [
    {
     "data": {
      "text/plain": [
       "Pave    99.59\n",
       "Grvl     0.41\n",
       "Name: Street, dtype: float64"
      ]
     },
     "execution_count": 739,
     "metadata": {},
     "output_type": "execute_result"
    }
   ],
   "source": [
    "(test.Street.value_counts().sort_values(ascending = False)/N2*100).round(2)"
   ]
  },
  {
   "cell_type": "markdown",
   "metadata": {},
   "source": [
    "###### Alley: Type of alley access to property - replaced missings with 'None'!"
   ]
  },
  {
   "cell_type": "markdown",
   "metadata": {},
   "source": [
    "And created 2 dummies - alley_paved & alley_gravel"
   ]
  },
  {
   "cell_type": "code",
   "execution_count": 740,
   "metadata": {},
   "outputs": [
    {
     "data": {
      "text/plain": [
       "Grvl    3.42\n",
       "Pave    2.81\n",
       "Name: Alley, dtype: float64"
      ]
     },
     "execution_count": 740,
     "metadata": {},
     "output_type": "execute_result"
    }
   ],
   "source": [
    "# Observations in each level of Alley (%):\n",
    "(train.Alley.value_counts().sort_values(ascending = False)/N*100).round(2)"
   ]
  },
  {
   "cell_type": "code",
   "execution_count": 741,
   "metadata": {},
   "outputs": [
    {
     "data": {
      "text/plain": [
       "Grvl    4.80\n",
       "Pave    2.54\n",
       "Name: Alley, dtype: float64"
      ]
     },
     "execution_count": 741,
     "metadata": {},
     "output_type": "execute_result"
    }
   ],
   "source": [
    "(test.Alley.value_counts().sort_values(ascending = False)/N2*100).round(2)"
   ]
  },
  {
   "cell_type": "code",
   "execution_count": 742,
   "metadata": {
    "collapsed": true
   },
   "outputs": [],
   "source": [
    "# Replacing NAs with 'None' in both data frames:\n",
    "train['Alley'].fillna('None', inplace=True)\n",
    "test['Alley'].fillna('None', inplace=True)"
   ]
  },
  {
   "cell_type": "code",
   "execution_count": 743,
   "metadata": {
    "collapsed": true
   },
   "outputs": [],
   "source": [
    "# Build a dummy for Gravel and for Paved Alley\n",
    "train['alley_gravel'] = 0\n",
    "train.loc[train.Alley == 'Grvl', 'alley_gravel'] = 1\n",
    "train['alley_paved'] = 0\n",
    "train.loc[train.Alley == 'Pave', 'alley_paved'] = 1"
   ]
  },
  {
   "cell_type": "code",
   "execution_count": 744,
   "metadata": {
    "collapsed": true
   },
   "outputs": [],
   "source": [
    "test['alley_gravel'] = 0\n",
    "test.loc[test.Alley == 'Grvl', 'alley_gravel'] = 1\n",
    "test['alley_paved'] = 0\n",
    "test.loc[test.Alley == 'Pave', 'alley_paved'] = 1"
   ]
  },
  {
   "cell_type": "code",
   "execution_count": 745,
   "metadata": {},
   "outputs": [
    {
     "name": "stdout",
     "output_type": "stream",
     "text": [
      "(1460, 97)\n",
      "(1459, 96)\n"
     ]
    }
   ],
   "source": [
    "print(train.shape)\n",
    "print(test.shape)"
   ]
  },
  {
   "cell_type": "code",
   "execution_count": 746,
   "metadata": {
    "collapsed": true
   },
   "outputs": [],
   "source": [
    "# pd.crosstab(train.Alley, train.alley_gravel)  # It worked"
   ]
  },
  {
   "cell_type": "code",
   "execution_count": 747,
   "metadata": {
    "collapsed": true
   },
   "outputs": [],
   "source": [
    "# pd.crosstab(train.Alley, train.alley_paved)  # It worked"
   ]
  },
  {
   "cell_type": "markdown",
   "metadata": {},
   "source": [
    "###### LotShape: General shape of property"
   ]
  },
  {
   "cell_type": "markdown",
   "metadata": {
    "collapsed": true
   },
   "source": [
    "Build only one dummy - LotShapeReg - for Regular lot size (63%)"
   ]
  },
  {
   "cell_type": "code",
   "execution_count": 748,
   "metadata": {},
   "outputs": [
    {
     "data": {
      "text/plain": [
       "Reg    63.36\n",
       "IR1    33.15\n",
       "IR2     2.81\n",
       "IR3     0.68\n",
       "Name: LotShape, dtype: float64"
      ]
     },
     "execution_count": 748,
     "metadata": {},
     "output_type": "execute_result"
    }
   ],
   "source": [
    "# Observations in each level of LotShape (%):\n",
    "(train.LotShape.value_counts().sort_values(ascending = False)/N*100).round(2)"
   ]
  },
  {
   "cell_type": "code",
   "execution_count": 749,
   "metadata": {
    "collapsed": true
   },
   "outputs": [],
   "source": [
    "# (test.LotShape.value_counts().sort_values(ascending = False)/N*100).round(2)"
   ]
  },
  {
   "cell_type": "code",
   "execution_count": 750,
   "metadata": {},
   "outputs": [
    {
     "data": {
      "text/html": [
       "<div>\n",
       "<style>\n",
       "    .dataframe thead tr:only-child th {\n",
       "        text-align: right;\n",
       "    }\n",
       "\n",
       "    .dataframe thead th {\n",
       "        text-align: left;\n",
       "    }\n",
       "\n",
       "    .dataframe tbody tr th {\n",
       "        vertical-align: top;\n",
       "    }\n",
       "</style>\n",
       "<table border=\"1\" class=\"dataframe\">\n",
       "  <thead>\n",
       "    <tr style=\"text-align: right;\">\n",
       "      <th>LotShapeReg</th>\n",
       "      <th>0</th>\n",
       "      <th>1</th>\n",
       "    </tr>\n",
       "    <tr>\n",
       "      <th>LotShape</th>\n",
       "      <th></th>\n",
       "      <th></th>\n",
       "    </tr>\n",
       "  </thead>\n",
       "  <tbody>\n",
       "    <tr>\n",
       "      <th>IR1</th>\n",
       "      <td>484</td>\n",
       "      <td>0</td>\n",
       "    </tr>\n",
       "    <tr>\n",
       "      <th>IR2</th>\n",
       "      <td>41</td>\n",
       "      <td>0</td>\n",
       "    </tr>\n",
       "    <tr>\n",
       "      <th>IR3</th>\n",
       "      <td>10</td>\n",
       "      <td>0</td>\n",
       "    </tr>\n",
       "    <tr>\n",
       "      <th>Reg</th>\n",
       "      <td>0</td>\n",
       "      <td>925</td>\n",
       "    </tr>\n",
       "  </tbody>\n",
       "</table>\n",
       "</div>"
      ],
      "text/plain": [
       "LotShapeReg    0    1\n",
       "LotShape             \n",
       "IR1          484    0\n",
       "IR2           41    0\n",
       "IR3           10    0\n",
       "Reg            0  925"
      ]
     },
     "execution_count": 750,
     "metadata": {},
     "output_type": "execute_result"
    }
   ],
   "source": [
    "# Creating new variable - dummy for LotShape = 'Reg'\n",
    "train['LotShapeReg'] = 0\n",
    "train.loc[train.LotShape=='Reg', 'LotShapeReg'] = 1\n",
    "pd.crosstab(train.LotShape, train.LotShapeReg)  # It worked"
   ]
  },
  {
   "cell_type": "code",
   "execution_count": 751,
   "metadata": {},
   "outputs": [
    {
     "data": {
      "text/html": [
       "<div>\n",
       "<style>\n",
       "    .dataframe thead tr:only-child th {\n",
       "        text-align: right;\n",
       "    }\n",
       "\n",
       "    .dataframe thead th {\n",
       "        text-align: left;\n",
       "    }\n",
       "\n",
       "    .dataframe tbody tr th {\n",
       "        vertical-align: top;\n",
       "    }\n",
       "</style>\n",
       "<table border=\"1\" class=\"dataframe\">\n",
       "  <thead>\n",
       "    <tr style=\"text-align: right;\">\n",
       "      <th>LotShapeReg</th>\n",
       "      <th>0</th>\n",
       "      <th>1</th>\n",
       "    </tr>\n",
       "    <tr>\n",
       "      <th>LotShape</th>\n",
       "      <th></th>\n",
       "      <th></th>\n",
       "    </tr>\n",
       "  </thead>\n",
       "  <tbody>\n",
       "    <tr>\n",
       "      <th>IR1</th>\n",
       "      <td>484</td>\n",
       "      <td>0</td>\n",
       "    </tr>\n",
       "    <tr>\n",
       "      <th>IR2</th>\n",
       "      <td>35</td>\n",
       "      <td>0</td>\n",
       "    </tr>\n",
       "    <tr>\n",
       "      <th>IR3</th>\n",
       "      <td>6</td>\n",
       "      <td>0</td>\n",
       "    </tr>\n",
       "    <tr>\n",
       "      <th>Reg</th>\n",
       "      <td>0</td>\n",
       "      <td>934</td>\n",
       "    </tr>\n",
       "  </tbody>\n",
       "</table>\n",
       "</div>"
      ],
      "text/plain": [
       "LotShapeReg    0    1\n",
       "LotShape             \n",
       "IR1          484    0\n",
       "IR2           35    0\n",
       "IR3            6    0\n",
       "Reg            0  934"
      ]
     },
     "execution_count": 751,
     "metadata": {},
     "output_type": "execute_result"
    }
   ],
   "source": [
    "test['LotShapeReg'] = 0\n",
    "test.loc[test.LotShape=='Reg', 'LotShapeReg'] = 1\n",
    "pd.crosstab(test.LotShape, test.LotShapeReg)  # It worked"
   ]
  },
  {
   "cell_type": "code",
   "execution_count": 752,
   "metadata": {},
   "outputs": [
    {
     "name": "stdout",
     "output_type": "stream",
     "text": [
      "(1460, 98)\n",
      "(1459, 97)\n"
     ]
    }
   ],
   "source": [
    "print(train.shape)\n",
    "print(test.shape)"
   ]
  },
  {
   "cell_type": "markdown",
   "metadata": {},
   "source": [
    "###### LandContour: Flatness of the property"
   ]
  },
  {
   "cell_type": "markdown",
   "metadata": {},
   "source": [
    "Created 3 dummies for 3 types of countour"
   ]
  },
  {
   "cell_type": "code",
   "execution_count": 753,
   "metadata": {},
   "outputs": [
    {
     "data": {
      "text/plain": [
       "Lvl    89.79\n",
       "Bnk     4.32\n",
       "HLS     3.42\n",
       "Low     2.47\n",
       "Name: LandContour, dtype: float64"
      ]
     },
     "execution_count": 753,
     "metadata": {},
     "output_type": "execute_result"
    }
   ],
   "source": [
    "# Observations in each level of LandContour (%):\n",
    "(train.LandContour.value_counts().sort_values(ascending = False)/N*100).round(2)"
   ]
  },
  {
   "cell_type": "code",
   "execution_count": 754,
   "metadata": {
    "collapsed": true
   },
   "outputs": [],
   "source": [
    "# (test.LandContour.value_counts().sort_values(ascending = False)/N*100).round(2)"
   ]
  },
  {
   "cell_type": "code",
   "execution_count": 755,
   "metadata": {
    "collapsed": true
   },
   "outputs": [],
   "source": [
    "# Creating dummies based on LandCountour and dropping one of them (with few observations):\n",
    "temp = pd.get_dummies(train.LandContour, prefix = \"slope\")\n",
    "temp.drop('slope_Low', axis=1, inplace = True)\n",
    "train = pd.concat([train, temp], axis = 1)"
   ]
  },
  {
   "cell_type": "code",
   "execution_count": 756,
   "metadata": {
    "collapsed": true
   },
   "outputs": [],
   "source": [
    "temp = pd.get_dummies(test.LandContour, prefix = \"slope\")\n",
    "temp.drop('slope_Low', axis=1, inplace = True)\n",
    "test = pd.concat([test, temp], axis = 1)"
   ]
  },
  {
   "cell_type": "code",
   "execution_count": 757,
   "metadata": {},
   "outputs": [
    {
     "name": "stdout",
     "output_type": "stream",
     "text": [
      "(1460, 101)\n",
      "(1459, 100)\n"
     ]
    }
   ],
   "source": [
    "print(train.shape)\n",
    "print(test.shape)"
   ]
  },
  {
   "cell_type": "markdown",
   "metadata": {},
   "source": [
    "###### Utilities: Type of utilities available - IGNORE THIS VAR! (no variance)"
   ]
  },
  {
   "cell_type": "code",
   "execution_count": 758,
   "metadata": {},
   "outputs": [
    {
     "data": {
      "text/plain": [
       "AllPub    99.93\n",
       "NoSeWa     0.07\n",
       "Name: Utilities, dtype: float64"
      ]
     },
     "execution_count": 758,
     "metadata": {},
     "output_type": "execute_result"
    }
   ],
   "source": [
    "# Observations in each level of Utilities (%):\n",
    "(train.Utilities.value_counts().sort_values(ascending = False)/N*100).round(2)"
   ]
  },
  {
   "cell_type": "markdown",
   "metadata": {},
   "source": [
    "###### LotConfig: Lot configuration"
   ]
  },
  {
   "cell_type": "markdown",
   "metadata": {},
   "source": [
    "Created 3 dummy variables"
   ]
  },
  {
   "cell_type": "code",
   "execution_count": 759,
   "metadata": {},
   "outputs": [
    {
     "data": {
      "text/plain": [
       "Inside     72.05\n",
       "Corner     18.01\n",
       "CulDSac     6.44\n",
       "FR2         3.22\n",
       "FR3         0.27\n",
       "Name: LotConfig, dtype: float64"
      ]
     },
     "execution_count": 759,
     "metadata": {},
     "output_type": "execute_result"
    }
   ],
   "source": [
    "# Observations in each level of LotConfig (%):\n",
    "(train.LotConfig.value_counts().sort_values(ascending = False)/N*100).round(2)"
   ]
  },
  {
   "cell_type": "code",
   "execution_count": 760,
   "metadata": {
    "collapsed": true
   },
   "outputs": [],
   "source": [
    "# (test.LotConfig.value_counts().sort_values(ascending = False)/N*100).round(2)"
   ]
  },
  {
   "cell_type": "code",
   "execution_count": 761,
   "metadata": {
    "collapsed": true
   },
   "outputs": [],
   "source": [
    "# Creating dummies based on LotConfig and dropping some of them (with few observations):\n",
    "temp = pd.get_dummies(train.LotConfig, prefix = \"lotconfig\")\n",
    "temp.drop('lotconfig_FR2', axis=1, inplace = True)\n",
    "temp.drop('lotconfig_FR3', axis=1, inplace = True)\n",
    "train = pd.concat([train, temp], axis = 1)"
   ]
  },
  {
   "cell_type": "code",
   "execution_count": 762,
   "metadata": {
    "collapsed": true
   },
   "outputs": [],
   "source": [
    "temp = pd.get_dummies(test.LotConfig, prefix = \"lotconfig\")\n",
    "temp.drop('lotconfig_FR2', axis=1, inplace = True)\n",
    "temp.drop('lotconfig_FR3', axis=1, inplace = True)\n",
    "test = pd.concat([test, temp], axis = 1)"
   ]
  },
  {
   "cell_type": "code",
   "execution_count": 763,
   "metadata": {},
   "outputs": [
    {
     "name": "stdout",
     "output_type": "stream",
     "text": [
      "(1460, 104)\n",
      "(1459, 103)\n"
     ]
    }
   ],
   "source": [
    "print(train.shape)\n",
    "print(test.shape)"
   ]
  },
  {
   "cell_type": "markdown",
   "metadata": {},
   "source": [
    "###### LandSlope: Slope of property"
   ]
  },
  {
   "cell_type": "markdown",
   "metadata": {},
   "source": [
    "Created a new dummy: LandSlope_Gentle"
   ]
  },
  {
   "cell_type": "code",
   "execution_count": 764,
   "metadata": {
    "scrolled": true
   },
   "outputs": [
    {
     "data": {
      "text/plain": [
       "Gtl    94.66\n",
       "Mod     4.45\n",
       "Sev     0.89\n",
       "Name: LandSlope, dtype: float64"
      ]
     },
     "execution_count": 764,
     "metadata": {},
     "output_type": "execute_result"
    }
   ],
   "source": [
    "# Observations in each level of LandSlope (%):\n",
    "(train.LandSlope.value_counts().sort_values(ascending = False)/N*100).round(2)"
   ]
  },
  {
   "cell_type": "code",
   "execution_count": 765,
   "metadata": {
    "collapsed": true
   },
   "outputs": [],
   "source": [
    "# (test.LandSlope.value_counts().sort_values(ascending = False)/N*100).round(2)"
   ]
  },
  {
   "cell_type": "code",
   "execution_count": 766,
   "metadata": {},
   "outputs": [
    {
     "data": {
      "text/html": [
       "<div>\n",
       "<style>\n",
       "    .dataframe thead tr:only-child th {\n",
       "        text-align: right;\n",
       "    }\n",
       "\n",
       "    .dataframe thead th {\n",
       "        text-align: left;\n",
       "    }\n",
       "\n",
       "    .dataframe tbody tr th {\n",
       "        vertical-align: top;\n",
       "    }\n",
       "</style>\n",
       "<table border=\"1\" class=\"dataframe\">\n",
       "  <thead>\n",
       "    <tr style=\"text-align: right;\">\n",
       "      <th>LandSlope_Gentle</th>\n",
       "      <th>0</th>\n",
       "      <th>1</th>\n",
       "    </tr>\n",
       "    <tr>\n",
       "      <th>LandSlope</th>\n",
       "      <th></th>\n",
       "      <th></th>\n",
       "    </tr>\n",
       "  </thead>\n",
       "  <tbody>\n",
       "    <tr>\n",
       "      <th>Gtl</th>\n",
       "      <td>0</td>\n",
       "      <td>1382</td>\n",
       "    </tr>\n",
       "    <tr>\n",
       "      <th>Mod</th>\n",
       "      <td>65</td>\n",
       "      <td>0</td>\n",
       "    </tr>\n",
       "    <tr>\n",
       "      <th>Sev</th>\n",
       "      <td>13</td>\n",
       "      <td>0</td>\n",
       "    </tr>\n",
       "  </tbody>\n",
       "</table>\n",
       "</div>"
      ],
      "text/plain": [
       "LandSlope_Gentle   0     1\n",
       "LandSlope                 \n",
       "Gtl                0  1382\n",
       "Mod               65     0\n",
       "Sev               13     0"
      ]
     },
     "execution_count": 766,
     "metadata": {},
     "output_type": "execute_result"
    }
   ],
   "source": [
    "# Creating new variable - dummy for LandSlope = 'Gtl'\n",
    "train['LandSlope_Gentle'] = 0\n",
    "train.loc[train.LandSlope == 'Gtl', 'LandSlope_Gentle'] = 1\n",
    "pd.crosstab(train.LandSlope, train.LandSlope_Gentle)  # It worked"
   ]
  },
  {
   "cell_type": "code",
   "execution_count": 767,
   "metadata": {},
   "outputs": [
    {
     "data": {
      "text/html": [
       "<div>\n",
       "<style>\n",
       "    .dataframe thead tr:only-child th {\n",
       "        text-align: right;\n",
       "    }\n",
       "\n",
       "    .dataframe thead th {\n",
       "        text-align: left;\n",
       "    }\n",
       "\n",
       "    .dataframe tbody tr th {\n",
       "        vertical-align: top;\n",
       "    }\n",
       "</style>\n",
       "<table border=\"1\" class=\"dataframe\">\n",
       "  <thead>\n",
       "    <tr style=\"text-align: right;\">\n",
       "      <th>LandSlope_Gentle</th>\n",
       "      <th>0</th>\n",
       "      <th>1</th>\n",
       "    </tr>\n",
       "    <tr>\n",
       "      <th>LandSlope</th>\n",
       "      <th></th>\n",
       "      <th></th>\n",
       "    </tr>\n",
       "  </thead>\n",
       "  <tbody>\n",
       "    <tr>\n",
       "      <th>Gtl</th>\n",
       "      <td>0</td>\n",
       "      <td>1396</td>\n",
       "    </tr>\n",
       "    <tr>\n",
       "      <th>Mod</th>\n",
       "      <td>60</td>\n",
       "      <td>0</td>\n",
       "    </tr>\n",
       "    <tr>\n",
       "      <th>Sev</th>\n",
       "      <td>3</td>\n",
       "      <td>0</td>\n",
       "    </tr>\n",
       "  </tbody>\n",
       "</table>\n",
       "</div>"
      ],
      "text/plain": [
       "LandSlope_Gentle   0     1\n",
       "LandSlope                 \n",
       "Gtl                0  1396\n",
       "Mod               60     0\n",
       "Sev                3     0"
      ]
     },
     "execution_count": 767,
     "metadata": {},
     "output_type": "execute_result"
    }
   ],
   "source": [
    "test['LandSlope_Gentle'] = 0\n",
    "test.loc[test.LandSlope == 'Gtl', 'LandSlope_Gentle'] = 1\n",
    "pd.crosstab(test.LandSlope, test.LandSlope_Gentle)  # It worked"
   ]
  },
  {
   "cell_type": "code",
   "execution_count": 768,
   "metadata": {},
   "outputs": [
    {
     "name": "stdout",
     "output_type": "stream",
     "text": [
      "(1460, 105)\n",
      "(1459, 104)\n"
     ]
    }
   ],
   "source": [
    "print(train.shape)\n",
    "print(test.shape)"
   ]
  },
  {
   "cell_type": "markdown",
   "metadata": {},
   "source": [
    "###### Neighborhood: Physical locations within Ames city limits - bilt dummies for most"
   ]
  },
  {
   "cell_type": "code",
   "execution_count": 769,
   "metadata": {},
   "outputs": [
    {
     "data": {
      "text/plain": [
       "NAmes      15.41\n",
       "CollgCr    10.27\n",
       "OldTown     7.74\n",
       "Edwards     6.85\n",
       "Somerst     5.89\n",
       "Gilbert     5.41\n",
       "NridgHt     5.27\n",
       "Sawyer      5.07\n",
       "NWAmes      5.00\n",
       "SawyerW     4.04\n",
       "BrkSide     3.97\n",
       "Crawfor     3.49\n",
       "Mitchel     3.36\n",
       "NoRidge     2.81\n",
       "Timber      2.60\n",
       "IDOTRR      2.53\n",
       "ClearCr     1.92\n",
       "SWISU       1.71\n",
       "StoneBr     1.71\n",
       "Blmngtn     1.16\n",
       "MeadowV     1.16\n",
       "BrDale      1.10\n",
       "Veenker     0.75\n",
       "NPkVill     0.62\n",
       "Blueste     0.14\n",
       "Name: Neighborhood, dtype: float64"
      ]
     },
     "execution_count": 769,
     "metadata": {},
     "output_type": "execute_result"
    }
   ],
   "source": [
    "# Observations in each level of Neighborhood (%):\n",
    "(train.Neighborhood.value_counts().sort_values(ascending = False)/N*100).round(2)"
   ]
  },
  {
   "cell_type": "code",
   "execution_count": 770,
   "metadata": {
    "collapsed": true
   },
   "outputs": [],
   "source": [
    "# (test.Neighborhood.value_counts().sort_values(ascending = False)/N*100).round(2)"
   ]
  },
  {
   "cell_type": "code",
   "execution_count": 771,
   "metadata": {
    "collapsed": true
   },
   "outputs": [],
   "source": [
    "temp = pd.get_dummies(train.Neighborhood, prefix = \"nbh\")\n",
    "temp.drop('nbh_Blueste', axis=1, inplace = True)\n",
    "temp.drop('nbh_NPkVill', axis=1, inplace = True)\n",
    "temp.drop('nbh_Veenker', axis=1, inplace = True)\n",
    "temp.drop('nbh_BrDale', axis=1, inplace = True)\n",
    "temp.drop('nbh_MeadowV', axis=1, inplace = True)\n",
    "temp.drop('nbh_Blmngtn', axis=1, inplace = True)\n",
    "train = pd.concat([train, temp], axis = 1)"
   ]
  },
  {
   "cell_type": "code",
   "execution_count": 772,
   "metadata": {
    "collapsed": true
   },
   "outputs": [],
   "source": [
    "# Creating dummies and dropping some:\n",
    "temp = pd.get_dummies(test.Neighborhood, prefix = \"nbh\")\n",
    "temp.drop('nbh_Blueste', axis=1, inplace = True)\n",
    "temp.drop('nbh_NPkVill', axis=1, inplace = True)\n",
    "temp.drop('nbh_Veenker', axis=1, inplace = True)\n",
    "temp.drop('nbh_BrDale', axis=1, inplace = True)\n",
    "temp.drop('nbh_MeadowV', axis=1, inplace = True)\n",
    "temp.drop('nbh_Blmngtn', axis=1, inplace = True)\n",
    "test = pd.concat([test, temp], axis = 1)"
   ]
  },
  {
   "cell_type": "code",
   "execution_count": 773,
   "metadata": {},
   "outputs": [
    {
     "data": {
      "text/html": [
       "<div>\n",
       "<style>\n",
       "    .dataframe thead tr:only-child th {\n",
       "        text-align: right;\n",
       "    }\n",
       "\n",
       "    .dataframe thead th {\n",
       "        text-align: left;\n",
       "    }\n",
       "\n",
       "    .dataframe tbody tr th {\n",
       "        vertical-align: top;\n",
       "    }\n",
       "</style>\n",
       "<table border=\"1\" class=\"dataframe\">\n",
       "  <thead>\n",
       "    <tr style=\"text-align: right;\">\n",
       "      <th>Neighborhood</th>\n",
       "      <th>Blmngtn</th>\n",
       "      <th>Blueste</th>\n",
       "      <th>BrDale</th>\n",
       "      <th>BrkSide</th>\n",
       "      <th>ClearCr</th>\n",
       "      <th>CollgCr</th>\n",
       "      <th>Crawfor</th>\n",
       "      <th>Edwards</th>\n",
       "      <th>Gilbert</th>\n",
       "      <th>IDOTRR</th>\n",
       "      <th>MeadowV</th>\n",
       "      <th>Mitchel</th>\n",
       "      <th>NAmes</th>\n",
       "      <th>NPkVill</th>\n",
       "      <th>NWAmes</th>\n",
       "      <th>NoRidge</th>\n",
       "      <th>NridgHt</th>\n",
       "      <th>OldTown</th>\n",
       "      <th>SWISU</th>\n",
       "      <th>Sawyer</th>\n",
       "      <th>SawyerW</th>\n",
       "      <th>Somerst</th>\n",
       "      <th>StoneBr</th>\n",
       "      <th>Timber</th>\n",
       "      <th>Veenker</th>\n",
       "    </tr>\n",
       "    <tr>\n",
       "      <th>nbh_Timber</th>\n",
       "      <th></th>\n",
       "      <th></th>\n",
       "      <th></th>\n",
       "      <th></th>\n",
       "      <th></th>\n",
       "      <th></th>\n",
       "      <th></th>\n",
       "      <th></th>\n",
       "      <th></th>\n",
       "      <th></th>\n",
       "      <th></th>\n",
       "      <th></th>\n",
       "      <th></th>\n",
       "      <th></th>\n",
       "      <th></th>\n",
       "      <th></th>\n",
       "      <th></th>\n",
       "      <th></th>\n",
       "      <th></th>\n",
       "      <th></th>\n",
       "      <th></th>\n",
       "      <th></th>\n",
       "      <th></th>\n",
       "      <th></th>\n",
       "      <th></th>\n",
       "    </tr>\n",
       "  </thead>\n",
       "  <tbody>\n",
       "    <tr>\n",
       "      <th>0</th>\n",
       "      <td>17</td>\n",
       "      <td>2</td>\n",
       "      <td>16</td>\n",
       "      <td>58</td>\n",
       "      <td>28</td>\n",
       "      <td>150</td>\n",
       "      <td>51</td>\n",
       "      <td>100</td>\n",
       "      <td>79</td>\n",
       "      <td>37</td>\n",
       "      <td>17</td>\n",
       "      <td>49</td>\n",
       "      <td>225</td>\n",
       "      <td>9</td>\n",
       "      <td>73</td>\n",
       "      <td>41</td>\n",
       "      <td>77</td>\n",
       "      <td>113</td>\n",
       "      <td>25</td>\n",
       "      <td>74</td>\n",
       "      <td>59</td>\n",
       "      <td>86</td>\n",
       "      <td>25</td>\n",
       "      <td>0</td>\n",
       "      <td>11</td>\n",
       "    </tr>\n",
       "    <tr>\n",
       "      <th>1</th>\n",
       "      <td>0</td>\n",
       "      <td>0</td>\n",
       "      <td>0</td>\n",
       "      <td>0</td>\n",
       "      <td>0</td>\n",
       "      <td>0</td>\n",
       "      <td>0</td>\n",
       "      <td>0</td>\n",
       "      <td>0</td>\n",
       "      <td>0</td>\n",
       "      <td>0</td>\n",
       "      <td>0</td>\n",
       "      <td>0</td>\n",
       "      <td>0</td>\n",
       "      <td>0</td>\n",
       "      <td>0</td>\n",
       "      <td>0</td>\n",
       "      <td>0</td>\n",
       "      <td>0</td>\n",
       "      <td>0</td>\n",
       "      <td>0</td>\n",
       "      <td>0</td>\n",
       "      <td>0</td>\n",
       "      <td>38</td>\n",
       "      <td>0</td>\n",
       "    </tr>\n",
       "  </tbody>\n",
       "</table>\n",
       "</div>"
      ],
      "text/plain": [
       "Neighborhood  Blmngtn  Blueste  BrDale  BrkSide  ClearCr  CollgCr  Crawfor  \\\n",
       "nbh_Timber                                                                   \n",
       "0                  17        2      16       58       28      150       51   \n",
       "1                   0        0       0        0        0        0        0   \n",
       "\n",
       "Neighborhood  Edwards  Gilbert  IDOTRR  MeadowV  Mitchel  NAmes  NPkVill  \\\n",
       "nbh_Timber                                                                 \n",
       "0                 100       79      37       17       49    225        9   \n",
       "1                   0        0       0        0        0      0        0   \n",
       "\n",
       "Neighborhood  NWAmes  NoRidge  NridgHt  OldTown  SWISU  Sawyer  SawyerW  \\\n",
       "nbh_Timber                                                                \n",
       "0                 73       41       77      113     25      74       59   \n",
       "1                  0        0        0        0      0       0        0   \n",
       "\n",
       "Neighborhood  Somerst  StoneBr  Timber  Veenker  \n",
       "nbh_Timber                                       \n",
       "0                  86       25       0       11  \n",
       "1                   0        0      38        0  "
      ]
     },
     "execution_count": 773,
     "metadata": {},
     "output_type": "execute_result"
    }
   ],
   "source": [
    "pd.crosstab(train.nbh_Timber,train.Neighborhood)"
   ]
  },
  {
   "cell_type": "code",
   "execution_count": 774,
   "metadata": {},
   "outputs": [
    {
     "name": "stdout",
     "output_type": "stream",
     "text": [
      "(1460, 124)\n",
      "(1459, 123)\n"
     ]
    }
   ],
   "source": [
    "print(train.shape)\n",
    "print(test.shape)"
   ]
  },
  {
   "cell_type": "markdown",
   "metadata": {},
   "source": [
    "###### Condition1 & Condition2: Proximity to various conditions\n"
   ]
  },
  {
   "cell_type": "markdown",
   "metadata": {},
   "source": [
    "Created 5 dummies that start with 'prox_'"
   ]
  },
  {
   "cell_type": "code",
   "execution_count": 775,
   "metadata": {},
   "outputs": [
    {
     "data": {
      "text/plain": [
       "Norm      86.30\n",
       "Feedr      5.55\n",
       "Artery     3.29\n",
       "RRAn       1.78\n",
       "PosN       1.30\n",
       "RRAe       0.75\n",
       "PosA       0.55\n",
       "RRNn       0.34\n",
       "RRNe       0.14\n",
       "Name: Condition1, dtype: float64"
      ]
     },
     "execution_count": 775,
     "metadata": {},
     "output_type": "execute_result"
    }
   ],
   "source": [
    "# Observations in each level of Condition1 (%):\n",
    "(train.Condition1.value_counts().sort_values(ascending = False)/N*100).round(2)"
   ]
  },
  {
   "cell_type": "code",
   "execution_count": 776,
   "metadata": {
    "collapsed": true
   },
   "outputs": [],
   "source": [
    "# Observations in each level of Condition2 (%):\n",
    "# (train.Condition2.value_counts().sort_values(ascending = False)/N*100).round(2)"
   ]
  },
  {
   "cell_type": "code",
   "execution_count": 777,
   "metadata": {
    "collapsed": true
   },
   "outputs": [],
   "source": [
    "# Creating dummies based on those 2 columns simultaneously:\n",
    "\n",
    "train['prox_norm'] = 0\n",
    "train['prox_feeder'] = 0\n",
    "train['prox_artery'] = 0\n",
    "train['prox_rr'] = 0\n",
    "train['prox_positive'] = 0\n",
    "\n",
    "test['prox_norm'] = 0\n",
    "test['prox_feeder'] = 0\n",
    "test['prox_artery'] = 0\n",
    "test['prox_rr'] = 0\n",
    "test['prox_positive'] = 0"
   ]
  },
  {
   "cell_type": "code",
   "execution_count": 778,
   "metadata": {
    "collapsed": true
   },
   "outputs": [],
   "source": [
    "train.loc[(train.Condition1 == 'Norm')|(train.Condition2 == 'Norm'), 'prox_norm'] = 1\n",
    "test.loc[(test.Condition1 == 'Norm')|(test.Condition2 == 'Norm'), 'prox_norm'] = 1"
   ]
  },
  {
   "cell_type": "code",
   "execution_count": 779,
   "metadata": {
    "collapsed": true
   },
   "outputs": [],
   "source": [
    "train.loc[(train.Condition1 == 'Feedr')|(train.Condition2 == 'Feedr'), 'prox_feeder'] = 1\n",
    "test.loc[(test.Condition1 == 'Feedr')|(test.Condition2 == 'Feedr'), 'prox_feeder'] = 1"
   ]
  },
  {
   "cell_type": "code",
   "execution_count": 780,
   "metadata": {
    "collapsed": true
   },
   "outputs": [],
   "source": [
    "train.loc[(train.Condition1 == 'Artery')|(train.Condition2 == 'Artery'), 'prox_artery'] = 1\n",
    "test.loc[(test.Condition1 == 'Artery')|(test.Condition2 == 'Artery'), 'prox_artery'] = 1"
   ]
  },
  {
   "cell_type": "code",
   "execution_count": 781,
   "metadata": {
    "collapsed": true
   },
   "outputs": [],
   "source": [
    "train.loc[(train.Condition1 == 'PosN')|(train.Condition2 == 'PosN'), 'prox_positive'] = 1\n",
    "train.loc[(train.Condition1 == 'PosA')|(train.Condition2 == 'PosA'), 'prox_positive'] = 1\n",
    "\n",
    "test.loc[(test.Condition1 == 'PosN')|(test.Condition2 == 'PosN'), 'prox_positive'] = 1\n",
    "test.loc[(test.Condition1 == 'PosA')|(test.Condition2 == 'PosA'), 'prox_positive'] = 1"
   ]
  },
  {
   "cell_type": "code",
   "execution_count": 782,
   "metadata": {
    "collapsed": true
   },
   "outputs": [],
   "source": [
    "train.loc[(train.Condition1.str.startswith('RR', na=False))|(train.Condition2.str.startswith('RR', na=False)), 'prox_rr'] = 1\n",
    "test.loc[(test.Condition1.str.startswith('RR', na=False))|(test.Condition2.str.startswith('RR', na=False)), 'prox_rr'] = 1"
   ]
  },
  {
   "cell_type": "code",
   "execution_count": 783,
   "metadata": {
    "collapsed": true
   },
   "outputs": [],
   "source": [
    "# train[['Condition1','Condition2','prox_norm', 'prox_feeder','prox_artery','prox_positive','prox_rr']]"
   ]
  },
  {
   "cell_type": "code",
   "execution_count": 784,
   "metadata": {},
   "outputs": [
    {
     "name": "stdout",
     "output_type": "stream",
     "text": [
      "(1460, 129)\n",
      "(1459, 128)\n"
     ]
    }
   ],
   "source": [
    "print(train.shape)\n",
    "print(test.shape)"
   ]
  },
  {
   "cell_type": "markdown",
   "metadata": {},
   "source": [
    "###### BldgType: Type of dwelling"
   ]
  },
  {
   "cell_type": "markdown",
   "metadata": {},
   "source": [
    "###### Created 4 dummies that start with bldgtype_"
   ]
  },
  {
   "cell_type": "code",
   "execution_count": 785,
   "metadata": {
    "scrolled": true
   },
   "outputs": [
    {
     "data": {
      "text/plain": [
       "1Fam      83.56\n",
       "TwnhsE     7.81\n",
       "Duplex     3.56\n",
       "Twnhs      2.95\n",
       "2fmCon     2.12\n",
       "Name: BldgType, dtype: float64"
      ]
     },
     "execution_count": 785,
     "metadata": {},
     "output_type": "execute_result"
    }
   ],
   "source": [
    "# Observations in each level of BldgType (%):\n",
    "(train.BldgType.value_counts().sort_values(ascending = False)/N*100).round(2)"
   ]
  },
  {
   "cell_type": "code",
   "execution_count": 786,
   "metadata": {
    "collapsed": true
   },
   "outputs": [],
   "source": [
    "# (test.BldgType.value_counts().sort_values(ascending = False)/N*100).round(2)"
   ]
  },
  {
   "cell_type": "code",
   "execution_count": 787,
   "metadata": {
    "collapsed": true
   },
   "outputs": [],
   "source": [
    "# Fixing one value\n",
    "train.loc[train.BldgType == 'Twnhs', 'BldgType'] = 'TwnhsI'\n",
    "test.loc[test.BldgType == 'Twnhs', 'BldgType'] = 'TwnhsI'"
   ]
  },
  {
   "cell_type": "code",
   "execution_count": 788,
   "metadata": {
    "collapsed": true
   },
   "outputs": [],
   "source": [
    "# Building dummies\n",
    "temp = pd.get_dummies(train.BldgType, prefix = \"bldgtype\")\n",
    "temp.drop('bldgtype_2fmCon', axis=1, inplace = True)\n",
    "train = pd.concat([train, temp], axis = 1)"
   ]
  },
  {
   "cell_type": "code",
   "execution_count": 789,
   "metadata": {
    "collapsed": true
   },
   "outputs": [],
   "source": [
    "temp = pd.get_dummies(test.BldgType, prefix = \"bldgtype\")\n",
    "temp.drop('bldgtype_2fmCon', axis=1, inplace = True)\n",
    "test = pd.concat([test, temp], axis = 1)"
   ]
  },
  {
   "cell_type": "code",
   "execution_count": 790,
   "metadata": {},
   "outputs": [
    {
     "name": "stdout",
     "output_type": "stream",
     "text": [
      "(1460, 133)\n",
      "(1459, 132)\n"
     ]
    }
   ],
   "source": [
    "print(train.shape)\n",
    "print(test.shape)"
   ]
  },
  {
   "cell_type": "code",
   "execution_count": 791,
   "metadata": {},
   "outputs": [
    {
     "data": {
      "text/html": [
       "<div>\n",
       "<style>\n",
       "    .dataframe thead tr:only-child th {\n",
       "        text-align: right;\n",
       "    }\n",
       "\n",
       "    .dataframe thead th {\n",
       "        text-align: left;\n",
       "    }\n",
       "\n",
       "    .dataframe tbody tr th {\n",
       "        vertical-align: top;\n",
       "    }\n",
       "</style>\n",
       "<table border=\"1\" class=\"dataframe\">\n",
       "  <thead>\n",
       "    <tr style=\"text-align: right;\">\n",
       "      <th></th>\n",
       "      <th>bldgtype_1Fam</th>\n",
       "      <th>bldgtype_Duplex</th>\n",
       "      <th>bldgtype_TwnhsE</th>\n",
       "      <th>bldgtype_TwnhsI</th>\n",
       "    </tr>\n",
       "  </thead>\n",
       "  <tbody>\n",
       "    <tr>\n",
       "      <th>bldgtype_1Fam</th>\n",
       "      <td>1.000000</td>\n",
       "      <td>-0.433286</td>\n",
       "      <td>-0.656152</td>\n",
       "      <td>-0.392757</td>\n",
       "    </tr>\n",
       "    <tr>\n",
       "      <th>bldgtype_Duplex</th>\n",
       "      <td>-0.433286</td>\n",
       "      <td>1.000000</td>\n",
       "      <td>-0.055928</td>\n",
       "      <td>-0.033477</td>\n",
       "    </tr>\n",
       "    <tr>\n",
       "      <th>bldgtype_TwnhsE</th>\n",
       "      <td>-0.656152</td>\n",
       "      <td>-0.055928</td>\n",
       "      <td>1.000000</td>\n",
       "      <td>-0.050697</td>\n",
       "    </tr>\n",
       "    <tr>\n",
       "      <th>bldgtype_TwnhsI</th>\n",
       "      <td>-0.392757</td>\n",
       "      <td>-0.033477</td>\n",
       "      <td>-0.050697</td>\n",
       "      <td>1.000000</td>\n",
       "    </tr>\n",
       "  </tbody>\n",
       "</table>\n",
       "</div>"
      ],
      "text/plain": [
       "                 bldgtype_1Fam  bldgtype_Duplex  bldgtype_TwnhsE  \\\n",
       "bldgtype_1Fam         1.000000        -0.433286        -0.656152   \n",
       "bldgtype_Duplex      -0.433286         1.000000        -0.055928   \n",
       "bldgtype_TwnhsE      -0.656152        -0.055928         1.000000   \n",
       "bldgtype_TwnhsI      -0.392757        -0.033477        -0.050697   \n",
       "\n",
       "                 bldgtype_TwnhsI  \n",
       "bldgtype_1Fam          -0.392757  \n",
       "bldgtype_Duplex        -0.033477  \n",
       "bldgtype_TwnhsE        -0.050697  \n",
       "bldgtype_TwnhsI         1.000000  "
      ]
     },
     "execution_count": 791,
     "metadata": {},
     "output_type": "execute_result"
    }
   ],
   "source": [
    "# correlation among these vars - we won't use 1Fam house - it's redundant with the rest:\n",
    "train[['bldgtype_1Fam', 'bldgtype_Duplex', 'bldgtype_TwnhsE', 'bldgtype_TwnhsI']].corr()"
   ]
  },
  {
   "cell_type": "markdown",
   "metadata": {},
   "source": [
    "###### HouseStyle: Style of dwelling"
   ]
  },
  {
   "cell_type": "markdown",
   "metadata": {},
   "source": [
    "Created 5 dummies that start with 'style_'"
   ]
  },
  {
   "cell_type": "code",
   "execution_count": 792,
   "metadata": {
    "scrolled": true
   },
   "outputs": [
    {
     "data": {
      "text/plain": [
       "1Story    49.73\n",
       "2Story    30.48\n",
       "1.5Fin    10.55\n",
       "SLvl       4.45\n",
       "SFoyer     2.53\n",
       "1.5Unf     0.96\n",
       "2.5Unf     0.75\n",
       "2.5Fin     0.55\n",
       "Name: HouseStyle, dtype: float64"
      ]
     },
     "execution_count": 792,
     "metadata": {},
     "output_type": "execute_result"
    }
   ],
   "source": [
    "# Observations in each level of HouseStyle (%):\n",
    "(train.HouseStyle.value_counts().sort_values(ascending = False)/N*100).round(2)"
   ]
  },
  {
   "cell_type": "code",
   "execution_count": 793,
   "metadata": {
    "scrolled": true
   },
   "outputs": [
    {
     "data": {
      "text/plain": [
       "1Story    51.03\n",
       "2Story    29.25\n",
       "1.5Fin    10.96\n",
       "SLvl       4.32\n",
       "SFoyer     3.15\n",
       "2.5Unf     0.89\n",
       "1.5Unf     0.34\n",
       "Name: HouseStyle, dtype: float64"
      ]
     },
     "execution_count": 793,
     "metadata": {},
     "output_type": "execute_result"
    }
   ],
   "source": [
    "(test.HouseStyle.value_counts().sort_values(ascending = False)/N*100).round(2)\n",
    "# Notice -test has one fewer category than train (has no 2.5Fin)"
   ]
  },
  {
   "cell_type": "code",
   "execution_count": 794,
   "metadata": {
    "collapsed": true
   },
   "outputs": [],
   "source": [
    "# Fix some values:\n",
    "\n",
    "train.loc[train.HouseStyle == '1.5Fin', 'HouseStyle'] = '1p5Fin'\n",
    "train.loc[train.HouseStyle == '2.5Unf', 'HouseStyle'] = '2p5Unf'\n",
    "train.loc[train.HouseStyle == '1.5Unf', 'HouseStyle'] = '1p5Unf'\n",
    "train.loc[train.HouseStyle == '2.5Fin', 'HouseStyle'] = '2p5Fin'\n",
    "\n",
    "test.loc[test.HouseStyle == '1.5Fin', 'HouseStyle'] = '1p5Fin'\n",
    "test.loc[test.HouseStyle == '2.5Unf', 'HouseStyle'] = '2p5Unf'\n",
    "test.loc[test.HouseStyle == '1.5Unf', 'HouseStyle'] = '1p5Unf'"
   ]
  },
  {
   "cell_type": "code",
   "execution_count": 795,
   "metadata": {
    "collapsed": true
   },
   "outputs": [],
   "source": [
    "# Building dummies\n",
    "temp = pd.get_dummies(train.HouseStyle, prefix = \"style\")\n",
    "temp.drop('style_2p5Unf', axis=1, inplace = True)\n",
    "temp.drop('style_1p5Unf', axis=1, inplace = True)\n",
    "temp.drop('style_2p5Fin', axis=1, inplace = True)\n",
    "train = pd.concat([train, temp], axis = 1)"
   ]
  },
  {
   "cell_type": "code",
   "execution_count": 796,
   "metadata": {
    "collapsed": true
   },
   "outputs": [],
   "source": [
    "temp = pd.get_dummies(test.HouseStyle, prefix = \"style\")\n",
    "temp.drop('style_2p5Unf', axis=1, inplace = True)\n",
    "temp.drop('style_1p5Unf', axis=1, inplace = True)\n",
    "test = pd.concat([test, temp], axis = 1)"
   ]
  },
  {
   "cell_type": "code",
   "execution_count": 797,
   "metadata": {},
   "outputs": [
    {
     "name": "stdout",
     "output_type": "stream",
     "text": [
      "(1460, 138)\n",
      "(1459, 137)\n"
     ]
    }
   ],
   "source": [
    "print(train.shape)\n",
    "print(test.shape)"
   ]
  },
  {
   "cell_type": "code",
   "execution_count": 798,
   "metadata": {},
   "outputs": [
    {
     "data": {
      "text/html": [
       "<div>\n",
       "<style>\n",
       "    .dataframe thead tr:only-child th {\n",
       "        text-align: right;\n",
       "    }\n",
       "\n",
       "    .dataframe thead th {\n",
       "        text-align: left;\n",
       "    }\n",
       "\n",
       "    .dataframe tbody tr th {\n",
       "        vertical-align: top;\n",
       "    }\n",
       "</style>\n",
       "<table border=\"1\" class=\"dataframe\">\n",
       "  <thead>\n",
       "    <tr style=\"text-align: right;\">\n",
       "      <th></th>\n",
       "      <th>style_1Story</th>\n",
       "      <th>style_1p5Fin</th>\n",
       "      <th>style_2Story</th>\n",
       "      <th>style_SFoyer</th>\n",
       "      <th>style_SLvl</th>\n",
       "    </tr>\n",
       "  </thead>\n",
       "  <tbody>\n",
       "    <tr>\n",
       "      <th>style_1Story</th>\n",
       "      <td>1.000000</td>\n",
       "      <td>-0.341514</td>\n",
       "      <td>-0.658517</td>\n",
       "      <td>-0.160368</td>\n",
       "      <td>-0.214679</td>\n",
       "    </tr>\n",
       "    <tr>\n",
       "      <th>style_1p5Fin</th>\n",
       "      <td>-0.341514</td>\n",
       "      <td>1.000000</td>\n",
       "      <td>-0.227371</td>\n",
       "      <td>-0.055372</td>\n",
       "      <td>-0.074124</td>\n",
       "    </tr>\n",
       "    <tr>\n",
       "      <th>style_2Story</th>\n",
       "      <td>-0.658517</td>\n",
       "      <td>-0.227371</td>\n",
       "      <td>1.000000</td>\n",
       "      <td>-0.106769</td>\n",
       "      <td>-0.142928</td>\n",
       "    </tr>\n",
       "    <tr>\n",
       "      <th>style_SFoyer</th>\n",
       "      <td>-0.160368</td>\n",
       "      <td>-0.055372</td>\n",
       "      <td>-0.106769</td>\n",
       "      <td>1.000000</td>\n",
       "      <td>-0.034807</td>\n",
       "    </tr>\n",
       "    <tr>\n",
       "      <th>style_SLvl</th>\n",
       "      <td>-0.214679</td>\n",
       "      <td>-0.074124</td>\n",
       "      <td>-0.142928</td>\n",
       "      <td>-0.034807</td>\n",
       "      <td>1.000000</td>\n",
       "    </tr>\n",
       "  </tbody>\n",
       "</table>\n",
       "</div>"
      ],
      "text/plain": [
       "              style_1Story  style_1p5Fin  style_2Story  style_SFoyer  \\\n",
       "style_1Story      1.000000     -0.341514     -0.658517     -0.160368   \n",
       "style_1p5Fin     -0.341514      1.000000     -0.227371     -0.055372   \n",
       "style_2Story     -0.658517     -0.227371      1.000000     -0.106769   \n",
       "style_SFoyer     -0.160368     -0.055372     -0.106769      1.000000   \n",
       "style_SLvl       -0.214679     -0.074124     -0.142928     -0.034807   \n",
       "\n",
       "              style_SLvl  \n",
       "style_1Story   -0.214679  \n",
       "style_1p5Fin   -0.074124  \n",
       "style_2Story   -0.142928  \n",
       "style_SFoyer   -0.034807  \n",
       "style_SLvl      1.000000  "
      ]
     },
     "execution_count": 798,
     "metadata": {},
     "output_type": "execute_result"
    }
   ],
   "source": [
    "# correlation among these vars:\n",
    "train[['style_1Story', 'style_1p5Fin', 'style_2Story', 'style_SFoyer', 'style_SLvl']].corr()"
   ]
  },
  {
   "cell_type": "markdown",
   "metadata": {},
   "source": [
    "###### OverallQual & OverallCond"
   ]
  },
  {
   "cell_type": "code",
   "execution_count": 799,
   "metadata": {
    "collapsed": true
   },
   "outputs": [],
   "source": [
    "# (train.OverallQual.value_counts()/N*100).round(2)\n",
    "# (train.OverallCond.value_counts()/N*100).round(2)"
   ]
  },
  {
   "cell_type": "markdown",
   "metadata": {},
   "source": [
    "###### YearBuilt & YearRemodAdd"
   ]
  },
  {
   "cell_type": "code",
   "execution_count": 800,
   "metadata": {
    "collapsed": true
   },
   "outputs": [],
   "source": [
    "# year = (train.YearBuilt.value_counts()/N*100).round(2)\n",
    "# with pd.option_context('display.max_rows', None, 'display.max_columns', 3):\n",
    "#     print(year)\n",
    "# year = (train.YearRemodAdd.value_counts()/N*100).round(2)\n",
    "# with pd.option_context('display.max_rows', None, 'display.max_columns', 3):\n",
    "#     print(year)\n"
   ]
  },
  {
   "cell_type": "markdown",
   "metadata": {},
   "source": [
    "###### RoofStyle: Type of roof"
   ]
  },
  {
   "cell_type": "markdown",
   "metadata": {},
   "source": [
    "Created 2 dummies - roof_hip and roof_gable"
   ]
  },
  {
   "cell_type": "code",
   "execution_count": 801,
   "metadata": {},
   "outputs": [
    {
     "data": {
      "text/plain": [
       "Gable      78.15\n",
       "Hip        19.59\n",
       "Flat        0.89\n",
       "Gambrel     0.75\n",
       "Mansard     0.48\n",
       "Shed        0.14\n",
       "Name: RoofStyle, dtype: float64"
      ]
     },
     "execution_count": 801,
     "metadata": {},
     "output_type": "execute_result"
    }
   ],
   "source": [
    "# Observations in each level of RoofStyle (%):\n",
    "(train.RoofStyle.value_counts().sort_values(ascending = False)/N*100).round(2)"
   ]
  },
  {
   "cell_type": "code",
   "execution_count": 802,
   "metadata": {
    "collapsed": true
   },
   "outputs": [],
   "source": [
    "# (test.RoofStyle.value_counts().sort_values(ascending = False)/N*100).round(2)"
   ]
  },
  {
   "cell_type": "code",
   "execution_count": 803,
   "metadata": {
    "collapsed": true
   },
   "outputs": [],
   "source": [
    "# Creating 2 dummies:\n",
    "train['roof_gable'] = 0\n",
    "train['roof_hip'] = 0\n",
    "train.loc[(train.RoofStyle == 'Gable'), 'roof_gable'] = 1\n",
    "train.loc[(train.RoofStyle == 'Hip'), 'roof_hip'] = 1\n",
    "# pd.crosstab(train.roof_hip, train.RoofStyle)"
   ]
  },
  {
   "cell_type": "code",
   "execution_count": 804,
   "metadata": {
    "collapsed": true
   },
   "outputs": [],
   "source": [
    "test['roof_gable'] = 0\n",
    "test['roof_hip'] = 0\n",
    "test.loc[(test.RoofStyle == 'Gable'), 'roof_gable'] = 1\n",
    "test.loc[(test.RoofStyle == 'Hip'), 'roof_hip'] = 1"
   ]
  },
  {
   "cell_type": "code",
   "execution_count": 805,
   "metadata": {},
   "outputs": [
    {
     "name": "stdout",
     "output_type": "stream",
     "text": [
      "(1460, 140)\n",
      "(1459, 139)\n"
     ]
    }
   ],
   "source": [
    "print(train.shape)\n",
    "print(test.shape)"
   ]
  },
  {
   "cell_type": "code",
   "execution_count": 806,
   "metadata": {},
   "outputs": [
    {
     "data": {
      "text/html": [
       "<div>\n",
       "<style>\n",
       "    .dataframe thead tr:only-child th {\n",
       "        text-align: right;\n",
       "    }\n",
       "\n",
       "    .dataframe thead th {\n",
       "        text-align: left;\n",
       "    }\n",
       "\n",
       "    .dataframe tbody tr th {\n",
       "        vertical-align: top;\n",
       "    }\n",
       "</style>\n",
       "<table border=\"1\" class=\"dataframe\">\n",
       "  <thead>\n",
       "    <tr style=\"text-align: right;\">\n",
       "      <th></th>\n",
       "      <th>roof_gable</th>\n",
       "      <th>roof_hip</th>\n",
       "    </tr>\n",
       "  </thead>\n",
       "  <tbody>\n",
       "    <tr>\n",
       "      <th>roof_gable</th>\n",
       "      <td>1.000000</td>\n",
       "      <td>-0.933462</td>\n",
       "    </tr>\n",
       "    <tr>\n",
       "      <th>roof_hip</th>\n",
       "      <td>-0.933462</td>\n",
       "      <td>1.000000</td>\n",
       "    </tr>\n",
       "  </tbody>\n",
       "</table>\n",
       "</div>"
      ],
      "text/plain": [
       "            roof_gable  roof_hip\n",
       "roof_gable    1.000000 -0.933462\n",
       "roof_hip     -0.933462  1.000000"
      ]
     },
     "execution_count": 806,
     "metadata": {},
     "output_type": "execute_result"
    }
   ],
   "source": [
    "# correlations among them:\n",
    "train[['roof_gable', 'roof_hip']].corr()\n",
    "# correlation is way too high - we will only use one of them"
   ]
  },
  {
   "cell_type": "markdown",
   "metadata": {},
   "source": [
    "###### RoofMatl: Roof material - IGNORE, NO VARIANCE"
   ]
  },
  {
   "cell_type": "code",
   "execution_count": 807,
   "metadata": {},
   "outputs": [
    {
     "data": {
      "text/plain": [
       "CompShg    98.22\n",
       "Tar&Grv     0.75\n",
       "WdShngl     0.41\n",
       "WdShake     0.34\n",
       "Membran     0.07\n",
       "Metal       0.07\n",
       "Roll        0.07\n",
       "ClyTile     0.07\n",
       "Name: RoofMatl, dtype: float64"
      ]
     },
     "execution_count": 807,
     "metadata": {},
     "output_type": "execute_result"
    }
   ],
   "source": [
    "# Observations in each level of RoofMatl (%):\n",
    "(train.RoofMatl.value_counts().sort_values(ascending = False)/N*100).round(2)"
   ]
  },
  {
   "cell_type": "code",
   "execution_count": 808,
   "metadata": {},
   "outputs": [
    {
     "data": {
      "text/plain": [
       "CompShg    98.77\n",
       "Tar&Grv     0.82\n",
       "WdShake     0.27\n",
       "WdShngl     0.07\n",
       "Name: RoofMatl, dtype: float64"
      ]
     },
     "execution_count": 808,
     "metadata": {},
     "output_type": "execute_result"
    }
   ],
   "source": [
    "(test.RoofMatl.value_counts().sort_values(ascending = False)/N*100).round(2)"
   ]
  },
  {
   "cell_type": "markdown",
   "metadata": {},
   "source": [
    "###### Exterior1st: Exterior covering on house"
   ]
  },
  {
   "cell_type": "code",
   "execution_count": 809,
   "metadata": {},
   "outputs": [
    {
     "name": "stdout",
     "output_type": "stream",
     "text": [
      "(1460, 140)\n",
      "(1459, 139)\n"
     ]
    }
   ],
   "source": [
    "print(train.shape)\n",
    "print(test.shape)"
   ]
  },
  {
   "cell_type": "code",
   "execution_count": 810,
   "metadata": {},
   "outputs": [
    {
     "data": {
      "text/plain": [
       "VinylSd    35.27\n",
       "HdBoard    15.21\n",
       "MetalSd    15.07\n",
       "Wd Sdng    14.11\n",
       "Plywood     7.40\n",
       "CemntBd     4.18\n",
       "BrkFace     3.42\n",
       "WdShing     1.78\n",
       "Stucco      1.71\n",
       "AsbShng     1.37\n",
       "Stone       0.14\n",
       "BrkComm     0.14\n",
       "AsphShn     0.07\n",
       "CBlock      0.07\n",
       "ImStucc     0.07\n",
       "Name: Exterior1st, dtype: float64"
      ]
     },
     "execution_count": 810,
     "metadata": {},
     "output_type": "execute_result"
    }
   ],
   "source": [
    "# Observations in each level of Exterior1st (%):\n",
    "(train.Exterior1st.value_counts().sort_values(ascending = False)/N*100).round(2)"
   ]
  },
  {
   "cell_type": "code",
   "execution_count": 811,
   "metadata": {
    "collapsed": true
   },
   "outputs": [],
   "source": [
    "# (train.Exterior2nd.value_counts().sort_values(ascending = False)/N*100).round(2)"
   ]
  },
  {
   "cell_type": "code",
   "execution_count": 812,
   "metadata": {
    "collapsed": true
   },
   "outputs": [],
   "source": [
    "# (test.Exterior1st.value_counts().sort_values(ascending = False)/N*100).round(2)"
   ]
  },
  {
   "cell_type": "code",
   "execution_count": 813,
   "metadata": {
    "collapsed": true,
    "scrolled": true
   },
   "outputs": [],
   "source": [
    "# (test.Exterior2nd.value_counts().sort_values(ascending = False)/N*100).round(2)"
   ]
  },
  {
   "cell_type": "code",
   "execution_count": 814,
   "metadata": {
    "collapsed": true
   },
   "outputs": [],
   "source": [
    "# Fixing 3 values - eliminating spaces:\n",
    "train.Exterior1st = train.Exterior1st.str.replace('\\s+', '')\n",
    "train.Exterior2nd = train.Exterior2nd.str.replace('\\s+', '')\n",
    "test.Exterior1st = test.Exterior1st.str.replace('\\s+', '')\n",
    "test.Exterior2nd = test.Exterior2nd.str.replace('\\s+', '') "
   ]
  },
  {
   "cell_type": "code",
   "execution_count": 815,
   "metadata": {
    "collapsed": true
   },
   "outputs": [],
   "source": [
    "# train = train.loc[:, ~train.columns.str.startswith('ext_')]\n",
    "# test = test.loc[:, ~test.columns.str.startswith('ext_')]"
   ]
  },
  {
   "cell_type": "code",
   "execution_count": 816,
   "metadata": {
    "collapsed": true
   },
   "outputs": [],
   "source": [
    "# test['Exterior1st'].isnull().sum()    # Has one missing value\n",
    "# train['Exterior1st'].isnull().sum()   # Has no missing values"
   ]
  },
  {
   "cell_type": "code",
   "execution_count": 817,
   "metadata": {
    "collapsed": true
   },
   "outputs": [],
   "source": [
    "# Build dummies:\n",
    "temp = pd.get_dummies(train.Exterior1st, prefix = \"ext\")\n",
    "train = pd.concat([train, temp], axis = 1)"
   ]
  },
  {
   "cell_type": "code",
   "execution_count": 818,
   "metadata": {
    "collapsed": true
   },
   "outputs": [],
   "source": [
    "temp = pd.get_dummies(test.Exterior1st, prefix = \"ext\")\n",
    "test = pd.concat([test, temp], axis = 1)"
   ]
  },
  {
   "cell_type": "code",
   "execution_count": 819,
   "metadata": {
    "collapsed": true
   },
   "outputs": [],
   "source": [
    "for i in list(train.Exterior1st.unique()):\n",
    "    forname = 'ext_' + str(i)\n",
    "    train.loc[train.Exterior2nd == i, forname] = 1"
   ]
  },
  {
   "cell_type": "code",
   "execution_count": 820,
   "metadata": {
    "collapsed": true
   },
   "outputs": [],
   "source": [
    "for i in list(test.Exterior1st.unique()):\n",
    "    forname = 'ext_' + str(i)\n",
    "    test.loc[test.Exterior2nd == i, forname] = 1"
   ]
  },
  {
   "cell_type": "code",
   "execution_count": 821,
   "metadata": {},
   "outputs": [
    {
     "data": {
      "text/plain": [
       "ext_AsbShng     1.575342\n",
       "ext_AsphShn     0.205479\n",
       "ext_BrkComm     0.136986\n",
       "ext_BrkFace     3.493151\n",
       "ext_CBlock      0.068493\n",
       "ext_CemntBd     4.178082\n",
       "ext_HdBoard    16.164384\n",
       "ext_ImStucc     0.684932\n",
       "ext_MetalSd    15.205479\n",
       "ext_Plywood    10.547945\n",
       "ext_Stone       0.410959\n",
       "ext_Stucco      2.123288\n",
       "ext_VinylSd    35.410959\n",
       "ext_WdSdng     15.479452\n",
       "ext_WdShing     1.780822\n",
       "dtype: float64"
      ]
     },
     "execution_count": 821,
     "metadata": {},
     "output_type": "execute_result"
    }
   ],
   "source": [
    "train.loc[:, train.columns.str.startswith('ext_')].mean() * 100"
   ]
  },
  {
   "cell_type": "code",
   "execution_count": 822,
   "metadata": {},
   "outputs": [
    {
     "data": {
      "text/plain": [
       "ext_AsbShng     1.644962\n",
       "ext_AsphShn     0.068540\n",
       "ext_BrkComm     0.274160\n",
       "ext_BrkFace     2.673064\n",
       "ext_CBlock      0.205620\n",
       "ext_CemntBd     4.455106\n",
       "ext_HdBoard    15.695682\n",
       "ext_MetalSd    16.312543\n",
       "ext_Plywood    10.349554\n",
       "ext_Stucco      1.782042\n",
       "ext_VinylSd    35.435230\n",
       "ext_WdSdng     15.284441\n",
       "ext_WdShing     2.056203\n",
       "ext_nan              NaN\n",
       "dtype: float64"
      ]
     },
     "execution_count": 822,
     "metadata": {},
     "output_type": "execute_result"
    }
   ],
   "source": [
    "test.loc[:, test.columns.str.startswith('ext_')].mean() * 100"
   ]
  },
  {
   "cell_type": "markdown",
   "metadata": {},
   "source": [
    "Deleting exterial material columns we don't need"
   ]
  },
  {
   "cell_type": "code",
   "execution_count": 823,
   "metadata": {
    "collapsed": true
   },
   "outputs": [],
   "source": [
    "train.drop('ext_ImStucc', axis=1, inplace = True)"
   ]
  },
  {
   "cell_type": "code",
   "execution_count": 824,
   "metadata": {
    "collapsed": true
   },
   "outputs": [],
   "source": [
    "test.drop('ext_nan', axis=1, inplace = True)"
   ]
  },
  {
   "cell_type": "code",
   "execution_count": 825,
   "metadata": {
    "collapsed": true
   },
   "outputs": [],
   "source": [
    "train.drop('ext_AsphShn', axis=1, inplace = True)\n",
    "test.drop('ext_AsphShn', axis=1, inplace = True)"
   ]
  },
  {
   "cell_type": "code",
   "execution_count": 826,
   "metadata": {
    "collapsed": true
   },
   "outputs": [],
   "source": [
    "train.drop('ext_BrkComm', axis=1, inplace = True)\n",
    "test.drop('ext_BrkComm', axis=1, inplace = True)"
   ]
  },
  {
   "cell_type": "code",
   "execution_count": 827,
   "metadata": {
    "collapsed": true
   },
   "outputs": [],
   "source": [
    "train.drop('ext_CBlock', axis=1, inplace = True)\n",
    "test.drop('ext_CBlock', axis=1, inplace = True)"
   ]
  },
  {
   "cell_type": "code",
   "execution_count": 828,
   "metadata": {
    "collapsed": true
   },
   "outputs": [],
   "source": [
    "train.drop('ext_Stone', axis=1, inplace = True)"
   ]
  },
  {
   "cell_type": "code",
   "execution_count": 829,
   "metadata": {
    "collapsed": true
   },
   "outputs": [],
   "source": [
    "# train.drop('ext_CBlock', axis=1, inplace = True)\n",
    "# test.drop('ext_CBlock', axis=1, inplace = True)"
   ]
  },
  {
   "cell_type": "code",
   "execution_count": 830,
   "metadata": {},
   "outputs": [
    {
     "name": "stdout",
     "output_type": "stream",
     "text": [
      "(1460, 150)\n",
      "(1459, 149)\n"
     ]
    }
   ],
   "source": [
    "print(train.shape)\n",
    "print(test.shape)"
   ]
  },
  {
   "cell_type": "markdown",
   "metadata": {},
   "source": [
    "###### MasVnrType: Masonry veneer type"
   ]
  },
  {
   "cell_type": "markdown",
   "metadata": {},
   "source": [
    "Created 2 dummies - for stone & brick face"
   ]
  },
  {
   "cell_type": "code",
   "execution_count": 831,
   "metadata": {},
   "outputs": [
    {
     "data": {
      "text/plain": [
       "None       59.18\n",
       "BrkFace    30.48\n",
       "Stone       8.77\n",
       "BrkCmn      1.03\n",
       "Name: MasVnrType, dtype: float64"
      ]
     },
     "execution_count": 831,
     "metadata": {},
     "output_type": "execute_result"
    }
   ],
   "source": [
    "# Observations in each level of MasVnrType (%):\n",
    "(train.MasVnrType.value_counts().sort_values(ascending = False)/N*100).round(2)"
   ]
  },
  {
   "cell_type": "code",
   "execution_count": 832,
   "metadata": {},
   "outputs": [
    {
     "data": {
      "text/plain": [
       "None       60.14\n",
       "BrkFace    29.73\n",
       "Stone       8.29\n",
       "BrkCmn      0.68\n",
       "Name: MasVnrType, dtype: float64"
      ]
     },
     "execution_count": 832,
     "metadata": {},
     "output_type": "execute_result"
    }
   ],
   "source": [
    "(test.MasVnrType.value_counts().sort_values(ascending = False)/N*100).round(2)"
   ]
  },
  {
   "cell_type": "code",
   "execution_count": 833,
   "metadata": {
    "collapsed": true
   },
   "outputs": [],
   "source": [
    "# Creating 2 dummies:\n",
    "train['veneer_brickface'] = 0\n",
    "train['veneer_stone'] = 0\n",
    "train.loc[(train.MasVnrType == 'BrkFace'), 'veneer_brickface'] = 1\n",
    "train.loc[(train.MasVnrType == 'Stone'), 'veneer_stone'] = 1\n",
    "# pd.crosstab(train.veneer_stone, train.MasVnrType)"
   ]
  },
  {
   "cell_type": "code",
   "execution_count": 834,
   "metadata": {
    "collapsed": true
   },
   "outputs": [],
   "source": [
    "test['veneer_brickface'] = 0\n",
    "test['veneer_stone'] = 0\n",
    "test.loc[(test.MasVnrType == 'BrkFace'), 'veneer_brickface'] = 1\n",
    "test.loc[(test.MasVnrType == 'Stone'), 'veneer_stone'] = 1\n",
    "# pd.crosstab(test.veneer_brickface, test.MasVnrType)"
   ]
  },
  {
   "cell_type": "code",
   "execution_count": null,
   "metadata": {
    "collapsed": true
   },
   "outputs": [],
   "source": []
  },
  {
   "cell_type": "markdown",
   "metadata": {},
   "source": [
    "###### MasVnrArea: Masonry veneer area in square feet"
   ]
  },
  {
   "cell_type": "markdown",
   "metadata": {},
   "source": [
    "Check distribution"
   ]
  },
  {
   "cell_type": "code",
   "execution_count": 835,
   "metadata": {},
   "outputs": [
    {
     "data": {
      "text/plain": [
       "count    1452.000000\n",
       "mean      103.685262\n",
       "std       181.066207\n",
       "min         0.000000\n",
       "25%         0.000000\n",
       "50%         0.000000\n",
       "75%       166.000000\n",
       "max      1600.000000\n",
       "Name: MasVnrArea, dtype: float64"
      ]
     },
     "execution_count": 835,
     "metadata": {},
     "output_type": "execute_result"
    }
   ],
   "source": [
    "train.MasVnrArea.describe()"
   ]
  },
  {
   "cell_type": "markdown",
   "metadata": {},
   "source": [
    "###### ExterQual: Exterior material quality"
   ]
  },
  {
   "cell_type": "markdown",
   "metadata": {},
   "source": [
    "Recoded into numeric 'exterior_quality':\n",
    "Fa = Fair = 0\n",
    "TA = Average = 1\n",
    "Gd = Good = 2\n",
    "Ex = Excellent = 3\n"
   ]
  },
  {
   "cell_type": "code",
   "execution_count": 836,
   "metadata": {
    "collapsed": true
   },
   "outputs": [],
   "source": [
    "# (train.ExterQual.value_counts().sort_values(ascending = False)/N*100).round(2)"
   ]
  },
  {
   "cell_type": "code",
   "execution_count": 837,
   "metadata": {
    "collapsed": true
   },
   "outputs": [],
   "source": [
    "# (test.ExterQual.value_counts().sort_values(ascending = False)/N*100).round(2)"
   ]
  },
  {
   "cell_type": "code",
   "execution_count": 838,
   "metadata": {},
   "outputs": [
    {
     "data": {
      "text/html": [
       "<div>\n",
       "<style>\n",
       "    .dataframe thead tr:only-child th {\n",
       "        text-align: right;\n",
       "    }\n",
       "\n",
       "    .dataframe thead th {\n",
       "        text-align: left;\n",
       "    }\n",
       "\n",
       "    .dataframe tbody tr th {\n",
       "        vertical-align: top;\n",
       "    }\n",
       "</style>\n",
       "<table border=\"1\" class=\"dataframe\">\n",
       "  <thead>\n",
       "    <tr style=\"text-align: right;\">\n",
       "      <th>exterior_quality</th>\n",
       "      <th>0</th>\n",
       "      <th>1</th>\n",
       "      <th>2</th>\n",
       "      <th>3</th>\n",
       "    </tr>\n",
       "    <tr>\n",
       "      <th>ExterQual</th>\n",
       "      <th></th>\n",
       "      <th></th>\n",
       "      <th></th>\n",
       "      <th></th>\n",
       "    </tr>\n",
       "  </thead>\n",
       "  <tbody>\n",
       "    <tr>\n",
       "      <th>Ex</th>\n",
       "      <td>0</td>\n",
       "      <td>0</td>\n",
       "      <td>0</td>\n",
       "      <td>52</td>\n",
       "    </tr>\n",
       "    <tr>\n",
       "      <th>Fa</th>\n",
       "      <td>14</td>\n",
       "      <td>0</td>\n",
       "      <td>0</td>\n",
       "      <td>0</td>\n",
       "    </tr>\n",
       "    <tr>\n",
       "      <th>Gd</th>\n",
       "      <td>0</td>\n",
       "      <td>0</td>\n",
       "      <td>488</td>\n",
       "      <td>0</td>\n",
       "    </tr>\n",
       "    <tr>\n",
       "      <th>TA</th>\n",
       "      <td>0</td>\n",
       "      <td>906</td>\n",
       "      <td>0</td>\n",
       "      <td>0</td>\n",
       "    </tr>\n",
       "  </tbody>\n",
       "</table>\n",
       "</div>"
      ],
      "text/plain": [
       "exterior_quality   0    1    2   3\n",
       "ExterQual                         \n",
       "Ex                 0    0    0  52\n",
       "Fa                14    0    0   0\n",
       "Gd                 0    0  488   0\n",
       "TA                 0  906    0   0"
      ]
     },
     "execution_count": 838,
     "metadata": {},
     "output_type": "execute_result"
    }
   ],
   "source": [
    "train['exterior_quality'] = 0\n",
    "train.loc[(train.ExterQual == 'TA'), 'exterior_quality'] = 1\n",
    "train.loc[(train.ExterQual == 'Gd'), 'exterior_quality'] = 2\n",
    "train.loc[(train.ExterQual == 'Ex'), 'exterior_quality'] = 3\n",
    "pd.crosstab(train.ExterQual, train.exterior_quality)"
   ]
  },
  {
   "cell_type": "code",
   "execution_count": 839,
   "metadata": {
    "scrolled": true
   },
   "outputs": [
    {
     "data": {
      "text/html": [
       "<div>\n",
       "<style>\n",
       "    .dataframe thead tr:only-child th {\n",
       "        text-align: right;\n",
       "    }\n",
       "\n",
       "    .dataframe thead th {\n",
       "        text-align: left;\n",
       "    }\n",
       "\n",
       "    .dataframe tbody tr th {\n",
       "        vertical-align: top;\n",
       "    }\n",
       "</style>\n",
       "<table border=\"1\" class=\"dataframe\">\n",
       "  <thead>\n",
       "    <tr style=\"text-align: right;\">\n",
       "      <th>exterior_quality</th>\n",
       "      <th>0</th>\n",
       "      <th>1</th>\n",
       "      <th>2</th>\n",
       "      <th>3</th>\n",
       "    </tr>\n",
       "    <tr>\n",
       "      <th>ExterQual</th>\n",
       "      <th></th>\n",
       "      <th></th>\n",
       "      <th></th>\n",
       "      <th></th>\n",
       "    </tr>\n",
       "  </thead>\n",
       "  <tbody>\n",
       "    <tr>\n",
       "      <th>Ex</th>\n",
       "      <td>0</td>\n",
       "      <td>0</td>\n",
       "      <td>0</td>\n",
       "      <td>55</td>\n",
       "    </tr>\n",
       "    <tr>\n",
       "      <th>Fa</th>\n",
       "      <td>21</td>\n",
       "      <td>0</td>\n",
       "      <td>0</td>\n",
       "      <td>0</td>\n",
       "    </tr>\n",
       "    <tr>\n",
       "      <th>Gd</th>\n",
       "      <td>0</td>\n",
       "      <td>0</td>\n",
       "      <td>491</td>\n",
       "      <td>0</td>\n",
       "    </tr>\n",
       "    <tr>\n",
       "      <th>TA</th>\n",
       "      <td>0</td>\n",
       "      <td>892</td>\n",
       "      <td>0</td>\n",
       "      <td>0</td>\n",
       "    </tr>\n",
       "  </tbody>\n",
       "</table>\n",
       "</div>"
      ],
      "text/plain": [
       "exterior_quality   0    1    2   3\n",
       "ExterQual                         \n",
       "Ex                 0    0    0  55\n",
       "Fa                21    0    0   0\n",
       "Gd                 0    0  491   0\n",
       "TA                 0  892    0   0"
      ]
     },
     "execution_count": 839,
     "metadata": {},
     "output_type": "execute_result"
    }
   ],
   "source": [
    "test['exterior_quality'] = 0\n",
    "test.loc[(test.ExterQual == 'TA'), 'exterior_quality'] = 1\n",
    "test.loc[(test.ExterQual == 'Gd'), 'exterior_quality'] = 2\n",
    "test.loc[(test.ExterQual == 'Ex'), 'exterior_quality'] = 3\n",
    "pd.crosstab(test.ExterQual, test.exterior_quality)"
   ]
  },
  {
   "cell_type": "markdown",
   "metadata": {},
   "source": [
    "###### ExterCond: Evaluates the present condition of the material on the exterior"
   ]
  },
  {
   "cell_type": "markdown",
   "metadata": {},
   "source": [
    "Recoded into numeric 'exterior_condition': Po = Poor = 0, Fa = Fair = 1 TA = Average = 2 Gd = Good = 3 Ex = Excellent = 4"
   ]
  },
  {
   "cell_type": "code",
   "execution_count": 840,
   "metadata": {
    "collapsed": true
   },
   "outputs": [],
   "source": [
    "# print((train.ExterCond.value_counts().sort_values(ascending = False)/N*100).round(2))\n",
    "# print((test.ExterCond.value_counts().sort_values(ascending = False)/N*100).round(2))"
   ]
  },
  {
   "cell_type": "code",
   "execution_count": 841,
   "metadata": {},
   "outputs": [
    {
     "data": {
      "text/html": [
       "<div>\n",
       "<style>\n",
       "    .dataframe thead tr:only-child th {\n",
       "        text-align: right;\n",
       "    }\n",
       "\n",
       "    .dataframe thead th {\n",
       "        text-align: left;\n",
       "    }\n",
       "\n",
       "    .dataframe tbody tr th {\n",
       "        vertical-align: top;\n",
       "    }\n",
       "</style>\n",
       "<table border=\"1\" class=\"dataframe\">\n",
       "  <thead>\n",
       "    <tr style=\"text-align: right;\">\n",
       "      <th>exterior_condition</th>\n",
       "      <th>0</th>\n",
       "      <th>1</th>\n",
       "      <th>2</th>\n",
       "      <th>3</th>\n",
       "      <th>4</th>\n",
       "    </tr>\n",
       "    <tr>\n",
       "      <th>ExterCond</th>\n",
       "      <th></th>\n",
       "      <th></th>\n",
       "      <th></th>\n",
       "      <th></th>\n",
       "      <th></th>\n",
       "    </tr>\n",
       "  </thead>\n",
       "  <tbody>\n",
       "    <tr>\n",
       "      <th>Ex</th>\n",
       "      <td>0</td>\n",
       "      <td>0</td>\n",
       "      <td>0</td>\n",
       "      <td>0</td>\n",
       "      <td>3</td>\n",
       "    </tr>\n",
       "    <tr>\n",
       "      <th>Fa</th>\n",
       "      <td>0</td>\n",
       "      <td>28</td>\n",
       "      <td>0</td>\n",
       "      <td>0</td>\n",
       "      <td>0</td>\n",
       "    </tr>\n",
       "    <tr>\n",
       "      <th>Gd</th>\n",
       "      <td>0</td>\n",
       "      <td>0</td>\n",
       "      <td>0</td>\n",
       "      <td>146</td>\n",
       "      <td>0</td>\n",
       "    </tr>\n",
       "    <tr>\n",
       "      <th>Po</th>\n",
       "      <td>1</td>\n",
       "      <td>0</td>\n",
       "      <td>0</td>\n",
       "      <td>0</td>\n",
       "      <td>0</td>\n",
       "    </tr>\n",
       "    <tr>\n",
       "      <th>TA</th>\n",
       "      <td>0</td>\n",
       "      <td>0</td>\n",
       "      <td>1282</td>\n",
       "      <td>0</td>\n",
       "      <td>0</td>\n",
       "    </tr>\n",
       "  </tbody>\n",
       "</table>\n",
       "</div>"
      ],
      "text/plain": [
       "exterior_condition  0   1     2    3  4\n",
       "ExterCond                              \n",
       "Ex                  0   0     0    0  3\n",
       "Fa                  0  28     0    0  0\n",
       "Gd                  0   0     0  146  0\n",
       "Po                  1   0     0    0  0\n",
       "TA                  0   0  1282    0  0"
      ]
     },
     "execution_count": 841,
     "metadata": {},
     "output_type": "execute_result"
    }
   ],
   "source": [
    "train['exterior_condition'] = 0\n",
    "train.loc[(train.ExterCond == 'Fa'), 'exterior_condition'] = 1\n",
    "train.loc[(train.ExterCond == 'TA'), 'exterior_condition'] = 2\n",
    "train.loc[(train.ExterCond == 'Gd'), 'exterior_condition'] = 3\n",
    "train.loc[(train.ExterCond == 'Ex'), 'exterior_condition'] = 4\n",
    "pd.crosstab(train.ExterCond, train.exterior_condition)"
   ]
  },
  {
   "cell_type": "code",
   "execution_count": 842,
   "metadata": {},
   "outputs": [
    {
     "data": {
      "text/html": [
       "<div>\n",
       "<style>\n",
       "    .dataframe thead tr:only-child th {\n",
       "        text-align: right;\n",
       "    }\n",
       "\n",
       "    .dataframe thead th {\n",
       "        text-align: left;\n",
       "    }\n",
       "\n",
       "    .dataframe tbody tr th {\n",
       "        vertical-align: top;\n",
       "    }\n",
       "</style>\n",
       "<table border=\"1\" class=\"dataframe\">\n",
       "  <thead>\n",
       "    <tr style=\"text-align: right;\">\n",
       "      <th>exterior_condition</th>\n",
       "      <th>0</th>\n",
       "      <th>1</th>\n",
       "      <th>2</th>\n",
       "      <th>3</th>\n",
       "      <th>4</th>\n",
       "    </tr>\n",
       "    <tr>\n",
       "      <th>ExterCond</th>\n",
       "      <th></th>\n",
       "      <th></th>\n",
       "      <th></th>\n",
       "      <th></th>\n",
       "      <th></th>\n",
       "    </tr>\n",
       "  </thead>\n",
       "  <tbody>\n",
       "    <tr>\n",
       "      <th>Ex</th>\n",
       "      <td>0</td>\n",
       "      <td>0</td>\n",
       "      <td>0</td>\n",
       "      <td>0</td>\n",
       "      <td>9</td>\n",
       "    </tr>\n",
       "    <tr>\n",
       "      <th>Fa</th>\n",
       "      <td>0</td>\n",
       "      <td>39</td>\n",
       "      <td>0</td>\n",
       "      <td>0</td>\n",
       "      <td>0</td>\n",
       "    </tr>\n",
       "    <tr>\n",
       "      <th>Gd</th>\n",
       "      <td>0</td>\n",
       "      <td>0</td>\n",
       "      <td>0</td>\n",
       "      <td>153</td>\n",
       "      <td>0</td>\n",
       "    </tr>\n",
       "    <tr>\n",
       "      <th>Po</th>\n",
       "      <td>2</td>\n",
       "      <td>0</td>\n",
       "      <td>0</td>\n",
       "      <td>0</td>\n",
       "      <td>0</td>\n",
       "    </tr>\n",
       "    <tr>\n",
       "      <th>TA</th>\n",
       "      <td>0</td>\n",
       "      <td>0</td>\n",
       "      <td>1256</td>\n",
       "      <td>0</td>\n",
       "      <td>0</td>\n",
       "    </tr>\n",
       "  </tbody>\n",
       "</table>\n",
       "</div>"
      ],
      "text/plain": [
       "exterior_condition  0   1     2    3  4\n",
       "ExterCond                              \n",
       "Ex                  0   0     0    0  9\n",
       "Fa                  0  39     0    0  0\n",
       "Gd                  0   0     0  153  0\n",
       "Po                  2   0     0    0  0\n",
       "TA                  0   0  1256    0  0"
      ]
     },
     "execution_count": 842,
     "metadata": {},
     "output_type": "execute_result"
    }
   ],
   "source": [
    "test['exterior_condition'] = 0\n",
    "test.loc[(test.ExterCond == 'Fa'), 'exterior_condition'] = 1\n",
    "test.loc[(test.ExterCond == 'TA'), 'exterior_condition'] = 2\n",
    "test.loc[(test.ExterCond == 'Gd'), 'exterior_condition'] = 3\n",
    "test.loc[(test.ExterCond == 'Ex'), 'exterior_condition'] = 4\n",
    "pd.crosstab(test.ExterCond, test.exterior_condition)"
   ]
  },
  {
   "cell_type": "code",
   "execution_count": 843,
   "metadata": {},
   "outputs": [
    {
     "data": {
      "text/plain": [
       "Index(['Id', 'MSSubClass', 'MSZoning', 'LotFrontage', 'LotArea', 'Street',\n",
       "       'Alley', 'LotShape', 'LandContour', 'Utilities',\n",
       "       ...\n",
       "       'ext_MetalSd', 'ext_Plywood', 'ext_Stucco', 'ext_VinylSd', 'ext_WdSdng',\n",
       "       'ext_WdShing', 'veneer_brickface', 'veneer_stone', 'exterior_quality',\n",
       "       'exterior_condition'],\n",
       "      dtype='object', length=154)"
      ]
     },
     "execution_count": 843,
     "metadata": {},
     "output_type": "execute_result"
    }
   ],
   "source": [
    "train.columns"
   ]
  },
  {
   "cell_type": "code",
   "execution_count": 844,
   "metadata": {},
   "outputs": [
    {
     "data": {
      "text/plain": [
       "(array([  14.,    0.,    0.,  906.,    0.,    0.,  488.,    0.,    0.,   52.]),\n",
       " array([ 0. ,  0.3,  0.6,  0.9,  1.2,  1.5,  1.8,  2.1,  2.4,  2.7,  3. ]),\n",
       " <a list of 10 Patch objects>)"
      ]
     },
     "execution_count": 844,
     "metadata": {},
     "output_type": "execute_result"
    },
    {
     "data": {
      "image/png": "[encoded data removed]",
      "text/plain": [
       "<matplotlib.figure.Figure at 0x25381d22a90>"
      ]
     },
     "metadata": {},
     "output_type": "display_data"
    }
   ],
   "source": [
    "plt.hist(train['exterior_quality'])\n",
    "# Not working - where is the plot?"
   ]
  },
  {
   "cell_type": "code",
   "execution_count": 845,
   "metadata": {},
   "outputs": [
    {
     "data": {
      "text/plain": [
       "(array([  1.00000000e+00,   0.00000000e+00,   2.80000000e+01,\n",
       "          0.00000000e+00,   0.00000000e+00,   1.28200000e+03,\n",
       "          0.00000000e+00,   1.46000000e+02,   0.00000000e+00,\n",
       "          3.00000000e+00]),\n",
       " array([ 0. ,  0.4,  0.8,  1.2,  1.6,  2. ,  2.4,  2.8,  3.2,  3.6,  4. ]),\n",
       " <a list of 10 Patch objects>)"
      ]
     },
     "execution_count": 845,
     "metadata": {},
     "output_type": "execute_result"
    },
    {
     "data": {
      "image/png": "[encoded data removed]",
      "text/plain": [
       "<matplotlib.figure.Figure at 0x253ffa72828>"
      ]
     },
     "metadata": {},
     "output_type": "display_data"
    }
   ],
   "source": [
    "plt.hist(train['exterior_condition'])"
   ]
  },
  {
   "cell_type": "code",
   "execution_count": 846,
   "metadata": {},
   "outputs": [
    {
     "data": {
      "text/html": [
       "<div>\n",
       "<style>\n",
       "    .dataframe thead tr:only-child th {\n",
       "        text-align: right;\n",
       "    }\n",
       "\n",
       "    .dataframe thead th {\n",
       "        text-align: left;\n",
       "    }\n",
       "\n",
       "    .dataframe tbody tr th {\n",
       "        vertical-align: top;\n",
       "    }\n",
       "</style>\n",
       "<table border=\"1\" class=\"dataframe\">\n",
       "  <thead>\n",
       "    <tr style=\"text-align: right;\">\n",
       "      <th></th>\n",
       "      <th>exterior_quality</th>\n",
       "      <th>exterior_condition</th>\n",
       "    </tr>\n",
       "  </thead>\n",
       "  <tbody>\n",
       "    <tr>\n",
       "      <th>exterior_quality</th>\n",
       "      <td>1.000000</td>\n",
       "      <td>0.009184</td>\n",
       "    </tr>\n",
       "    <tr>\n",
       "      <th>exterior_condition</th>\n",
       "      <td>0.009184</td>\n",
       "      <td>1.000000</td>\n",
       "    </tr>\n",
       "  </tbody>\n",
       "</table>\n",
       "</div>"
      ],
      "text/plain": [
       "                    exterior_quality  exterior_condition\n",
       "exterior_quality            1.000000            0.009184\n",
       "exterior_condition          0.009184            1.000000"
      ]
     },
     "execution_count": 846,
     "metadata": {},
     "output_type": "execute_result"
    }
   ],
   "source": [
    "train[['exterior_quality','exterior_condition']].corr()  # Correlation is just 0.009, good!"
   ]
  },
  {
   "cell_type": "code",
   "execution_count": 847,
   "metadata": {},
   "outputs": [
    {
     "data": {
      "text/plain": [
       "(array([ 14,   0,   0, 906,   0,   0, 488,   0,   0,  52], dtype=int64),\n",
       " array([ 0. ,  0.3,  0.6,  0.9,  1.2,  1.5,  1.8,  2.1,  2.4,  2.7,  3. ]))"
      ]
     },
     "execution_count": 847,
     "metadata": {},
     "output_type": "execute_result"
    }
   ],
   "source": [
    "import numpy as np\n",
    "np.histogram(train.exterior_quality)"
   ]
  },
  {
   "cell_type": "markdown",
   "metadata": {},
   "source": [
    "###### Foundation: Type of foundation"
   ]
  },
  {
   "cell_type": "code",
   "execution_count": 848,
   "metadata": {},
   "outputs": [
    {
     "name": "stdout",
     "output_type": "stream",
     "text": [
      "PConc     44.32\n",
      "CBlock    43.42\n",
      "BrkTil    10.00\n",
      "Slab       1.64\n",
      "Stone      0.41\n",
      "Wood       0.21\n",
      "Name: Foundation, dtype: float64\n"
     ]
    }
   ],
   "source": [
    "print((train.Foundation.value_counts().sort_values(ascending = False)/N*100).round(2))\n",
    "# print((test.Foundation.value_counts().sort_values(ascending = False)/N*100).round(2))"
   ]
  },
  {
   "cell_type": "code",
   "execution_count": 849,
   "metadata": {
    "collapsed": true
   },
   "outputs": [],
   "source": [
    "# Building dummies and dropping some:\n",
    "temp = pd.get_dummies(train.Foundation, prefix = \"found\")\n",
    "temp.drop('found_Stone', axis=1, inplace = True)\n",
    "temp.drop('found_Wood', axis=1, inplace = True)\n",
    "train = pd.concat([train, temp], axis = 1)"
   ]
  },
  {
   "cell_type": "code",
   "execution_count": 850,
   "metadata": {
    "collapsed": true
   },
   "outputs": [],
   "source": [
    "temp = pd.get_dummies(test.Foundation, prefix = \"found\")\n",
    "temp.drop('found_Stone', axis=1, inplace = True)\n",
    "temp.drop('found_Wood', axis=1, inplace = True)\n",
    "test = pd.concat([test, temp], axis = 1)"
   ]
  },
  {
   "cell_type": "code",
   "execution_count": 851,
   "metadata": {
    "collapsed": true
   },
   "outputs": [],
   "source": [
    "# print(pd.crosstab(train.found_PConc, train.Foundation))\n",
    "# print(pd.crosstab(train.found_CBlock, train.Foundation))\n",
    "# print(pd.crosstab(train.found_BrkTil, train.Foundation))\n",
    "# print(pd.crosstab(train.found_Slab, train.Foundation))"
   ]
  },
  {
   "cell_type": "code",
   "execution_count": 852,
   "metadata": {
    "collapsed": true
   },
   "outputs": [],
   "source": [
    "# print(pd.crosstab(test.found_PConc, test.Foundation))\n",
    "# print(pd.crosstab(test.found_CBlock, test.Foundation))\n",
    "# print(pd.crosstab(test.found_BrkTil, test.Foundation))\n",
    "# print(pd.crosstab(test.found_Slab, test.Foundation))"
   ]
  },
  {
   "cell_type": "code",
   "execution_count": 853,
   "metadata": {},
   "outputs": [
    {
     "name": "stdout",
     "output_type": "stream",
     "text": [
      "(1460, 158)\n",
      "(1459, 157)\n"
     ]
    }
   ],
   "source": [
    "print(train.shape)\n",
    "print(test.shape)"
   ]
  },
  {
   "cell_type": "code",
   "execution_count": 854,
   "metadata": {},
   "outputs": [
    {
     "data": {
      "text/html": [
       "<div>\n",
       "<style>\n",
       "    .dataframe thead tr:only-child th {\n",
       "        text-align: right;\n",
       "    }\n",
       "\n",
       "    .dataframe thead th {\n",
       "        text-align: left;\n",
       "    }\n",
       "\n",
       "    .dataframe tbody tr th {\n",
       "        vertical-align: top;\n",
       "    }\n",
       "</style>\n",
       "<table border=\"1\" class=\"dataframe\">\n",
       "  <thead>\n",
       "    <tr style=\"text-align: right;\">\n",
       "      <th></th>\n",
       "      <th>found_BrkTil</th>\n",
       "      <th>found_CBlock</th>\n",
       "      <th>found_PConc</th>\n",
       "      <th>found_Slab</th>\n",
       "    </tr>\n",
       "  </thead>\n",
       "  <tbody>\n",
       "    <tr>\n",
       "      <th>found_BrkTil</th>\n",
       "      <td>1.000000</td>\n",
       "      <td>-0.292034</td>\n",
       "      <td>-0.297362</td>\n",
       "      <td>-0.043093</td>\n",
       "    </tr>\n",
       "    <tr>\n",
       "      <th>found_CBlock</th>\n",
       "      <td>-0.292034</td>\n",
       "      <td>1.000000</td>\n",
       "      <td>-0.781558</td>\n",
       "      <td>-0.113262</td>\n",
       "    </tr>\n",
       "    <tr>\n",
       "      <th>found_PConc</th>\n",
       "      <td>-0.297362</td>\n",
       "      <td>-0.781558</td>\n",
       "      <td>1.000000</td>\n",
       "      <td>-0.115328</td>\n",
       "    </tr>\n",
       "    <tr>\n",
       "      <th>found_Slab</th>\n",
       "      <td>-0.043093</td>\n",
       "      <td>-0.113262</td>\n",
       "      <td>-0.115328</td>\n",
       "      <td>1.000000</td>\n",
       "    </tr>\n",
       "  </tbody>\n",
       "</table>\n",
       "</div>"
      ],
      "text/plain": [
       "              found_BrkTil  found_CBlock  found_PConc  found_Slab\n",
       "found_BrkTil      1.000000     -0.292034    -0.297362   -0.043093\n",
       "found_CBlock     -0.292034      1.000000    -0.781558   -0.113262\n",
       "found_PConc      -0.297362     -0.781558     1.000000   -0.115328\n",
       "found_Slab       -0.043093     -0.113262    -0.115328    1.000000"
      ]
     },
     "execution_count": 854,
     "metadata": {},
     "output_type": "execute_result"
    }
   ],
   "source": [
    "# correlations among them:\n",
    "train[['found_BrkTil','found_CBlock','found_PConc', 'found_Slab']].corr()"
   ]
  },
  {
   "cell_type": "markdown",
   "metadata": {},
   "source": [
    "###### BsmtQual: Evaluates the height of the basement"
   ]
  },
  {
   "cell_type": "markdown",
   "metadata": {},
   "source": [
    "Created quantitative variable bsmt_height"
   ]
  },
  {
   "cell_type": "code",
   "execution_count": 855,
   "metadata": {
    "collapsed": true
   },
   "outputs": [],
   "source": [
    "# Replacing NAs with 'None' in both data frames:\n",
    "train['BsmtQual'].fillna('NoBasement', inplace=True)\n",
    "test['BsmtQual'].fillna('NoBasement', inplace=True)"
   ]
  },
  {
   "cell_type": "code",
   "execution_count": 856,
   "metadata": {},
   "outputs": [
    {
     "name": "stdout",
     "output_type": "stream",
     "text": [
      "TA            44.45\n",
      "Gd            42.33\n",
      "Ex             8.29\n",
      "NoBasement     2.53\n",
      "Fa             2.40\n",
      "Name: BsmtQual, dtype: float64\n",
      "TA            43.42\n",
      "Gd            40.48\n",
      "Ex             9.38\n",
      "Fa             3.63\n",
      "NoBasement     3.01\n",
      "Name: BsmtQual, dtype: float64\n"
     ]
    }
   ],
   "source": [
    "print((train.BsmtQual.value_counts().sort_values(ascending = False)/N*100).round(2))\n",
    "print((test.BsmtQual.value_counts().sort_values(ascending = False)/N*100).round(2))"
   ]
  },
  {
   "cell_type": "code",
   "execution_count": 857,
   "metadata": {},
   "outputs": [
    {
     "data": {
      "text/html": [
       "<div>\n",
       "<style>\n",
       "    .dataframe thead tr:only-child th {\n",
       "        text-align: right;\n",
       "    }\n",
       "\n",
       "    .dataframe thead th {\n",
       "        text-align: left;\n",
       "    }\n",
       "\n",
       "    .dataframe tbody tr th {\n",
       "        vertical-align: top;\n",
       "    }\n",
       "</style>\n",
       "<table border=\"1\" class=\"dataframe\">\n",
       "  <thead>\n",
       "    <tr style=\"text-align: right;\">\n",
       "      <th>bsmt_height</th>\n",
       "      <th>0</th>\n",
       "      <th>1</th>\n",
       "      <th>2</th>\n",
       "      <th>3</th>\n",
       "      <th>4</th>\n",
       "    </tr>\n",
       "    <tr>\n",
       "      <th>BsmtQual</th>\n",
       "      <th></th>\n",
       "      <th></th>\n",
       "      <th></th>\n",
       "      <th></th>\n",
       "      <th></th>\n",
       "    </tr>\n",
       "  </thead>\n",
       "  <tbody>\n",
       "    <tr>\n",
       "      <th>Ex</th>\n",
       "      <td>0</td>\n",
       "      <td>0</td>\n",
       "      <td>0</td>\n",
       "      <td>0</td>\n",
       "      <td>121</td>\n",
       "    </tr>\n",
       "    <tr>\n",
       "      <th>Fa</th>\n",
       "      <td>0</td>\n",
       "      <td>35</td>\n",
       "      <td>0</td>\n",
       "      <td>0</td>\n",
       "      <td>0</td>\n",
       "    </tr>\n",
       "    <tr>\n",
       "      <th>Gd</th>\n",
       "      <td>0</td>\n",
       "      <td>0</td>\n",
       "      <td>0</td>\n",
       "      <td>618</td>\n",
       "      <td>0</td>\n",
       "    </tr>\n",
       "    <tr>\n",
       "      <th>NoBasement</th>\n",
       "      <td>37</td>\n",
       "      <td>0</td>\n",
       "      <td>0</td>\n",
       "      <td>0</td>\n",
       "      <td>0</td>\n",
       "    </tr>\n",
       "    <tr>\n",
       "      <th>TA</th>\n",
       "      <td>0</td>\n",
       "      <td>0</td>\n",
       "      <td>649</td>\n",
       "      <td>0</td>\n",
       "      <td>0</td>\n",
       "    </tr>\n",
       "  </tbody>\n",
       "</table>\n",
       "</div>"
      ],
      "text/plain": [
       "bsmt_height   0   1    2    3    4\n",
       "BsmtQual                          \n",
       "Ex            0   0    0    0  121\n",
       "Fa            0  35    0    0    0\n",
       "Gd            0   0    0  618    0\n",
       "NoBasement   37   0    0    0    0\n",
       "TA            0   0  649    0    0"
      ]
     },
     "execution_count": 857,
     "metadata": {},
     "output_type": "execute_result"
    }
   ],
   "source": [
    "train['bsmt_height'] = 0\n",
    "train.loc[(train.BsmtQual == 'Fa'), 'bsmt_height'] = 1\n",
    "train.loc[(train.BsmtQual == 'TA'), 'bsmt_height'] = 2\n",
    "train.loc[(train.BsmtQual == 'Gd'), 'bsmt_height'] = 3\n",
    "train.loc[(train.BsmtQual == 'Ex'), 'bsmt_height'] = 4\n",
    "pd.crosstab(train.BsmtQual, train.bsmt_height)"
   ]
  },
  {
   "cell_type": "code",
   "execution_count": 858,
   "metadata": {
    "scrolled": true
   },
   "outputs": [
    {
     "data": {
      "text/html": [
       "<div>\n",
       "<style>\n",
       "    .dataframe thead tr:only-child th {\n",
       "        text-align: right;\n",
       "    }\n",
       "\n",
       "    .dataframe thead th {\n",
       "        text-align: left;\n",
       "    }\n",
       "\n",
       "    .dataframe tbody tr th {\n",
       "        vertical-align: top;\n",
       "    }\n",
       "</style>\n",
       "<table border=\"1\" class=\"dataframe\">\n",
       "  <thead>\n",
       "    <tr style=\"text-align: right;\">\n",
       "      <th>bsmt_height</th>\n",
       "      <th>0</th>\n",
       "      <th>1</th>\n",
       "      <th>2</th>\n",
       "      <th>3</th>\n",
       "      <th>4</th>\n",
       "    </tr>\n",
       "    <tr>\n",
       "      <th>BsmtQual</th>\n",
       "      <th></th>\n",
       "      <th></th>\n",
       "      <th></th>\n",
       "      <th></th>\n",
       "      <th></th>\n",
       "    </tr>\n",
       "  </thead>\n",
       "  <tbody>\n",
       "    <tr>\n",
       "      <th>Ex</th>\n",
       "      <td>0</td>\n",
       "      <td>0</td>\n",
       "      <td>0</td>\n",
       "      <td>0</td>\n",
       "      <td>137</td>\n",
       "    </tr>\n",
       "    <tr>\n",
       "      <th>Fa</th>\n",
       "      <td>0</td>\n",
       "      <td>53</td>\n",
       "      <td>0</td>\n",
       "      <td>0</td>\n",
       "      <td>0</td>\n",
       "    </tr>\n",
       "    <tr>\n",
       "      <th>Gd</th>\n",
       "      <td>0</td>\n",
       "      <td>0</td>\n",
       "      <td>0</td>\n",
       "      <td>591</td>\n",
       "      <td>0</td>\n",
       "    </tr>\n",
       "    <tr>\n",
       "      <th>NoBasement</th>\n",
       "      <td>44</td>\n",
       "      <td>0</td>\n",
       "      <td>0</td>\n",
       "      <td>0</td>\n",
       "      <td>0</td>\n",
       "    </tr>\n",
       "    <tr>\n",
       "      <th>TA</th>\n",
       "      <td>0</td>\n",
       "      <td>0</td>\n",
       "      <td>634</td>\n",
       "      <td>0</td>\n",
       "      <td>0</td>\n",
       "    </tr>\n",
       "  </tbody>\n",
       "</table>\n",
       "</div>"
      ],
      "text/plain": [
       "bsmt_height   0   1    2    3    4\n",
       "BsmtQual                          \n",
       "Ex            0   0    0    0  137\n",
       "Fa            0  53    0    0    0\n",
       "Gd            0   0    0  591    0\n",
       "NoBasement   44   0    0    0    0\n",
       "TA            0   0  634    0    0"
      ]
     },
     "execution_count": 858,
     "metadata": {},
     "output_type": "execute_result"
    }
   ],
   "source": [
    "test['bsmt_height'] = 0\n",
    "test.loc[(test.BsmtQual == 'Fa'), 'bsmt_height'] = 1\n",
    "test.loc[(test.BsmtQual == 'TA'), 'bsmt_height'] = 2\n",
    "test.loc[(test.BsmtQual == 'Gd'), 'bsmt_height'] = 3\n",
    "test.loc[(test.BsmtQual == 'Ex'), 'bsmt_height'] = 4\n",
    "pd.crosstab(test.BsmtQual, test.bsmt_height)"
   ]
  },
  {
   "cell_type": "code",
   "execution_count": 859,
   "metadata": {},
   "outputs": [
    {
     "name": "stdout",
     "output_type": "stream",
     "text": [
      "(1460, 159)\n",
      "(1459, 158)\n"
     ]
    }
   ],
   "source": [
    "print(train.shape)\n",
    "print(test.shape)"
   ]
  },
  {
   "cell_type": "markdown",
   "metadata": {},
   "source": [
    "###### BsmtCond: Evaluates the general condition of the basement"
   ]
  },
  {
   "cell_type": "code",
   "execution_count": 860,
   "metadata": {
    "collapsed": true
   },
   "outputs": [],
   "source": [
    "# Replacing NAs with 'None' in both data frames:\n",
    "train['BsmtCond'].fillna('NoBasement', inplace=True)\n",
    "test['BsmtCond'].fillna('NoBasement', inplace=True)"
   ]
  },
  {
   "cell_type": "code",
   "execution_count": 861,
   "metadata": {},
   "outputs": [
    {
     "name": "stdout",
     "output_type": "stream",
     "text": [
      "TA            89.79\n",
      "Gd             4.45\n",
      "Fa             3.08\n",
      "NoBasement     2.53\n",
      "Po             0.14\n",
      "Name: BsmtCond, dtype: float64\n",
      "TA            88.70\n",
      "Fa             4.04\n",
      "Gd             3.90\n",
      "NoBasement     3.08\n",
      "Po             0.21\n",
      "Name: BsmtCond, dtype: float64\n"
     ]
    }
   ],
   "source": [
    "print((train.BsmtCond.value_counts().sort_values(ascending = False)/N*100).round(2))\n",
    "print((test.BsmtCond.value_counts().sort_values(ascending = False)/N*100).round(2))"
   ]
  },
  {
   "cell_type": "code",
   "execution_count": 862,
   "metadata": {},
   "outputs": [
    {
     "data": {
      "text/html": [
       "<div>\n",
       "<style>\n",
       "    .dataframe thead tr:only-child th {\n",
       "        text-align: right;\n",
       "    }\n",
       "\n",
       "    .dataframe thead th {\n",
       "        text-align: left;\n",
       "    }\n",
       "\n",
       "    .dataframe tbody tr th {\n",
       "        vertical-align: top;\n",
       "    }\n",
       "</style>\n",
       "<table border=\"1\" class=\"dataframe\">\n",
       "  <thead>\n",
       "    <tr style=\"text-align: right;\">\n",
       "      <th>bsmt_condition</th>\n",
       "      <th>0</th>\n",
       "      <th>1</th>\n",
       "      <th>2</th>\n",
       "      <th>3</th>\n",
       "      <th>4</th>\n",
       "    </tr>\n",
       "    <tr>\n",
       "      <th>BsmtCond</th>\n",
       "      <th></th>\n",
       "      <th></th>\n",
       "      <th></th>\n",
       "      <th></th>\n",
       "      <th></th>\n",
       "    </tr>\n",
       "  </thead>\n",
       "  <tbody>\n",
       "    <tr>\n",
       "      <th>Fa</th>\n",
       "      <td>0</td>\n",
       "      <td>0</td>\n",
       "      <td>45</td>\n",
       "      <td>0</td>\n",
       "      <td>0</td>\n",
       "    </tr>\n",
       "    <tr>\n",
       "      <th>Gd</th>\n",
       "      <td>0</td>\n",
       "      <td>0</td>\n",
       "      <td>0</td>\n",
       "      <td>0</td>\n",
       "      <td>65</td>\n",
       "    </tr>\n",
       "    <tr>\n",
       "      <th>NoBasement</th>\n",
       "      <td>37</td>\n",
       "      <td>0</td>\n",
       "      <td>0</td>\n",
       "      <td>0</td>\n",
       "      <td>0</td>\n",
       "    </tr>\n",
       "    <tr>\n",
       "      <th>Po</th>\n",
       "      <td>0</td>\n",
       "      <td>2</td>\n",
       "      <td>0</td>\n",
       "      <td>0</td>\n",
       "      <td>0</td>\n",
       "    </tr>\n",
       "    <tr>\n",
       "      <th>TA</th>\n",
       "      <td>0</td>\n",
       "      <td>0</td>\n",
       "      <td>0</td>\n",
       "      <td>1311</td>\n",
       "      <td>0</td>\n",
       "    </tr>\n",
       "  </tbody>\n",
       "</table>\n",
       "</div>"
      ],
      "text/plain": [
       "bsmt_condition   0  1   2     3   4\n",
       "BsmtCond                           \n",
       "Fa               0  0  45     0   0\n",
       "Gd               0  0   0     0  65\n",
       "NoBasement      37  0   0     0   0\n",
       "Po               0  2   0     0   0\n",
       "TA               0  0   0  1311   0"
      ]
     },
     "execution_count": 862,
     "metadata": {},
     "output_type": "execute_result"
    }
   ],
   "source": [
    "train['bsmt_condition'] = 0\n",
    "train.loc[(train.BsmtCond == 'Po'), 'bsmt_condition'] = 1\n",
    "train.loc[(train.BsmtCond == 'Fa'), 'bsmt_condition'] = 2\n",
    "train.loc[(train.BsmtCond == 'TA'), 'bsmt_condition'] = 3\n",
    "train.loc[(train.BsmtCond == 'Gd'), 'bsmt_condition'] = 4\n",
    "pd.crosstab(train.BsmtCond, train.bsmt_condition)"
   ]
  },
  {
   "cell_type": "code",
   "execution_count": 863,
   "metadata": {},
   "outputs": [
    {
     "data": {
      "text/html": [
       "<div>\n",
       "<style>\n",
       "    .dataframe thead tr:only-child th {\n",
       "        text-align: right;\n",
       "    }\n",
       "\n",
       "    .dataframe thead th {\n",
       "        text-align: left;\n",
       "    }\n",
       "\n",
       "    .dataframe tbody tr th {\n",
       "        vertical-align: top;\n",
       "    }\n",
       "</style>\n",
       "<table border=\"1\" class=\"dataframe\">\n",
       "  <thead>\n",
       "    <tr style=\"text-align: right;\">\n",
       "      <th>bsmt_condition</th>\n",
       "      <th>0</th>\n",
       "      <th>1</th>\n",
       "      <th>2</th>\n",
       "      <th>3</th>\n",
       "      <th>4</th>\n",
       "    </tr>\n",
       "    <tr>\n",
       "      <th>BsmtCond</th>\n",
       "      <th></th>\n",
       "      <th></th>\n",
       "      <th></th>\n",
       "      <th></th>\n",
       "      <th></th>\n",
       "    </tr>\n",
       "  </thead>\n",
       "  <tbody>\n",
       "    <tr>\n",
       "      <th>Fa</th>\n",
       "      <td>0</td>\n",
       "      <td>0</td>\n",
       "      <td>59</td>\n",
       "      <td>0</td>\n",
       "      <td>0</td>\n",
       "    </tr>\n",
       "    <tr>\n",
       "      <th>Gd</th>\n",
       "      <td>0</td>\n",
       "      <td>0</td>\n",
       "      <td>0</td>\n",
       "      <td>0</td>\n",
       "      <td>57</td>\n",
       "    </tr>\n",
       "    <tr>\n",
       "      <th>NoBasement</th>\n",
       "      <td>45</td>\n",
       "      <td>0</td>\n",
       "      <td>0</td>\n",
       "      <td>0</td>\n",
       "      <td>0</td>\n",
       "    </tr>\n",
       "    <tr>\n",
       "      <th>Po</th>\n",
       "      <td>0</td>\n",
       "      <td>3</td>\n",
       "      <td>0</td>\n",
       "      <td>0</td>\n",
       "      <td>0</td>\n",
       "    </tr>\n",
       "    <tr>\n",
       "      <th>TA</th>\n",
       "      <td>0</td>\n",
       "      <td>0</td>\n",
       "      <td>0</td>\n",
       "      <td>1295</td>\n",
       "      <td>0</td>\n",
       "    </tr>\n",
       "  </tbody>\n",
       "</table>\n",
       "</div>"
      ],
      "text/plain": [
       "bsmt_condition   0  1   2     3   4\n",
       "BsmtCond                           \n",
       "Fa               0  0  59     0   0\n",
       "Gd               0  0   0     0  57\n",
       "NoBasement      45  0   0     0   0\n",
       "Po               0  3   0     0   0\n",
       "TA               0  0   0  1295   0"
      ]
     },
     "execution_count": 863,
     "metadata": {},
     "output_type": "execute_result"
    }
   ],
   "source": [
    "test['bsmt_condition'] = 0\n",
    "test.loc[(test.BsmtCond == 'Po'), 'bsmt_condition'] = 1\n",
    "test.loc[(test.BsmtCond == 'Fa'), 'bsmt_condition'] = 2\n",
    "test.loc[(test.BsmtCond == 'TA'), 'bsmt_condition'] = 3\n",
    "test.loc[(test.BsmtCond == 'Gd'), 'bsmt_condition'] = 4\n",
    "pd.crosstab(test.BsmtCond, test.bsmt_condition)"
   ]
  },
  {
   "cell_type": "code",
   "execution_count": 864,
   "metadata": {},
   "outputs": [
    {
     "name": "stdout",
     "output_type": "stream",
     "text": [
      "(1460, 160)\n",
      "(1459, 159)\n"
     ]
    }
   ],
   "source": [
    "print(train.shape)\n",
    "print(test.shape)"
   ]
  },
  {
   "cell_type": "code",
   "execution_count": 865,
   "metadata": {},
   "outputs": [
    {
     "data": {
      "text/html": [
       "<div>\n",
       "<style>\n",
       "    .dataframe thead tr:only-child th {\n",
       "        text-align: right;\n",
       "    }\n",
       "\n",
       "    .dataframe thead th {\n",
       "        text-align: left;\n",
       "    }\n",
       "\n",
       "    .dataframe tbody tr th {\n",
       "        vertical-align: top;\n",
       "    }\n",
       "</style>\n",
       "<table border=\"1\" class=\"dataframe\">\n",
       "  <thead>\n",
       "    <tr style=\"text-align: right;\">\n",
       "      <th></th>\n",
       "      <th>bsmt_height</th>\n",
       "      <th>bsmt_condition</th>\n",
       "    </tr>\n",
       "  </thead>\n",
       "  <tbody>\n",
       "    <tr>\n",
       "      <th>bsmt_height</th>\n",
       "      <td>1.000000</td>\n",
       "      <td>0.535957</td>\n",
       "    </tr>\n",
       "    <tr>\n",
       "      <th>bsmt_condition</th>\n",
       "      <td>0.535957</td>\n",
       "      <td>1.000000</td>\n",
       "    </tr>\n",
       "  </tbody>\n",
       "</table>\n",
       "</div>"
      ],
      "text/plain": [
       "                bsmt_height  bsmt_condition\n",
       "bsmt_height        1.000000        0.535957\n",
       "bsmt_condition     0.535957        1.000000"
      ]
     },
     "execution_count": 865,
     "metadata": {},
     "output_type": "execute_result"
    }
   ],
   "source": [
    "train[['bsmt_height','bsmt_condition']].corr()  # Correlation is 0.536"
   ]
  },
  {
   "cell_type": "code",
   "execution_count": 866,
   "metadata": {},
   "outputs": [
    {
     "data": {
      "text/html": [
       "<div>\n",
       "<style>\n",
       "    .dataframe thead tr:only-child th {\n",
       "        text-align: right;\n",
       "    }\n",
       "\n",
       "    .dataframe thead th {\n",
       "        text-align: left;\n",
       "    }\n",
       "\n",
       "    .dataframe tbody tr th {\n",
       "        vertical-align: top;\n",
       "    }\n",
       "</style>\n",
       "<table border=\"1\" class=\"dataframe\">\n",
       "  <thead>\n",
       "    <tr style=\"text-align: right;\">\n",
       "      <th></th>\n",
       "      <th>found_Slab</th>\n",
       "      <th>bsmt_condition</th>\n",
       "    </tr>\n",
       "  </thead>\n",
       "  <tbody>\n",
       "    <tr>\n",
       "      <th>found_Slab</th>\n",
       "      <td>1.000000</td>\n",
       "      <td>-0.687403</td>\n",
       "    </tr>\n",
       "    <tr>\n",
       "      <th>bsmt_condition</th>\n",
       "      <td>-0.687403</td>\n",
       "      <td>1.000000</td>\n",
       "    </tr>\n",
       "  </tbody>\n",
       "</table>\n",
       "</div>"
      ],
      "text/plain": [
       "                found_Slab  bsmt_condition\n",
       "found_Slab        1.000000       -0.687403\n",
       "bsmt_condition   -0.687403        1.000000"
      ]
     },
     "execution_count": 866,
     "metadata": {},
     "output_type": "execute_result"
    }
   ],
   "source": [
    "train[['found_Slab','bsmt_condition']].corr()  # Correlation is -0.69"
   ]
  },
  {
   "cell_type": "code",
   "execution_count": 867,
   "metadata": {},
   "outputs": [
    {
     "data": {
      "text/html": [
       "<div>\n",
       "<style>\n",
       "    .dataframe thead tr:only-child th {\n",
       "        text-align: right;\n",
       "    }\n",
       "\n",
       "    .dataframe thead th {\n",
       "        text-align: left;\n",
       "    }\n",
       "\n",
       "    .dataframe tbody tr th {\n",
       "        vertical-align: top;\n",
       "    }\n",
       "</style>\n",
       "<table border=\"1\" class=\"dataframe\">\n",
       "  <thead>\n",
       "    <tr style=\"text-align: right;\">\n",
       "      <th>found_Slab</th>\n",
       "      <th>0</th>\n",
       "      <th>1</th>\n",
       "    </tr>\n",
       "    <tr>\n",
       "      <th>bsmt_condition</th>\n",
       "      <th></th>\n",
       "      <th></th>\n",
       "    </tr>\n",
       "  </thead>\n",
       "  <tbody>\n",
       "    <tr>\n",
       "      <th>0</th>\n",
       "      <td>13</td>\n",
       "      <td>24</td>\n",
       "    </tr>\n",
       "    <tr>\n",
       "      <th>1</th>\n",
       "      <td>2</td>\n",
       "      <td>0</td>\n",
       "    </tr>\n",
       "    <tr>\n",
       "      <th>2</th>\n",
       "      <td>45</td>\n",
       "      <td>0</td>\n",
       "    </tr>\n",
       "    <tr>\n",
       "      <th>3</th>\n",
       "      <td>1311</td>\n",
       "      <td>0</td>\n",
       "    </tr>\n",
       "    <tr>\n",
       "      <th>4</th>\n",
       "      <td>65</td>\n",
       "      <td>0</td>\n",
       "    </tr>\n",
       "  </tbody>\n",
       "</table>\n",
       "</div>"
      ],
      "text/plain": [
       "found_Slab         0   1\n",
       "bsmt_condition          \n",
       "0                 13  24\n",
       "1                  2   0\n",
       "2                 45   0\n",
       "3               1311   0\n",
       "4                 65   0"
      ]
     },
     "execution_count": 867,
     "metadata": {},
     "output_type": "execute_result"
    }
   ],
   "source": [
    "pd.crosstab(train.bsmt_condition, train.found_Slab)"
   ]
  },
  {
   "cell_type": "markdown",
   "metadata": {},
   "source": [
    "###### BsmtExposure: Refers to walkout or garden level walls"
   ]
  },
  {
   "cell_type": "code",
   "execution_count": 868,
   "metadata": {
    "collapsed": true
   },
   "outputs": [],
   "source": [
    "# Replacing NAs with 'None' in both data frames:\n",
    "train['BsmtExposure'].fillna('NoBasement', inplace=True)\n",
    "test['BsmtExposure'].fillna('NoBasement', inplace=True)"
   ]
  },
  {
   "cell_type": "code",
   "execution_count": 869,
   "metadata": {},
   "outputs": [
    {
     "name": "stdout",
     "output_type": "stream",
     "text": [
      "No            65.27\n",
      "Av            15.14\n",
      "Gd             9.18\n",
      "Mn             7.81\n",
      "NoBasement     2.60\n",
      "Name: BsmtExposure, dtype: float64\n",
      "No            65.14\n",
      "Av            13.49\n",
      "Gd             9.73\n",
      "Mn             8.56\n",
      "NoBasement     3.01\n",
      "Name: BsmtExposure, dtype: float64\n"
     ]
    }
   ],
   "source": [
    "print((train.BsmtExposure.value_counts().sort_values(ascending = False)/N*100).round(2))\n",
    "print((test.BsmtExposure.value_counts().sort_values(ascending = False)/N*100).round(2))"
   ]
  },
  {
   "cell_type": "code",
   "execution_count": 870,
   "metadata": {},
   "outputs": [
    {
     "data": {
      "text/html": [
       "<div>\n",
       "<style>\n",
       "    .dataframe thead tr:only-child th {\n",
       "        text-align: right;\n",
       "    }\n",
       "\n",
       "    .dataframe thead th {\n",
       "        text-align: left;\n",
       "    }\n",
       "\n",
       "    .dataframe tbody tr th {\n",
       "        vertical-align: top;\n",
       "    }\n",
       "</style>\n",
       "<table border=\"1\" class=\"dataframe\">\n",
       "  <thead>\n",
       "    <tr style=\"text-align: right;\">\n",
       "      <th>bsmt_exposure</th>\n",
       "      <th>0</th>\n",
       "      <th>1</th>\n",
       "      <th>2</th>\n",
       "      <th>3</th>\n",
       "    </tr>\n",
       "    <tr>\n",
       "      <th>BsmtExposure</th>\n",
       "      <th></th>\n",
       "      <th></th>\n",
       "      <th></th>\n",
       "      <th></th>\n",
       "    </tr>\n",
       "  </thead>\n",
       "  <tbody>\n",
       "    <tr>\n",
       "      <th>Av</th>\n",
       "      <td>0</td>\n",
       "      <td>0</td>\n",
       "      <td>221</td>\n",
       "      <td>0</td>\n",
       "    </tr>\n",
       "    <tr>\n",
       "      <th>Gd</th>\n",
       "      <td>0</td>\n",
       "      <td>0</td>\n",
       "      <td>0</td>\n",
       "      <td>134</td>\n",
       "    </tr>\n",
       "    <tr>\n",
       "      <th>Mn</th>\n",
       "      <td>0</td>\n",
       "      <td>114</td>\n",
       "      <td>0</td>\n",
       "      <td>0</td>\n",
       "    </tr>\n",
       "    <tr>\n",
       "      <th>No</th>\n",
       "      <td>953</td>\n",
       "      <td>0</td>\n",
       "      <td>0</td>\n",
       "      <td>0</td>\n",
       "    </tr>\n",
       "    <tr>\n",
       "      <th>NoBasement</th>\n",
       "      <td>38</td>\n",
       "      <td>0</td>\n",
       "      <td>0</td>\n",
       "      <td>0</td>\n",
       "    </tr>\n",
       "  </tbody>\n",
       "</table>\n",
       "</div>"
      ],
      "text/plain": [
       "bsmt_exposure    0    1    2    3\n",
       "BsmtExposure                     \n",
       "Av               0    0  221    0\n",
       "Gd               0    0    0  134\n",
       "Mn               0  114    0    0\n",
       "No             953    0    0    0\n",
       "NoBasement      38    0    0    0"
      ]
     },
     "execution_count": 870,
     "metadata": {},
     "output_type": "execute_result"
    }
   ],
   "source": [
    "train['bsmt_exposure'] = 0\n",
    "train.loc[(train.BsmtExposure == 'Mn'), 'bsmt_exposure'] = 1\n",
    "train.loc[(train.BsmtExposure == 'Av'), 'bsmt_exposure'] = 2\n",
    "train.loc[(train.BsmtExposure == 'Gd'), 'bsmt_exposure'] = 3\n",
    "pd.crosstab(train.BsmtExposure, train.bsmt_exposure)"
   ]
  },
  {
   "cell_type": "code",
   "execution_count": 871,
   "metadata": {},
   "outputs": [
    {
     "data": {
      "text/html": [
       "<div>\n",
       "<style>\n",
       "    .dataframe thead tr:only-child th {\n",
       "        text-align: right;\n",
       "    }\n",
       "\n",
       "    .dataframe thead th {\n",
       "        text-align: left;\n",
       "    }\n",
       "\n",
       "    .dataframe tbody tr th {\n",
       "        vertical-align: top;\n",
       "    }\n",
       "</style>\n",
       "<table border=\"1\" class=\"dataframe\">\n",
       "  <thead>\n",
       "    <tr style=\"text-align: right;\">\n",
       "      <th>bsmt_exposure</th>\n",
       "      <th>0</th>\n",
       "      <th>1</th>\n",
       "      <th>2</th>\n",
       "      <th>3</th>\n",
       "    </tr>\n",
       "    <tr>\n",
       "      <th>BsmtExposure</th>\n",
       "      <th></th>\n",
       "      <th></th>\n",
       "      <th></th>\n",
       "      <th></th>\n",
       "    </tr>\n",
       "  </thead>\n",
       "  <tbody>\n",
       "    <tr>\n",
       "      <th>Av</th>\n",
       "      <td>0</td>\n",
       "      <td>0</td>\n",
       "      <td>197</td>\n",
       "      <td>0</td>\n",
       "    </tr>\n",
       "    <tr>\n",
       "      <th>Gd</th>\n",
       "      <td>0</td>\n",
       "      <td>0</td>\n",
       "      <td>0</td>\n",
       "      <td>142</td>\n",
       "    </tr>\n",
       "    <tr>\n",
       "      <th>Mn</th>\n",
       "      <td>0</td>\n",
       "      <td>125</td>\n",
       "      <td>0</td>\n",
       "      <td>0</td>\n",
       "    </tr>\n",
       "    <tr>\n",
       "      <th>No</th>\n",
       "      <td>951</td>\n",
       "      <td>0</td>\n",
       "      <td>0</td>\n",
       "      <td>0</td>\n",
       "    </tr>\n",
       "    <tr>\n",
       "      <th>NoBasement</th>\n",
       "      <td>44</td>\n",
       "      <td>0</td>\n",
       "      <td>0</td>\n",
       "      <td>0</td>\n",
       "    </tr>\n",
       "  </tbody>\n",
       "</table>\n",
       "</div>"
      ],
      "text/plain": [
       "bsmt_exposure    0    1    2    3\n",
       "BsmtExposure                     \n",
       "Av               0    0  197    0\n",
       "Gd               0    0    0  142\n",
       "Mn               0  125    0    0\n",
       "No             951    0    0    0\n",
       "NoBasement      44    0    0    0"
      ]
     },
     "execution_count": 871,
     "metadata": {},
     "output_type": "execute_result"
    }
   ],
   "source": [
    "test['bsmt_exposure'] = 0\n",
    "test.loc[(test.BsmtExposure == 'Mn'), 'bsmt_exposure'] = 1\n",
    "test.loc[(test.BsmtExposure == 'Av'), 'bsmt_exposure'] = 2\n",
    "test.loc[(test.BsmtExposure == 'Gd'), 'bsmt_exposure'] = 3\n",
    "pd.crosstab(test.BsmtExposure, test.bsmt_exposure)"
   ]
  },
  {
   "cell_type": "code",
   "execution_count": 872,
   "metadata": {},
   "outputs": [
    {
     "name": "stdout",
     "output_type": "stream",
     "text": [
      "(1460, 161)\n",
      "(1459, 160)\n"
     ]
    }
   ],
   "source": [
    "print(train.shape)\n",
    "print(test.shape)"
   ]
  },
  {
   "cell_type": "markdown",
   "metadata": {},
   "source": [
    "###### BsmtFinType1: Rating of basement finished area"
   ]
  },
  {
   "cell_type": "markdown",
   "metadata": {},
   "source": [
    "Created 2 quantitative vars: bsmt_finished1 and bsmt_finished2"
   ]
  },
  {
   "cell_type": "code",
   "execution_count": 873,
   "metadata": {
    "collapsed": true
   },
   "outputs": [],
   "source": [
    "# Replacing NAs with 'None' in both data frames:\n",
    "train['BsmtFinType1'].fillna('NoBasement', inplace=True)\n",
    "train['BsmtFinType2'].fillna('NoBasement', inplace=True)\n",
    "test['BsmtFinType1'].fillna('NoBasement', inplace=True)\n",
    "test['BsmtFinType2'].fillna('NoBasement', inplace=True)"
   ]
  },
  {
   "cell_type": "code",
   "execution_count": 874,
   "metadata": {
    "collapsed": true
   },
   "outputs": [],
   "source": [
    "# print((train.BsmtFinType1.value_counts().sort_values(ascending = False)/N*100).round(2))\n",
    "# print((train.BsmtFinType2.value_counts().sort_values(ascending = False)/N*100).round(2))"
   ]
  },
  {
   "cell_type": "code",
   "execution_count": 875,
   "metadata": {
    "collapsed": true
   },
   "outputs": [],
   "source": [
    "# print((test.BsmtFinType1.value_counts().sort_values(ascending = False)/N*100).round(2))\n",
    "# print((test.BsmtFinType2.value_counts().sort_values(ascending = False)/N*100).round(2))"
   ]
  },
  {
   "cell_type": "code",
   "execution_count": 876,
   "metadata": {},
   "outputs": [
    {
     "data": {
      "text/html": [
       "<div>\n",
       "<style>\n",
       "    .dataframe thead tr:only-child th {\n",
       "        text-align: right;\n",
       "    }\n",
       "\n",
       "    .dataframe thead th {\n",
       "        text-align: left;\n",
       "    }\n",
       "\n",
       "    .dataframe tbody tr th {\n",
       "        vertical-align: top;\n",
       "    }\n",
       "</style>\n",
       "<table border=\"1\" class=\"dataframe\">\n",
       "  <thead>\n",
       "    <tr style=\"text-align: right;\">\n",
       "      <th>bsmt_finished1</th>\n",
       "      <th>0</th>\n",
       "      <th>1</th>\n",
       "      <th>2</th>\n",
       "      <th>3</th>\n",
       "      <th>4</th>\n",
       "    </tr>\n",
       "    <tr>\n",
       "      <th>BsmtFinType1</th>\n",
       "      <th></th>\n",
       "      <th></th>\n",
       "      <th></th>\n",
       "      <th></th>\n",
       "      <th></th>\n",
       "    </tr>\n",
       "  </thead>\n",
       "  <tbody>\n",
       "    <tr>\n",
       "      <th>ALQ</th>\n",
       "      <td>0</td>\n",
       "      <td>0</td>\n",
       "      <td>0</td>\n",
       "      <td>220</td>\n",
       "      <td>0</td>\n",
       "    </tr>\n",
       "    <tr>\n",
       "      <th>BLQ</th>\n",
       "      <td>0</td>\n",
       "      <td>0</td>\n",
       "      <td>148</td>\n",
       "      <td>0</td>\n",
       "      <td>0</td>\n",
       "    </tr>\n",
       "    <tr>\n",
       "      <th>GLQ</th>\n",
       "      <td>0</td>\n",
       "      <td>0</td>\n",
       "      <td>0</td>\n",
       "      <td>0</td>\n",
       "      <td>418</td>\n",
       "    </tr>\n",
       "    <tr>\n",
       "      <th>LwQ</th>\n",
       "      <td>0</td>\n",
       "      <td>74</td>\n",
       "      <td>0</td>\n",
       "      <td>0</td>\n",
       "      <td>0</td>\n",
       "    </tr>\n",
       "    <tr>\n",
       "      <th>NoBasement</th>\n",
       "      <td>37</td>\n",
       "      <td>0</td>\n",
       "      <td>0</td>\n",
       "      <td>0</td>\n",
       "      <td>0</td>\n",
       "    </tr>\n",
       "    <tr>\n",
       "      <th>Rec</th>\n",
       "      <td>0</td>\n",
       "      <td>0</td>\n",
       "      <td>133</td>\n",
       "      <td>0</td>\n",
       "      <td>0</td>\n",
       "    </tr>\n",
       "    <tr>\n",
       "      <th>Unf</th>\n",
       "      <td>0</td>\n",
       "      <td>430</td>\n",
       "      <td>0</td>\n",
       "      <td>0</td>\n",
       "      <td>0</td>\n",
       "    </tr>\n",
       "  </tbody>\n",
       "</table>\n",
       "</div>"
      ],
      "text/plain": [
       "bsmt_finished1   0    1    2    3    4\n",
       "BsmtFinType1                          \n",
       "ALQ              0    0    0  220    0\n",
       "BLQ              0    0  148    0    0\n",
       "GLQ              0    0    0    0  418\n",
       "LwQ              0   74    0    0    0\n",
       "NoBasement      37    0    0    0    0\n",
       "Rec              0    0  133    0    0\n",
       "Unf              0  430    0    0    0"
      ]
     },
     "execution_count": 876,
     "metadata": {},
     "output_type": "execute_result"
    }
   ],
   "source": [
    "train['bsmt_finished1'] = 0\n",
    "train.loc[(train.BsmtFinType1 == 'Unf'), 'bsmt_finished1'] = 1\n",
    "train.loc[(train.BsmtFinType1 == 'LwQ'), 'bsmt_finished1'] = 1\n",
    "train.loc[(train.BsmtFinType1 == 'BLQ'), 'bsmt_finished1'] = 2\n",
    "train.loc[(train.BsmtFinType1 == 'Rec'), 'bsmt_finished1'] = 2\n",
    "train.loc[(train.BsmtFinType1 == 'ALQ'), 'bsmt_finished1'] = 3\n",
    "train.loc[(train.BsmtFinType1 == 'GLQ'), 'bsmt_finished1'] = 4\n",
    "pd.crosstab(train.BsmtFinType1, train.bsmt_finished1)"
   ]
  },
  {
   "cell_type": "code",
   "execution_count": 877,
   "metadata": {},
   "outputs": [
    {
     "data": {
      "text/html": [
       "<div>\n",
       "<style>\n",
       "    .dataframe thead tr:only-child th {\n",
       "        text-align: right;\n",
       "    }\n",
       "\n",
       "    .dataframe thead th {\n",
       "        text-align: left;\n",
       "    }\n",
       "\n",
       "    .dataframe tbody tr th {\n",
       "        vertical-align: top;\n",
       "    }\n",
       "</style>\n",
       "<table border=\"1\" class=\"dataframe\">\n",
       "  <thead>\n",
       "    <tr style=\"text-align: right;\">\n",
       "      <th>bsmt_finished1</th>\n",
       "      <th>0</th>\n",
       "      <th>1</th>\n",
       "      <th>2</th>\n",
       "      <th>3</th>\n",
       "      <th>4</th>\n",
       "    </tr>\n",
       "    <tr>\n",
       "      <th>BsmtFinType2</th>\n",
       "      <th></th>\n",
       "      <th></th>\n",
       "      <th></th>\n",
       "      <th></th>\n",
       "      <th></th>\n",
       "    </tr>\n",
       "  </thead>\n",
       "  <tbody>\n",
       "    <tr>\n",
       "      <th>ALQ</th>\n",
       "      <td>0</td>\n",
       "      <td>9</td>\n",
       "      <td>6</td>\n",
       "      <td>0</td>\n",
       "      <td>4</td>\n",
       "    </tr>\n",
       "    <tr>\n",
       "      <th>BLQ</th>\n",
       "      <td>0</td>\n",
       "      <td>4</td>\n",
       "      <td>12</td>\n",
       "      <td>15</td>\n",
       "      <td>2</td>\n",
       "    </tr>\n",
       "    <tr>\n",
       "      <th>GLQ</th>\n",
       "      <td>0</td>\n",
       "      <td>7</td>\n",
       "      <td>5</td>\n",
       "      <td>2</td>\n",
       "      <td>0</td>\n",
       "    </tr>\n",
       "    <tr>\n",
       "      <th>LwQ</th>\n",
       "      <td>0</td>\n",
       "      <td>0</td>\n",
       "      <td>21</td>\n",
       "      <td>15</td>\n",
       "      <td>10</td>\n",
       "    </tr>\n",
       "    <tr>\n",
       "      <th>NoBasement</th>\n",
       "      <td>37</td>\n",
       "      <td>0</td>\n",
       "      <td>0</td>\n",
       "      <td>0</td>\n",
       "      <td>1</td>\n",
       "    </tr>\n",
       "    <tr>\n",
       "      <th>Rec</th>\n",
       "      <td>0</td>\n",
       "      <td>8</td>\n",
       "      <td>15</td>\n",
       "      <td>22</td>\n",
       "      <td>9</td>\n",
       "    </tr>\n",
       "    <tr>\n",
       "      <th>Unf</th>\n",
       "      <td>0</td>\n",
       "      <td>476</td>\n",
       "      <td>222</td>\n",
       "      <td>166</td>\n",
       "      <td>392</td>\n",
       "    </tr>\n",
       "  </tbody>\n",
       "</table>\n",
       "</div>"
      ],
      "text/plain": [
       "bsmt_finished1   0    1    2    3    4\n",
       "BsmtFinType2                          \n",
       "ALQ              0    9    6    0    4\n",
       "BLQ              0    4   12   15    2\n",
       "GLQ              0    7    5    2    0\n",
       "LwQ              0    0   21   15   10\n",
       "NoBasement      37    0    0    0    1\n",
       "Rec              0    8   15   22    9\n",
       "Unf              0  476  222  166  392"
      ]
     },
     "execution_count": 877,
     "metadata": {},
     "output_type": "execute_result"
    }
   ],
   "source": [
    "train['bsmt_finished2'] = 0\n",
    "train.loc[(train.BsmtFinType2 == 'Unf'), 'bsmt_finished2'] = 1\n",
    "train.loc[(train.BsmtFinType2 == 'LwQ'), 'bsmt_finished2'] = 1\n",
    "train.loc[(train.BsmtFinType2 == 'BLQ'), 'bsmt_finished2'] = 2\n",
    "train.loc[(train.BsmtFinType2 == 'Rec'), 'bsmt_finished2'] = 2\n",
    "train.loc[(train.BsmtFinType2 == 'ALQ'), 'bsmt_finished2'] = 3\n",
    "train.loc[(train.BsmtFinType2 == 'GLQ'), 'bsmt_finished2'] = 4\n",
    "pd.crosstab(train.BsmtFinType2, train.bsmt_finished1)"
   ]
  },
  {
   "cell_type": "code",
   "execution_count": 878,
   "metadata": {},
   "outputs": [
    {
     "data": {
      "text/html": [
       "<div>\n",
       "<style>\n",
       "    .dataframe thead tr:only-child th {\n",
       "        text-align: right;\n",
       "    }\n",
       "\n",
       "    .dataframe thead th {\n",
       "        text-align: left;\n",
       "    }\n",
       "\n",
       "    .dataframe tbody tr th {\n",
       "        vertical-align: top;\n",
       "    }\n",
       "</style>\n",
       "<table border=\"1\" class=\"dataframe\">\n",
       "  <thead>\n",
       "    <tr style=\"text-align: right;\">\n",
       "      <th>bsmt_finished1</th>\n",
       "      <th>0</th>\n",
       "      <th>1</th>\n",
       "      <th>2</th>\n",
       "      <th>3</th>\n",
       "      <th>4</th>\n",
       "    </tr>\n",
       "    <tr>\n",
       "      <th>BsmtFinType1</th>\n",
       "      <th></th>\n",
       "      <th></th>\n",
       "      <th></th>\n",
       "      <th></th>\n",
       "      <th></th>\n",
       "    </tr>\n",
       "  </thead>\n",
       "  <tbody>\n",
       "    <tr>\n",
       "      <th>ALQ</th>\n",
       "      <td>0</td>\n",
       "      <td>0</td>\n",
       "      <td>0</td>\n",
       "      <td>209</td>\n",
       "      <td>0</td>\n",
       "    </tr>\n",
       "    <tr>\n",
       "      <th>BLQ</th>\n",
       "      <td>0</td>\n",
       "      <td>0</td>\n",
       "      <td>121</td>\n",
       "      <td>0</td>\n",
       "      <td>0</td>\n",
       "    </tr>\n",
       "    <tr>\n",
       "      <th>GLQ</th>\n",
       "      <td>0</td>\n",
       "      <td>0</td>\n",
       "      <td>0</td>\n",
       "      <td>0</td>\n",
       "      <td>431</td>\n",
       "    </tr>\n",
       "    <tr>\n",
       "      <th>LwQ</th>\n",
       "      <td>0</td>\n",
       "      <td>80</td>\n",
       "      <td>0</td>\n",
       "      <td>0</td>\n",
       "      <td>0</td>\n",
       "    </tr>\n",
       "    <tr>\n",
       "      <th>NoBasement</th>\n",
       "      <td>42</td>\n",
       "      <td>0</td>\n",
       "      <td>0</td>\n",
       "      <td>0</td>\n",
       "      <td>0</td>\n",
       "    </tr>\n",
       "    <tr>\n",
       "      <th>Rec</th>\n",
       "      <td>0</td>\n",
       "      <td>0</td>\n",
       "      <td>155</td>\n",
       "      <td>0</td>\n",
       "      <td>0</td>\n",
       "    </tr>\n",
       "    <tr>\n",
       "      <th>Unf</th>\n",
       "      <td>0</td>\n",
       "      <td>421</td>\n",
       "      <td>0</td>\n",
       "      <td>0</td>\n",
       "      <td>0</td>\n",
       "    </tr>\n",
       "  </tbody>\n",
       "</table>\n",
       "</div>"
      ],
      "text/plain": [
       "bsmt_finished1   0    1    2    3    4\n",
       "BsmtFinType1                          \n",
       "ALQ              0    0    0  209    0\n",
       "BLQ              0    0  121    0    0\n",
       "GLQ              0    0    0    0  431\n",
       "LwQ              0   80    0    0    0\n",
       "NoBasement      42    0    0    0    0\n",
       "Rec              0    0  155    0    0\n",
       "Unf              0  421    0    0    0"
      ]
     },
     "execution_count": 878,
     "metadata": {},
     "output_type": "execute_result"
    }
   ],
   "source": [
    "test['bsmt_finished1'] = 0\n",
    "test.loc[(test.BsmtFinType1 == 'Unf'), 'bsmt_finished1'] = 1\n",
    "test.loc[(test.BsmtFinType1 == 'LwQ'), 'bsmt_finished1'] = 1\n",
    "test.loc[(test.BsmtFinType1 == 'BLQ'), 'bsmt_finished1'] = 2\n",
    "test.loc[(test.BsmtFinType1 == 'Rec'), 'bsmt_finished1'] = 2\n",
    "test.loc[(test.BsmtFinType1 == 'ALQ'), 'bsmt_finished1'] = 3\n",
    "test.loc[(test.BsmtFinType1 == 'GLQ'), 'bsmt_finished1'] = 4\n",
    "pd.crosstab(test.BsmtFinType1, test.bsmt_finished1)"
   ]
  },
  {
   "cell_type": "code",
   "execution_count": 879,
   "metadata": {},
   "outputs": [
    {
     "data": {
      "text/html": [
       "<div>\n",
       "<style>\n",
       "    .dataframe thead tr:only-child th {\n",
       "        text-align: right;\n",
       "    }\n",
       "\n",
       "    .dataframe thead th {\n",
       "        text-align: left;\n",
       "    }\n",
       "\n",
       "    .dataframe tbody tr th {\n",
       "        vertical-align: top;\n",
       "    }\n",
       "</style>\n",
       "<table border=\"1\" class=\"dataframe\">\n",
       "  <thead>\n",
       "    <tr style=\"text-align: right;\">\n",
       "      <th>bsmt_finished2</th>\n",
       "      <th>0</th>\n",
       "      <th>1</th>\n",
       "      <th>2</th>\n",
       "      <th>3</th>\n",
       "      <th>4</th>\n",
       "    </tr>\n",
       "    <tr>\n",
       "      <th>BsmtFinType2</th>\n",
       "      <th></th>\n",
       "      <th></th>\n",
       "      <th></th>\n",
       "      <th></th>\n",
       "      <th></th>\n",
       "    </tr>\n",
       "  </thead>\n",
       "  <tbody>\n",
       "    <tr>\n",
       "      <th>ALQ</th>\n",
       "      <td>0</td>\n",
       "      <td>0</td>\n",
       "      <td>0</td>\n",
       "      <td>33</td>\n",
       "      <td>0</td>\n",
       "    </tr>\n",
       "    <tr>\n",
       "      <th>BLQ</th>\n",
       "      <td>0</td>\n",
       "      <td>0</td>\n",
       "      <td>35</td>\n",
       "      <td>0</td>\n",
       "      <td>0</td>\n",
       "    </tr>\n",
       "    <tr>\n",
       "      <th>GLQ</th>\n",
       "      <td>0</td>\n",
       "      <td>0</td>\n",
       "      <td>0</td>\n",
       "      <td>0</td>\n",
       "      <td>20</td>\n",
       "    </tr>\n",
       "    <tr>\n",
       "      <th>LwQ</th>\n",
       "      <td>0</td>\n",
       "      <td>41</td>\n",
       "      <td>0</td>\n",
       "      <td>0</td>\n",
       "      <td>0</td>\n",
       "    </tr>\n",
       "    <tr>\n",
       "      <th>NoBasement</th>\n",
       "      <td>42</td>\n",
       "      <td>0</td>\n",
       "      <td>0</td>\n",
       "      <td>0</td>\n",
       "      <td>0</td>\n",
       "    </tr>\n",
       "    <tr>\n",
       "      <th>Rec</th>\n",
       "      <td>0</td>\n",
       "      <td>0</td>\n",
       "      <td>51</td>\n",
       "      <td>0</td>\n",
       "      <td>0</td>\n",
       "    </tr>\n",
       "    <tr>\n",
       "      <th>Unf</th>\n",
       "      <td>0</td>\n",
       "      <td>1237</td>\n",
       "      <td>0</td>\n",
       "      <td>0</td>\n",
       "      <td>0</td>\n",
       "    </tr>\n",
       "  </tbody>\n",
       "</table>\n",
       "</div>"
      ],
      "text/plain": [
       "bsmt_finished2   0     1   2   3   4\n",
       "BsmtFinType2                        \n",
       "ALQ              0     0   0  33   0\n",
       "BLQ              0     0  35   0   0\n",
       "GLQ              0     0   0   0  20\n",
       "LwQ              0    41   0   0   0\n",
       "NoBasement      42     0   0   0   0\n",
       "Rec              0     0  51   0   0\n",
       "Unf              0  1237   0   0   0"
      ]
     },
     "execution_count": 879,
     "metadata": {},
     "output_type": "execute_result"
    }
   ],
   "source": [
    "test['bsmt_finished2'] = 0\n",
    "test.loc[(test.BsmtFinType2 == 'Unf'), 'bsmt_finished2'] = 1\n",
    "test.loc[(test.BsmtFinType2 == 'LwQ'), 'bsmt_finished2'] = 1\n",
    "test.loc[(test.BsmtFinType2 == 'BLQ'), 'bsmt_finished2'] = 2\n",
    "test.loc[(test.BsmtFinType2 == 'Rec'), 'bsmt_finished2'] = 2\n",
    "test.loc[(test.BsmtFinType2 == 'ALQ'), 'bsmt_finished2'] = 3\n",
    "test.loc[(test.BsmtFinType2 == 'GLQ'), 'bsmt_finished2'] = 4\n",
    "pd.crosstab(test.BsmtFinType2, test.bsmt_finished2)"
   ]
  },
  {
   "cell_type": "code",
   "execution_count": 880,
   "metadata": {},
   "outputs": [
    {
     "name": "stdout",
     "output_type": "stream",
     "text": [
      "(1460, 163)\n",
      "(1459, 162)\n"
     ]
    }
   ],
   "source": [
    "print(train.shape)\n",
    "print(test.shape)"
   ]
  },
  {
   "cell_type": "markdown",
   "metadata": {},
   "source": [
    "###### Basement Square Footage - create a new var - share of finished"
   ]
  },
  {
   "cell_type": "code",
   "execution_count": 881,
   "metadata": {
    "collapsed": true
   },
   "outputs": [],
   "source": [
    "train['BsmtFinishedShare'] = 1 - train['BsmtUnfSF']/train['TotalBsmtSF']\n",
    "train.loc[train.TotalBsmtSF == 0, 'BsmtFinishedShare'] = 0"
   ]
  },
  {
   "cell_type": "code",
   "execution_count": 882,
   "metadata": {
    "collapsed": true
   },
   "outputs": [],
   "source": [
    "test['BsmtFinishedShare'] = 1 - test['BsmtUnfSF']/test['TotalBsmtSF']\n",
    "test.loc[test.TotalBsmtSF == 0, 'BsmtFinishedShare'] = 0"
   ]
  },
  {
   "cell_type": "code",
   "execution_count": 883,
   "metadata": {
    "collapsed": true
   },
   "outputs": [],
   "source": [
    "# train[['BsmtUnfSF','TotalBsmtSF','BsmtFinishedShare']]"
   ]
  },
  {
   "cell_type": "code",
   "execution_count": 884,
   "metadata": {},
   "outputs": [
    {
     "data": {
      "text/plain": [
       "0.17388520502907454"
      ]
     },
     "execution_count": 884,
     "metadata": {},
     "output_type": "execute_result"
    }
   ],
   "source": [
    "train['BsmtFinishedShare'].corr(train['TotalBsmtSF'])  # correlation is 0.17"
   ]
  },
  {
   "cell_type": "code",
   "execution_count": 885,
   "metadata": {},
   "outputs": [
    {
     "data": {
      "text/plain": [
       "0.17388520502907454"
      ]
     },
     "execution_count": 885,
     "metadata": {},
     "output_type": "execute_result"
    }
   ],
   "source": [
    "train['BsmtFinishedShare'].corr(train['TotalBsmtSF'])  # correlation is 0.17"
   ]
  },
  {
   "cell_type": "code",
   "execution_count": 886,
   "metadata": {},
   "outputs": [
    {
     "data": {
      "text/plain": [
       "0.40902319772896112"
      ]
     },
     "execution_count": 886,
     "metadata": {},
     "output_type": "execute_result"
    }
   ],
   "source": [
    "test['BsmtUnfSF'].corr(test['TotalBsmtSF'])  # correlation is 0.41"
   ]
  },
  {
   "cell_type": "code",
   "execution_count": 887,
   "metadata": {},
   "outputs": [
    {
     "data": {
      "text/plain": [
       "(array([ 501.,    5.,    2.,    5.,    6.,   11.,   16.,   13.,   14.,\n",
       "          20.,   23.,   19.,   19.,   26.,   33.,   68.,   28.,   44.,\n",
       "          33.,   48.,   47.,   60.,   57.,   62.,   68.,   38.,   50.,\n",
       "          32.,   22.,   90.]),\n",
       " array([ 0.        ,  0.03333333,  0.06666667,  0.1       ,  0.13333333,\n",
       "         0.16666667,  0.2       ,  0.23333333,  0.26666667,  0.3       ,\n",
       "         0.33333333,  0.36666667,  0.4       ,  0.43333333,  0.46666667,\n",
       "         0.5       ,  0.53333333,  0.56666667,  0.6       ,  0.63333333,\n",
       "         0.66666667,  0.7       ,  0.73333333,  0.76666667,  0.8       ,\n",
       "         0.83333333,  0.86666667,  0.9       ,  0.93333333,  0.96666667,  1.        ]),\n",
       " <a list of 30 Patch objects>)"
      ]
     },
     "execution_count": 887,
     "metadata": {},
     "output_type": "execute_result"
    },
    {
     "data": {
      "image/png": "[encoded data removed]",
      "text/plain": [
       "<matplotlib.figure.Figure at 0x253ff65fcc0>"
      ]
     },
     "metadata": {},
     "output_type": "display_data"
    }
   ],
   "source": [
    "plt.hist(train.BsmtFinishedShare, bins = 30)"
   ]
  },
  {
   "cell_type": "markdown",
   "metadata": {},
   "source": [
    "###### Heating: Type of heating - IGNORE, too little variance"
   ]
  },
  {
   "cell_type": "code",
   "execution_count": 888,
   "metadata": {},
   "outputs": [
    {
     "name": "stdout",
     "output_type": "stream",
     "text": [
      "GasA     97.81\n",
      "GasW      1.23\n",
      "Grav      0.48\n",
      "Wall      0.27\n",
      "OthW      0.14\n",
      "Floor     0.07\n",
      "Name: Heating, dtype: float64\n",
      "GasA    99.04\n",
      "GasW     0.62\n",
      "Grav     0.14\n",
      "Wall     0.14\n",
      "Name: Heating, dtype: float64\n"
     ]
    }
   ],
   "source": [
    "print((train.Heating.value_counts().sort_values(ascending = False)/N*100).round(2))\n",
    "print((test.Heating.value_counts().sort_values(ascending = False)/N*100).round(2))"
   ]
  },
  {
   "cell_type": "markdown",
   "metadata": {},
   "source": [
    "###### HeatingQC: Heating quality and condition"
   ]
  },
  {
   "cell_type": "markdown",
   "metadata": {},
   "source": [
    "Created quantitative variable 'heating_quality'"
   ]
  },
  {
   "cell_type": "code",
   "execution_count": 889,
   "metadata": {},
   "outputs": [
    {
     "name": "stdout",
     "output_type": "stream",
     "text": [
      "Ex    50.75\n",
      "TA    29.32\n",
      "Gd    16.51\n",
      "Fa     3.36\n",
      "Po     0.07\n",
      "Name: HeatingQC, dtype: float64\n",
      "Ex    51.51\n",
      "TA    29.38\n",
      "Gd    15.96\n",
      "Fa     2.95\n",
      "Po     0.14\n",
      "Name: HeatingQC, dtype: float64\n"
     ]
    }
   ],
   "source": [
    "print((train.HeatingQC.value_counts().sort_values(ascending = False)/N*100).round(2))\n",
    "print((test.HeatingQC.value_counts().sort_values(ascending = False)/N*100).round(2))"
   ]
  },
  {
   "cell_type": "code",
   "execution_count": 890,
   "metadata": {},
   "outputs": [
    {
     "data": {
      "text/html": [
       "<div>\n",
       "<style>\n",
       "    .dataframe thead tr:only-child th {\n",
       "        text-align: right;\n",
       "    }\n",
       "\n",
       "    .dataframe thead th {\n",
       "        text-align: left;\n",
       "    }\n",
       "\n",
       "    .dataframe tbody tr th {\n",
       "        vertical-align: top;\n",
       "    }\n",
       "</style>\n",
       "<table border=\"1\" class=\"dataframe\">\n",
       "  <thead>\n",
       "    <tr style=\"text-align: right;\">\n",
       "      <th>heating_quality</th>\n",
       "      <th>0</th>\n",
       "      <th>1</th>\n",
       "      <th>2</th>\n",
       "      <th>3</th>\n",
       "      <th>4</th>\n",
       "    </tr>\n",
       "    <tr>\n",
       "      <th>HeatingQC</th>\n",
       "      <th></th>\n",
       "      <th></th>\n",
       "      <th></th>\n",
       "      <th></th>\n",
       "      <th></th>\n",
       "    </tr>\n",
       "  </thead>\n",
       "  <tbody>\n",
       "    <tr>\n",
       "      <th>Ex</th>\n",
       "      <td>0</td>\n",
       "      <td>0</td>\n",
       "      <td>0</td>\n",
       "      <td>0</td>\n",
       "      <td>741</td>\n",
       "    </tr>\n",
       "    <tr>\n",
       "      <th>Fa</th>\n",
       "      <td>0</td>\n",
       "      <td>49</td>\n",
       "      <td>0</td>\n",
       "      <td>0</td>\n",
       "      <td>0</td>\n",
       "    </tr>\n",
       "    <tr>\n",
       "      <th>Gd</th>\n",
       "      <td>0</td>\n",
       "      <td>0</td>\n",
       "      <td>0</td>\n",
       "      <td>241</td>\n",
       "      <td>0</td>\n",
       "    </tr>\n",
       "    <tr>\n",
       "      <th>Po</th>\n",
       "      <td>1</td>\n",
       "      <td>0</td>\n",
       "      <td>0</td>\n",
       "      <td>0</td>\n",
       "      <td>0</td>\n",
       "    </tr>\n",
       "    <tr>\n",
       "      <th>TA</th>\n",
       "      <td>0</td>\n",
       "      <td>0</td>\n",
       "      <td>428</td>\n",
       "      <td>0</td>\n",
       "      <td>0</td>\n",
       "    </tr>\n",
       "  </tbody>\n",
       "</table>\n",
       "</div>"
      ],
      "text/plain": [
       "heating_quality  0   1    2    3    4\n",
       "HeatingQC                            \n",
       "Ex               0   0    0    0  741\n",
       "Fa               0  49    0    0    0\n",
       "Gd               0   0    0  241    0\n",
       "Po               1   0    0    0    0\n",
       "TA               0   0  428    0    0"
      ]
     },
     "execution_count": 890,
     "metadata": {},
     "output_type": "execute_result"
    }
   ],
   "source": [
    "train['heating_quality'] = 0\n",
    "train.loc[train.HeatingQC == 'Fa', 'heating_quality'] = 1\n",
    "train.loc[train.HeatingQC == 'TA', 'heating_quality'] = 2\n",
    "train.loc[train.HeatingQC == 'Gd', 'heating_quality'] = 3\n",
    "train.loc[train.HeatingQC == 'Ex', 'heating_quality'] = 4\n",
    "pd.crosstab(train.HeatingQC, train.heating_quality)"
   ]
  },
  {
   "cell_type": "code",
   "execution_count": 891,
   "metadata": {},
   "outputs": [
    {
     "data": {
      "text/html": [
       "<div>\n",
       "<style>\n",
       "    .dataframe thead tr:only-child th {\n",
       "        text-align: right;\n",
       "    }\n",
       "\n",
       "    .dataframe thead th {\n",
       "        text-align: left;\n",
       "    }\n",
       "\n",
       "    .dataframe tbody tr th {\n",
       "        vertical-align: top;\n",
       "    }\n",
       "</style>\n",
       "<table border=\"1\" class=\"dataframe\">\n",
       "  <thead>\n",
       "    <tr style=\"text-align: right;\">\n",
       "      <th>heating_quality</th>\n",
       "      <th>0</th>\n",
       "      <th>1</th>\n",
       "      <th>2</th>\n",
       "      <th>3</th>\n",
       "      <th>4</th>\n",
       "    </tr>\n",
       "    <tr>\n",
       "      <th>HeatingQC</th>\n",
       "      <th></th>\n",
       "      <th></th>\n",
       "      <th></th>\n",
       "      <th></th>\n",
       "      <th></th>\n",
       "    </tr>\n",
       "  </thead>\n",
       "  <tbody>\n",
       "    <tr>\n",
       "      <th>Ex</th>\n",
       "      <td>0</td>\n",
       "      <td>0</td>\n",
       "      <td>0</td>\n",
       "      <td>0</td>\n",
       "      <td>752</td>\n",
       "    </tr>\n",
       "    <tr>\n",
       "      <th>Fa</th>\n",
       "      <td>0</td>\n",
       "      <td>43</td>\n",
       "      <td>0</td>\n",
       "      <td>0</td>\n",
       "      <td>0</td>\n",
       "    </tr>\n",
       "    <tr>\n",
       "      <th>Gd</th>\n",
       "      <td>0</td>\n",
       "      <td>0</td>\n",
       "      <td>0</td>\n",
       "      <td>233</td>\n",
       "      <td>0</td>\n",
       "    </tr>\n",
       "    <tr>\n",
       "      <th>Po</th>\n",
       "      <td>2</td>\n",
       "      <td>0</td>\n",
       "      <td>0</td>\n",
       "      <td>0</td>\n",
       "      <td>0</td>\n",
       "    </tr>\n",
       "    <tr>\n",
       "      <th>TA</th>\n",
       "      <td>0</td>\n",
       "      <td>0</td>\n",
       "      <td>429</td>\n",
       "      <td>0</td>\n",
       "      <td>0</td>\n",
       "    </tr>\n",
       "  </tbody>\n",
       "</table>\n",
       "</div>"
      ],
      "text/plain": [
       "heating_quality  0   1    2    3    4\n",
       "HeatingQC                            \n",
       "Ex               0   0    0    0  752\n",
       "Fa               0  43    0    0    0\n",
       "Gd               0   0    0  233    0\n",
       "Po               2   0    0    0    0\n",
       "TA               0   0  429    0    0"
      ]
     },
     "execution_count": 891,
     "metadata": {},
     "output_type": "execute_result"
    }
   ],
   "source": [
    "test['heating_quality'] = 0\n",
    "test.loc[test.HeatingQC == 'Fa', 'heating_quality'] = 1\n",
    "test.loc[test.HeatingQC == 'TA', 'heating_quality'] = 2\n",
    "test.loc[test.HeatingQC == 'Gd', 'heating_quality'] = 3\n",
    "test.loc[test.HeatingQC == 'Ex', 'heating_quality'] = 4\n",
    "pd.crosstab(test.HeatingQC, test.heating_quality)"
   ]
  },
  {
   "cell_type": "code",
   "execution_count": 892,
   "metadata": {},
   "outputs": [
    {
     "name": "stdout",
     "output_type": "stream",
     "text": [
      "(1460, 165)\n",
      "(1459, 164)\n"
     ]
    }
   ],
   "source": [
    "print(train.shape)\n",
    "print(test.shape)"
   ]
  },
  {
   "cell_type": "markdown",
   "metadata": {},
   "source": [
    "###### CentralAir: Central air conditioning"
   ]
  },
  {
   "cell_type": "code",
   "execution_count": 893,
   "metadata": {},
   "outputs": [
    {
     "name": "stdout",
     "output_type": "stream",
     "text": [
      "Y    93.49\n",
      "N     6.51\n",
      "Name: CentralAir, dtype: float64\n",
      "Y    93.01\n",
      "N     6.92\n",
      "Name: CentralAir, dtype: float64\n"
     ]
    }
   ],
   "source": [
    "print((train.CentralAir.value_counts().sort_values(ascending = False)/N*100).round(2))\n",
    "print((test.CentralAir.value_counts().sort_values(ascending = False)/N*100).round(2))"
   ]
  },
  {
   "cell_type": "code",
   "execution_count": 894,
   "metadata": {},
   "outputs": [
    {
     "data": {
      "text/html": [
       "<div>\n",
       "<style>\n",
       "    .dataframe thead tr:only-child th {\n",
       "        text-align: right;\n",
       "    }\n",
       "\n",
       "    .dataframe thead th {\n",
       "        text-align: left;\n",
       "    }\n",
       "\n",
       "    .dataframe tbody tr th {\n",
       "        vertical-align: top;\n",
       "    }\n",
       "</style>\n",
       "<table border=\"1\" class=\"dataframe\">\n",
       "  <thead>\n",
       "    <tr style=\"text-align: right;\">\n",
       "      <th>central_air</th>\n",
       "      <th>0</th>\n",
       "      <th>1</th>\n",
       "    </tr>\n",
       "    <tr>\n",
       "      <th>CentralAir</th>\n",
       "      <th></th>\n",
       "      <th></th>\n",
       "    </tr>\n",
       "  </thead>\n",
       "  <tbody>\n",
       "    <tr>\n",
       "      <th>N</th>\n",
       "      <td>95</td>\n",
       "      <td>0</td>\n",
       "    </tr>\n",
       "    <tr>\n",
       "      <th>Y</th>\n",
       "      <td>0</td>\n",
       "      <td>1365</td>\n",
       "    </tr>\n",
       "  </tbody>\n",
       "</table>\n",
       "</div>"
      ],
      "text/plain": [
       "central_air   0     1\n",
       "CentralAir           \n",
       "N            95     0\n",
       "Y             0  1365"
      ]
     },
     "execution_count": 894,
     "metadata": {},
     "output_type": "execute_result"
    }
   ],
   "source": [
    "# Creating a dummy:\n",
    "train['central_air'] = 0\n",
    "train.loc[train.CentralAir == 'Y', 'central_air'] = 1\n",
    "pd.crosstab(train.CentralAir, train.central_air)"
   ]
  },
  {
   "cell_type": "code",
   "execution_count": 895,
   "metadata": {},
   "outputs": [
    {
     "data": {
      "text/html": [
       "<div>\n",
       "<style>\n",
       "    .dataframe thead tr:only-child th {\n",
       "        text-align: right;\n",
       "    }\n",
       "\n",
       "    .dataframe thead th {\n",
       "        text-align: left;\n",
       "    }\n",
       "\n",
       "    .dataframe tbody tr th {\n",
       "        vertical-align: top;\n",
       "    }\n",
       "</style>\n",
       "<table border=\"1\" class=\"dataframe\">\n",
       "  <thead>\n",
       "    <tr style=\"text-align: right;\">\n",
       "      <th>central_air</th>\n",
       "      <th>0</th>\n",
       "      <th>1</th>\n",
       "    </tr>\n",
       "    <tr>\n",
       "      <th>CentralAir</th>\n",
       "      <th></th>\n",
       "      <th></th>\n",
       "    </tr>\n",
       "  </thead>\n",
       "  <tbody>\n",
       "    <tr>\n",
       "      <th>N</th>\n",
       "      <td>101</td>\n",
       "      <td>0</td>\n",
       "    </tr>\n",
       "    <tr>\n",
       "      <th>Y</th>\n",
       "      <td>0</td>\n",
       "      <td>1358</td>\n",
       "    </tr>\n",
       "  </tbody>\n",
       "</table>\n",
       "</div>"
      ],
      "text/plain": [
       "central_air    0     1\n",
       "CentralAir            \n",
       "N            101     0\n",
       "Y              0  1358"
      ]
     },
     "execution_count": 895,
     "metadata": {},
     "output_type": "execute_result"
    }
   ],
   "source": [
    "test['central_air'] = 0\n",
    "test.loc[test.CentralAir == 'Y', 'central_air'] = 1\n",
    "pd.crosstab(test.CentralAir, test.central_air)"
   ]
  },
  {
   "cell_type": "markdown",
   "metadata": {},
   "source": [
    "###### Electrical: Electrical system"
   ]
  },
  {
   "cell_type": "code",
   "execution_count": 896,
   "metadata": {},
   "outputs": [
    {
     "name": "stdout",
     "output_type": "stream",
     "text": [
      "SBrkr    91.37\n",
      "FuseA     6.44\n",
      "FuseF     1.85\n",
      "FuseP     0.21\n",
      "Mix       0.07\n",
      "Name: Electrical, dtype: float64\n",
      "SBrkr    91.58\n",
      "FuseA     6.44\n",
      "FuseF     1.58\n",
      "FuseP     0.34\n",
      "Name: Electrical, dtype: float64\n"
     ]
    }
   ],
   "source": [
    "print((train.Electrical.value_counts().sort_values(ascending = False)/N*100).round(2))\n",
    "print((test.Electrical.value_counts().sort_values(ascending = False)/N*100).round(2))"
   ]
  },
  {
   "cell_type": "code",
   "execution_count": 897,
   "metadata": {
    "collapsed": true
   },
   "outputs": [],
   "source": [
    "# Creating 2 dummies:\n",
    "train['elec_sbrkr'] = 0\n",
    "train.loc[train.Electrical == 'SBrkr', 'elec_sbrkr'] = 1\n",
    "train['elec_fuseA'] = 0\n",
    "train.loc[train.Electrical == 'FuseA', 'elec_fuseA'] = 1"
   ]
  },
  {
   "cell_type": "code",
   "execution_count": 898,
   "metadata": {
    "collapsed": true
   },
   "outputs": [],
   "source": [
    "test['elec_sbrkr'] = 0\n",
    "test.loc[test.Electrical == 'SBrkr', 'elec_sbrkr'] = 1\n",
    "test['elec_fuseA'] = 0\n",
    "test.loc[test.Electrical == 'FuseA', 'elec_fuseA'] = 1"
   ]
  },
  {
   "cell_type": "code",
   "execution_count": 899,
   "metadata": {},
   "outputs": [
    {
     "name": "stdout",
     "output_type": "stream",
     "text": [
      "(1460, 168)\n",
      "(1459, 167)\n"
     ]
    }
   ],
   "source": [
    "print(train.shape)\n",
    "print(test.shape)"
   ]
  },
  {
   "cell_type": "markdown",
   "metadata": {
    "collapsed": true
   },
   "source": [
    "###### KitchenQual: Kitchen quality"
   ]
  },
  {
   "cell_type": "markdown",
   "metadata": {},
   "source": [
    "Created a numeric variable kitchen_quality"
   ]
  },
  {
   "cell_type": "code",
   "execution_count": 900,
   "metadata": {},
   "outputs": [
    {
     "name": "stdout",
     "output_type": "stream",
     "text": [
      "TA    50.34\n",
      "Gd    40.14\n",
      "Ex     6.85\n",
      "Fa     2.67\n",
      "Name: KitchenQual, dtype: float64\n",
      "TA    51.85\n",
      "Gd    38.70\n",
      "Ex     7.19\n",
      "Fa     2.12\n",
      "Name: KitchenQual, dtype: float64\n"
     ]
    }
   ],
   "source": [
    "print((train.KitchenQual.value_counts().sort_values(ascending = False)/N*100).round(2))\n",
    "print((test.KitchenQual.value_counts().sort_values(ascending = False)/N*100).round(2))"
   ]
  },
  {
   "cell_type": "code",
   "execution_count": 901,
   "metadata": {},
   "outputs": [
    {
     "data": {
      "text/html": [
       "<div>\n",
       "<style>\n",
       "    .dataframe thead tr:only-child th {\n",
       "        text-align: right;\n",
       "    }\n",
       "\n",
       "    .dataframe thead th {\n",
       "        text-align: left;\n",
       "    }\n",
       "\n",
       "    .dataframe tbody tr th {\n",
       "        vertical-align: top;\n",
       "    }\n",
       "</style>\n",
       "<table border=\"1\" class=\"dataframe\">\n",
       "  <thead>\n",
       "    <tr style=\"text-align: right;\">\n",
       "      <th>kitchen_quality</th>\n",
       "      <th>0</th>\n",
       "      <th>1</th>\n",
       "      <th>2</th>\n",
       "      <th>3</th>\n",
       "    </tr>\n",
       "    <tr>\n",
       "      <th>KitchenQual</th>\n",
       "      <th></th>\n",
       "      <th></th>\n",
       "      <th></th>\n",
       "      <th></th>\n",
       "    </tr>\n",
       "  </thead>\n",
       "  <tbody>\n",
       "    <tr>\n",
       "      <th>Ex</th>\n",
       "      <td>0</td>\n",
       "      <td>0</td>\n",
       "      <td>0</td>\n",
       "      <td>100</td>\n",
       "    </tr>\n",
       "    <tr>\n",
       "      <th>Fa</th>\n",
       "      <td>39</td>\n",
       "      <td>0</td>\n",
       "      <td>0</td>\n",
       "      <td>0</td>\n",
       "    </tr>\n",
       "    <tr>\n",
       "      <th>Gd</th>\n",
       "      <td>0</td>\n",
       "      <td>0</td>\n",
       "      <td>586</td>\n",
       "      <td>0</td>\n",
       "    </tr>\n",
       "    <tr>\n",
       "      <th>TA</th>\n",
       "      <td>0</td>\n",
       "      <td>735</td>\n",
       "      <td>0</td>\n",
       "      <td>0</td>\n",
       "    </tr>\n",
       "  </tbody>\n",
       "</table>\n",
       "</div>"
      ],
      "text/plain": [
       "kitchen_quality   0    1    2    3\n",
       "KitchenQual                       \n",
       "Ex                0    0    0  100\n",
       "Fa               39    0    0    0\n",
       "Gd                0    0  586    0\n",
       "TA                0  735    0    0"
      ]
     },
     "execution_count": 901,
     "metadata": {},
     "output_type": "execute_result"
    }
   ],
   "source": [
    "train['kitchen_quality'] = 0\n",
    "train.loc[train.KitchenQual == 'TA', 'kitchen_quality'] = 1\n",
    "train.loc[train.KitchenQual == 'Gd', 'kitchen_quality'] = 2\n",
    "train.loc[train.KitchenQual == 'Ex', 'kitchen_quality'] = 3\n",
    "pd.crosstab(train.KitchenQual, train.kitchen_quality)"
   ]
  },
  {
   "cell_type": "code",
   "execution_count": 902,
   "metadata": {},
   "outputs": [
    {
     "data": {
      "text/html": [
       "<div>\n",
       "<style>\n",
       "    .dataframe thead tr:only-child th {\n",
       "        text-align: right;\n",
       "    }\n",
       "\n",
       "    .dataframe thead th {\n",
       "        text-align: left;\n",
       "    }\n",
       "\n",
       "    .dataframe tbody tr th {\n",
       "        vertical-align: top;\n",
       "    }\n",
       "</style>\n",
       "<table border=\"1\" class=\"dataframe\">\n",
       "  <thead>\n",
       "    <tr style=\"text-align: right;\">\n",
       "      <th>kitchen_quality</th>\n",
       "      <th>0</th>\n",
       "      <th>1</th>\n",
       "      <th>2</th>\n",
       "      <th>3</th>\n",
       "    </tr>\n",
       "    <tr>\n",
       "      <th>KitchenQual</th>\n",
       "      <th></th>\n",
       "      <th></th>\n",
       "      <th></th>\n",
       "      <th></th>\n",
       "    </tr>\n",
       "  </thead>\n",
       "  <tbody>\n",
       "    <tr>\n",
       "      <th>Ex</th>\n",
       "      <td>0</td>\n",
       "      <td>0</td>\n",
       "      <td>0</td>\n",
       "      <td>105</td>\n",
       "    </tr>\n",
       "    <tr>\n",
       "      <th>Fa</th>\n",
       "      <td>31</td>\n",
       "      <td>0</td>\n",
       "      <td>0</td>\n",
       "      <td>0</td>\n",
       "    </tr>\n",
       "    <tr>\n",
       "      <th>Gd</th>\n",
       "      <td>0</td>\n",
       "      <td>0</td>\n",
       "      <td>565</td>\n",
       "      <td>0</td>\n",
       "    </tr>\n",
       "    <tr>\n",
       "      <th>TA</th>\n",
       "      <td>0</td>\n",
       "      <td>757</td>\n",
       "      <td>0</td>\n",
       "      <td>0</td>\n",
       "    </tr>\n",
       "  </tbody>\n",
       "</table>\n",
       "</div>"
      ],
      "text/plain": [
       "kitchen_quality   0    1    2    3\n",
       "KitchenQual                       \n",
       "Ex                0    0    0  105\n",
       "Fa               31    0    0    0\n",
       "Gd                0    0  565    0\n",
       "TA                0  757    0    0"
      ]
     },
     "execution_count": 902,
     "metadata": {},
     "output_type": "execute_result"
    }
   ],
   "source": [
    "test['kitchen_quality'] = 0\n",
    "test.loc[test.KitchenQual == 'TA', 'kitchen_quality'] = 1\n",
    "test.loc[test.KitchenQual == 'Gd', 'kitchen_quality'] = 2\n",
    "test.loc[test.KitchenQual == 'Ex', 'kitchen_quality'] = 3\n",
    "pd.crosstab(test.KitchenQual, test.kitchen_quality)"
   ]
  },
  {
   "cell_type": "markdown",
   "metadata": {},
   "source": [
    "###### Functional: Home functionality (Assume typical unless deductions are warranted)"
   ]
  },
  {
   "cell_type": "markdown",
   "metadata": {
    "collapsed": true
   },
   "source": [
    "Created quantiative variable home_funct"
   ]
  },
  {
   "cell_type": "code",
   "execution_count": 903,
   "metadata": {
    "collapsed": true
   },
   "outputs": [],
   "source": [
    "# print((train.Functional.value_counts().sort_values(ascending = False)/N*100).round(2))\n",
    "# print((test.Functional.value_counts().sort_values(ascending = False)/N*100).round(2))"
   ]
  },
  {
   "cell_type": "code",
   "execution_count": 904,
   "metadata": {},
   "outputs": [
    {
     "data": {
      "text/html": [
       "<div>\n",
       "<style>\n",
       "    .dataframe thead tr:only-child th {\n",
       "        text-align: right;\n",
       "    }\n",
       "\n",
       "    .dataframe thead th {\n",
       "        text-align: left;\n",
       "    }\n",
       "\n",
       "    .dataframe tbody tr th {\n",
       "        vertical-align: top;\n",
       "    }\n",
       "</style>\n",
       "<table border=\"1\" class=\"dataframe\">\n",
       "  <thead>\n",
       "    <tr style=\"text-align: right;\">\n",
       "      <th>home_funct</th>\n",
       "      <th>0.0</th>\n",
       "      <th>1.0</th>\n",
       "      <th>1.5</th>\n",
       "      <th>3.0</th>\n",
       "      <th>5.0</th>\n",
       "      <th>5.5</th>\n",
       "      <th>7.0</th>\n",
       "    </tr>\n",
       "    <tr>\n",
       "      <th>Functional</th>\n",
       "      <th></th>\n",
       "      <th></th>\n",
       "      <th></th>\n",
       "      <th></th>\n",
       "      <th></th>\n",
       "      <th></th>\n",
       "      <th></th>\n",
       "    </tr>\n",
       "  </thead>\n",
       "  <tbody>\n",
       "    <tr>\n",
       "      <th>Maj1</th>\n",
       "      <td>0</td>\n",
       "      <td>0</td>\n",
       "      <td>14</td>\n",
       "      <td>0</td>\n",
       "      <td>0</td>\n",
       "      <td>0</td>\n",
       "      <td>0</td>\n",
       "    </tr>\n",
       "    <tr>\n",
       "      <th>Maj2</th>\n",
       "      <td>0</td>\n",
       "      <td>5</td>\n",
       "      <td>0</td>\n",
       "      <td>0</td>\n",
       "      <td>0</td>\n",
       "      <td>0</td>\n",
       "      <td>0</td>\n",
       "    </tr>\n",
       "    <tr>\n",
       "      <th>Min1</th>\n",
       "      <td>0</td>\n",
       "      <td>0</td>\n",
       "      <td>0</td>\n",
       "      <td>0</td>\n",
       "      <td>0</td>\n",
       "      <td>31</td>\n",
       "      <td>0</td>\n",
       "    </tr>\n",
       "    <tr>\n",
       "      <th>Min2</th>\n",
       "      <td>0</td>\n",
       "      <td>0</td>\n",
       "      <td>0</td>\n",
       "      <td>0</td>\n",
       "      <td>34</td>\n",
       "      <td>0</td>\n",
       "      <td>0</td>\n",
       "    </tr>\n",
       "    <tr>\n",
       "      <th>Mod</th>\n",
       "      <td>0</td>\n",
       "      <td>0</td>\n",
       "      <td>0</td>\n",
       "      <td>15</td>\n",
       "      <td>0</td>\n",
       "      <td>0</td>\n",
       "      <td>0</td>\n",
       "    </tr>\n",
       "    <tr>\n",
       "      <th>Sev</th>\n",
       "      <td>1</td>\n",
       "      <td>0</td>\n",
       "      <td>0</td>\n",
       "      <td>0</td>\n",
       "      <td>0</td>\n",
       "      <td>0</td>\n",
       "      <td>0</td>\n",
       "    </tr>\n",
       "    <tr>\n",
       "      <th>Typ</th>\n",
       "      <td>0</td>\n",
       "      <td>0</td>\n",
       "      <td>0</td>\n",
       "      <td>0</td>\n",
       "      <td>0</td>\n",
       "      <td>0</td>\n",
       "      <td>1360</td>\n",
       "    </tr>\n",
       "  </tbody>\n",
       "</table>\n",
       "</div>"
      ],
      "text/plain": [
       "home_funct  0.0  1.0  1.5  3.0  5.0  5.5   7.0\n",
       "Functional                                    \n",
       "Maj1          0    0   14    0    0    0     0\n",
       "Maj2          0    5    0    0    0    0     0\n",
       "Min1          0    0    0    0    0   31     0\n",
       "Min2          0    0    0    0   34    0     0\n",
       "Mod           0    0    0   15    0    0     0\n",
       "Sev           1    0    0    0    0    0     0\n",
       "Typ           0    0    0    0    0    0  1360"
      ]
     },
     "execution_count": 904,
     "metadata": {},
     "output_type": "execute_result"
    }
   ],
   "source": [
    "train['home_funct'] = 0\n",
    "train.loc[train.Functional == 'Sev', 'home_funct'] = 0\n",
    "train.loc[train.Functional == 'Maj2', 'home_funct'] = 1\n",
    "train.loc[train.Functional == 'Maj1', 'home_funct'] = 1.5\n",
    "train.loc[train.Functional == 'Mod', 'home_funct'] = 3\n",
    "train.loc[train.Functional == 'Min2', 'home_funct'] = 5\n",
    "train.loc[train.Functional == 'Min1', 'home_funct'] = 5.5\n",
    "train.loc[train.Functional == 'Typ', 'home_funct'] = 7\n",
    "pd.crosstab(train.Functional, train.home_funct)"
   ]
  },
  {
   "cell_type": "code",
   "execution_count": 905,
   "metadata": {},
   "outputs": [
    {
     "data": {
      "text/html": [
       "<div>\n",
       "<style>\n",
       "    .dataframe thead tr:only-child th {\n",
       "        text-align: right;\n",
       "    }\n",
       "\n",
       "    .dataframe thead th {\n",
       "        text-align: left;\n",
       "    }\n",
       "\n",
       "    .dataframe tbody tr th {\n",
       "        vertical-align: top;\n",
       "    }\n",
       "</style>\n",
       "<table border=\"1\" class=\"dataframe\">\n",
       "  <thead>\n",
       "    <tr style=\"text-align: right;\">\n",
       "      <th>home_funct</th>\n",
       "      <th>0.0</th>\n",
       "      <th>1.0</th>\n",
       "      <th>1.5</th>\n",
       "      <th>3.0</th>\n",
       "      <th>5.0</th>\n",
       "      <th>5.5</th>\n",
       "      <th>7.0</th>\n",
       "    </tr>\n",
       "    <tr>\n",
       "      <th>Functional</th>\n",
       "      <th></th>\n",
       "      <th></th>\n",
       "      <th></th>\n",
       "      <th></th>\n",
       "      <th></th>\n",
       "      <th></th>\n",
       "      <th></th>\n",
       "    </tr>\n",
       "  </thead>\n",
       "  <tbody>\n",
       "    <tr>\n",
       "      <th>Maj1</th>\n",
       "      <td>0</td>\n",
       "      <td>0</td>\n",
       "      <td>5</td>\n",
       "      <td>0</td>\n",
       "      <td>0</td>\n",
       "      <td>0</td>\n",
       "      <td>0</td>\n",
       "    </tr>\n",
       "    <tr>\n",
       "      <th>Maj2</th>\n",
       "      <td>0</td>\n",
       "      <td>4</td>\n",
       "      <td>0</td>\n",
       "      <td>0</td>\n",
       "      <td>0</td>\n",
       "      <td>0</td>\n",
       "      <td>0</td>\n",
       "    </tr>\n",
       "    <tr>\n",
       "      <th>Min1</th>\n",
       "      <td>0</td>\n",
       "      <td>0</td>\n",
       "      <td>0</td>\n",
       "      <td>0</td>\n",
       "      <td>0</td>\n",
       "      <td>34</td>\n",
       "      <td>0</td>\n",
       "    </tr>\n",
       "    <tr>\n",
       "      <th>Min2</th>\n",
       "      <td>0</td>\n",
       "      <td>0</td>\n",
       "      <td>0</td>\n",
       "      <td>0</td>\n",
       "      <td>36</td>\n",
       "      <td>0</td>\n",
       "      <td>0</td>\n",
       "    </tr>\n",
       "    <tr>\n",
       "      <th>Mod</th>\n",
       "      <td>0</td>\n",
       "      <td>0</td>\n",
       "      <td>0</td>\n",
       "      <td>20</td>\n",
       "      <td>0</td>\n",
       "      <td>0</td>\n",
       "      <td>0</td>\n",
       "    </tr>\n",
       "    <tr>\n",
       "      <th>Sev</th>\n",
       "      <td>1</td>\n",
       "      <td>0</td>\n",
       "      <td>0</td>\n",
       "      <td>0</td>\n",
       "      <td>0</td>\n",
       "      <td>0</td>\n",
       "      <td>0</td>\n",
       "    </tr>\n",
       "    <tr>\n",
       "      <th>Typ</th>\n",
       "      <td>0</td>\n",
       "      <td>0</td>\n",
       "      <td>0</td>\n",
       "      <td>0</td>\n",
       "      <td>0</td>\n",
       "      <td>0</td>\n",
       "      <td>1357</td>\n",
       "    </tr>\n",
       "  </tbody>\n",
       "</table>\n",
       "</div>"
      ],
      "text/plain": [
       "home_funct  0.0  1.0  1.5  3.0  5.0  5.5   7.0\n",
       "Functional                                    \n",
       "Maj1          0    0    5    0    0    0     0\n",
       "Maj2          0    4    0    0    0    0     0\n",
       "Min1          0    0    0    0    0   34     0\n",
       "Min2          0    0    0    0   36    0     0\n",
       "Mod           0    0    0   20    0    0     0\n",
       "Sev           1    0    0    0    0    0     0\n",
       "Typ           0    0    0    0    0    0  1357"
      ]
     },
     "execution_count": 905,
     "metadata": {},
     "output_type": "execute_result"
    }
   ],
   "source": [
    "test['home_funct'] = 0\n",
    "test.loc[test.Functional == 'Sev', 'home_funct'] = 0\n",
    "test.loc[test.Functional == 'Maj2', 'home_funct'] = 1\n",
    "test.loc[test.Functional == 'Maj1', 'home_funct'] = 1.5\n",
    "test.loc[test.Functional == 'Mod', 'home_funct'] = 3\n",
    "test.loc[test.Functional == 'Min2', 'home_funct'] = 5\n",
    "test.loc[test.Functional == 'Min1', 'home_funct'] = 5.5\n",
    "test.loc[test.Functional == 'Typ', 'home_funct'] = 7\n",
    "pd.crosstab(test.Functional, test.home_funct)"
   ]
  },
  {
   "cell_type": "markdown",
   "metadata": {},
   "source": [
    "###### Fireplaces: Number of fireplaces"
   ]
  },
  {
   "cell_type": "markdown",
   "metadata": {
    "collapsed": true
   },
   "source": [
    "Create a new dummy: fireplace present vs. not\n",
    "Create a new var that combines number of fireplaces with their quality?"
   ]
  },
  {
   "cell_type": "code",
   "execution_count": 906,
   "metadata": {},
   "outputs": [
    {
     "name": "stdout",
     "output_type": "stream",
     "text": [
      "0    47.26\n",
      "1    44.52\n",
      "2     7.88\n",
      "3     0.34\n",
      "Name: Fireplaces, dtype: float64\n",
      "0    50.00\n",
      "1    42.33\n",
      "2     7.12\n",
      "3     0.41\n",
      "4     0.07\n",
      "Name: Fireplaces, dtype: float64\n"
     ]
    }
   ],
   "source": [
    "print((train.Fireplaces.value_counts().sort_values(ascending = False)/N*100).round(2))\n",
    "print((test.Fireplaces.value_counts().sort_values(ascending = False)/N*100).round(2))"
   ]
  },
  {
   "cell_type": "code",
   "execution_count": 907,
   "metadata": {},
   "outputs": [
    {
     "name": "stdout",
     "output_type": "stream",
     "text": [
      "(1460, 170)\n",
      "(1459, 169)\n"
     ]
    }
   ],
   "source": [
    "print(train.shape)\n",
    "print(test.shape)"
   ]
  },
  {
   "cell_type": "markdown",
   "metadata": {},
   "source": [
    "###### FireplaceQu: Fireplace quality"
   ]
  },
  {
   "cell_type": "markdown",
   "metadata": {},
   "source": [
    "Creating variable fireplace_quality\n",
    "Consider no fireplace same as Poor quality - just for the sake of it"
   ]
  },
  {
   "cell_type": "code",
   "execution_count": 908,
   "metadata": {},
   "outputs": [
    {
     "data": {
      "text/plain": [
       "47.260273972602739"
      ]
     },
     "execution_count": 908,
     "metadata": {},
     "output_type": "execute_result"
    }
   ],
   "source": [
    "np.sum(train.FireplaceQu.isnull(), axis=0)/N*100"
   ]
  },
  {
   "cell_type": "code",
   "execution_count": 909,
   "metadata": {},
   "outputs": [
    {
     "name": "stdout",
     "output_type": "stream",
     "text": [
      "Gd    26.03\n",
      "TA    21.44\n",
      "Fa     2.26\n",
      "Ex     1.64\n",
      "Po     1.37\n",
      "Name: FireplaceQu, dtype: float64\n",
      "Gd    24.93\n",
      "TA    19.11\n",
      "Fa     2.81\n",
      "Po     1.78\n",
      "Ex     1.30\n",
      "Name: FireplaceQu, dtype: float64\n"
     ]
    }
   ],
   "source": [
    "print((train.FireplaceQu.value_counts().sort_values(ascending = False)/N*100).round(2))\n",
    "print((test.FireplaceQu.value_counts().sort_values(ascending = False)/N*100).round(2))"
   ]
  },
  {
   "cell_type": "code",
   "execution_count": 910,
   "metadata": {},
   "outputs": [
    {
     "name": "stdout",
     "output_type": "stream",
     "text": [
      "(1460, 170)\n",
      "(1459, 169)\n"
     ]
    }
   ],
   "source": [
    "print(train.shape)\n",
    "print(test.shape)"
   ]
  },
  {
   "cell_type": "code",
   "execution_count": 911,
   "metadata": {
    "collapsed": true
   },
   "outputs": [],
   "source": [
    "# Creating a quantitative variable - treating \"no fireplace\" as the worst level (zero)\n",
    "train['fireplace_quality'] = 0\n",
    "train.loc[train.FireplaceQu == 'Po', 'fireplace_quality'] = 1\n",
    "train.loc[train.FireplaceQu == 'Fa', 'fireplace_quality'] = 1  # same as Ben Franklin Stove\n",
    "train.loc[train.FireplaceQu == 'TA', 'fireplace_quality'] = 2\n",
    "train.loc[train.FireplaceQu == 'Gd', 'fireplace_quality'] = 3\n",
    "train.loc[train.Functional == 'Ex', 'fireplace_quality'] = 3.5\n",
    "# pd.crosstab(train.FireplaceQu, train.fireplace_quality)"
   ]
  },
  {
   "cell_type": "code",
   "execution_count": 912,
   "metadata": {},
   "outputs": [
    {
     "data": {
      "text/html": [
       "<div>\n",
       "<style>\n",
       "    .dataframe thead tr:only-child th {\n",
       "        text-align: right;\n",
       "    }\n",
       "\n",
       "    .dataframe thead th {\n",
       "        text-align: left;\n",
       "    }\n",
       "\n",
       "    .dataframe tbody tr th {\n",
       "        vertical-align: top;\n",
       "    }\n",
       "</style>\n",
       "<table border=\"1\" class=\"dataframe\">\n",
       "  <thead>\n",
       "    <tr style=\"text-align: right;\">\n",
       "      <th>fireplace_quality</th>\n",
       "      <th>0.0</th>\n",
       "      <th>1.0</th>\n",
       "      <th>2.0</th>\n",
       "      <th>3.0</th>\n",
       "    </tr>\n",
       "    <tr>\n",
       "      <th>FireplaceQu</th>\n",
       "      <th></th>\n",
       "      <th></th>\n",
       "      <th></th>\n",
       "      <th></th>\n",
       "    </tr>\n",
       "  </thead>\n",
       "  <tbody>\n",
       "    <tr>\n",
       "      <th>Ex</th>\n",
       "      <td>24</td>\n",
       "      <td>0</td>\n",
       "      <td>0</td>\n",
       "      <td>0</td>\n",
       "    </tr>\n",
       "    <tr>\n",
       "      <th>Fa</th>\n",
       "      <td>0</td>\n",
       "      <td>33</td>\n",
       "      <td>0</td>\n",
       "      <td>0</td>\n",
       "    </tr>\n",
       "    <tr>\n",
       "      <th>Gd</th>\n",
       "      <td>0</td>\n",
       "      <td>0</td>\n",
       "      <td>0</td>\n",
       "      <td>380</td>\n",
       "    </tr>\n",
       "    <tr>\n",
       "      <th>Po</th>\n",
       "      <td>0</td>\n",
       "      <td>20</td>\n",
       "      <td>0</td>\n",
       "      <td>0</td>\n",
       "    </tr>\n",
       "    <tr>\n",
       "      <th>TA</th>\n",
       "      <td>0</td>\n",
       "      <td>0</td>\n",
       "      <td>313</td>\n",
       "      <td>0</td>\n",
       "    </tr>\n",
       "  </tbody>\n",
       "</table>\n",
       "</div>"
      ],
      "text/plain": [
       "fireplace_quality  0.0  1.0  2.0  3.0\n",
       "FireplaceQu                          \n",
       "Ex                  24    0    0    0\n",
       "Fa                   0   33    0    0\n",
       "Gd                   0    0    0  380\n",
       "Po                   0   20    0    0\n",
       "TA                   0    0  313    0"
      ]
     },
     "execution_count": 912,
     "metadata": {},
     "output_type": "execute_result"
    }
   ],
   "source": [
    "pd.crosstab(train.FireplaceQu, train.fireplace_quality)"
   ]
  },
  {
   "cell_type": "code",
   "execution_count": 913,
   "metadata": {
    "collapsed": true
   },
   "outputs": [],
   "source": [
    "test['fireplace_quality'] = 0\n",
    "test.loc[test.FireplaceQu == 'Po', 'fireplace_quality'] = 1\n",
    "test.loc[test.FireplaceQu == 'Fa', 'fireplace_quality'] = 1  # same as Ben Franklin Stove\n",
    "test.loc[test.FireplaceQu == 'TA', 'fireplace_quality'] = 2\n",
    "test.loc[test.FireplaceQu == 'Gd', 'fireplace_quality'] = 3\n",
    "test.loc[test.Functional == 'Ex', 'fireplace_quality'] = 3.5\n",
    "# pd.crosstab(test.FireplaceQu, test.fireplace_quality)"
   ]
  },
  {
   "cell_type": "code",
   "execution_count": 914,
   "metadata": {},
   "outputs": [
    {
     "name": "stdout",
     "output_type": "stream",
     "text": [
      "(1460, 171)\n",
      "(1459, 170)\n"
     ]
    }
   ],
   "source": [
    "print(train.shape)\n",
    "print(test.shape)"
   ]
  },
  {
   "cell_type": "markdown",
   "metadata": {},
   "source": [
    "###### Dealing with Fireplaces (number of fireplaces)"
   ]
  },
  {
   "cell_type": "code",
   "execution_count": 915,
   "metadata": {
    "collapsed": true,
    "scrolled": true
   },
   "outputs": [],
   "source": [
    "# print((train.Fireplaces.value_counts().sort_values(ascending = False)/N*100).round(2))\n",
    "# print((test.Fireplaces.value_counts().sort_values(ascending = False)/N*100).round(2))"
   ]
  },
  {
   "cell_type": "code",
   "execution_count": 916,
   "metadata": {},
   "outputs": [
    {
     "name": "stdout",
     "output_type": "stream",
     "text": [
      "fireplace_quality  0.0  1.0  2.0  3.0\n",
      "Fireplaces                           \n",
      "0                  690    0    0    0\n",
      "1                   19   48  259  324\n",
      "2                    4    4   53   54\n",
      "3                    1    1    1    2\n"
     ]
    },
    {
     "data": {
      "text/plain": [
       "0.81402413283074637"
      ]
     },
     "execution_count": 916,
     "metadata": {},
     "output_type": "execute_result"
    }
   ],
   "source": [
    "print(pd.crosstab(train.Fireplaces, train.fireplace_quality))\n",
    "train['Fireplaces'].corr(train['fireplace_quality'])"
   ]
  },
  {
   "cell_type": "code",
   "execution_count": 917,
   "metadata": {
    "collapsed": true
   },
   "outputs": [],
   "source": [
    "# Replacing with NAs those values of fireplace_quality that were actually missing originally:\n",
    "train.loc[(train.Fireplaces>0)&(train.fireplace_quality == 0), 'fireplace_quality'] = None"
   ]
  },
  {
   "cell_type": "code",
   "execution_count": 918,
   "metadata": {
    "collapsed": true
   },
   "outputs": [],
   "source": [
    "test.loc[(test.Fireplaces>0)&(test.fireplace_quality == 0), 'fireplace_quality'] = None"
   ]
  },
  {
   "cell_type": "code",
   "execution_count": 919,
   "metadata": {
    "collapsed": true
   },
   "outputs": [],
   "source": [
    "# Create product of fireplace_quality and Fireplaces:\n",
    "train['fireplace_ttlscore'] = train['Fireplaces'] * train['fireplace_quality']\n",
    "test['fireplace_ttlscore'] = test['Fireplaces'] * test['fireplace_quality']"
   ]
  },
  {
   "cell_type": "code",
   "execution_count": 920,
   "metadata": {},
   "outputs": [
    {
     "name": "stdout",
     "output_type": "stream",
     "text": [
      "0.847896723198\n",
      "0.944974389693\n",
      "0.909698813626\n"
     ]
    }
   ],
   "source": [
    "print(train['Fireplaces'].corr(train['fireplace_quality']))\n",
    "print(train['Fireplaces'].corr(train['fireplace_ttlscore']))\n",
    "print(train['fireplace_quality'].corr(train['fireplace_ttlscore']))"
   ]
  },
  {
   "cell_type": "markdown",
   "metadata": {},
   "source": [
    "###### GarageType: Garage location"
   ]
  },
  {
   "cell_type": "markdown",
   "metadata": {
    "collapsed": true
   },
   "source": [
    "Building a quantitative var gar_type"
   ]
  },
  {
   "cell_type": "code",
   "execution_count": 921,
   "metadata": {},
   "outputs": [
    {
     "name": "stdout",
     "output_type": "stream",
     "text": [
      "Attchd     59.59\n",
      "Detchd     26.51\n",
      "BuiltIn     6.03\n",
      "Basment     1.30\n",
      "CarPort     0.62\n",
      "2Types      0.41\n",
      "Name: GarageType, dtype: float64\n",
      "Attchd     58.42\n",
      "Detchd     26.85\n",
      "BuiltIn     6.71\n",
      "2Types      1.16\n",
      "Basment     1.16\n",
      "CarPort     0.41\n",
      "Name: GarageType, dtype: float64\n"
     ]
    }
   ],
   "source": [
    "print((train.GarageType.value_counts().sort_values(ascending = False)/N*100).round(2))\n",
    "print((test.GarageType.value_counts().sort_values(ascending = False)/N*100).round(2))"
   ]
  },
  {
   "cell_type": "code",
   "execution_count": 922,
   "metadata": {},
   "outputs": [
    {
     "data": {
      "text/html": [
       "<div>\n",
       "<style>\n",
       "    .dataframe thead tr:only-child th {\n",
       "        text-align: right;\n",
       "    }\n",
       "\n",
       "    .dataframe thead th {\n",
       "        text-align: left;\n",
       "    }\n",
       "\n",
       "    .dataframe tbody tr th {\n",
       "        vertical-align: top;\n",
       "    }\n",
       "</style>\n",
       "<table border=\"1\" class=\"dataframe\">\n",
       "  <thead>\n",
       "    <tr style=\"text-align: right;\">\n",
       "      <th>gar_type</th>\n",
       "      <th>1.0</th>\n",
       "      <th>1.5</th>\n",
       "      <th>2.0</th>\n",
       "      <th>2.5</th>\n",
       "      <th>3.0</th>\n",
       "    </tr>\n",
       "    <tr>\n",
       "      <th>GarageType</th>\n",
       "      <th></th>\n",
       "      <th></th>\n",
       "      <th></th>\n",
       "      <th></th>\n",
       "      <th></th>\n",
       "    </tr>\n",
       "  </thead>\n",
       "  <tbody>\n",
       "    <tr>\n",
       "      <th>2Types</th>\n",
       "      <td>0</td>\n",
       "      <td>0</td>\n",
       "      <td>0</td>\n",
       "      <td>0</td>\n",
       "      <td>6</td>\n",
       "    </tr>\n",
       "    <tr>\n",
       "      <th>Attchd</th>\n",
       "      <td>0</td>\n",
       "      <td>0</td>\n",
       "      <td>870</td>\n",
       "      <td>0</td>\n",
       "      <td>0</td>\n",
       "    </tr>\n",
       "    <tr>\n",
       "      <th>Basment</th>\n",
       "      <td>0</td>\n",
       "      <td>0</td>\n",
       "      <td>19</td>\n",
       "      <td>0</td>\n",
       "      <td>0</td>\n",
       "    </tr>\n",
       "    <tr>\n",
       "      <th>BuiltIn</th>\n",
       "      <td>0</td>\n",
       "      <td>0</td>\n",
       "      <td>0</td>\n",
       "      <td>88</td>\n",
       "      <td>0</td>\n",
       "    </tr>\n",
       "    <tr>\n",
       "      <th>CarPort</th>\n",
       "      <td>9</td>\n",
       "      <td>0</td>\n",
       "      <td>0</td>\n",
       "      <td>0</td>\n",
       "      <td>0</td>\n",
       "    </tr>\n",
       "    <tr>\n",
       "      <th>Detchd</th>\n",
       "      <td>0</td>\n",
       "      <td>387</td>\n",
       "      <td>0</td>\n",
       "      <td>0</td>\n",
       "      <td>0</td>\n",
       "    </tr>\n",
       "  </tbody>\n",
       "</table>\n",
       "</div>"
      ],
      "text/plain": [
       "gar_type    1.0  1.5  2.0  2.5  3.0\n",
       "GarageType                         \n",
       "2Types        0    0    0    0    6\n",
       "Attchd        0    0  870    0    0\n",
       "Basment       0    0   19    0    0\n",
       "BuiltIn       0    0    0   88    0\n",
       "CarPort       9    0    0    0    0\n",
       "Detchd        0  387    0    0    0"
      ]
     },
     "execution_count": 922,
     "metadata": {},
     "output_type": "execute_result"
    }
   ],
   "source": [
    "# Creating a quantitative variable - treating \"no garage\" as the worst level (zero)\n",
    "train['gar_type'] = 0\n",
    "train.loc[train.GarageType == 'CarPort', 'gar_type'] = 1\n",
    "train.loc[train.GarageType == 'Detchd', 'gar_type'] = 1.5\n",
    "train.loc[train.GarageType == 'Attchd', 'gar_type'] = 2\n",
    "train.loc[train.GarageType == 'Basment', 'gar_type'] = 2   # same as Attached\n",
    "train.loc[train.GarageType == 'BuiltIn', 'gar_type'] = 2.5\n",
    "train.loc[train.GarageType == '2Types', 'gar_type'] = 3\n",
    "pd.crosstab(train.GarageType, train.gar_type)"
   ]
  },
  {
   "cell_type": "code",
   "execution_count": 923,
   "metadata": {},
   "outputs": [
    {
     "data": {
      "text/html": [
       "<div>\n",
       "<style>\n",
       "    .dataframe thead tr:only-child th {\n",
       "        text-align: right;\n",
       "    }\n",
       "\n",
       "    .dataframe thead th {\n",
       "        text-align: left;\n",
       "    }\n",
       "\n",
       "    .dataframe tbody tr th {\n",
       "        vertical-align: top;\n",
       "    }\n",
       "</style>\n",
       "<table border=\"1\" class=\"dataframe\">\n",
       "  <thead>\n",
       "    <tr style=\"text-align: right;\">\n",
       "      <th>gar_type</th>\n",
       "      <th>1.0</th>\n",
       "      <th>1.5</th>\n",
       "      <th>2.0</th>\n",
       "      <th>2.5</th>\n",
       "      <th>3.0</th>\n",
       "    </tr>\n",
       "    <tr>\n",
       "      <th>GarageType</th>\n",
       "      <th></th>\n",
       "      <th></th>\n",
       "      <th></th>\n",
       "      <th></th>\n",
       "      <th></th>\n",
       "    </tr>\n",
       "  </thead>\n",
       "  <tbody>\n",
       "    <tr>\n",
       "      <th>2Types</th>\n",
       "      <td>0</td>\n",
       "      <td>0</td>\n",
       "      <td>0</td>\n",
       "      <td>0</td>\n",
       "      <td>17</td>\n",
       "    </tr>\n",
       "    <tr>\n",
       "      <th>Attchd</th>\n",
       "      <td>0</td>\n",
       "      <td>0</td>\n",
       "      <td>853</td>\n",
       "      <td>0</td>\n",
       "      <td>0</td>\n",
       "    </tr>\n",
       "    <tr>\n",
       "      <th>Basment</th>\n",
       "      <td>0</td>\n",
       "      <td>0</td>\n",
       "      <td>17</td>\n",
       "      <td>0</td>\n",
       "      <td>0</td>\n",
       "    </tr>\n",
       "    <tr>\n",
       "      <th>BuiltIn</th>\n",
       "      <td>0</td>\n",
       "      <td>0</td>\n",
       "      <td>0</td>\n",
       "      <td>98</td>\n",
       "      <td>0</td>\n",
       "    </tr>\n",
       "    <tr>\n",
       "      <th>CarPort</th>\n",
       "      <td>6</td>\n",
       "      <td>0</td>\n",
       "      <td>0</td>\n",
       "      <td>0</td>\n",
       "      <td>0</td>\n",
       "    </tr>\n",
       "    <tr>\n",
       "      <th>Detchd</th>\n",
       "      <td>0</td>\n",
       "      <td>392</td>\n",
       "      <td>0</td>\n",
       "      <td>0</td>\n",
       "      <td>0</td>\n",
       "    </tr>\n",
       "  </tbody>\n",
       "</table>\n",
       "</div>"
      ],
      "text/plain": [
       "gar_type    1.0  1.5  2.0  2.5  3.0\n",
       "GarageType                         \n",
       "2Types        0    0    0    0   17\n",
       "Attchd        0    0  853    0    0\n",
       "Basment       0    0   17    0    0\n",
       "BuiltIn       0    0    0   98    0\n",
       "CarPort       6    0    0    0    0\n",
       "Detchd        0  392    0    0    0"
      ]
     },
     "execution_count": 923,
     "metadata": {},
     "output_type": "execute_result"
    }
   ],
   "source": [
    "test['gar_type'] = 0\n",
    "test.loc[test.GarageType == 'CarPort', 'gar_type'] = 1\n",
    "test.loc[test.GarageType == 'Detchd', 'gar_type'] = 1.5\n",
    "test.loc[test.GarageType == 'Attchd', 'gar_type'] = 2\n",
    "test.loc[test.GarageType == 'Basment', 'gar_type'] = 2   # same as Attached\n",
    "test.loc[test.GarageType == 'BuiltIn', 'gar_type'] = 2.5\n",
    "test.loc[test.GarageType == '2Types', 'gar_type'] = 3\n",
    "pd.crosstab(test.GarageType, test.gar_type)"
   ]
  },
  {
   "cell_type": "code",
   "execution_count": 924,
   "metadata": {},
   "outputs": [
    {
     "name": "stdout",
     "output_type": "stream",
     "text": [
      "(1460, 173)\n",
      "(1459, 172)\n"
     ]
    }
   ],
   "source": [
    "print(train.shape)\n",
    "print(test.shape)"
   ]
  },
  {
   "cell_type": "markdown",
   "metadata": {},
   "source": [
    "###### GarageYrBlt: Year garage was built"
   ]
  },
  {
   "cell_type": "markdown",
   "metadata": {},
   "source": [
    "Unless there are other ideas - I'd suggest to drop the year garage was built for 3 reasons:\n",
    "1. It's highly correlated (0.82) with year the house was built - see next cell.\n",
    "2. 5.5% of people have no garage, so it's not clear how to code this variable when people have no garage.\n",
    "3. When you guy a house you rarely care about the year it was built - you care about its size, location, condition."
   ]
  },
  {
   "cell_type": "code",
   "execution_count": 925,
   "metadata": {},
   "outputs": [
    {
     "data": {
      "text/plain": [
       "0.82566748417434199"
      ]
     },
     "execution_count": 925,
     "metadata": {},
     "output_type": "execute_result"
    }
   ],
   "source": [
    "train['GarageYrBlt'].corr(train['YearBuilt'])  # correlation is 0.82"
   ]
  },
  {
   "cell_type": "markdown",
   "metadata": {},
   "source": [
    "###### GarageFinish: Interior finish of the garage"
   ]
  },
  {
   "cell_type": "code",
   "execution_count": 926,
   "metadata": {},
   "outputs": [
    {
     "name": "stdout",
     "output_type": "stream",
     "text": [
      "Unf    41.44\n",
      "RFn    28.90\n",
      "Fin    24.11\n",
      "Name: GarageFinish, dtype: float64\n",
      "Unf    42.81\n",
      "RFn    26.64\n",
      "Fin    25.14\n",
      "Name: GarageFinish, dtype: float64\n"
     ]
    }
   ],
   "source": [
    "print((train.GarageFinish.value_counts().sort_values(ascending = False)/N*100).round(2))\n",
    "print((test.GarageFinish.value_counts().sort_values(ascending = False)/N*100).round(2))"
   ]
  },
  {
   "cell_type": "code",
   "execution_count": 927,
   "metadata": {},
   "outputs": [
    {
     "data": {
      "text/html": [
       "<div>\n",
       "<style>\n",
       "    .dataframe thead tr:only-child th {\n",
       "        text-align: right;\n",
       "    }\n",
       "\n",
       "    .dataframe thead th {\n",
       "        text-align: left;\n",
       "    }\n",
       "\n",
       "    .dataframe tbody tr th {\n",
       "        vertical-align: top;\n",
       "    }\n",
       "</style>\n",
       "<table border=\"1\" class=\"dataframe\">\n",
       "  <thead>\n",
       "    <tr style=\"text-align: right;\">\n",
       "      <th>gar_finish</th>\n",
       "      <th>1</th>\n",
       "      <th>2</th>\n",
       "      <th>3</th>\n",
       "    </tr>\n",
       "    <tr>\n",
       "      <th>GarageFinish</th>\n",
       "      <th></th>\n",
       "      <th></th>\n",
       "      <th></th>\n",
       "    </tr>\n",
       "  </thead>\n",
       "  <tbody>\n",
       "    <tr>\n",
       "      <th>Fin</th>\n",
       "      <td>0</td>\n",
       "      <td>0</td>\n",
       "      <td>352</td>\n",
       "    </tr>\n",
       "    <tr>\n",
       "      <th>RFn</th>\n",
       "      <td>0</td>\n",
       "      <td>422</td>\n",
       "      <td>0</td>\n",
       "    </tr>\n",
       "    <tr>\n",
       "      <th>Unf</th>\n",
       "      <td>605</td>\n",
       "      <td>0</td>\n",
       "      <td>0</td>\n",
       "    </tr>\n",
       "  </tbody>\n",
       "</table>\n",
       "</div>"
      ],
      "text/plain": [
       "gar_finish      1    2    3\n",
       "GarageFinish               \n",
       "Fin             0    0  352\n",
       "RFn             0  422    0\n",
       "Unf           605    0    0"
      ]
     },
     "execution_count": 927,
     "metadata": {},
     "output_type": "execute_result"
    }
   ],
   "source": [
    "# Creating a quantitative variable - treating \"no garage\" as the worst level (zero)\n",
    "train['gar_finish'] = 0\n",
    "train.loc[train.GarageFinish == 'Unf', 'gar_finish'] = 1\n",
    "train.loc[train.GarageFinish == 'RFn', 'gar_finish'] = 2\n",
    "train.loc[train.GarageFinish == 'Fin', 'gar_finish'] = 3\n",
    "pd.crosstab(train.GarageFinish, train.gar_finish)"
   ]
  },
  {
   "cell_type": "code",
   "execution_count": 928,
   "metadata": {},
   "outputs": [
    {
     "data": {
      "text/html": [
       "<div>\n",
       "<style>\n",
       "    .dataframe thead tr:only-child th {\n",
       "        text-align: right;\n",
       "    }\n",
       "\n",
       "    .dataframe thead th {\n",
       "        text-align: left;\n",
       "    }\n",
       "\n",
       "    .dataframe tbody tr th {\n",
       "        vertical-align: top;\n",
       "    }\n",
       "</style>\n",
       "<table border=\"1\" class=\"dataframe\">\n",
       "  <thead>\n",
       "    <tr style=\"text-align: right;\">\n",
       "      <th>gar_finish</th>\n",
       "      <th>1</th>\n",
       "      <th>2</th>\n",
       "      <th>3</th>\n",
       "    </tr>\n",
       "    <tr>\n",
       "      <th>GarageFinish</th>\n",
       "      <th></th>\n",
       "      <th></th>\n",
       "      <th></th>\n",
       "    </tr>\n",
       "  </thead>\n",
       "  <tbody>\n",
       "    <tr>\n",
       "      <th>Fin</th>\n",
       "      <td>0</td>\n",
       "      <td>0</td>\n",
       "      <td>367</td>\n",
       "    </tr>\n",
       "    <tr>\n",
       "      <th>RFn</th>\n",
       "      <td>0</td>\n",
       "      <td>389</td>\n",
       "      <td>0</td>\n",
       "    </tr>\n",
       "    <tr>\n",
       "      <th>Unf</th>\n",
       "      <td>625</td>\n",
       "      <td>0</td>\n",
       "      <td>0</td>\n",
       "    </tr>\n",
       "  </tbody>\n",
       "</table>\n",
       "</div>"
      ],
      "text/plain": [
       "gar_finish      1    2    3\n",
       "GarageFinish               \n",
       "Fin             0    0  367\n",
       "RFn             0  389    0\n",
       "Unf           625    0    0"
      ]
     },
     "execution_count": 928,
     "metadata": {},
     "output_type": "execute_result"
    }
   ],
   "source": [
    "test['gar_finish'] = 0\n",
    "test.loc[test.GarageFinish == 'Unf', 'gar_finish'] = 1\n",
    "test.loc[test.GarageFinish == 'RFn', 'gar_finish'] = 2\n",
    "test.loc[test.GarageFinish == 'Fin', 'gar_finish'] = 3\n",
    "pd.crosstab(test.GarageFinish, test.gar_finish)"
   ]
  },
  {
   "cell_type": "code",
   "execution_count": 929,
   "metadata": {},
   "outputs": [
    {
     "name": "stdout",
     "output_type": "stream",
     "text": [
      "(1460, 174)\n",
      "(1459, 173)\n"
     ]
    }
   ],
   "source": [
    "print(train.shape)\n",
    "print(test.shape)"
   ]
  },
  {
   "cell_type": "markdown",
   "metadata": {},
   "source": [
    "###### GarageCars: Size of garage in car capacity, GarageArea: Size of garage in square feet"
   ]
  },
  {
   "cell_type": "markdown",
   "metadata": {},
   "source": [
    "Let's only use GarageCars (as is) and forget about GarageArea - garage square feet are correlated with GarageCars at 0.88 "
   ]
  },
  {
   "cell_type": "code",
   "execution_count": 930,
   "metadata": {},
   "outputs": [
    {
     "name": "stdout",
     "output_type": "stream",
     "text": [
      "2    56.44\n",
      "1    25.27\n",
      "3    12.40\n",
      "0     5.55\n",
      "4     0.34\n",
      "Name: GarageCars, dtype: float64\n",
      "2.0    52.74\n",
      "1.0    27.88\n",
      "3.0    13.22\n",
      "0.0     5.21\n",
      "4.0     0.75\n",
      "5.0     0.07\n",
      "Name: GarageCars, dtype: float64\n"
     ]
    },
    {
     "data": {
      "text/plain": [
       "0.88247541428146292"
      ]
     },
     "execution_count": 930,
     "metadata": {},
     "output_type": "execute_result"
    }
   ],
   "source": [
    "# Can use as is:\n",
    "print((train.GarageCars.value_counts().sort_values(ascending = False)/N*100).round(2))\n",
    "print((test.GarageCars.value_counts().sort_values(ascending = False)/N*100).round(2))\n",
    "train['GarageArea'].corr(train['GarageCars'])  # correlation is 0.88"
   ]
  },
  {
   "cell_type": "markdown",
   "metadata": {},
   "source": [
    "###### GarageQual: Garage quality"
   ]
  },
  {
   "cell_type": "code",
   "execution_count": 931,
   "metadata": {},
   "outputs": [
    {
     "name": "stdout",
     "output_type": "stream",
     "text": [
      "TA    89.79\n",
      "Fa     3.29\n",
      "Gd     0.96\n",
      "Po     0.21\n",
      "Ex     0.21\n",
      "Name: GarageQual, dtype: float64\n",
      "TA    88.56\n",
      "Fa     5.21\n",
      "Gd     0.68\n",
      "Po     0.14\n",
      "Name: GarageQual, dtype: float64\n"
     ]
    }
   ],
   "source": [
    "print((train.GarageQual.value_counts().sort_values(ascending = False)/N*100).round(2))\n",
    "print((test.GarageQual.value_counts().sort_values(ascending = False)/N*100).round(2))"
   ]
  },
  {
   "cell_type": "code",
   "execution_count": 932,
   "metadata": {},
   "outputs": [
    {
     "data": {
      "text/html": [
       "<div>\n",
       "<style>\n",
       "    .dataframe thead tr:only-child th {\n",
       "        text-align: right;\n",
       "    }\n",
       "\n",
       "    .dataframe thead th {\n",
       "        text-align: left;\n",
       "    }\n",
       "\n",
       "    .dataframe tbody tr th {\n",
       "        vertical-align: top;\n",
       "    }\n",
       "</style>\n",
       "<table border=\"1\" class=\"dataframe\">\n",
       "  <thead>\n",
       "    <tr style=\"text-align: right;\">\n",
       "      <th>GarageCond</th>\n",
       "      <th>Ex</th>\n",
       "      <th>Fa</th>\n",
       "      <th>Gd</th>\n",
       "      <th>Po</th>\n",
       "      <th>TA</th>\n",
       "    </tr>\n",
       "    <tr>\n",
       "      <th>GarageQual</th>\n",
       "      <th></th>\n",
       "      <th></th>\n",
       "      <th></th>\n",
       "      <th></th>\n",
       "      <th></th>\n",
       "    </tr>\n",
       "  </thead>\n",
       "  <tbody>\n",
       "    <tr>\n",
       "      <th>Ex</th>\n",
       "      <td>2</td>\n",
       "      <td>0</td>\n",
       "      <td>0</td>\n",
       "      <td>0</td>\n",
       "      <td>1</td>\n",
       "    </tr>\n",
       "    <tr>\n",
       "      <th>Fa</th>\n",
       "      <td>0</td>\n",
       "      <td>20</td>\n",
       "      <td>0</td>\n",
       "      <td>4</td>\n",
       "      <td>24</td>\n",
       "    </tr>\n",
       "    <tr>\n",
       "      <th>Gd</th>\n",
       "      <td>0</td>\n",
       "      <td>0</td>\n",
       "      <td>4</td>\n",
       "      <td>0</td>\n",
       "      <td>10</td>\n",
       "    </tr>\n",
       "    <tr>\n",
       "      <th>Po</th>\n",
       "      <td>0</td>\n",
       "      <td>0</td>\n",
       "      <td>0</td>\n",
       "      <td>3</td>\n",
       "      <td>0</td>\n",
       "    </tr>\n",
       "    <tr>\n",
       "      <th>TA</th>\n",
       "      <td>0</td>\n",
       "      <td>15</td>\n",
       "      <td>5</td>\n",
       "      <td>0</td>\n",
       "      <td>1291</td>\n",
       "    </tr>\n",
       "  </tbody>\n",
       "</table>\n",
       "</div>"
      ],
      "text/plain": [
       "GarageCond  Ex  Fa  Gd  Po    TA\n",
       "GarageQual                      \n",
       "Ex           2   0   0   0     1\n",
       "Fa           0  20   0   4    24\n",
       "Gd           0   0   4   0    10\n",
       "Po           0   0   0   3     0\n",
       "TA           0  15   5   0  1291"
      ]
     },
     "execution_count": 932,
     "metadata": {},
     "output_type": "execute_result"
    }
   ],
   "source": [
    "pd.crosstab(train.GarageQual, train.GarageCond)"
   ]
  },
  {
   "cell_type": "code",
   "execution_count": 933,
   "metadata": {},
   "outputs": [
    {
     "data": {
      "text/html": [
       "<div>\n",
       "<style>\n",
       "    .dataframe thead tr:only-child th {\n",
       "        text-align: right;\n",
       "    }\n",
       "\n",
       "    .dataframe thead th {\n",
       "        text-align: left;\n",
       "    }\n",
       "\n",
       "    .dataframe tbody tr th {\n",
       "        vertical-align: top;\n",
       "    }\n",
       "</style>\n",
       "<table border=\"1\" class=\"dataframe\">\n",
       "  <thead>\n",
       "    <tr style=\"text-align: right;\">\n",
       "      <th>gar_qual</th>\n",
       "      <th>1.0</th>\n",
       "      <th>2.0</th>\n",
       "      <th>3.0</th>\n",
       "      <th>3.5</th>\n",
       "      <th>4.0</th>\n",
       "    </tr>\n",
       "    <tr>\n",
       "      <th>GarageQual</th>\n",
       "      <th></th>\n",
       "      <th></th>\n",
       "      <th></th>\n",
       "      <th></th>\n",
       "      <th></th>\n",
       "    </tr>\n",
       "  </thead>\n",
       "  <tbody>\n",
       "    <tr>\n",
       "      <th>Ex</th>\n",
       "      <td>0</td>\n",
       "      <td>0</td>\n",
       "      <td>0</td>\n",
       "      <td>0</td>\n",
       "      <td>3</td>\n",
       "    </tr>\n",
       "    <tr>\n",
       "      <th>Fa</th>\n",
       "      <td>0</td>\n",
       "      <td>48</td>\n",
       "      <td>0</td>\n",
       "      <td>0</td>\n",
       "      <td>0</td>\n",
       "    </tr>\n",
       "    <tr>\n",
       "      <th>Gd</th>\n",
       "      <td>0</td>\n",
       "      <td>0</td>\n",
       "      <td>0</td>\n",
       "      <td>14</td>\n",
       "      <td>0</td>\n",
       "    </tr>\n",
       "    <tr>\n",
       "      <th>Po</th>\n",
       "      <td>3</td>\n",
       "      <td>0</td>\n",
       "      <td>0</td>\n",
       "      <td>0</td>\n",
       "      <td>0</td>\n",
       "    </tr>\n",
       "    <tr>\n",
       "      <th>TA</th>\n",
       "      <td>0</td>\n",
       "      <td>0</td>\n",
       "      <td>1311</td>\n",
       "      <td>0</td>\n",
       "      <td>0</td>\n",
       "    </tr>\n",
       "  </tbody>\n",
       "</table>\n",
       "</div>"
      ],
      "text/plain": [
       "gar_qual    1.0  2.0   3.0  3.5  4.0\n",
       "GarageQual                          \n",
       "Ex            0    0     0    0    3\n",
       "Fa            0   48     0    0    0\n",
       "Gd            0    0     0   14    0\n",
       "Po            3    0     0    0    0\n",
       "TA            0    0  1311    0    0"
      ]
     },
     "execution_count": 933,
     "metadata": {},
     "output_type": "execute_result"
    }
   ],
   "source": [
    "# GarageQual\n",
    "# Creating a quantitative variable - treating \"no garage\" as the average level (no headache)\n",
    "train['gar_qual'] = 3\n",
    "train.loc[train.GarageQual == 'Po', 'gar_qual'] = 1\n",
    "train.loc[train.GarageQual == 'Fa', 'gar_qual'] = 2\n",
    "train.loc[train.GarageQual == 'Gd', 'gar_qual'] = 3.5\n",
    "train.loc[train.GarageQual == 'Ex', 'gar_qual'] = 4\n",
    "pd.crosstab(train.GarageQual, train.gar_qual)"
   ]
  },
  {
   "cell_type": "code",
   "execution_count": 934,
   "metadata": {},
   "outputs": [
    {
     "data": {
      "text/html": [
       "<div>\n",
       "<style>\n",
       "    .dataframe thead tr:only-child th {\n",
       "        text-align: right;\n",
       "    }\n",
       "\n",
       "    .dataframe thead th {\n",
       "        text-align: left;\n",
       "    }\n",
       "\n",
       "    .dataframe tbody tr th {\n",
       "        vertical-align: top;\n",
       "    }\n",
       "</style>\n",
       "<table border=\"1\" class=\"dataframe\">\n",
       "  <thead>\n",
       "    <tr style=\"text-align: right;\">\n",
       "      <th>gar_qual</th>\n",
       "      <th>1.0</th>\n",
       "      <th>2.0</th>\n",
       "      <th>3.0</th>\n",
       "      <th>3.5</th>\n",
       "    </tr>\n",
       "    <tr>\n",
       "      <th>GarageQual</th>\n",
       "      <th></th>\n",
       "      <th></th>\n",
       "      <th></th>\n",
       "      <th></th>\n",
       "    </tr>\n",
       "  </thead>\n",
       "  <tbody>\n",
       "    <tr>\n",
       "      <th>Fa</th>\n",
       "      <td>0</td>\n",
       "      <td>76</td>\n",
       "      <td>0</td>\n",
       "      <td>0</td>\n",
       "    </tr>\n",
       "    <tr>\n",
       "      <th>Gd</th>\n",
       "      <td>0</td>\n",
       "      <td>0</td>\n",
       "      <td>0</td>\n",
       "      <td>10</td>\n",
       "    </tr>\n",
       "    <tr>\n",
       "      <th>Po</th>\n",
       "      <td>2</td>\n",
       "      <td>0</td>\n",
       "      <td>0</td>\n",
       "      <td>0</td>\n",
       "    </tr>\n",
       "    <tr>\n",
       "      <th>TA</th>\n",
       "      <td>0</td>\n",
       "      <td>0</td>\n",
       "      <td>1293</td>\n",
       "      <td>0</td>\n",
       "    </tr>\n",
       "  </tbody>\n",
       "</table>\n",
       "</div>"
      ],
      "text/plain": [
       "gar_qual    1.0  2.0   3.0  3.5\n",
       "GarageQual                     \n",
       "Fa            0   76     0    0\n",
       "Gd            0    0     0   10\n",
       "Po            2    0     0    0\n",
       "TA            0    0  1293    0"
      ]
     },
     "execution_count": 934,
     "metadata": {},
     "output_type": "execute_result"
    }
   ],
   "source": [
    "test['gar_qual'] = 3\n",
    "test.loc[test.GarageQual == 'Po', 'gar_qual'] = 1\n",
    "test.loc[test.GarageQual == 'Fa', 'gar_qual'] = 2\n",
    "test.loc[test.GarageQual == 'Gd', 'gar_qual'] = 3.5\n",
    "test.loc[test.GarageQual == 'Ex', 'gar_qual'] = 4\n",
    "pd.crosstab(test.GarageQual, test.gar_qual)"
   ]
  },
  {
   "cell_type": "code",
   "execution_count": 935,
   "metadata": {},
   "outputs": [
    {
     "name": "stdout",
     "output_type": "stream",
     "text": [
      "TA    90.82\n",
      "Fa     2.40\n",
      "Gd     0.62\n",
      "Po     0.48\n",
      "Ex     0.14\n",
      "Name: GarageCond, dtype: float64\n",
      "TA    90.96\n",
      "Fa     2.67\n",
      "Po     0.48\n",
      "Gd     0.41\n",
      "Ex     0.07\n",
      "Name: GarageCond, dtype: float64\n"
     ]
    }
   ],
   "source": [
    "print((train.GarageCond.value_counts().sort_values(ascending = False)/N*100).round(2))\n",
    "print((test.GarageCond.value_counts().sort_values(ascending = False)/N*100).round(2))"
   ]
  },
  {
   "cell_type": "code",
   "execution_count": 936,
   "metadata": {},
   "outputs": [
    {
     "data": {
      "text/html": [
       "<div>\n",
       "<style>\n",
       "    .dataframe thead tr:only-child th {\n",
       "        text-align: right;\n",
       "    }\n",
       "\n",
       "    .dataframe thead th {\n",
       "        text-align: left;\n",
       "    }\n",
       "\n",
       "    .dataframe tbody tr th {\n",
       "        vertical-align: top;\n",
       "    }\n",
       "</style>\n",
       "<table border=\"1\" class=\"dataframe\">\n",
       "  <thead>\n",
       "    <tr style=\"text-align: right;\">\n",
       "      <th>gar_cond</th>\n",
       "      <th>1.0</th>\n",
       "      <th>1.5</th>\n",
       "      <th>2.0</th>\n",
       "      <th>2.5</th>\n",
       "      <th>3.0</th>\n",
       "    </tr>\n",
       "    <tr>\n",
       "      <th>GarageCond</th>\n",
       "      <th></th>\n",
       "      <th></th>\n",
       "      <th></th>\n",
       "      <th></th>\n",
       "      <th></th>\n",
       "    </tr>\n",
       "  </thead>\n",
       "  <tbody>\n",
       "    <tr>\n",
       "      <th>Ex</th>\n",
       "      <td>0</td>\n",
       "      <td>0</td>\n",
       "      <td>0</td>\n",
       "      <td>0</td>\n",
       "      <td>2</td>\n",
       "    </tr>\n",
       "    <tr>\n",
       "      <th>Fa</th>\n",
       "      <td>0</td>\n",
       "      <td>35</td>\n",
       "      <td>0</td>\n",
       "      <td>0</td>\n",
       "      <td>0</td>\n",
       "    </tr>\n",
       "    <tr>\n",
       "      <th>Gd</th>\n",
       "      <td>0</td>\n",
       "      <td>0</td>\n",
       "      <td>0</td>\n",
       "      <td>9</td>\n",
       "      <td>0</td>\n",
       "    </tr>\n",
       "    <tr>\n",
       "      <th>Po</th>\n",
       "      <td>7</td>\n",
       "      <td>0</td>\n",
       "      <td>0</td>\n",
       "      <td>0</td>\n",
       "      <td>0</td>\n",
       "    </tr>\n",
       "    <tr>\n",
       "      <th>TA</th>\n",
       "      <td>0</td>\n",
       "      <td>0</td>\n",
       "      <td>1326</td>\n",
       "      <td>0</td>\n",
       "      <td>0</td>\n",
       "    </tr>\n",
       "  </tbody>\n",
       "</table>\n",
       "</div>"
      ],
      "text/plain": [
       "gar_cond    1.0  1.5   2.0  2.5  3.0\n",
       "GarageCond                          \n",
       "Ex            0    0     0    0    2\n",
       "Fa            0   35     0    0    0\n",
       "Gd            0    0     0    9    0\n",
       "Po            7    0     0    0    0\n",
       "TA            0    0  1326    0    0"
      ]
     },
     "execution_count": 936,
     "metadata": {},
     "output_type": "execute_result"
    }
   ],
   "source": [
    "# GarageCond\n",
    "# Creating a quantitative variable - treating \"no garage\" as the average level (no headache)\n",
    "train['gar_cond'] = 2\n",
    "train.loc[train.GarageCond == 'Po', 'gar_cond'] = 1\n",
    "train.loc[train.GarageCond == 'Fa', 'gar_cond'] = 1.5\n",
    "train.loc[train.GarageCond == 'Gd', 'gar_cond'] = 2.5\n",
    "train.loc[train.GarageCond == 'Ex', 'gar_cond'] = 3\n",
    "pd.crosstab(train.GarageCond, train.gar_cond)"
   ]
  },
  {
   "cell_type": "code",
   "execution_count": 937,
   "metadata": {},
   "outputs": [
    {
     "data": {
      "text/html": [
       "<div>\n",
       "<style>\n",
       "    .dataframe thead tr:only-child th {\n",
       "        text-align: right;\n",
       "    }\n",
       "\n",
       "    .dataframe thead th {\n",
       "        text-align: left;\n",
       "    }\n",
       "\n",
       "    .dataframe tbody tr th {\n",
       "        vertical-align: top;\n",
       "    }\n",
       "</style>\n",
       "<table border=\"1\" class=\"dataframe\">\n",
       "  <thead>\n",
       "    <tr style=\"text-align: right;\">\n",
       "      <th>gar_cond</th>\n",
       "      <th>1.0</th>\n",
       "      <th>1.5</th>\n",
       "      <th>2.0</th>\n",
       "      <th>2.5</th>\n",
       "      <th>3.0</th>\n",
       "    </tr>\n",
       "    <tr>\n",
       "      <th>GarageCond</th>\n",
       "      <th></th>\n",
       "      <th></th>\n",
       "      <th></th>\n",
       "      <th></th>\n",
       "      <th></th>\n",
       "    </tr>\n",
       "  </thead>\n",
       "  <tbody>\n",
       "    <tr>\n",
       "      <th>Ex</th>\n",
       "      <td>0</td>\n",
       "      <td>0</td>\n",
       "      <td>0</td>\n",
       "      <td>0</td>\n",
       "      <td>1</td>\n",
       "    </tr>\n",
       "    <tr>\n",
       "      <th>Fa</th>\n",
       "      <td>0</td>\n",
       "      <td>39</td>\n",
       "      <td>0</td>\n",
       "      <td>0</td>\n",
       "      <td>0</td>\n",
       "    </tr>\n",
       "    <tr>\n",
       "      <th>Gd</th>\n",
       "      <td>0</td>\n",
       "      <td>0</td>\n",
       "      <td>0</td>\n",
       "      <td>6</td>\n",
       "      <td>0</td>\n",
       "    </tr>\n",
       "    <tr>\n",
       "      <th>Po</th>\n",
       "      <td>7</td>\n",
       "      <td>0</td>\n",
       "      <td>0</td>\n",
       "      <td>0</td>\n",
       "      <td>0</td>\n",
       "    </tr>\n",
       "    <tr>\n",
       "      <th>TA</th>\n",
       "      <td>0</td>\n",
       "      <td>0</td>\n",
       "      <td>1328</td>\n",
       "      <td>0</td>\n",
       "      <td>0</td>\n",
       "    </tr>\n",
       "  </tbody>\n",
       "</table>\n",
       "</div>"
      ],
      "text/plain": [
       "gar_cond    1.0  1.5   2.0  2.5  3.0\n",
       "GarageCond                          \n",
       "Ex            0    0     0    0    1\n",
       "Fa            0   39     0    0    0\n",
       "Gd            0    0     0    6    0\n",
       "Po            7    0     0    0    0\n",
       "TA            0    0  1328    0    0"
      ]
     },
     "execution_count": 937,
     "metadata": {},
     "output_type": "execute_result"
    }
   ],
   "source": [
    "test['gar_cond'] = 2\n",
    "test.loc[test.GarageCond == 'Po', 'gar_cond'] = 1\n",
    "test.loc[test.GarageCond == 'Fa', 'gar_cond'] = 1.5\n",
    "test.loc[test.GarageCond == 'Gd', 'gar_cond'] = 2.5\n",
    "test.loc[test.GarageCond == 'Ex', 'gar_cond'] = 3\n",
    "pd.crosstab(test.GarageCond, test.gar_cond)"
   ]
  },
  {
   "cell_type": "code",
   "execution_count": 938,
   "metadata": {
    "collapsed": true
   },
   "outputs": [],
   "source": [
    "# Creating a new variable - product of garage quality & condition:\n",
    "train['gar_perception'] = train['gar_qual'] * train['gar_cond']\n",
    "test['gar_perception'] = test['gar_qual'] * test['gar_cond']"
   ]
  },
  {
   "cell_type": "code",
   "execution_count": 939,
   "metadata": {
    "collapsed": true
   },
   "outputs": [],
   "source": [
    "# pd.crosstab(train.gar_qual, train.gar_perception)\n",
    "# pd.crosstab(train.gar_cond, train.gar_perception)"
   ]
  },
  {
   "cell_type": "code",
   "execution_count": 940,
   "metadata": {},
   "outputs": [
    {
     "name": "stdout",
     "output_type": "stream",
     "text": [
      "(1460, 177)\n",
      "(1459, 176)\n"
     ]
    }
   ],
   "source": [
    "print(train.shape)\n",
    "print(test.shape)"
   ]
  },
  {
   "cell_type": "markdown",
   "metadata": {},
   "source": [
    "###### PavedDrive: Paved driveway"
   ]
  },
  {
   "cell_type": "code",
   "execution_count": 941,
   "metadata": {},
   "outputs": [
    {
     "name": "stdout",
     "output_type": "stream",
     "text": [
      "Y    91.78\n",
      "N     6.16\n",
      "P     2.05\n",
      "Name: PavedDrive, dtype: float64\n",
      "Y    89.11\n",
      "N     8.63\n",
      "P     2.19\n",
      "Name: PavedDrive, dtype: float64\n"
     ]
    }
   ],
   "source": [
    "print((train.PavedDrive.value_counts().sort_values(ascending = False)/N*100).round(2))\n",
    "print((test.PavedDrive.value_counts().sort_values(ascending = False)/N*100).round(2))"
   ]
  },
  {
   "cell_type": "code",
   "execution_count": 942,
   "metadata": {},
   "outputs": [
    {
     "data": {
      "text/html": [
       "<div>\n",
       "<style>\n",
       "    .dataframe thead tr:only-child th {\n",
       "        text-align: right;\n",
       "    }\n",
       "\n",
       "    .dataframe thead th {\n",
       "        text-align: left;\n",
       "    }\n",
       "\n",
       "    .dataframe tbody tr th {\n",
       "        vertical-align: top;\n",
       "    }\n",
       "</style>\n",
       "<table border=\"1\" class=\"dataframe\">\n",
       "  <thead>\n",
       "    <tr style=\"text-align: right;\">\n",
       "      <th>driveway</th>\n",
       "      <th>0</th>\n",
       "      <th>2</th>\n",
       "      <th>3</th>\n",
       "    </tr>\n",
       "    <tr>\n",
       "      <th>PavedDrive</th>\n",
       "      <th></th>\n",
       "      <th></th>\n",
       "      <th></th>\n",
       "    </tr>\n",
       "  </thead>\n",
       "  <tbody>\n",
       "    <tr>\n",
       "      <th>N</th>\n",
       "      <td>90</td>\n",
       "      <td>0</td>\n",
       "      <td>0</td>\n",
       "    </tr>\n",
       "    <tr>\n",
       "      <th>P</th>\n",
       "      <td>0</td>\n",
       "      <td>30</td>\n",
       "      <td>0</td>\n",
       "    </tr>\n",
       "    <tr>\n",
       "      <th>Y</th>\n",
       "      <td>0</td>\n",
       "      <td>0</td>\n",
       "      <td>1340</td>\n",
       "    </tr>\n",
       "  </tbody>\n",
       "</table>\n",
       "</div>"
      ],
      "text/plain": [
       "driveway     0   2     3\n",
       "PavedDrive              \n",
       "N           90   0     0\n",
       "P            0  30     0\n",
       "Y            0   0  1340"
      ]
     },
     "execution_count": 942,
     "metadata": {},
     "output_type": "execute_result"
    }
   ],
   "source": [
    "# Creating a quantitative variable\n",
    "train['driveway'] = 0\n",
    "train.loc[train.PavedDrive == 'P', 'driveway'] = 2\n",
    "train.loc[train.PavedDrive == 'Y', 'driveway'] = 3\n",
    "pd.crosstab(train.PavedDrive, train.driveway)"
   ]
  },
  {
   "cell_type": "code",
   "execution_count": 943,
   "metadata": {},
   "outputs": [
    {
     "data": {
      "text/html": [
       "<div>\n",
       "<style>\n",
       "    .dataframe thead tr:only-child th {\n",
       "        text-align: right;\n",
       "    }\n",
       "\n",
       "    .dataframe thead th {\n",
       "        text-align: left;\n",
       "    }\n",
       "\n",
       "    .dataframe tbody tr th {\n",
       "        vertical-align: top;\n",
       "    }\n",
       "</style>\n",
       "<table border=\"1\" class=\"dataframe\">\n",
       "  <thead>\n",
       "    <tr style=\"text-align: right;\">\n",
       "      <th>driveway</th>\n",
       "      <th>0</th>\n",
       "      <th>2</th>\n",
       "      <th>3</th>\n",
       "    </tr>\n",
       "    <tr>\n",
       "      <th>PavedDrive</th>\n",
       "      <th></th>\n",
       "      <th></th>\n",
       "      <th></th>\n",
       "    </tr>\n",
       "  </thead>\n",
       "  <tbody>\n",
       "    <tr>\n",
       "      <th>N</th>\n",
       "      <td>126</td>\n",
       "      <td>0</td>\n",
       "      <td>0</td>\n",
       "    </tr>\n",
       "    <tr>\n",
       "      <th>P</th>\n",
       "      <td>0</td>\n",
       "      <td>32</td>\n",
       "      <td>0</td>\n",
       "    </tr>\n",
       "    <tr>\n",
       "      <th>Y</th>\n",
       "      <td>0</td>\n",
       "      <td>0</td>\n",
       "      <td>1301</td>\n",
       "    </tr>\n",
       "  </tbody>\n",
       "</table>\n",
       "</div>"
      ],
      "text/plain": [
       "driveway      0   2     3\n",
       "PavedDrive               \n",
       "N           126   0     0\n",
       "P             0  32     0\n",
       "Y             0   0  1301"
      ]
     },
     "execution_count": 943,
     "metadata": {},
     "output_type": "execute_result"
    }
   ],
   "source": [
    "test['driveway'] = 0\n",
    "test.loc[test.PavedDrive == 'P', 'driveway'] = 2\n",
    "test.loc[test.PavedDrive == 'Y', 'driveway'] = 3\n",
    "pd.crosstab(test.PavedDrive, test.driveway)"
   ]
  },
  {
   "cell_type": "code",
   "execution_count": 944,
   "metadata": {},
   "outputs": [
    {
     "name": "stdout",
     "output_type": "stream",
     "text": [
      "(1460, 178)\n",
      "(1459, 177)\n"
     ]
    }
   ],
   "source": [
    "print(train.shape)\n",
    "print(test.shape)"
   ]
  },
  {
   "cell_type": "markdown",
   "metadata": {},
   "source": [
    "###### Correlations for Porches SF - are pretty low, let's keep them all"
   ]
  },
  {
   "cell_type": "code",
   "execution_count": 945,
   "metadata": {},
   "outputs": [
    {
     "data": {
      "text/html": [
       "<div>\n",
       "<style>\n",
       "    .dataframe thead tr:only-child th {\n",
       "        text-align: right;\n",
       "    }\n",
       "\n",
       "    .dataframe thead th {\n",
       "        text-align: left;\n",
       "    }\n",
       "\n",
       "    .dataframe tbody tr th {\n",
       "        vertical-align: top;\n",
       "    }\n",
       "</style>\n",
       "<table border=\"1\" class=\"dataframe\">\n",
       "  <thead>\n",
       "    <tr style=\"text-align: right;\">\n",
       "      <th></th>\n",
       "      <th>WoodDeckSF</th>\n",
       "      <th>OpenPorchSF</th>\n",
       "      <th>EnclosedPorch</th>\n",
       "      <th>3SsnPorch</th>\n",
       "      <th>ScreenPorch</th>\n",
       "    </tr>\n",
       "  </thead>\n",
       "  <tbody>\n",
       "    <tr>\n",
       "      <th>WoodDeckSF</th>\n",
       "      <td>1.000000</td>\n",
       "      <td>0.058661</td>\n",
       "      <td>-0.125989</td>\n",
       "      <td>-0.032771</td>\n",
       "      <td>-0.074181</td>\n",
       "    </tr>\n",
       "    <tr>\n",
       "      <th>OpenPorchSF</th>\n",
       "      <td>0.058661</td>\n",
       "      <td>1.000000</td>\n",
       "      <td>-0.093079</td>\n",
       "      <td>-0.005842</td>\n",
       "      <td>0.074304</td>\n",
       "    </tr>\n",
       "    <tr>\n",
       "      <th>EnclosedPorch</th>\n",
       "      <td>-0.125989</td>\n",
       "      <td>-0.093079</td>\n",
       "      <td>1.000000</td>\n",
       "      <td>-0.037305</td>\n",
       "      <td>-0.082864</td>\n",
       "    </tr>\n",
       "    <tr>\n",
       "      <th>3SsnPorch</th>\n",
       "      <td>-0.032771</td>\n",
       "      <td>-0.005842</td>\n",
       "      <td>-0.037305</td>\n",
       "      <td>1.000000</td>\n",
       "      <td>-0.031436</td>\n",
       "    </tr>\n",
       "    <tr>\n",
       "      <th>ScreenPorch</th>\n",
       "      <td>-0.074181</td>\n",
       "      <td>0.074304</td>\n",
       "      <td>-0.082864</td>\n",
       "      <td>-0.031436</td>\n",
       "      <td>1.000000</td>\n",
       "    </tr>\n",
       "  </tbody>\n",
       "</table>\n",
       "</div>"
      ],
      "text/plain": [
       "               WoodDeckSF  OpenPorchSF  EnclosedPorch  3SsnPorch  ScreenPorch\n",
       "WoodDeckSF       1.000000     0.058661      -0.125989  -0.032771    -0.074181\n",
       "OpenPorchSF      0.058661     1.000000      -0.093079  -0.005842     0.074304\n",
       "EnclosedPorch   -0.125989    -0.093079       1.000000  -0.037305    -0.082864\n",
       "3SsnPorch       -0.032771    -0.005842      -0.037305   1.000000    -0.031436\n",
       "ScreenPorch     -0.074181     0.074304      -0.082864  -0.031436     1.000000"
      ]
     },
     "execution_count": 945,
     "metadata": {},
     "output_type": "execute_result"
    }
   ],
   "source": [
    "train[['WoodDeckSF','OpenPorchSF','EnclosedPorch','3SsnPorch', 'ScreenPorch']].corr()"
   ]
  },
  {
   "cell_type": "markdown",
   "metadata": {},
   "source": [
    "###### PoolArea: Pool area in square feet & PoolQC- ignore, nobody has a pool"
   ]
  },
  {
   "cell_type": "code",
   "execution_count": 946,
   "metadata": {
    "collapsed": true
   },
   "outputs": [],
   "source": [
    "# plt.hist(test['PoolArea'])\n",
    "# train.PoolArea.value_counts().sort_values(ascending = False)"
   ]
  },
  {
   "cell_type": "code",
   "execution_count": 947,
   "metadata": {},
   "outputs": [
    {
     "name": "stdout",
     "output_type": "stream",
     "text": [
      "Gd    0.21\n",
      "Ex    0.14\n",
      "Fa    0.14\n",
      "Name: PoolQC, dtype: float64\n"
     ]
    }
   ],
   "source": [
    "print((train.PoolQC.value_counts().sort_values(ascending = False)/N*100).round(2))"
   ]
  },
  {
   "cell_type": "markdown",
   "metadata": {},
   "source": [
    "###### Fence: Fence quality"
   ]
  },
  {
   "cell_type": "markdown",
   "metadata": {},
   "source": [
    "Build a new var fence"
   ]
  },
  {
   "cell_type": "code",
   "execution_count": 948,
   "metadata": {},
   "outputs": [
    {
     "name": "stdout",
     "output_type": "stream",
     "text": [
      "MnPrv    10.75\n",
      "GdPrv     4.04\n",
      "GdWo      3.70\n",
      "MnWw      0.75\n",
      "Name: Fence, dtype: float64\n",
      "MnPrv    11.78\n",
      "GdPrv     4.04\n",
      "GdWo      3.97\n",
      "MnWw      0.07\n",
      "Name: Fence, dtype: float64\n"
     ]
    }
   ],
   "source": [
    "print((train.Fence.value_counts().sort_values(ascending = False)/N*100).round(2))\n",
    "print((test.Fence.value_counts().sort_values(ascending = False)/N*100).round(2))"
   ]
  },
  {
   "cell_type": "code",
   "execution_count": 949,
   "metadata": {},
   "outputs": [
    {
     "data": {
      "text/html": [
       "<div>\n",
       "<style>\n",
       "    .dataframe thead tr:only-child th {\n",
       "        text-align: right;\n",
       "    }\n",
       "\n",
       "    .dataframe thead th {\n",
       "        text-align: left;\n",
       "    }\n",
       "\n",
       "    .dataframe tbody tr th {\n",
       "        vertical-align: top;\n",
       "    }\n",
       "</style>\n",
       "<table border=\"1\" class=\"dataframe\">\n",
       "  <thead>\n",
       "    <tr style=\"text-align: right;\">\n",
       "      <th>fence</th>\n",
       "      <th>0.5</th>\n",
       "      <th>1.5</th>\n",
       "    </tr>\n",
       "    <tr>\n",
       "      <th>Fence</th>\n",
       "      <th></th>\n",
       "      <th></th>\n",
       "    </tr>\n",
       "  </thead>\n",
       "  <tbody>\n",
       "    <tr>\n",
       "      <th>GdPrv</th>\n",
       "      <td>0</td>\n",
       "      <td>59</td>\n",
       "    </tr>\n",
       "    <tr>\n",
       "      <th>GdWo</th>\n",
       "      <td>0</td>\n",
       "      <td>54</td>\n",
       "    </tr>\n",
       "    <tr>\n",
       "      <th>MnPrv</th>\n",
       "      <td>157</td>\n",
       "      <td>0</td>\n",
       "    </tr>\n",
       "    <tr>\n",
       "      <th>MnWw</th>\n",
       "      <td>11</td>\n",
       "      <td>0</td>\n",
       "    </tr>\n",
       "  </tbody>\n",
       "</table>\n",
       "</div>"
      ],
      "text/plain": [
       "fence  0.5  1.5\n",
       "Fence          \n",
       "GdPrv    0   59\n",
       "GdWo     0   54\n",
       "MnPrv  157    0\n",
       "MnWw    11    0"
      ]
     },
     "execution_count": 949,
     "metadata": {},
     "output_type": "execute_result"
    }
   ],
   "source": [
    "train['fence'] = 0  # No fence are all zero \n",
    "train.loc[(train.Fence == 'MnWw')|(train.Fence == 'MnPrv'), 'fence'] = 0.5 # Minimum Wood or Minimum Privacy are 0.5\n",
    "train.loc[(train.Fence == 'GdWo')|(train.Fence == 'GdPrv'), 'fence'] = 1.5\n",
    "pd.crosstab(train.Fence, train.fence)"
   ]
  },
  {
   "cell_type": "code",
   "execution_count": 950,
   "metadata": {},
   "outputs": [
    {
     "data": {
      "text/html": [
       "<div>\n",
       "<style>\n",
       "    .dataframe thead tr:only-child th {\n",
       "        text-align: right;\n",
       "    }\n",
       "\n",
       "    .dataframe thead th {\n",
       "        text-align: left;\n",
       "    }\n",
       "\n",
       "    .dataframe tbody tr th {\n",
       "        vertical-align: top;\n",
       "    }\n",
       "</style>\n",
       "<table border=\"1\" class=\"dataframe\">\n",
       "  <thead>\n",
       "    <tr style=\"text-align: right;\">\n",
       "      <th>fence</th>\n",
       "      <th>0.5</th>\n",
       "      <th>1.5</th>\n",
       "    </tr>\n",
       "    <tr>\n",
       "      <th>Fence</th>\n",
       "      <th></th>\n",
       "      <th></th>\n",
       "    </tr>\n",
       "  </thead>\n",
       "  <tbody>\n",
       "    <tr>\n",
       "      <th>GdPrv</th>\n",
       "      <td>0</td>\n",
       "      <td>59</td>\n",
       "    </tr>\n",
       "    <tr>\n",
       "      <th>GdWo</th>\n",
       "      <td>0</td>\n",
       "      <td>58</td>\n",
       "    </tr>\n",
       "    <tr>\n",
       "      <th>MnPrv</th>\n",
       "      <td>172</td>\n",
       "      <td>0</td>\n",
       "    </tr>\n",
       "    <tr>\n",
       "      <th>MnWw</th>\n",
       "      <td>1</td>\n",
       "      <td>0</td>\n",
       "    </tr>\n",
       "  </tbody>\n",
       "</table>\n",
       "</div>"
      ],
      "text/plain": [
       "fence  0.5  1.5\n",
       "Fence          \n",
       "GdPrv    0   59\n",
       "GdWo     0   58\n",
       "MnPrv  172    0\n",
       "MnWw     1    0"
      ]
     },
     "execution_count": 950,
     "metadata": {},
     "output_type": "execute_result"
    }
   ],
   "source": [
    "test['fence'] = 0  # No fence are all zero \n",
    "test.loc[(test.Fence == 'MnWw')|(test.Fence == 'MnPrv'), 'fence'] = 0.5 # Minimum Wood or Minimum Privacy are 0.5\n",
    "test.loc[(test.Fence == 'GdWo')|(test.Fence == 'GdPrv'), 'fence'] = 1.5\n",
    "pd.crosstab(test.Fence, test.fence)"
   ]
  },
  {
   "cell_type": "code",
   "execution_count": 951,
   "metadata": {},
   "outputs": [
    {
     "name": "stdout",
     "output_type": "stream",
     "text": [
      "0.0    80.75\n",
      "0.5    11.51\n",
      "1.5     7.74\n",
      "Name: fence, dtype: float64\n",
      "0.0    80.07\n",
      "0.5    11.85\n",
      "1.5     8.01\n",
      "Name: fence, dtype: float64\n"
     ]
    }
   ],
   "source": [
    "print((train.fence.value_counts().sort_values(ascending = False)/N*100).round(2))\n",
    "print((test.fence.value_counts().sort_values(ascending = False)/N*100).round(2))"
   ]
  },
  {
   "cell_type": "markdown",
   "metadata": {},
   "source": [
    "###### MiscFeature: Miscellaneous feature not covered in other categories"
   ]
  },
  {
   "cell_type": "code",
   "execution_count": 952,
   "metadata": {},
   "outputs": [
    {
     "name": "stdout",
     "output_type": "stream",
     "text": [
      "Shed    3.36\n",
      "Othr    0.14\n",
      "Gar2    0.14\n",
      "TenC    0.07\n",
      "Name: MiscFeature, dtype: float64\n",
      "Shed    3.15\n",
      "Gar2    0.21\n",
      "Othr    0.14\n",
      "Name: MiscFeature, dtype: float64\n"
     ]
    }
   ],
   "source": [
    "print((train.MiscFeature.value_counts().sort_values(ascending = False)/N*100).round(2))\n",
    "print((test.MiscFeature.value_counts().sort_values(ascending = False)/N*100).round(2))"
   ]
  },
  {
   "cell_type": "code",
   "execution_count": 953,
   "metadata": {},
   "outputs": [
    {
     "data": {
      "text/html": [
       "<div>\n",
       "<style>\n",
       "    .dataframe thead tr:only-child th {\n",
       "        text-align: right;\n",
       "    }\n",
       "\n",
       "    .dataframe thead th {\n",
       "        text-align: left;\n",
       "    }\n",
       "\n",
       "    .dataframe tbody tr th {\n",
       "        vertical-align: top;\n",
       "    }\n",
       "</style>\n",
       "<table border=\"1\" class=\"dataframe\">\n",
       "  <thead>\n",
       "    <tr style=\"text-align: right;\">\n",
       "      <th>shed</th>\n",
       "      <th>0</th>\n",
       "      <th>1</th>\n",
       "    </tr>\n",
       "    <tr>\n",
       "      <th>MiscFeature</th>\n",
       "      <th></th>\n",
       "      <th></th>\n",
       "    </tr>\n",
       "  </thead>\n",
       "  <tbody>\n",
       "    <tr>\n",
       "      <th>Gar2</th>\n",
       "      <td>2</td>\n",
       "      <td>0</td>\n",
       "    </tr>\n",
       "    <tr>\n",
       "      <th>Othr</th>\n",
       "      <td>2</td>\n",
       "      <td>0</td>\n",
       "    </tr>\n",
       "    <tr>\n",
       "      <th>Shed</th>\n",
       "      <td>0</td>\n",
       "      <td>49</td>\n",
       "    </tr>\n",
       "    <tr>\n",
       "      <th>TenC</th>\n",
       "      <td>1</td>\n",
       "      <td>0</td>\n",
       "    </tr>\n",
       "  </tbody>\n",
       "</table>\n",
       "</div>"
      ],
      "text/plain": [
       "shed         0   1\n",
       "MiscFeature       \n",
       "Gar2         2   0\n",
       "Othr         2   0\n",
       "Shed         0  49\n",
       "TenC         1   0"
      ]
     },
     "execution_count": 953,
     "metadata": {},
     "output_type": "execute_result"
    }
   ],
   "source": [
    "# Build dummy variable 'shed':\n",
    "train['shed'] = 0\n",
    "train.loc[train.MiscFeature == 'Shed', 'shed'] = 1\n",
    "pd.crosstab(train.MiscFeature, train.shed)"
   ]
  },
  {
   "cell_type": "code",
   "execution_count": 954,
   "metadata": {},
   "outputs": [
    {
     "data": {
      "text/html": [
       "<div>\n",
       "<style>\n",
       "    .dataframe thead tr:only-child th {\n",
       "        text-align: right;\n",
       "    }\n",
       "\n",
       "    .dataframe thead th {\n",
       "        text-align: left;\n",
       "    }\n",
       "\n",
       "    .dataframe tbody tr th {\n",
       "        vertical-align: top;\n",
       "    }\n",
       "</style>\n",
       "<table border=\"1\" class=\"dataframe\">\n",
       "  <thead>\n",
       "    <tr style=\"text-align: right;\">\n",
       "      <th>shed</th>\n",
       "      <th>0</th>\n",
       "      <th>1</th>\n",
       "    </tr>\n",
       "    <tr>\n",
       "      <th>MiscFeature</th>\n",
       "      <th></th>\n",
       "      <th></th>\n",
       "    </tr>\n",
       "  </thead>\n",
       "  <tbody>\n",
       "    <tr>\n",
       "      <th>Gar2</th>\n",
       "      <td>3</td>\n",
       "      <td>0</td>\n",
       "    </tr>\n",
       "    <tr>\n",
       "      <th>Othr</th>\n",
       "      <td>2</td>\n",
       "      <td>0</td>\n",
       "    </tr>\n",
       "    <tr>\n",
       "      <th>Shed</th>\n",
       "      <td>0</td>\n",
       "      <td>46</td>\n",
       "    </tr>\n",
       "  </tbody>\n",
       "</table>\n",
       "</div>"
      ],
      "text/plain": [
       "shed         0   1\n",
       "MiscFeature       \n",
       "Gar2         3   0\n",
       "Othr         2   0\n",
       "Shed         0  46"
      ]
     },
     "execution_count": 954,
     "metadata": {},
     "output_type": "execute_result"
    }
   ],
   "source": [
    "test['shed'] = 0\n",
    "test.loc[test.MiscFeature == 'Shed', 'shed'] = 1\n",
    "pd.crosstab(test.MiscFeature, test.shed)"
   ]
  },
  {
   "cell_type": "markdown",
   "metadata": {},
   "source": [
    "###### MiscVal: $Value of miscellaneous feature - 96% are zeroes, but could use as is"
   ]
  },
  {
   "cell_type": "code",
   "execution_count": 955,
   "metadata": {
    "collapsed": true
   },
   "outputs": [],
   "source": [
    "# print((train.MiscVal.value_counts().sort_values(ascending = False)/N*100).round(2))"
   ]
  },
  {
   "cell_type": "markdown",
   "metadata": {},
   "source": [
    "###### MoSold: Month Sold (MM) - could use as is"
   ]
  },
  {
   "cell_type": "code",
   "execution_count": 956,
   "metadata": {
    "collapsed": true
   },
   "outputs": [],
   "source": [
    "# print((train.MoSold.value_counts().sort_values(ascending = False)/N*100).round(2))"
   ]
  },
  {
   "cell_type": "markdown",
   "metadata": {},
   "source": [
    "###### YrSold: Year Sold (YYYY) - could use as is"
   ]
  },
  {
   "cell_type": "code",
   "execution_count": 957,
   "metadata": {
    "collapsed": true
   },
   "outputs": [],
   "source": [
    "# print((train.YrSold.value_counts().sort_values(ascending = False)/N*100).round(2))"
   ]
  },
  {
   "cell_type": "markdown",
   "metadata": {},
   "source": [
    "###### SaleType: Type of sale"
   ]
  },
  {
   "cell_type": "code",
   "execution_count": 958,
   "metadata": {},
   "outputs": [
    {
     "name": "stdout",
     "output_type": "stream",
     "text": [
      "WD       86.78\n",
      "New       8.36\n",
      "COD       2.95\n",
      "ConLD     0.62\n",
      "ConLw     0.34\n",
      "ConLI     0.34\n",
      "CWD       0.27\n",
      "Oth       0.21\n",
      "Con       0.14\n",
      "Name: SaleType, dtype: float64\n"
     ]
    }
   ],
   "source": [
    "print((train.SaleType.value_counts().sort_values(ascending = False)/N*100).round(2))"
   ]
  },
  {
   "cell_type": "code",
   "execution_count": 959,
   "metadata": {
    "collapsed": true
   },
   "outputs": [],
   "source": [
    "# Build dummy variable 'sales_convent':\n",
    "train['sales_convent'] = 0\n",
    "train.loc[train.SaleType == 'WD', 'sales_convent'] = 1\n",
    "# pd.crosstab(train.SaleType, train.sales_convent)"
   ]
  },
  {
   "cell_type": "code",
   "execution_count": 960,
   "metadata": {
    "collapsed": true
   },
   "outputs": [],
   "source": [
    "test['sales_convent'] = 0\n",
    "test.loc[test.SaleType == 'WD', 'sales_convent'] = 1\n",
    "# pd.crosstab(test.SaleType, test.sales_convent)"
   ]
  },
  {
   "cell_type": "code",
   "execution_count": 961,
   "metadata": {},
   "outputs": [
    {
     "data": {
      "text/html": [
       "<div>\n",
       "<style>\n",
       "    .dataframe thead tr:only-child th {\n",
       "        text-align: right;\n",
       "    }\n",
       "\n",
       "    .dataframe thead th {\n",
       "        text-align: left;\n",
       "    }\n",
       "\n",
       "    .dataframe tbody tr th {\n",
       "        vertical-align: top;\n",
       "    }\n",
       "</style>\n",
       "<table border=\"1\" class=\"dataframe\">\n",
       "  <thead>\n",
       "    <tr style=\"text-align: right;\">\n",
       "      <th>sales_new</th>\n",
       "      <th>0</th>\n",
       "      <th>1</th>\n",
       "    </tr>\n",
       "    <tr>\n",
       "      <th>SaleType</th>\n",
       "      <th></th>\n",
       "      <th></th>\n",
       "    </tr>\n",
       "  </thead>\n",
       "  <tbody>\n",
       "    <tr>\n",
       "      <th>COD</th>\n",
       "      <td>43</td>\n",
       "      <td>0</td>\n",
       "    </tr>\n",
       "    <tr>\n",
       "      <th>CWD</th>\n",
       "      <td>4</td>\n",
       "      <td>0</td>\n",
       "    </tr>\n",
       "    <tr>\n",
       "      <th>Con</th>\n",
       "      <td>2</td>\n",
       "      <td>0</td>\n",
       "    </tr>\n",
       "    <tr>\n",
       "      <th>ConLD</th>\n",
       "      <td>9</td>\n",
       "      <td>0</td>\n",
       "    </tr>\n",
       "    <tr>\n",
       "      <th>ConLI</th>\n",
       "      <td>5</td>\n",
       "      <td>0</td>\n",
       "    </tr>\n",
       "    <tr>\n",
       "      <th>ConLw</th>\n",
       "      <td>5</td>\n",
       "      <td>0</td>\n",
       "    </tr>\n",
       "    <tr>\n",
       "      <th>New</th>\n",
       "      <td>0</td>\n",
       "      <td>122</td>\n",
       "    </tr>\n",
       "    <tr>\n",
       "      <th>Oth</th>\n",
       "      <td>3</td>\n",
       "      <td>0</td>\n",
       "    </tr>\n",
       "    <tr>\n",
       "      <th>WD</th>\n",
       "      <td>1267</td>\n",
       "      <td>0</td>\n",
       "    </tr>\n",
       "  </tbody>\n",
       "</table>\n",
       "</div>"
      ],
      "text/plain": [
       "sales_new     0    1\n",
       "SaleType            \n",
       "COD          43    0\n",
       "CWD           4    0\n",
       "Con           2    0\n",
       "ConLD         9    0\n",
       "ConLI         5    0\n",
       "ConLw         5    0\n",
       "New           0  122\n",
       "Oth           3    0\n",
       "WD         1267    0"
      ]
     },
     "execution_count": 961,
     "metadata": {},
     "output_type": "execute_result"
    }
   ],
   "source": [
    "# Build dummy variable 'sales_new':\n",
    "train['sales_new'] = 0\n",
    "train.loc[train.SaleType == 'New', 'sales_new'] = 1\n",
    "pd.crosstab(train.SaleType, train.sales_new)"
   ]
  },
  {
   "cell_type": "code",
   "execution_count": 962,
   "metadata": {},
   "outputs": [
    {
     "data": {
      "text/html": [
       "<div>\n",
       "<style>\n",
       "    .dataframe thead tr:only-child th {\n",
       "        text-align: right;\n",
       "    }\n",
       "\n",
       "    .dataframe thead th {\n",
       "        text-align: left;\n",
       "    }\n",
       "\n",
       "    .dataframe tbody tr th {\n",
       "        vertical-align: top;\n",
       "    }\n",
       "</style>\n",
       "<table border=\"1\" class=\"dataframe\">\n",
       "  <thead>\n",
       "    <tr style=\"text-align: right;\">\n",
       "      <th>sales_new</th>\n",
       "      <th>0</th>\n",
       "      <th>1</th>\n",
       "    </tr>\n",
       "    <tr>\n",
       "      <th>SaleType</th>\n",
       "      <th></th>\n",
       "      <th></th>\n",
       "    </tr>\n",
       "  </thead>\n",
       "  <tbody>\n",
       "    <tr>\n",
       "      <th>COD</th>\n",
       "      <td>44</td>\n",
       "      <td>0</td>\n",
       "    </tr>\n",
       "    <tr>\n",
       "      <th>CWD</th>\n",
       "      <td>8</td>\n",
       "      <td>0</td>\n",
       "    </tr>\n",
       "    <tr>\n",
       "      <th>Con</th>\n",
       "      <td>3</td>\n",
       "      <td>0</td>\n",
       "    </tr>\n",
       "    <tr>\n",
       "      <th>ConLD</th>\n",
       "      <td>17</td>\n",
       "      <td>0</td>\n",
       "    </tr>\n",
       "    <tr>\n",
       "      <th>ConLI</th>\n",
       "      <td>4</td>\n",
       "      <td>0</td>\n",
       "    </tr>\n",
       "    <tr>\n",
       "      <th>ConLw</th>\n",
       "      <td>3</td>\n",
       "      <td>0</td>\n",
       "    </tr>\n",
       "    <tr>\n",
       "      <th>New</th>\n",
       "      <td>0</td>\n",
       "      <td>117</td>\n",
       "    </tr>\n",
       "    <tr>\n",
       "      <th>Oth</th>\n",
       "      <td>4</td>\n",
       "      <td>0</td>\n",
       "    </tr>\n",
       "    <tr>\n",
       "      <th>WD</th>\n",
       "      <td>1258</td>\n",
       "      <td>0</td>\n",
       "    </tr>\n",
       "  </tbody>\n",
       "</table>\n",
       "</div>"
      ],
      "text/plain": [
       "sales_new     0    1\n",
       "SaleType            \n",
       "COD          44    0\n",
       "CWD           8    0\n",
       "Con           3    0\n",
       "ConLD        17    0\n",
       "ConLI         4    0\n",
       "ConLw         3    0\n",
       "New           0  117\n",
       "Oth           4    0\n",
       "WD         1258    0"
      ]
     },
     "execution_count": 962,
     "metadata": {},
     "output_type": "execute_result"
    }
   ],
   "source": [
    "test['sales_new'] = 0\n",
    "test.loc[test.SaleType == 'New', 'sales_new'] = 1\n",
    "pd.crosstab(test.SaleType, test.sales_new)"
   ]
  },
  {
   "cell_type": "code",
   "execution_count": 963,
   "metadata": {},
   "outputs": [
    {
     "name": "stdout",
     "output_type": "stream",
     "text": [
      "(1460, 182)\n",
      "(1459, 181)\n"
     ]
    }
   ],
   "source": [
    "print(train.shape)\n",
    "print(test.shape)"
   ]
  },
  {
   "cell_type": "markdown",
   "metadata": {},
   "source": [
    "###### SaleCondition: Condition of sale"
   ]
  },
  {
   "cell_type": "code",
   "execution_count": 964,
   "metadata": {},
   "outputs": [
    {
     "name": "stdout",
     "output_type": "stream",
     "text": [
      "Normal     82.05\n",
      "Partial     8.56\n",
      "Abnorml     6.92\n",
      "Family      1.37\n",
      "Alloca      0.82\n",
      "AdjLand     0.27\n",
      "Name: SaleCondition, dtype: float64\n",
      "Normal     82.47\n",
      "Partial     8.22\n",
      "Abnorml     6.10\n",
      "Family      1.78\n",
      "Alloca      0.82\n",
      "AdjLand     0.55\n",
      "Name: SaleCondition, dtype: float64\n"
     ]
    }
   ],
   "source": [
    "print((train.SaleCondition.value_counts().sort_values(ascending = False)/N*100).round(2))\n",
    "print((test.SaleCondition.value_counts().sort_values(ascending = False)/N*100).round(2))"
   ]
  },
  {
   "cell_type": "code",
   "execution_count": 965,
   "metadata": {
    "collapsed": true
   },
   "outputs": [],
   "source": [
    "# Creating dummies based on SaleCondition and dropping two of them (with too few observations):\n",
    "temp = pd.get_dummies(train.SaleCondition, prefix = \"sale\")\n",
    "temp.drop('sale_Alloca', axis=1, inplace = True)\n",
    "temp.drop('sale_AdjLand', axis=1, inplace = True)\n",
    "train = pd.concat([train, temp], axis = 1)"
   ]
  },
  {
   "cell_type": "code",
   "execution_count": 966,
   "metadata": {
    "collapsed": true
   },
   "outputs": [],
   "source": [
    "temp = pd.get_dummies(test.SaleCondition, prefix = \"sale\")\n",
    "temp.drop('sale_Alloca', axis=1, inplace = True)\n",
    "temp.drop('sale_AdjLand', axis=1, inplace = True)\n",
    "test = pd.concat([test, temp], axis = 1)"
   ]
  },
  {
   "cell_type": "code",
   "execution_count": 967,
   "metadata": {},
   "outputs": [
    {
     "name": "stdout",
     "output_type": "stream",
     "text": [
      "(1460, 186)\n",
      "(1459, 185)\n"
     ]
    }
   ],
   "source": [
    "print(train.shape)\n",
    "print(test.shape)"
   ]
  },
  {
   "cell_type": "code",
   "execution_count": 968,
   "metadata": {
    "collapsed": true
   },
   "outputs": [],
   "source": [
    "# print(train.columns)\n",
    "# print(test.columns)"
   ]
  },
  {
   "cell_type": "code",
   "execution_count": 969,
   "metadata": {
    "collapsed": true,
    "scrolled": false
   },
   "outputs": [],
   "source": [
    "# misscounts = np.sum(train.isnull(), axis=0)/N*100\n",
    "# print(misscounts[:40].round(2))\n",
    "# print(misscounts[65:80].round(2))"
   ]
  },
  {
   "cell_type": "markdown",
   "metadata": {},
   "source": [
    "###### YrSold: Year Sold (YYYY)"
   ]
  },
  {
   "cell_type": "code",
   "execution_count": 970,
   "metadata": {},
   "outputs": [
    {
     "name": "stdout",
     "output_type": "stream",
     "text": [
      "2009    23.15\n",
      "2007    22.53\n",
      "2006    21.51\n",
      "2008    20.82\n",
      "2010    11.99\n",
      "Name: YrSold, dtype: float64\n"
     ]
    }
   ],
   "source": [
    "print((train.YrSold.value_counts().sort_values(ascending = False)/N*100).round(2))"
   ]
  },
  {
   "cell_type": "code",
   "execution_count": 971,
   "metadata": {
    "collapsed": true
   },
   "outputs": [],
   "source": [
    "train['salesyear_07'] = 0\n",
    "train.loc[train.YrSold == 2007, 'salesyear_07'] = 1\n",
    "train['salesyear_08'] = 0\n",
    "train.loc[train.YrSold == 2008, 'salesyear_08'] = 1\n",
    "train['salesyear_09'] = 0\n",
    "train.loc[train.YrSold == 2009, 'salesyear_09'] = 1\n",
    "train['salesyear_10'] = 0\n",
    "train.loc[train.YrSold == 2010, 'salesyear_10'] = 1"
   ]
  },
  {
   "cell_type": "code",
   "execution_count": 972,
   "metadata": {
    "collapsed": true
   },
   "outputs": [],
   "source": [
    "test['salesyear_07'] = 0\n",
    "test.loc[test.YrSold == 2007, 'salesyear_07'] = 1\n",
    "test['salesyear_08'] = 0\n",
    "test.loc[test.YrSold == 2008, 'salesyear_08'] = 1\n",
    "test['salesyear_09'] = 0\n",
    "test.loc[test.YrSold == 2009, 'salesyear_09'] = 1\n",
    "test['salesyear_10'] = 0\n",
    "test.loc[test.YrSold == 2010, 'salesyear_10'] = 1"
   ]
  },
  {
   "cell_type": "code",
   "execution_count": 973,
   "metadata": {
    "collapsed": true,
    "scrolled": false
   },
   "outputs": [],
   "source": [
    "# pd.crosstab(train.YrSold, train.salesyear_07)"
   ]
  },
  {
   "cell_type": "code",
   "execution_count": 974,
   "metadata": {},
   "outputs": [
    {
     "name": "stdout",
     "output_type": "stream",
     "text": [
      "(1460, 190)\n",
      "(1459, 189)\n"
     ]
    }
   ],
   "source": [
    "print(train.shape)\n",
    "print(test.shape)"
   ]
  },
  {
   "cell_type": "markdown",
   "metadata": {},
   "source": [
    "###### MoSold: Month Sold (MM)"
   ]
  },
  {
   "cell_type": "code",
   "execution_count": 975,
   "metadata": {},
   "outputs": [
    {
     "name": "stdout",
     "output_type": "stream",
     "text": [
      "6     17.33\n",
      "7     16.03\n",
      "5     13.97\n",
      "4      9.66\n",
      "8      8.36\n",
      "3      7.26\n",
      "10     6.10\n",
      "11     5.41\n",
      "9      4.32\n",
      "12     4.04\n",
      "1      3.97\n",
      "2      3.56\n",
      "Name: MoSold, dtype: float64\n"
     ]
    }
   ],
   "source": [
    "print((train.MoSold.value_counts().sort_values(ascending = False)/N*100).round(2))"
   ]
  },
  {
   "cell_type": "code",
   "execution_count": 976,
   "metadata": {
    "collapsed": true
   },
   "outputs": [],
   "source": [
    "# Creating dummies based on SaleCondition and dropping two of them (with too few observations):\n",
    "temp = pd.get_dummies(train.MoSold, prefix = \"salesmo\")\n",
    "temp.drop('salesmo_1', axis=1, inplace = True)\n",
    "temp.drop('salesmo_2', axis=1, inplace = True)\n",
    "train = pd.concat([train, temp], axis = 1)"
   ]
  },
  {
   "cell_type": "code",
   "execution_count": 977,
   "metadata": {
    "collapsed": true
   },
   "outputs": [],
   "source": [
    "temp = pd.get_dummies(test.MoSold, prefix = \"salesmo\")\n",
    "temp.drop('salesmo_1', axis=1, inplace = True)\n",
    "temp.drop('salesmo_2', axis=1, inplace = True)\n",
    "test = pd.concat([test, temp], axis = 1)"
   ]
  },
  {
   "cell_type": "code",
   "execution_count": 978,
   "metadata": {},
   "outputs": [
    {
     "name": "stdout",
     "output_type": "stream",
     "text": [
      "(1460, 200)\n",
      "(1459, 199)\n"
     ]
    }
   ],
   "source": [
    "print(train.shape)\n",
    "print(test.shape)"
   ]
  },
  {
   "cell_type": "markdown",
   "metadata": {},
   "source": [
    "###### Building dummy 'remodeled' instead of YearRemodAdd"
   ]
  },
  {
   "cell_type": "code",
   "execution_count": 979,
   "metadata": {},
   "outputs": [
    {
     "data": {
      "text/plain": [
       "0.59285497634365036"
      ]
     },
     "execution_count": 979,
     "metadata": {},
     "output_type": "execute_result"
    }
   ],
   "source": [
    "# Correlation year built and remodeled - we won't be using YearRemodAdd\n",
    "train['YearBuilt'].corr(train['YearRemodAdd']) # 0.6"
   ]
  },
  {
   "cell_type": "code",
   "execution_count": 980,
   "metadata": {
    "collapsed": true
   },
   "outputs": [],
   "source": [
    "# Build variable remodeled to be used instead of YearRemodAdd:\n",
    "train['remodeled'] = 0\n",
    "train.loc[train.YearBuilt != train.YearRemodAdd,'remodeled'] = 1"
   ]
  },
  {
   "cell_type": "code",
   "execution_count": 981,
   "metadata": {
    "collapsed": true
   },
   "outputs": [],
   "source": [
    "test['remodeled'] = 0\n",
    "test.loc[test.YearBuilt != test.YearRemodAdd,'remodeled'] = 1"
   ]
  },
  {
   "cell_type": "code",
   "execution_count": 982,
   "metadata": {
    "collapsed": true
   },
   "outputs": [],
   "source": [
    "# pd.crosstab((train.YearBuilt-train.YearRemodAdd), train.remodeled)"
   ]
  },
  {
   "cell_type": "code",
   "execution_count": 983,
   "metadata": {},
   "outputs": [
    {
     "data": {
      "text/html": [
       "<div>\n",
       "<style>\n",
       "    .dataframe thead tr:only-child th {\n",
       "        text-align: right;\n",
       "    }\n",
       "\n",
       "    .dataframe thead th {\n",
       "        text-align: left;\n",
       "    }\n",
       "\n",
       "    .dataframe tbody tr th {\n",
       "        vertical-align: top;\n",
       "    }\n",
       "</style>\n",
       "<table border=\"1\" class=\"dataframe\">\n",
       "  <thead>\n",
       "    <tr style=\"text-align: right;\">\n",
       "      <th>YearBuilt</th>\n",
       "      <th>1872</th>\n",
       "      <th>1875</th>\n",
       "      <th>1880</th>\n",
       "      <th>1882</th>\n",
       "      <th>1885</th>\n",
       "      <th>1890</th>\n",
       "      <th>1892</th>\n",
       "      <th>1893</th>\n",
       "      <th>1898</th>\n",
       "      <th>1900</th>\n",
       "      <th>1904</th>\n",
       "      <th>1905</th>\n",
       "      <th>1906</th>\n",
       "      <th>1908</th>\n",
       "      <th>1910</th>\n",
       "      <th>1911</th>\n",
       "      <th>1912</th>\n",
       "      <th>1913</th>\n",
       "      <th>1914</th>\n",
       "      <th>1915</th>\n",
       "      <th>1916</th>\n",
       "      <th>1917</th>\n",
       "      <th>1918</th>\n",
       "      <th>1919</th>\n",
       "      <th>1920</th>\n",
       "      <th>1921</th>\n",
       "      <th>1922</th>\n",
       "      <th>1923</th>\n",
       "      <th>1924</th>\n",
       "      <th>1925</th>\n",
       "      <th>1926</th>\n",
       "      <th>1927</th>\n",
       "      <th>1928</th>\n",
       "      <th>1929</th>\n",
       "      <th>1930</th>\n",
       "      <th>1931</th>\n",
       "      <th>1932</th>\n",
       "      <th>1934</th>\n",
       "      <th>1935</th>\n",
       "      <th>1936</th>\n",
       "      <th>...</th>\n",
       "      <th>1971</th>\n",
       "      <th>1972</th>\n",
       "      <th>1973</th>\n",
       "      <th>1974</th>\n",
       "      <th>1975</th>\n",
       "      <th>1976</th>\n",
       "      <th>1977</th>\n",
       "      <th>1978</th>\n",
       "      <th>1979</th>\n",
       "      <th>1980</th>\n",
       "      <th>1981</th>\n",
       "      <th>1982</th>\n",
       "      <th>1983</th>\n",
       "      <th>1984</th>\n",
       "      <th>1985</th>\n",
       "      <th>1986</th>\n",
       "      <th>1987</th>\n",
       "      <th>1988</th>\n",
       "      <th>1989</th>\n",
       "      <th>1990</th>\n",
       "      <th>1991</th>\n",
       "      <th>1992</th>\n",
       "      <th>1993</th>\n",
       "      <th>1994</th>\n",
       "      <th>1995</th>\n",
       "      <th>1996</th>\n",
       "      <th>1997</th>\n",
       "      <th>1998</th>\n",
       "      <th>1999</th>\n",
       "      <th>2000</th>\n",
       "      <th>2001</th>\n",
       "      <th>2002</th>\n",
       "      <th>2003</th>\n",
       "      <th>2004</th>\n",
       "      <th>2005</th>\n",
       "      <th>2006</th>\n",
       "      <th>2007</th>\n",
       "      <th>2008</th>\n",
       "      <th>2009</th>\n",
       "      <th>2010</th>\n",
       "    </tr>\n",
       "    <tr>\n",
       "      <th>remodeled</th>\n",
       "      <th></th>\n",
       "      <th></th>\n",
       "      <th></th>\n",
       "      <th></th>\n",
       "      <th></th>\n",
       "      <th></th>\n",
       "      <th></th>\n",
       "      <th></th>\n",
       "      <th></th>\n",
       "      <th></th>\n",
       "      <th></th>\n",
       "      <th></th>\n",
       "      <th></th>\n",
       "      <th></th>\n",
       "      <th></th>\n",
       "      <th></th>\n",
       "      <th></th>\n",
       "      <th></th>\n",
       "      <th></th>\n",
       "      <th></th>\n",
       "      <th></th>\n",
       "      <th></th>\n",
       "      <th></th>\n",
       "      <th></th>\n",
       "      <th></th>\n",
       "      <th></th>\n",
       "      <th></th>\n",
       "      <th></th>\n",
       "      <th></th>\n",
       "      <th></th>\n",
       "      <th></th>\n",
       "      <th></th>\n",
       "      <th></th>\n",
       "      <th></th>\n",
       "      <th></th>\n",
       "      <th></th>\n",
       "      <th></th>\n",
       "      <th></th>\n",
       "      <th></th>\n",
       "      <th></th>\n",
       "      <th></th>\n",
       "      <th></th>\n",
       "      <th></th>\n",
       "      <th></th>\n",
       "      <th></th>\n",
       "      <th></th>\n",
       "      <th></th>\n",
       "      <th></th>\n",
       "      <th></th>\n",
       "      <th></th>\n",
       "      <th></th>\n",
       "      <th></th>\n",
       "      <th></th>\n",
       "      <th></th>\n",
       "      <th></th>\n",
       "      <th></th>\n",
       "      <th></th>\n",
       "      <th></th>\n",
       "      <th></th>\n",
       "      <th></th>\n",
       "      <th></th>\n",
       "      <th></th>\n",
       "      <th></th>\n",
       "      <th></th>\n",
       "      <th></th>\n",
       "      <th></th>\n",
       "      <th></th>\n",
       "      <th></th>\n",
       "      <th></th>\n",
       "      <th></th>\n",
       "      <th></th>\n",
       "      <th></th>\n",
       "      <th></th>\n",
       "      <th></th>\n",
       "      <th></th>\n",
       "      <th></th>\n",
       "      <th></th>\n",
       "      <th></th>\n",
       "      <th></th>\n",
       "      <th></th>\n",
       "      <th></th>\n",
       "    </tr>\n",
       "  </thead>\n",
       "  <tbody>\n",
       "    <tr>\n",
       "      <th>0</th>\n",
       "      <td>0</td>\n",
       "      <td>0</td>\n",
       "      <td>0</td>\n",
       "      <td>0</td>\n",
       "      <td>0</td>\n",
       "      <td>0</td>\n",
       "      <td>0</td>\n",
       "      <td>0</td>\n",
       "      <td>0</td>\n",
       "      <td>0</td>\n",
       "      <td>0</td>\n",
       "      <td>0</td>\n",
       "      <td>0</td>\n",
       "      <td>0</td>\n",
       "      <td>0</td>\n",
       "      <td>0</td>\n",
       "      <td>0</td>\n",
       "      <td>0</td>\n",
       "      <td>0</td>\n",
       "      <td>0</td>\n",
       "      <td>0</td>\n",
       "      <td>0</td>\n",
       "      <td>0</td>\n",
       "      <td>0</td>\n",
       "      <td>0</td>\n",
       "      <td>0</td>\n",
       "      <td>0</td>\n",
       "      <td>0</td>\n",
       "      <td>0</td>\n",
       "      <td>0</td>\n",
       "      <td>0</td>\n",
       "      <td>0</td>\n",
       "      <td>0</td>\n",
       "      <td>0</td>\n",
       "      <td>0</td>\n",
       "      <td>0</td>\n",
       "      <td>0</td>\n",
       "      <td>0</td>\n",
       "      <td>0</td>\n",
       "      <td>0</td>\n",
       "      <td>...</td>\n",
       "      <td>18</td>\n",
       "      <td>17</td>\n",
       "      <td>10</td>\n",
       "      <td>6</td>\n",
       "      <td>6</td>\n",
       "      <td>28</td>\n",
       "      <td>25</td>\n",
       "      <td>14</td>\n",
       "      <td>8</td>\n",
       "      <td>9</td>\n",
       "      <td>4</td>\n",
       "      <td>3</td>\n",
       "      <td>3</td>\n",
       "      <td>5</td>\n",
       "      <td>5</td>\n",
       "      <td>3</td>\n",
       "      <td>2</td>\n",
       "      <td>4</td>\n",
       "      <td>2</td>\n",
       "      <td>6</td>\n",
       "      <td>2</td>\n",
       "      <td>9</td>\n",
       "      <td>9</td>\n",
       "      <td>6</td>\n",
       "      <td>6</td>\n",
       "      <td>8</td>\n",
       "      <td>8</td>\n",
       "      <td>18</td>\n",
       "      <td>17</td>\n",
       "      <td>22</td>\n",
       "      <td>10</td>\n",
       "      <td>19</td>\n",
       "      <td>28</td>\n",
       "      <td>30</td>\n",
       "      <td>33</td>\n",
       "      <td>46</td>\n",
       "      <td>34</td>\n",
       "      <td>16</td>\n",
       "      <td>14</td>\n",
       "      <td>1</td>\n",
       "    </tr>\n",
       "    <tr>\n",
       "      <th>1</th>\n",
       "      <td>1</td>\n",
       "      <td>1</td>\n",
       "      <td>4</td>\n",
       "      <td>1</td>\n",
       "      <td>2</td>\n",
       "      <td>2</td>\n",
       "      <td>2</td>\n",
       "      <td>1</td>\n",
       "      <td>1</td>\n",
       "      <td>10</td>\n",
       "      <td>1</td>\n",
       "      <td>1</td>\n",
       "      <td>1</td>\n",
       "      <td>2</td>\n",
       "      <td>17</td>\n",
       "      <td>1</td>\n",
       "      <td>3</td>\n",
       "      <td>1</td>\n",
       "      <td>7</td>\n",
       "      <td>10</td>\n",
       "      <td>8</td>\n",
       "      <td>1</td>\n",
       "      <td>7</td>\n",
       "      <td>3</td>\n",
       "      <td>30</td>\n",
       "      <td>6</td>\n",
       "      <td>8</td>\n",
       "      <td>7</td>\n",
       "      <td>7</td>\n",
       "      <td>16</td>\n",
       "      <td>9</td>\n",
       "      <td>3</td>\n",
       "      <td>7</td>\n",
       "      <td>4</td>\n",
       "      <td>9</td>\n",
       "      <td>6</td>\n",
       "      <td>4</td>\n",
       "      <td>3</td>\n",
       "      <td>6</td>\n",
       "      <td>9</td>\n",
       "      <td>...</td>\n",
       "      <td>4</td>\n",
       "      <td>6</td>\n",
       "      <td>1</td>\n",
       "      <td>4</td>\n",
       "      <td>2</td>\n",
       "      <td>5</td>\n",
       "      <td>7</td>\n",
       "      <td>2</td>\n",
       "      <td>1</td>\n",
       "      <td>1</td>\n",
       "      <td>1</td>\n",
       "      <td>3</td>\n",
       "      <td>1</td>\n",
       "      <td>4</td>\n",
       "      <td>0</td>\n",
       "      <td>2</td>\n",
       "      <td>1</td>\n",
       "      <td>7</td>\n",
       "      <td>1</td>\n",
       "      <td>6</td>\n",
       "      <td>3</td>\n",
       "      <td>4</td>\n",
       "      <td>8</td>\n",
       "      <td>13</td>\n",
       "      <td>12</td>\n",
       "      <td>7</td>\n",
       "      <td>6</td>\n",
       "      <td>7</td>\n",
       "      <td>8</td>\n",
       "      <td>2</td>\n",
       "      <td>10</td>\n",
       "      <td>4</td>\n",
       "      <td>17</td>\n",
       "      <td>24</td>\n",
       "      <td>31</td>\n",
       "      <td>21</td>\n",
       "      <td>15</td>\n",
       "      <td>7</td>\n",
       "      <td>4</td>\n",
       "      <td>0</td>\n",
       "    </tr>\n",
       "  </tbody>\n",
       "</table>\n",
       "<p>2 rows × 112 columns</p>\n",
       "</div>"
      ],
      "text/plain": [
       "YearBuilt  1872  1875  1880  1882  1885  1890  1892  1893  1898  1900  1904  \\\n",
       "remodeled                                                                     \n",
       "0             0     0     0     0     0     0     0     0     0     0     0   \n",
       "1             1     1     4     1     2     2     2     1     1    10     1   \n",
       "\n",
       "YearBuilt  1905  1906  1908  1910  1911  1912  1913  1914  1915  1916  1917  \\\n",
       "remodeled                                                                     \n",
       "0             0     0     0     0     0     0     0     0     0     0     0   \n",
       "1             1     1     2    17     1     3     1     7    10     8     1   \n",
       "\n",
       "YearBuilt  1918  1919  1920  1921  1922  1923  1924  1925  1926  1927  1928  \\\n",
       "remodeled                                                                     \n",
       "0             0     0     0     0     0     0     0     0     0     0     0   \n",
       "1             7     3    30     6     8     7     7    16     9     3     7   \n",
       "\n",
       "YearBuilt  1929  1930  1931  1932  1934  1935  1936  ...   1971  1972  1973  \\\n",
       "remodeled                                            ...                      \n",
       "0             0     0     0     0     0     0     0  ...     18    17    10   \n",
       "1             4     9     6     4     3     6     9  ...      4     6     1   \n",
       "\n",
       "YearBuilt  1974  1975  1976  1977  1978  1979  1980  1981  1982  1983  1984  \\\n",
       "remodeled                                                                     \n",
       "0             6     6    28    25    14     8     9     4     3     3     5   \n",
       "1             4     2     5     7     2     1     1     1     3     1     4   \n",
       "\n",
       "YearBuilt  1985  1986  1987  1988  1989  1990  1991  1992  1993  1994  1995  \\\n",
       "remodeled                                                                     \n",
       "0             5     3     2     4     2     6     2     9     9     6     6   \n",
       "1             0     2     1     7     1     6     3     4     8    13    12   \n",
       "\n",
       "YearBuilt  1996  1997  1998  1999  2000  2001  2002  2003  2004  2005  2006  \\\n",
       "remodeled                                                                     \n",
       "0             8     8    18    17    22    10    19    28    30    33    46   \n",
       "1             7     6     7     8     2    10     4    17    24    31    21   \n",
       "\n",
       "YearBuilt  2007  2008  2009  2010  \n",
       "remodeled                          \n",
       "0            34    16    14     1  \n",
       "1            15     7     4     0  \n",
       "\n",
       "[2 rows x 112 columns]"
      ]
     },
     "execution_count": 983,
     "metadata": {},
     "output_type": "execute_result"
    }
   ],
   "source": [
    "pd.crosstab((train.remodeled), train.YearBuilt)"
   ]
  },
  {
   "cell_type": "markdown",
   "metadata": {},
   "source": [
    "###### Summing the number of baths"
   ]
  },
  {
   "cell_type": "markdown",
   "metadata": {},
   "source": [
    "Created 2 new variables: full_baths and half_baths"
   ]
  },
  {
   "cell_type": "code",
   "execution_count": 984,
   "metadata": {
    "collapsed": true
   },
   "outputs": [],
   "source": [
    "# print((train.BsmtFullBath.value_counts().sort_values(ascending = False)/N*100).round(2))"
   ]
  },
  {
   "cell_type": "code",
   "execution_count": 985,
   "metadata": {
    "collapsed": true
   },
   "outputs": [],
   "source": [
    "# print((train.BsmtHalfBath.value_counts().sort_values(ascending = False)/N*100).round(2))"
   ]
  },
  {
   "cell_type": "code",
   "execution_count": 986,
   "metadata": {
    "collapsed": true
   },
   "outputs": [],
   "source": [
    "# print((train.FullBath.value_counts().sort_values(ascending = False)/N*100).round(2))"
   ]
  },
  {
   "cell_type": "code",
   "execution_count": 987,
   "metadata": {
    "collapsed": true
   },
   "outputs": [],
   "source": [
    "# print((train.HalfBath.value_counts().sort_values(ascending = False)/N*100).round(2))"
   ]
  },
  {
   "cell_type": "code",
   "execution_count": 988,
   "metadata": {
    "collapsed": true
   },
   "outputs": [],
   "source": [
    "train['full_baths'] = train['BsmtFullBath'] + train['FullBath']\n",
    "train['half_baths'] = train['BsmtHalfBath'] + train['HalfBath']"
   ]
  },
  {
   "cell_type": "code",
   "execution_count": 989,
   "metadata": {
    "collapsed": true
   },
   "outputs": [],
   "source": [
    "test['full_baths'] = test['BsmtFullBath'] + test['FullBath']\n",
    "test['half_baths'] = test['BsmtHalfBath'] + test['HalfBath']"
   ]
  },
  {
   "cell_type": "code",
   "execution_count": 990,
   "metadata": {},
   "outputs": [
    {
     "data": {
      "text/plain": [
       "0.010420063694912857"
      ]
     },
     "execution_count": 990,
     "metadata": {},
     "output_type": "execute_result"
    }
   ],
   "source": [
    "# No correlation between number of full and half baths:\n",
    "train['full_baths'].corr(train['half_baths'])"
   ]
  },
  {
   "cell_type": "code",
   "execution_count": 991,
   "metadata": {
    "collapsed": true
   },
   "outputs": [],
   "source": [
    "# train[['half_baths', 'BsmtHalfBath', 'HalfBath']]"
   ]
  },
  {
   "cell_type": "code",
   "execution_count": 992,
   "metadata": {},
   "outputs": [
    {
     "name": "stdout",
     "output_type": "stream",
     "text": [
      "(1460, 203)\n",
      "(1459, 202)\n"
     ]
    }
   ],
   "source": [
    "print(train.shape)\n",
    "print(test.shape)"
   ]
  },
  {
   "cell_type": "markdown",
   "metadata": {},
   "source": [
    "**Averaging quality variables**"
   ]
  },
  {
   "cell_type": "markdown",
   "metadata": {},
   "source": [
    "Creating one new variable -- average_quality\n",
    "Includes: exterior_quality, heating_quality, kitchen_quality, OverallQual and bsmt_heigh"
   ]
  },
  {
   "cell_type": "code",
   "execution_count": 993,
   "metadata": {
    "collapsed": true
   },
   "outputs": [],
   "source": [
    "# print((train.exterior_quality.value_counts().sort_values(ascending = False)/N*100).round(2))\n",
    "# print((train.heating_quality.value_counts().sort_values(ascending = False)/N*100).round(2))\n",
    "# print((train.kitchen_quality.value_counts().sort_values(ascending = False)/N*100).round(2))\n",
    "# print((train.OverallQual.value_counts().sort_values(ascending = False)/N*100).round(2))\n",
    "# We have to scale them before averaging - they are on different scales"
   ]
  },
  {
   "cell_type": "code",
   "execution_count": 994,
   "metadata": {
    "collapsed": true
   },
   "outputs": [],
   "source": [
    "# Standardizing quality variables before averaging them:\n",
    "\n",
    "from sklearn.preprocessing import StandardScaler\n",
    "temp = train[['exterior_quality', 'heating_quality', 'kitchen_quality', 'OverallQual', 'bsmt_height']]\n",
    "scaler = StandardScaler()\n",
    "temp_scaled = pd.DataFrame(scaler.fit_transform(temp), columns=temp.columns)\n",
    "train['average_quality'] = temp_scaled.mean(axis = 1)\n",
    "\n",
    "temp = test[['exterior_quality', 'heating_quality', 'kitchen_quality', 'OverallQual', 'bsmt_height']]\n",
    "scaler = StandardScaler()\n",
    "temp_scaled = pd.DataFrame(scaler.fit_transform(temp), columns=temp.columns)\n",
    "test['average_quality'] = temp_scaled.mean(axis = 1)\n"
   ]
  },
  {
   "cell_type": "code",
   "execution_count": 995,
   "metadata": {},
   "outputs": [
    {
     "name": "stdout",
     "output_type": "stream",
     "text": [
      "(1460, 204)\n",
      "(1459, 203)\n"
     ]
    }
   ],
   "source": [
    "print(train.shape)\n",
    "print(test.shape)"
   ]
  },
  {
   "cell_type": "markdown",
   "metadata": {},
   "source": [
    "**Dividing GrLivArea / TotRmsAbvGr -- New Variable**"
   ]
  },
  {
   "cell_type": "code",
   "execution_count": 996,
   "metadata": {
    "collapsed": true
   },
   "outputs": [],
   "source": [
    "train['room_size'] = train['GrLivArea'] / train['TotRmsAbvGrd']"
   ]
  },
  {
   "cell_type": "code",
   "execution_count": 997,
   "metadata": {
    "collapsed": true
   },
   "outputs": [],
   "source": [
    "test['room_size'] = test['GrLivArea'] / train['TotRmsAbvGrd']"
   ]
  },
  {
   "cell_type": "code",
   "execution_count": 998,
   "metadata": {},
   "outputs": [
    {
     "name": "stdout",
     "output_type": "stream",
     "text": [
      "(1460, 205)\n",
      "(1459, 204)\n"
     ]
    }
   ],
   "source": [
    "print(train.shape)\n",
    "print(test.shape)"
   ]
  },
  {
   "cell_type": "markdown",
   "metadata": {},
   "source": [
    "###### Building house age variable:"
   ]
  },
  {
   "cell_type": "code",
   "execution_count": 999,
   "metadata": {
    "collapsed": true
   },
   "outputs": [],
   "source": [
    "train['age'] = train['YrSold'] - train['YearBuilt']\n",
    "test['age'] = test['YrSold'] - test['YearBuilt']"
   ]
  },
  {
   "cell_type": "markdown",
   "metadata": {},
   "source": [
    "###### Creating and average Garage-related variable:"
   ]
  },
  {
   "cell_type": "code",
   "execution_count": 1000,
   "metadata": {
    "collapsed": true
   },
   "outputs": [],
   "source": [
    "# print((train.gar_type.value_counts().sort_values(ascending = False)/N*100).round(2))\n",
    "# print((train.GarageCars.value_counts().sort_values(ascending = False)/N*100).round(2))\n",
    "# print((train.gar_finish.value_counts().sort_values(ascending = False)/N*100).round(2))\n",
    "# Similar range - so it's OK to take an average"
   ]
  },
  {
   "cell_type": "code",
   "execution_count": 1001,
   "metadata": {
    "collapsed": true
   },
   "outputs": [],
   "source": [
    "# print((test.gar_type.value_counts().sort_values(ascending = False)/N*100).round(2))\n",
    "# print((test.GarageCars.value_counts().sort_values(ascending = False)/N*100).round(2))\n",
    "# print((test.gar_finish.value_counts().sort_values(ascending = False)/N*100).round(2))\n",
    "# Similar range - so it's OK to take an average"
   ]
  },
  {
   "cell_type": "code",
   "execution_count": 1002,
   "metadata": {
    "collapsed": true
   },
   "outputs": [],
   "source": [
    "# giving more weight to the number of cars in the garage: GarageCars - because it's so important!\n",
    "train['garage_perception'] = (train['gar_type'] + 2*train['GarageCars'] + train['gar_finish'])/3\n",
    "test['garage_perception'] = (test['gar_type'] + 2*test['GarageCars'] + test['gar_finish'])/3"
   ]
  },
  {
   "cell_type": "markdown",
   "metadata": {},
   "source": [
    "###### Missing values - we need to impute them for test for full_baths and half_baths before we can run our regressions"
   ]
  },
  {
   "cell_type": "code",
   "execution_count": 1003,
   "metadata": {},
   "outputs": [
    {
     "name": "stdout",
     "output_type": "stream",
     "text": [
      "MasVnrArea              8\n",
      "fireplace_ttlscore     24\n",
      "LotFrontage           259\n",
      "dtype: int64\n",
      "garage_perception       1\n",
      "MasVnrArea             15\n",
      "fireplace_ttlscore     19\n",
      "LotFrontage           227\n",
      "full_baths              2\n",
      "half_baths              2\n",
      "dtype: int64\n"
     ]
    }
   ],
   "source": [
    "# Grab table of our variables as a pandas data frame\n",
    "var_table = pd.read_csv('Data/House Prices Vars.csv')\n",
    "# var_table.head()\n",
    "# Grab all quant vars and dummies that we want to keep\n",
    "quant_vars_all = var_table.loc[((var_table['Variable Type'] == 'numeric')|(var_table['Variable Type'] == 'dummy'))&(var_table['post_missing'] != 'yes' ), 'Vars. to Use']\n",
    "quant_vars_all = quant_vars_all.append(pd.Series(['age', 'average_quality', 'LotFrontage', 'full_baths', 'half_baths', 'GrLivArea','nbh_OldTown']))\n",
    "temp1 = train[quant_vars_all]\n",
    "misscounts = np.sum(temp1.isnull(), axis=0)\n",
    "print(misscounts.loc[misscounts>0])\n",
    "\n",
    "temp2 = test[quant_vars_all]\n",
    "misscounts2 = np.sum(temp2.isnull(), axis=0)\n",
    "print(misscounts2.loc[misscounts2>0])\n",
    "# There are missing values in test on full_baths, half_baths, MasVnrArea and firepalce_ttlscore"
   ]
  },
  {
   "cell_type": "code",
   "execution_count": 1004,
   "metadata": {
    "collapsed": true
   },
   "outputs": [],
   "source": [
    "# Missing Values for train2 and test2\n",
    "# temp3 = train2[quant_vars_all]\n",
    "# misscounts3 = np.sum(temp3.isnull(), axis=0)\n",
    "# print(misscounts3.loc[misscounts3>0])\n",
    "\n",
    "# temp4 = test2[quant_vars_all]\n",
    "# misscounts4 = np.sum(temp4.isnull(), axis=0)\n",
    "# print(misscounts4.loc[misscounts4>0])\n",
    "# There are missing values in test on full_baths, half_baths, MasVnrArea and firepalce_ttlscore"
   ]
  },
  {
   "cell_type": "markdown",
   "metadata": {},
   "source": [
    "###### Imputing missing values for train and test"
   ]
  },
  {
   "cell_type": "code",
   "execution_count": 1005,
   "metadata": {},
   "outputs": [
    {
     "name": "stdout",
     "output_type": "stream",
     "text": [
      "(1460, 104)\n",
      "(1459, 104)\n"
     ]
    }
   ],
   "source": [
    "# quant_vars_all_train = pd.Series('SalePrice').append(quant_vars_all, ignore_index=True)\n",
    "train2 = train[quant_vars_all].as_matrix()\n",
    "test2 = test[quant_vars_all].as_matrix()\n",
    "print(train2.shape)\n",
    "print(test2.shape)"
   ]
  },
  {
   "cell_type": "code",
   "execution_count": 1006,
   "metadata": {
    "collapsed": true
   },
   "outputs": [],
   "source": [
    "# test2"
   ]
  },
  {
   "cell_type": "code",
   "execution_count": 1007,
   "metadata": {},
   "outputs": [
    {
     "name": "stdout",
     "output_type": "stream",
     "text": [
      "[MICE] Completing matrix with shape (1460, 104)\n",
      "[MICE] Starting imputation round 1/110, elapsed time 0.003\n",
      "[MICE] Starting imputation round 2/110, elapsed time 0.027\n",
      "[MICE] Starting imputation round 3/110, elapsed time 0.051\n",
      "[MICE] Starting imputation round 4/110, elapsed time 0.081\n",
      "[MICE] Starting imputation round 5/110, elapsed time 0.097\n",
      "[MICE] Starting imputation round 6/110, elapsed time 0.112\n",
      "[MICE] Starting imputation round 7/110, elapsed time 0.125\n",
      "[MICE] Starting imputation round 8/110, elapsed time 0.139\n",
      "[MICE] Starting imputation round 9/110, elapsed time 0.152\n",
      "[MICE] Starting imputation round 10/110, elapsed time 0.165\n",
      "[MICE] Starting imputation round 11/110, elapsed time 0.180\n",
      "[MICE] Starting imputation round 12/110, elapsed time 0.198\n",
      "[MICE] Starting imputation round 13/110, elapsed time 0.223\n",
      "[MICE] Starting imputation round 14/110, elapsed time 0.248\n",
      "[MICE] Starting imputation round 15/110, elapsed time 0.272\n",
      "[MICE] Starting imputation round 16/110, elapsed time 0.297\n",
      "[MICE] Starting imputation round 17/110, elapsed time 0.320\n",
      "[MICE] Starting imputation round 18/110, elapsed time 0.344\n",
      "[MICE] Starting imputation round 19/110, elapsed time 0.365\n",
      "[MICE] Starting imputation round 20/110, elapsed time 0.390\n",
      "[MICE] Starting imputation round 21/110, elapsed time 0.411\n",
      "[MICE] Starting imputation round 22/110, elapsed time 0.438\n",
      "[MICE] Starting imputation round 23/110, elapsed time 0.461\n",
      "[MICE] Starting imputation round 24/110, elapsed time 0.482\n",
      "[MICE] Starting imputation round 25/110, elapsed time 0.504\n",
      "[MICE] Starting imputation round 26/110, elapsed time 0.525\n",
      "[MICE] Starting imputation round 27/110, elapsed time 0.547\n",
      "[MICE] Starting imputation round 28/110, elapsed time 0.578\n",
      "[MICE] Starting imputation round 29/110, elapsed time 0.598\n",
      "[MICE] Starting imputation round 30/110, elapsed time 0.619\n",
      "[MICE] Starting imputation round 31/110, elapsed time 0.645\n",
      "[MICE] Starting imputation round 32/110, elapsed time 0.669\n",
      "[MICE] Starting imputation round 33/110, elapsed time 0.692\n",
      "[MICE] Starting imputation round 34/110, elapsed time 0.714\n",
      "[MICE] Starting imputation round 35/110, elapsed time 0.734\n",
      "[MICE] Starting imputation round 36/110, elapsed time 0.756\n",
      "[MICE] Starting imputation round 37/110, elapsed time 0.777\n",
      "[MICE] Starting imputation round 38/110, elapsed time 0.798\n",
      "[MICE] Starting imputation round 39/110, elapsed time 0.820\n",
      "[MICE] Starting imputation round 40/110, elapsed time 0.842\n",
      "[MICE] Starting imputation round 41/110, elapsed time 0.865\n",
      "[MICE] Starting imputation round 42/110, elapsed time 0.887\n",
      "[MICE] Starting imputation round 43/110, elapsed time 0.909\n",
      "[MICE] Starting imputation round 44/110, elapsed time 0.929\n",
      "[MICE] Starting imputation round 45/110, elapsed time 0.950\n",
      "[MICE] Starting imputation round 46/110, elapsed time 0.970\n",
      "[MICE] Starting imputation round 47/110, elapsed time 0.990\n",
      "[MICE] Starting imputation round 48/110, elapsed time 1.011\n",
      "[MICE] Starting imputation round 49/110, elapsed time 1.031\n",
      "[MICE] Starting imputation round 50/110, elapsed time 1.052\n",
      "[MICE] Starting imputation round 51/110, elapsed time 1.094\n",
      "[MICE] Starting imputation round 52/110, elapsed time 1.115\n",
      "[MICE] Starting imputation round 53/110, elapsed time 1.138\n",
      "[MICE] Starting imputation round 54/110, elapsed time 1.159\n",
      "[MICE] Starting imputation round 55/110, elapsed time 1.180\n",
      "[MICE] Starting imputation round 56/110, elapsed time 1.202\n",
      "[MICE] Starting imputation round 57/110, elapsed time 1.223\n",
      "[MICE] Starting imputation round 58/110, elapsed time 1.244\n",
      "[MICE] Starting imputation round 59/110, elapsed time 1.266\n",
      "[MICE] Starting imputation round 60/110, elapsed time 1.294\n",
      "[MICE] Starting imputation round 61/110, elapsed time 1.321\n",
      "[MICE] Starting imputation round 62/110, elapsed time 1.344\n",
      "[MICE] Starting imputation round 63/110, elapsed time 1.366\n",
      "[MICE] Starting imputation round 64/110, elapsed time 1.388\n",
      "[MICE] Starting imputation round 65/110, elapsed time 1.408\n",
      "[MICE] Starting imputation round 66/110, elapsed time 1.430\n",
      "[MICE] Starting imputation round 67/110, elapsed time 1.452\n",
      "[MICE] Starting imputation round 68/110, elapsed time 1.473\n",
      "[MICE] Starting imputation round 69/110, elapsed time 1.492\n",
      "[MICE] Starting imputation round 70/110, elapsed time 1.519\n",
      "[MICE] Starting imputation round 71/110, elapsed time 1.539\n",
      "[MICE] Starting imputation round 72/110, elapsed time 1.559\n",
      "[MICE] Starting imputation round 73/110, elapsed time 1.578\n",
      "[MICE] Starting imputation round 74/110, elapsed time 1.597\n",
      "[MICE] Starting imputation round 75/110, elapsed time 1.617\n",
      "[MICE] Starting imputation round 76/110, elapsed time 1.636\n",
      "[MICE] Starting imputation round 77/110, elapsed time 1.656\n",
      "[MICE] Starting imputation round 78/110, elapsed time 1.675\n",
      "[MICE] Starting imputation round 79/110, elapsed time 1.699\n",
      "[MICE] Starting imputation round 80/110, elapsed time 1.716\n",
      "[MICE] Starting imputation round 81/110, elapsed time 1.736\n",
      "[MICE] Starting imputation round 82/110, elapsed time 1.756\n",
      "[MICE] Starting imputation round 83/110, elapsed time 1.775\n",
      "[MICE] Starting imputation round 84/110, elapsed time 1.824\n",
      "[MICE] Starting imputation round 85/110, elapsed time 1.844\n",
      "[MICE] Starting imputation round 86/110, elapsed time 1.864\n",
      "[MICE] Starting imputation round 87/110, elapsed time 1.883\n",
      "[MICE] Starting imputation round 88/110, elapsed time 1.903\n",
      "[MICE] Starting imputation round 89/110, elapsed time 1.928\n",
      "[MICE] Starting imputation round 90/110, elapsed time 1.948\n",
      "[MICE] Starting imputation round 91/110, elapsed time 1.968\n",
      "[MICE] Starting imputation round 92/110, elapsed time 1.988\n",
      "[MICE] Starting imputation round 93/110, elapsed time 2.006\n",
      "[MICE] Starting imputation round 94/110, elapsed time 2.026\n",
      "[MICE] Starting imputation round 95/110, elapsed time 2.045\n",
      "[MICE] Starting imputation round 96/110, elapsed time 2.064\n",
      "[MICE] Starting imputation round 97/110, elapsed time 2.083\n",
      "[MICE] Starting imputation round 98/110, elapsed time 2.102\n",
      "[MICE] Starting imputation round 99/110, elapsed time 2.126\n",
      "[MICE] Starting imputation round 100/110, elapsed time 2.146\n",
      "[MICE] Starting imputation round 101/110, elapsed time 2.157\n",
      "[MICE] Starting imputation round 102/110, elapsed time 2.176\n",
      "[MICE] Starting imputation round 103/110, elapsed time 2.195\n",
      "[MICE] Starting imputation round 104/110, elapsed time 2.214\n",
      "[MICE] Starting imputation round 105/110, elapsed time 2.232\n",
      "[MICE] Starting imputation round 106/110, elapsed time 2.251\n",
      "[MICE] Starting imputation round 107/110, elapsed time 2.271\n",
      "[MICE] Starting imputation round 108/110, elapsed time 2.291\n",
      "[MICE] Starting imputation round 109/110, elapsed time 2.311\n",
      "[MICE] Starting imputation round 110/110, elapsed time 2.335\n",
      "[MICE] Completing matrix with shape (1459, 104)\n",
      "[MICE] Starting imputation round 1/110, elapsed time 0.002\n",
      "[MICE] Starting imputation round 2/110, elapsed time 0.040\n",
      "[MICE] Starting imputation round 3/110, elapsed time 0.077\n",
      "[MICE] Starting imputation round 4/110, elapsed time 0.113\n",
      "[MICE] Starting imputation round 5/110, elapsed time 0.149\n",
      "[MICE] Starting imputation round 6/110, elapsed time 0.192\n",
      "[MICE] Starting imputation round 7/110, elapsed time 0.230\n",
      "[MICE] Starting imputation round 8/110, elapsed time 0.266\n",
      "[MICE] Starting imputation round 9/110, elapsed time 0.302\n",
      "[MICE] Starting imputation round 10/110, elapsed time 0.335\n",
      "[MICE] Starting imputation round 11/110, elapsed time 0.374\n",
      "[MICE] Starting imputation round 12/110, elapsed time 0.408\n",
      "[MICE] Starting imputation round 13/110, elapsed time 0.442\n",
      "[MICE] Starting imputation round 14/110, elapsed time 0.478\n",
      "[MICE] Starting imputation round 15/110, elapsed time 0.516\n",
      "[MICE] Starting imputation round 16/110, elapsed time 0.550\n",
      "[MICE] Starting imputation round 17/110, elapsed time 0.585\n",
      "[MICE] Starting imputation round 18/110, elapsed time 0.619\n",
      "[MICE] Starting imputation round 19/110, elapsed time 0.646\n",
      "[MICE] Starting imputation round 20/110, elapsed time 0.680\n",
      "[MICE] Starting imputation round 21/110, elapsed time 0.713\n",
      "[MICE] Starting imputation round 22/110, elapsed time 0.747\n",
      "[MICE] Starting imputation round 23/110, elapsed time 0.789\n",
      "[MICE] Starting imputation round 24/110, elapsed time 0.808\n",
      "[MICE] Starting imputation round 25/110, elapsed time 0.831\n",
      "[MICE] Starting imputation round 26/110, elapsed time 0.860\n",
      "[MICE] Starting imputation round 27/110, elapsed time 0.893\n",
      "[MICE] Starting imputation round 28/110, elapsed time 0.929\n",
      "[MICE] Starting imputation round 29/110, elapsed time 0.966\n",
      "[MICE] Starting imputation round 30/110, elapsed time 0.992\n",
      "[MICE] Starting imputation round 31/110, elapsed time 1.012\n",
      "[MICE] Starting imputation round 32/110, elapsed time 1.035\n",
      "[MICE] Starting imputation round 33/110, elapsed time 1.053\n"
     ]
    },
    {
     "name": "stdout",
     "output_type": "stream",
     "text": [
      "[MICE] Starting imputation round 34/110, elapsed time 1.078\n",
      "[MICE] Starting imputation round 35/110, elapsed time 1.112\n",
      "[MICE] Starting imputation round 36/110, elapsed time 1.145\n",
      "[MICE] Starting imputation round 37/110, elapsed time 1.178\n",
      "[MICE] Starting imputation round 38/110, elapsed time 1.206\n",
      "[MICE] Starting imputation round 39/110, elapsed time 1.228\n",
      "[MICE] Starting imputation round 40/110, elapsed time 1.248\n",
      "[MICE] Starting imputation round 41/110, elapsed time 1.267\n",
      "[MICE] Starting imputation round 42/110, elapsed time 1.287\n",
      "[MICE] Starting imputation round 43/110, elapsed time 1.322\n",
      "[MICE] Starting imputation round 44/110, elapsed time 1.361\n",
      "[MICE] Starting imputation round 45/110, elapsed time 1.393\n",
      "[MICE] Starting imputation round 46/110, elapsed time 1.425\n",
      "[MICE] Starting imputation round 47/110, elapsed time 1.445\n",
      "[MICE] Starting imputation round 48/110, elapsed time 1.469\n",
      "[MICE] Starting imputation round 49/110, elapsed time 1.495\n",
      "[MICE] Starting imputation round 50/110, elapsed time 1.518\n",
      "[MICE] Starting imputation round 51/110, elapsed time 1.546\n",
      "[MICE] Starting imputation round 52/110, elapsed time 1.580\n",
      "[MICE] Starting imputation round 53/110, elapsed time 1.614\n",
      "[MICE] Starting imputation round 54/110, elapsed time 1.649\n",
      "[MICE] Starting imputation round 55/110, elapsed time 1.676\n",
      "[MICE] Starting imputation round 56/110, elapsed time 1.698\n",
      "[MICE] Starting imputation round 57/110, elapsed time 1.717\n",
      "[MICE] Starting imputation round 58/110, elapsed time 1.739\n",
      "[MICE] Starting imputation round 59/110, elapsed time 1.766\n",
      "[MICE] Starting imputation round 60/110, elapsed time 1.800\n",
      "[MICE] Starting imputation round 61/110, elapsed time 1.832\n",
      "[MICE] Starting imputation round 62/110, elapsed time 1.864\n",
      "[MICE] Starting imputation round 63/110, elapsed time 1.894\n",
      "[MICE] Starting imputation round 64/110, elapsed time 1.917\n",
      "[MICE] Starting imputation round 65/110, elapsed time 1.939\n",
      "[MICE] Starting imputation round 66/110, elapsed time 1.961\n",
      "[MICE] Starting imputation round 67/110, elapsed time 1.989\n",
      "[MICE] Starting imputation round 68/110, elapsed time 2.021\n",
      "[MICE] Starting imputation round 69/110, elapsed time 2.053\n",
      "[MICE] Starting imputation round 70/110, elapsed time 2.088\n",
      "[MICE] Starting imputation round 71/110, elapsed time 2.112\n",
      "[MICE] Starting imputation round 72/110, elapsed time 2.132\n",
      "[MICE] Starting imputation round 73/110, elapsed time 2.152\n",
      "[MICE] Starting imputation round 74/110, elapsed time 2.172\n",
      "[MICE] Starting imputation round 75/110, elapsed time 2.190\n",
      "[MICE] Starting imputation round 76/110, elapsed time 2.225\n",
      "[MICE] Starting imputation round 77/110, elapsed time 2.258\n",
      "[MICE] Starting imputation round 78/110, elapsed time 2.291\n",
      "[MICE] Starting imputation round 79/110, elapsed time 2.324\n",
      "[MICE] Starting imputation round 80/110, elapsed time 2.343\n",
      "[MICE] Starting imputation round 81/110, elapsed time 2.363\n",
      "[MICE] Starting imputation round 82/110, elapsed time 2.382\n",
      "[MICE] Starting imputation round 83/110, elapsed time 2.401\n",
      "[MICE] Starting imputation round 84/110, elapsed time 2.421\n",
      "[MICE] Starting imputation round 85/110, elapsed time 2.455\n",
      "[MICE] Starting imputation round 86/110, elapsed time 2.490\n",
      "[MICE] Starting imputation round 87/110, elapsed time 2.522\n",
      "[MICE] Starting imputation round 88/110, elapsed time 2.555\n",
      "[MICE] Starting imputation round 89/110, elapsed time 2.576\n",
      "[MICE] Starting imputation round 90/110, elapsed time 2.595\n",
      "[MICE] Starting imputation round 91/110, elapsed time 2.615\n",
      "[MICE] Starting imputation round 92/110, elapsed time 2.637\n",
      "[MICE] Starting imputation round 93/110, elapsed time 2.656\n",
      "[MICE] Starting imputation round 94/110, elapsed time 2.692\n",
      "[MICE] Starting imputation round 95/110, elapsed time 2.724\n",
      "[MICE] Starting imputation round 96/110, elapsed time 2.757\n",
      "[MICE] Starting imputation round 97/110, elapsed time 2.791\n",
      "[MICE] Starting imputation round 98/110, elapsed time 2.810\n",
      "[MICE] Starting imputation round 99/110, elapsed time 2.834\n",
      "[MICE] Starting imputation round 100/110, elapsed time 2.861\n",
      "[MICE] Starting imputation round 101/110, elapsed time 2.881\n",
      "[MICE] Starting imputation round 102/110, elapsed time 2.909\n",
      "[MICE] Starting imputation round 103/110, elapsed time 2.945\n",
      "[MICE] Starting imputation round 104/110, elapsed time 2.977\n",
      "[MICE] Starting imputation round 105/110, elapsed time 3.011\n",
      "[MICE] Starting imputation round 106/110, elapsed time 3.040\n",
      "[MICE] Starting imputation round 107/110, elapsed time 3.061\n",
      "[MICE] Starting imputation round 108/110, elapsed time 3.081\n",
      "[MICE] Starting imputation round 109/110, elapsed time 3.100\n",
      "[MICE] Starting imputation round 110/110, elapsed time 3.130\n"
     ]
    }
   ],
   "source": [
    "from fancyimpute import MICE\n",
    "\n",
    "mice = MICE(n_imputations=100, impute_type='col',)  # In this line we can vary arguments for MICE\n",
    "# I can't check what arguments MICE can take as I don't have the package installed\n",
    "train2_filled = mice.complete(train2)\n",
    "test2_filled = mice.complete(test2)\n"
   ]
  },
  {
   "cell_type": "code",
   "execution_count": 1008,
   "metadata": {},
   "outputs": [
    {
     "name": "stdout",
     "output_type": "stream",
     "text": [
      "(1460, 104)\n",
      "(1459, 104)\n"
     ]
    }
   ],
   "source": [
    "# From np arrays back to np dataframes:\n",
    "train2 = pd.DataFrame(data = train2_filled, columns = quant_vars_all)\n",
    "test2 = pd.DataFrame(data = test2_filled, columns = quant_vars_all)\n",
    "print(train2.shape)\n",
    "print(test2.shape)"
   ]
  },
  {
   "cell_type": "code",
   "execution_count": 1009,
   "metadata": {
    "collapsed": true
   },
   "outputs": [],
   "source": [
    "# Addding back the DV SalePrice:\n",
    "train2['SalePrice'] = train.SalePrice"
   ]
  },
  {
   "cell_type": "code",
   "execution_count": 1010,
   "metadata": {},
   "outputs": [
    {
     "data": {
      "text/plain": [
       "1460"
      ]
     },
     "execution_count": 1010,
     "metadata": {},
     "output_type": "execute_result"
    }
   ],
   "source": [
    "pd.set_option('display.max_columns', 80)\n",
    "# train[quant_vars_all].head()\n",
    "np.sum(train.SalePrice == train2.SalePrice)"
   ]
  },
  {
   "cell_type": "code",
   "execution_count": 1011,
   "metadata": {
    "collapsed": true
   },
   "outputs": [],
   "source": [
    "import numpy as np\n",
    "from sklearn.preprocessing import Imputer\n",
    "from sklearn.neighbors import KNeighborsClassifier\n",
    "from sklearn.metrics import accuracy_score"
   ]
  },
  {
   "cell_type": "code",
   "execution_count": 1012,
   "metadata": {},
   "outputs": [
    {
     "name": "stdout",
     "output_type": "stream",
     "text": [
      "Series([], dtype: int64)\n",
      "Series([], dtype: int64)\n"
     ]
    }
   ],
   "source": [
    "temp1 = train2[quant_vars_all]\n",
    "misscounts = np.sum(temp1.isnull(), axis=0)\n",
    "print(misscounts.loc[misscounts>0])\n",
    "\n",
    "temp2 = test2[quant_vars_all]\n",
    "misscounts2 = np.sum(temp2.isnull(), axis=0)\n",
    "print(misscounts2.loc[misscounts2>0])"
   ]
  },
  {
   "cell_type": "markdown",
   "metadata": {},
   "source": [
    "###### Regressing age onto found_BrkTil, garage_perception, full_baths, and ext_VinylSd"
   ]
  },
  {
   "cell_type": "code",
   "execution_count": 1013,
   "metadata": {
    "collapsed": true
   },
   "outputs": [],
   "source": [
    "# li(train)"
   ]
  },
  {
   "cell_type": "code",
   "execution_count": 1014,
   "metadata": {
    "collapsed": true
   },
   "outputs": [],
   "source": [
    "# The residual 'age_residual' will be a new predictor instead of age:\n",
    "from sklearn.linear_model import LinearRegression\n",
    "X = train2[['found_BrkTil','garage_perception','full_baths', 'ext_VinylSd']]\n",
    "y = train2['age']\n",
    "lm = LinearRegression(fit_intercept=True, normalize=False)\n",
    "lm.fit(X, y)\n",
    "train2['age_residual'] = train2.age - lm.predict(X)"
   ]
  },
  {
   "cell_type": "code",
   "execution_count": 1015,
   "metadata": {
    "collapsed": true
   },
   "outputs": [],
   "source": [
    "X = test2[['found_BrkTil','garage_perception','full_baths', 'ext_VinylSd']]\n",
    "test2['age_residual'] = test2.age - lm.predict(X)"
   ]
  },
  {
   "cell_type": "code",
   "execution_count": 1016,
   "metadata": {
    "collapsed": true
   },
   "outputs": [],
   "source": [
    "# test2.columns"
   ]
  },
  {
   "cell_type": "markdown",
   "metadata": {},
   "source": [
    "###### Regressing average_quality onto found_BrkTil, garage_perception, full_baths, and ext_VinylSd"
   ]
  },
  {
   "cell_type": "code",
   "execution_count": 1017,
   "metadata": {
    "collapsed": true
   },
   "outputs": [],
   "source": [
    "# The residual 'quality_residual' will be a new predictor instead of average_quality:\n",
    "X = train2[['found_BrkTil','garage_perception','full_baths', 'ext_VinylSd']]\n",
    "y = train2['average_quality']\n",
    "lm = LinearRegression(fit_intercept=True, normalize=False)\n",
    "lm.fit(X, y)\n",
    "train2['quality_residual'] = train2.average_quality - lm.predict(X)"
   ]
  },
  {
   "cell_type": "code",
   "execution_count": 1018,
   "metadata": {},
   "outputs": [],
   "source": [
    "X = test2[['found_BrkTil','garage_perception','full_baths', 'ext_VinylSd']]\n",
    "test2['quality_residual'] = test2.average_quality - lm.predict(X)"
   ]
  },
  {
   "cell_type": "markdown",
   "metadata": {},
   "source": [
    "###### Regressing LotFrontage onto LotArea and taking its residual instead as a predictor"
   ]
  },
  {
   "cell_type": "code",
   "execution_count": 1019,
   "metadata": {
    "collapsed": true
   },
   "outputs": [],
   "source": [
    "X = train2[['LotArea']]\n",
    "y = train2['LotFrontage']\n",
    "lm = LinearRegression(fit_intercept=True, normalize=False)\n",
    "lm.fit(X, y)\n",
    "train2['frontage_residual'] = train2.LotFrontage - lm.predict(X)\n",
    "X = test2[['LotArea']]\n",
    "test2['frontage_residual'] = test2.LotFrontage - lm.predict(X)"
   ]
  },
  {
   "cell_type": "code",
   "execution_count": 1020,
   "metadata": {
    "collapsed": true
   },
   "outputs": [],
   "source": [
    "temp = abs(train2['LotArea']**0.5 - train2['LotFrontage'])/train2['LotArea']**0.5\n"
   ]
  },
  {
   "cell_type": "code",
   "execution_count": 1021,
   "metadata": {},
   "outputs": [
    {
     "name": "stdout",
     "output_type": "stream",
     "text": [
      "-0.126295193862\n",
      "-0.617801379208\n",
      "0.159569208236\n"
     ]
    }
   ],
   "source": [
    "print(temp.corr(train2['SalePrice']))  # -0.12\n",
    "print(temp.corr(train2['frontage_residual']))  # -0.61\n",
    "print(temp.corr(train2['LotArea']))  # .44"
   ]
  },
  {
   "cell_type": "markdown",
   "metadata": {},
   "source": [
    "###### Regressing full_baths onto GrLivArea and bsmt_finished1 (and same thing for half_baths)"
   ]
  },
  {
   "cell_type": "code",
   "execution_count": 1022,
   "metadata": {
    "collapsed": true
   },
   "outputs": [],
   "source": [
    "X = train2[['GrLivArea','bsmt_finished1']]\n",
    "y = train2['full_baths']\n",
    "lm = LinearRegression(fit_intercept=True, normalize=False)\n",
    "lm.fit(X, y)\n",
    "train2['fullbaths_residual'] = train2.full_baths - lm.predict(X)\n",
    "X = test2[['GrLivArea', 'bsmt_finished1']]\n",
    "test2['fullbaths_residual'] = test2.full_baths - lm.predict(X)"
   ]
  },
  {
   "cell_type": "code",
   "execution_count": 1023,
   "metadata": {
    "collapsed": true
   },
   "outputs": [],
   "source": [
    "# For halfbaths - we regressed them only onto GrLivArea\n",
    "X = train2[['GrLivArea']]\n",
    "y = train2['half_baths']\n",
    "lm = LinearRegression(fit_intercept=True, normalize=False)\n",
    "lm.fit(X, y)\n",
    "train2['halfbaths_residual'] = train2.half_baths - lm.predict(X)\n",
    "X = test2[['GrLivArea']]\n",
    "test2['halfbaths_residual'] = test2.half_baths - lm.predict(X)"
   ]
  },
  {
   "cell_type": "code",
   "execution_count": 1024,
   "metadata": {
    "collapsed": true
   },
   "outputs": [],
   "source": [
    "# train2.frontage_residual.hist()"
   ]
  },
  {
   "cell_type": "code",
   "execution_count": 1025,
   "metadata": {
    "collapsed": true
   },
   "outputs": [],
   "source": [
    "# plt.scatter(train2.style_2Story, train2.half_baths)"
   ]
  },
  {
   "cell_type": "markdown",
   "metadata": {},
   "source": [
    "###### Regressing GrLivArea onto style_2Story, garage_perception, fireplace_ttlscore and building a residual"
   ]
  },
  {
   "cell_type": "code",
   "execution_count": 1026,
   "metadata": {
    "collapsed": true
   },
   "outputs": [],
   "source": [
    "X = train2[['style_2Story','garage_perception', 'fireplace_ttlscore']]\n",
    "y = train2['GrLivArea']\n",
    "lm = LinearRegression(fit_intercept=True, normalize=False)\n",
    "lm.fit(X, y)\n",
    "train2['living_area_residual'] = train2.GrLivArea - lm.predict(X)\n",
    "X = test2[['style_2Story','garage_perception', 'fireplace_ttlscore']]\n",
    "test2['living_area_residual'] = test2.GrLivArea - lm.predict(X)"
   ]
  },
  {
   "cell_type": "code",
   "execution_count": 1027,
   "metadata": {
    "collapsed": true
   },
   "outputs": [],
   "source": [
    "# train2.living_area_residual.hist()"
   ]
  },
  {
   "cell_type": "markdown",
   "metadata": {},
   "source": [
    "###### Regressing nbh_OldTown onto zone_RM and alley_gravel"
   ]
  },
  {
   "cell_type": "code",
   "execution_count": 1028,
   "metadata": {
    "collapsed": true
   },
   "outputs": [],
   "source": [
    "X = train2[['zone_RM','alley_gravel']]\n",
    "y = train2['nbh_OldTown']\n",
    "lm = LinearRegression(fit_intercept=True, normalize=False)\n",
    "lm.fit(X, y)\n",
    "train2['oldtown_residual'] = train2.nbh_OldTown - lm.predict(X)\n",
    "X = test2[['zone_RM','alley_gravel']]\n",
    "test2['oldtown_residual'] = test2.nbh_OldTown - lm.predict(X)"
   ]
  },
  {
   "cell_type": "code",
   "execution_count": 1029,
   "metadata": {
    "collapsed": true
   },
   "outputs": [],
   "source": [
    "# train2.oldtown_residual.hist()"
   ]
  },
  {
   "cell_type": "markdown",
   "metadata": {},
   "source": [
    "###### Correlations between all quant vars and our dummies and SalePrice"
   ]
  },
  {
   "cell_type": "code",
   "execution_count": 1030,
   "metadata": {
    "collapsed": true,
    "scrolled": true
   },
   "outputs": [],
   "source": [
    "# Grab table of our variables as a pandas data frame\n",
    "var_table = pd.read_csv('Data/House Prices Vars.csv')\n",
    "# var_table.head()\n",
    "# Grab all quant vars and dummies that we want to keep\n",
    "quant_vars_all = var_table.loc[(var_table['Variable Type'] == 'numeric')|(var_table['Variable Type'] == 'dummy'), 'Vars. to Use']\n",
    "quant_vars_all = pd.Series('SalePrice').append(quant_vars_all, ignore_index=True)\n",
    "# quant_vars_all\n",
    "cor_quant = train2[quant_vars_all].corr()\n",
    "cor_quant.to_csv('x quant dummies correlations.csv')"
   ]
  },
  {
   "cell_type": "code",
   "execution_count": 1031,
   "metadata": {},
   "outputs": [
    {
     "name": "stdout",
     "output_type": "stream",
     "text": [
      "(1460, 112)\n",
      "(1459, 111)\n"
     ]
    }
   ],
   "source": [
    "print(train2.shape)\n",
    "print(test2.shape)"
   ]
  },
  {
   "cell_type": "markdown",
   "metadata": {},
   "source": [
    "###### Transforming Variables - Log(SalePrice)"
   ]
  },
  {
   "cell_type": "code",
   "execution_count": 1032,
   "metadata": {
    "scrolled": true
   },
   "outputs": [
    {
     "name": "stdout",
     "output_type": "stream",
     "text": [
      "\n",
      " mu = 180921.20 and sigma = 79415.29\n",
      "\n"
     ]
    },
    {
     "data": {
      "image/png": "[encoded data removed]",
      "text/plain": [
       "<matplotlib.figure.Figure at 0x253816e1e10>"
      ]
     },
     "metadata": {},
     "output_type": "display_data"
    },
    {
     "data": {
      "image/png": "[encoded data removed]",
      "text/plain": [
       "<matplotlib.figure.Figure at 0x25381dfe438>"
      ]
     },
     "metadata": {},
     "output_type": "display_data"
    }
   ],
   "source": [
    "# Visualizing SalePrice vs. log(SalePrice)\n",
    "# import seaborn and fit and skew functions from scipy\n",
    "import seaborn as sns\n",
    "from scipy import stats\n",
    "from scipy.stats import norm, skew #for some statistics\n",
    "\n",
    "# Plotting Saleprice Distribution\n",
    "sns.distplot(train2['SalePrice'] , fit=norm);\n",
    "\n",
    "# Get the fitted parameters used by the function\n",
    "(mu, sigma) = norm.fit(train2['SalePrice'])\n",
    "print( '\\n mu = {:.2f} and sigma = {:.2f}\\n'.format(mu, sigma))\n",
    "\n",
    "#Now plot the distribution\n",
    "plt.legend(['Normal dist. ($\\mu=$ {:.2f} and $\\sigma=$ {:.2f} )'.format(mu, sigma)],\n",
    "            loc='best')\n",
    "plt.ylabel('Frequency')\n",
    "plt.title('SalePrice distribution')\n",
    "\n",
    "#Get also the QQ-plot\n",
    "fig = plt.figure()\n",
    "res = stats.probplot(train['SalePrice'], plot=plt)\n",
    "plt.show()"
   ]
  },
  {
   "cell_type": "code",
   "execution_count": 1033,
   "metadata": {
    "scrolled": true
   },
   "outputs": [
    {
     "name": "stdout",
     "output_type": "stream",
     "text": [
      "\n",
      " mu = 180921.20 and sigma = 79415.29\n",
      "\n"
     ]
    },
    {
     "data": {
      "image/png": "[encoded data removed]",
      "text/plain": [
       "<matplotlib.figure.Figure at 0x2538057cef0>"
      ]
     },
     "metadata": {},
     "output_type": "display_data"
    },
    {
     "data": {
      "image/png": "[encoded data removed]",
      "text/plain": [
       "<matplotlib.figure.Figure at 0x253803f7588>"
      ]
     },
     "metadata": {},
     "output_type": "display_data"
    }
   ],
   "source": [
    "# Plotting log(Saleprice) Distribution and QQ Plot\n",
    "sns.distplot(np.log(train2['SalePrice']) , fit=norm);\n",
    "\n",
    "# Get the fitted parameters used by the function\n",
    "(mu, sigma) = norm.fit(train2['SalePrice'])\n",
    "print( '\\n mu = {:.2f} and sigma = {:.2f}\\n'.format(mu, sigma))\n",
    "\n",
    "#Now plot the distribution\n",
    "plt.legend(['Normal dist. ($\\mu=$ {:.2f} and $\\sigma=$ {:.2f} )'.format(mu, sigma)],\n",
    "            loc='best')\n",
    "plt.ylabel('Frequency')\n",
    "plt.title('SalePrice distribution')\n",
    "\n",
    "#Get also the QQ-plot\n",
    "fig = plt.figure()\n",
    "res = stats.probplot(np.log(train['SalePrice']), plot=plt)\n",
    "plt.show()"
   ]
  },
  {
   "cell_type": "markdown",
   "metadata": {},
   "source": [
    "###### Creating new variable - log of SalePrice"
   ]
  },
  {
   "cell_type": "code",
   "execution_count": 1034,
   "metadata": {
    "collapsed": true
   },
   "outputs": [],
   "source": [
    "train2['LogSalePrice'] = np.log(train2['SalePrice'])"
   ]
  },
  {
   "cell_type": "markdown",
   "metadata": {},
   "source": [
    "######  Transforming Necessary Numeric Features"
   ]
  },
  {
   "cell_type": "code",
   "execution_count": 1035,
   "metadata": {
    "collapsed": true
   },
   "outputs": [],
   "source": [
    "# Boxcox Transformations\n",
    "# numeric variables\n",
    "numeric_vars = var_table.loc[var_table['Variable Type'] == 'numeric', 'Vars. to Use']"
   ]
  },
  {
   "cell_type": "code",
   "execution_count": 1036,
   "metadata": {},
   "outputs": [
    {
     "name": "stdout",
     "output_type": "stream",
     "text": [
      "For: bsmt_exposure lambda= -2.16934846059\n",
      "For: garage_perception lambda= 1.81704180085\n",
      "For: LotArea lambda= 0.030818544899\n",
      "For: MasVnrArea lambda= -0.232871763914\n",
      "For: LowQualFinSF lambda= -10.0186373276\n",
      "For: WoodDeckSF lambda= -0.0785961084869\n",
      "For: OpenPorchSF lambda= 0.0116427904888\n",
      "For: EnclosedPorch lambda= -1.41994923434\n",
      "For: 3SsnPorch lambda= -11.6715354003\n",
      "For: ScreenPorch lambda= -2.43486011288\n",
      "For: fence lambda= -7.80211985491\n",
      "For: MiscVal lambda= -4.28346359818\n",
      "For: OverallCond lambda= 0.238459259302\n",
      "For: exterior_condition lambda= 0.130162203432\n",
      "For: bsmt_condition lambda= 3.1919899473\n",
      "For: bsmt_finished1 lambda= 0.482993680635\n",
      "For: bsmt_finished2 lambda= -0.236011622589\n",
      "For: home_funct lambda= 27.9481082627\n",
      "For: fireplace_ttlscore lambda= -0.238001683653\n",
      "For: gar_perception lambda= 1.8295330334\n",
      "For: driveway lambda= 10.5574346882\n"
     ]
    }
   ],
   "source": [
    "# Going to use BoxCox Transformation...\n",
    "# First invetigate which variables will improve from transform\n",
    "from boxcoxplot import pd_boxcox\n",
    "bool_num = [\"residual\" not in i for i in numeric_vars]\n",
    "#train3 = train2.copy()\n",
    "for i in numeric_vars[bool_num]:\n",
    "    # histogram and normal probability plot\n",
    "    pd_boxcox(train2[i] +1, i, False)"
   ]
  },
  {
   "cell_type": "code",
   "execution_count": 1037,
   "metadata": {},
   "outputs": [
    {
     "name": "stdout",
     "output_type": "stream",
     "text": [
      "For: garage_perception lambda= 1.81704180085\n",
      "For: LotArea lambda= 0.030818544899\n",
      "For: OverallCond lambda= 0.238459259302\n"
     ]
    }
   ],
   "source": [
    "# Transforming all values we found that boxcox worked...\n",
    "# Included only: garage_perception, LotArea, OverallCond\n",
    "from scipy.stats import boxcox\n",
    "train2['garage_perception'],lmba_g = pd_boxcox(train2['garage_perception'] +1,'garage_perception', False)\n",
    "test2['garage_perception'] = boxcox(test2['garage_perception'] +1, lmbda=lmba_g)\n",
    "# lambda = 1.81704180085\n",
    "train2['LotArea'],lmba_g2 = pd_boxcox(train2['LotArea'] +1,'LotArea', False)\n",
    "test2['LotArea'] = boxcox(test2['LotArea'] +1, lmbda=lmba_g2)\n",
    "# For: LotArea lambda= 0.030818544899\n",
    "train2['OverallCond'],lmba_g3 = pd_boxcox(train2['OverallCond'] +1,'OverallCond', False)\n",
    "test2['OverallCond'] = boxcox(test2['OverallCond'] +1, lmbda=lmba_g3)\n",
    "# For: OverallCond lambda= 0.238459259302"
   ]
  },
  {
   "cell_type": "markdown",
   "metadata": {},
   "source": [
    "###### Splitting training into y and X"
   ]
  },
  {
   "cell_type": "code",
   "execution_count": 1038,
   "metadata": {
    "collapsed": true
   },
   "outputs": [],
   "source": [
    "y = train2.LogSalePrice\n",
    "# np.sum(np.exp(y) - train2.SalePrice) - Checking we can go back to SalePrice by taking and exp of y"
   ]
  },
  {
   "cell_type": "code",
   "execution_count": 1039,
   "metadata": {
    "collapsed": true
   },
   "outputs": [],
   "source": [
    "# Dropping SalePrice and LogSalePrice from train2:\n",
    "train2.drop(['LogSalePrice','SalePrice'], axis=1, inplace = True)"
   ]
  },
  {
   "cell_type": "markdown",
   "metadata": {},
   "source": [
    "###### Standardizing all Variables so that we can detect outliers"
   ]
  },
  {
   "cell_type": "code",
   "execution_count": 1040,
   "metadata": {
    "collapsed": true
   },
   "outputs": [],
   "source": [
    "from sklearn.preprocessing import StandardScaler\n",
    "scaler = StandardScaler()\n",
    "temp = pd.DataFrame(scaler.fit_transform(train2), columns=train2.columns)"
   ]
  },
  {
   "cell_type": "code",
   "execution_count": 1041,
   "metadata": {
    "collapsed": true
   },
   "outputs": [],
   "source": [
    "# Checking it worked\n",
    "# sum(temp.mean(axis = 0))\n",
    "# sum(temp.std(axis = 0))\n",
    "# temp.shape"
   ]
  },
  {
   "cell_type": "markdown",
   "metadata": {
    "collapsed": true
   },
   "source": [
    "###### Function to identify outliers (will use it once we are done with feature engineering)"
   ]
  },
  {
   "cell_type": "markdown",
   "metadata": {},
   "source": [
    "###### Important!\n",
    "1. Only run it once we are done with feature engineering!\n",
    "2. Only run after we've imputed missing values!\n",
    "3. Only run after we've standardized (scaled) all predictors!"
   ]
  },
  {
   "cell_type": "code",
   "execution_count": 1042,
   "metadata": {
    "collapsed": true
   },
   "outputs": [],
   "source": [
    "# Import the function outliers' defined in file 'outliers.py':\n",
    "from outliers import outliers"
   ]
  },
  {
   "cell_type": "code",
   "execution_count": 1043,
   "metadata": {},
   "outputs": [
    {
     "name": "stdout",
     "output_type": "stream",
     "text": [
      "The autoreload extension is already loaded. To reload it, use:\n",
      "  %reload_ext autoreload\n"
     ]
    }
   ],
   "source": [
    "# Very important code to make sure .py files are run successfully:\n",
    "%load_ext autoreload\n",
    "%autoreload 2"
   ]
  },
  {
   "cell_type": "code",
   "execution_count": 1044,
   "metadata": {
    "collapsed": true
   },
   "outputs": [],
   "source": [
    "# list(temp.columns)"
   ]
  },
  {
   "cell_type": "code",
   "execution_count": 1045,
   "metadata": {
    "collapsed": true
   },
   "outputs": [],
   "source": [
    "temp = outliers(temp, list(temp.columns), kneighbors = 40)"
   ]
  },
  {
   "cell_type": "code",
   "execution_count": 1046,
   "metadata": {},
   "outputs": [
    {
     "data": {
      "text/plain": [
       "(array([ 264.,  635.,  401.,  128.,   21.,    8.,    1.,    1.,    0.,    1.]),\n",
       " array([  220.57476649,   325.50823303,   430.44169958,   535.37516613,\n",
       "          640.30863268,   745.24209922,   850.17556577,   955.10903232,\n",
       "         1060.04249887,  1164.97596542,  1269.90943196]),\n",
       " <a list of 10 Patch objects>)"
      ]
     },
     "execution_count": 1046,
     "metadata": {},
     "output_type": "execute_result"
    },
    {
     "data": {
      "image/png": "[encoded data removed]",
      "text/plain": [
       "<matplotlib.figure.Figure at 0x25381a09358>"
      ]
     },
     "metadata": {},
     "output_type": "display_data"
    }
   ],
   "source": [
    "plt.hist(temp.distances)"
   ]
  },
  {
   "cell_type": "code",
   "execution_count": 1047,
   "metadata": {},
   "outputs": [
    {
     "data": {
      "text/plain": [
       "706.8899958837019"
      ]
     },
     "execution_count": 1047,
     "metadata": {},
     "output_type": "execute_result"
    }
   ],
   "source": [
    "temp.distances.quantile(q = 0.99)"
   ]
  },
  {
   "cell_type": "code",
   "execution_count": 1048,
   "metadata": {},
   "outputs": [
    {
     "data": {
      "text/plain": [
       "17"
      ]
     },
     "execution_count": 1048,
     "metadata": {},
     "output_type": "execute_result"
    }
   ],
   "source": [
    "sum(temp.distances>690)"
   ]
  },
  {
   "cell_type": "code",
   "execution_count": 1049,
   "metadata": {},
   "outputs": [
    {
     "data": {
      "text/plain": [
       "0.011643835616438357"
      ]
     },
     "execution_count": 1049,
     "metadata": {},
     "output_type": "execute_result"
    }
   ],
   "source": [
    "sum(temp.distances>690)/temp.shape[0]"
   ]
  },
  {
   "cell_type": "code",
   "execution_count": 1050,
   "metadata": {
    "collapsed": true
   },
   "outputs": [],
   "source": [
    "# Adding distances to our train2 data frame:\n",
    "train2['distances'] = temp.distances"
   ]
  },
  {
   "cell_type": "code",
   "execution_count": 1051,
   "metadata": {
    "collapsed": true
   },
   "outputs": [],
   "source": [
    "# train2.distances.sort_values(ascending = False)"
   ]
  },
  {
   "cell_type": "markdown",
   "metadata": {},
   "source": [
    "###### Executive decision was to remove 17 outliers with distance metrics > 690"
   ]
  },
  {
   "cell_type": "code",
   "execution_count": 1052,
   "metadata": {},
   "outputs": [
    {
     "name": "stdout",
     "output_type": "stream",
     "text": [
      "(1460, 112)\n"
     ]
    }
   ],
   "source": [
    "print(train2.shape)  # 1,460 rows"
   ]
  },
  {
   "cell_type": "code",
   "execution_count": 1053,
   "metadata": {},
   "outputs": [],
   "source": [
    "y = y.loc[train2.distances < 690,]\n",
    "train2 = train2.loc[train2.distances < 690,]\n"
   ]
  },
  {
   "cell_type": "code",
   "execution_count": 1054,
   "metadata": {
    "scrolled": true
   },
   "outputs": [
    {
     "name": "stdout",
     "output_type": "stream",
     "text": [
      "(1443, 112)\n",
      "(1443,)\n"
     ]
    }
   ],
   "source": [
    "print(train2.shape)\n",
    "print(y.shape)"
   ]
  },
  {
   "cell_type": "code",
   "execution_count": 1055,
   "metadata": {},
   "outputs": [],
   "source": [
    "#plt.scatter(train2.distances, y)"
   ]
  },
  {
   "cell_type": "code",
   "execution_count": 1056,
   "metadata": {
    "collapsed": true
   },
   "outputs": [],
   "source": [
    "# Drop distances from our data frame:\n",
    "t2_dists = train2['distances']\n",
    "train2.drop(['distances'], axis=1, inplace = True)"
   ]
  },
  {
   "cell_type": "markdown",
   "metadata": {},
   "source": [
    "###### Final Scaling of all predictors in training and test"
   ]
  },
  {
   "cell_type": "code",
   "execution_count": 1057,
   "metadata": {},
   "outputs": [],
   "source": [
    "from sklearn.preprocessing import StandardScaler\n",
    "scaler = StandardScaler()\n",
    "temp = pd.DataFrame(scaler.fit_transform(train2), columns=train2.columns)\n",
    "temp2 = pd.DataFrame(scaler.transform(test2), columns = test2.columns)"
   ]
  },
  {
   "cell_type": "code",
   "execution_count": 1058,
   "metadata": {},
   "outputs": [
    {
     "name": "stdout",
     "output_type": "stream",
     "text": [
      "(1443, 111)\n",
      "(1459, 111)\n"
     ]
    }
   ],
   "source": [
    "print(temp.shape)\n",
    "print(temp2.shape)"
   ]
  },
  {
   "cell_type": "markdown",
   "metadata": {},
   "source": [
    "### Saving Prepped Data"
   ]
  },
  {
   "cell_type": "code",
   "execution_count": 1067,
   "metadata": {},
   "outputs": [],
   "source": [
    "train_y = y\n",
    "train_x = temp\n",
    "test_x = temp2\n",
    "train_y.to_csv('Data/train_y.csv')\n",
    "train_x.to_csv('Data/train_x.csv')\n",
    "test_x.to_csv('Data/test_x.csv')"
   ]
  }
 ],
 "metadata": {
  "kernelspec": {
   "display_name": "Python 3",
   "language": "python",
   "name": "python3"
  },
  "language_info": {
   "codemirror_mode": {
    "name": "ipython",
    "version": 3
   },
   "file_extension": ".py",
   "mimetype": "text/x-python",
   "name": "python",
   "nbconvert_exporter": "python",
   "pygments_lexer": "ipython3",
   "version": "3.6.1"
  }
 },
 "nbformat": 4,
 "nbformat_minor": 2
}
