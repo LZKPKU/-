{
 "cells": [
  {
   "cell_type": "code",
   "execution_count": 10,
   "metadata": {},
   "outputs": [
    {
     "name": "stdout",
     "output_type": "stream",
     "text": [
      "(1458, 181)\n",
      "(1458, 1)\n",
      "(1459, 181)\n"
     ]
    }
   ],
   "source": [
    "#Reading in and reviewing training and test datasets\n",
    "import pandas as pd\n",
    "import numpy as np\n",
    "%matplotlib inline\n",
    "\n",
    "train_x = pd.read_csv('../Data/train_x2.csv')\n",
    "train_y = pd.read_csv('../Data/train_y2.csv',header=None)\n",
    "test_x = pd.read_csv('../Data/test_x2.csv')\n",
    "\n",
    "print(train_x.shape)\n",
    "print(train_y.shape)\n",
    "print(test_x.shape)\n",
    "#train_x.head()\n",
    "#train_y.head()\n",
    "#test_x.head()\n",
    "train_y = np.ravel(train_y,'C') #converting dependent variable to 1d array"
   ]
  },
  {
   "cell_type": "markdown",
   "metadata": {},
   "source": [
    "**Fitting initial random forest**"
   ]
  },
  {
   "cell_type": "code",
   "execution_count": 17,
   "metadata": {},
   "outputs": [
    {
     "data": {
      "text/plain": [
       "RandomForestRegressor(bootstrap=True, criterion='mse', max_depth=None,\n",
       "           max_features='auto', max_leaf_nodes=None,\n",
       "           min_impurity_split=1e-07, min_samples_leaf=1,\n",
       "           min_samples_split=2, min_weight_fraction_leaf=0.0,\n",
       "           n_estimators=50, n_jobs=-1, oob_score=True, random_state=None,\n",
       "           verbose=0, warm_start=False)"
      ]
     },
     "execution_count": 17,
     "metadata": {},
     "output_type": "execute_result"
    }
   ],
   "source": [
    "from sklearn.ensemble import RandomForestRegressor\n",
    "np.random.seed(0)\n",
    "initial_forest = RandomForestRegressor(n_estimators=50, n_jobs=-1, oob_score=True)\n",
    "initial_forest.fit(train_x.values, train_y)"
   ]
  },
  {
   "cell_type": "markdown",
   "metadata": {},
   "source": [
    "OOB error from initial forest"
   ]
  },
  {
   "cell_type": "code",
   "execution_count": 18,
   "metadata": {},
   "outputs": [
    {
     "name": "stdout",
     "output_type": "stream",
     "text": [
      "OOB Error: 0.838430502062\n",
      "Acc. Score: 0.97628425657\n"
     ]
    }
   ],
   "source": [
    "print('OOB Error:',initial_forest.oob_score_) #out-of-bag error\n",
    "print('Acc. Score:',initial_forest.score(train_x, train_y)) #accuracy score"
   ]
  },
  {
   "cell_type": "markdown",
   "metadata": {},
   "source": [
    "Using GridSearchCV to experiment with hyperparameters"
   ]
  },
  {
   "cell_type": "code",
   "execution_count": 19,
   "metadata": {},
   "outputs": [
    {
     "data": {
      "text/plain": [
       "GridSearchCV(cv=5, error_score='raise',\n",
       "       estimator=RandomForestRegressor(bootstrap=True, criterion='mse', max_depth=None,\n",
       "           max_features='auto', max_leaf_nodes=None,\n",
       "           min_impurity_split=1e-07, min_samples_leaf=1,\n",
       "           min_samples_split=2, min_weight_fraction_leaf=0.0,\n",
       "           n_estimators=50, n_jobs=-1, oob_score=True, random_state=None,\n",
       "           verbose=0, warm_start=False),\n",
       "       fit_params={}, iid=True, n_jobs=1,\n",
       "       param_grid=[{'n_jobs': [-1], 'n_estimators': [800, 1000], 'max_features': [11, 7, 9], 'random_state': [43]}],\n",
       "       pre_dispatch='2*n_jobs', refit=True, return_train_score=True,\n",
       "       scoring=None, verbose=0)"
      ]
     },
     "execution_count": 19,
     "metadata": {},
     "output_type": "execute_result"
    }
   ],
   "source": [
    "from sklearn.model_selection import GridSearchCV\n",
    "initial_forest.get_params\n",
    "param_grid = [{'n_estimators':[800,1000],'max_features':[11,7,9],'random_state':[43],'n_jobs':[-1]}]\n",
    "grid_search = GridSearchCV(initial_forest, param_grid, cv=5)\n",
    "grid_search.fit(train_x, train_y)"
   ]
  },
  {
   "cell_type": "code",
   "execution_count": 25,
   "metadata": {},
   "outputs": [
    {
     "name": "stdout",
     "output_type": "stream",
     "text": [
      "Best Parameters: {'n_jobs': -1, 'n_estimators': 800, 'max_features': 11, 'random_state': 43}\n",
      "Training accuracy: 0.979138289648\n",
      "Training error: 0.020861710352000018\n",
      "Best Score: 0.840457869031\n",
      "Error of best model: 0.15954213096900005\n"
     ]
    }
   ],
   "source": [
    "print('Best Parameters:',grid_search.best_params_)\n",
    "print('Training accuracy:',grid_search.score(train_x, train_y)) #training accuracy\n",
    "print('Training error:', 1 - .979138289648) #training error\n",
    "print('Best Score:', grid_search.best_score_) #best score\n",
    "print('Error of best model:', 1 - .840457869031) #best model error\n",
    "#print('CV Results:',grid_search.cv_results_)"
   ]
  },
  {
   "cell_type": "markdown",
   "metadata": {},
   "source": [
    "### Fitting model with second dataset"
   ]
  },
  {
   "cell_type": "code",
   "execution_count": 8,
   "metadata": {
    "collapsed": true
   },
   "outputs": [],
   "source": [
    "from sklearn.ensemble import RandomForestRegressor\n",
    "initial_forest2 = RandomForestRegressor(n_estimators=50, n_jobs=-1, oob_score=True)"
   ]
  },
  {
   "cell_type": "code",
   "execution_count": 11,
   "metadata": {},
   "outputs": [
    {
     "data": {
      "text/plain": [
       "RandomForestRegressor(bootstrap=True, criterion='mse', max_depth=None,\n",
       "           max_features='auto', max_leaf_nodes=None,\n",
       "           min_impurity_split=1e-07, min_samples_leaf=1,\n",
       "           min_samples_split=2, min_weight_fraction_leaf=0.0,\n",
       "           n_estimators=50, n_jobs=-1, oob_score=True, random_state=None,\n",
       "           verbose=0, warm_start=False)"
      ]
     },
     "execution_count": 11,
     "metadata": {},
     "output_type": "execute_result"
    }
   ],
   "source": [
    "initial_forest2.fit(train_x, train_y)"
   ]
  },
  {
   "cell_type": "code",
   "execution_count": 15,
   "metadata": {},
   "outputs": [
    {
     "name": "stdout",
     "output_type": "stream",
     "text": [
      "0.982954264926\n"
     ]
    }
   ],
   "source": [
    "print(initial_forest2.score(train_x, train_y))"
   ]
  },
  {
   "cell_type": "code",
   "execution_count": 22,
   "metadata": {},
   "outputs": [
    {
     "data": {
      "text/plain": [
       "GridSearchCV(cv=5, error_score='raise',\n",
       "       estimator=RandomForestRegressor(bootstrap=True, criterion='mse', max_depth=None,\n",
       "           max_features='auto', max_leaf_nodes=None,\n",
       "           min_impurity_split=1e-07, min_samples_leaf=1,\n",
       "           min_samples_split=2, min_weight_fraction_leaf=0.0,\n",
       "           n_estimators=50, n_jobs=-1, oob_score=True, random_state=None,\n",
       "           verbose=0, warm_start=False),\n",
       "       fit_params={}, iid=True, n_jobs=1,\n",
       "       param_grid=[{'n_jobs': [-1], 'max_depth': [7, 8, 9], 'max_features': [13, 14, 15], 'n_estimators': [600, 800]}],\n",
       "       pre_dispatch='2*n_jobs', refit=True, return_train_score=True,\n",
       "       scoring=None, verbose=0)"
      ]
     },
     "execution_count": 22,
     "metadata": {},
     "output_type": "execute_result"
    }
   ],
   "source": [
    "from sklearn.model_selection import GridSearchCV\n",
    "initial_forest2.get_params\n",
    "param_grid = [{'n_estimators':[600,800],'max_features':[13,14,15],'n_jobs':[-1],'max_depth':[7,8,9]}]\n",
    "grid_search = GridSearchCV(initial_forest2, param_grid, cv=5)\n",
    "grid_search.fit(train_x, train_y)"
   ]
  },
  {
   "cell_type": "code",
   "execution_count": 23,
   "metadata": {},
   "outputs": [
    {
     "name": "stdout",
     "output_type": "stream",
     "text": [
      "Best Parameters: {'n_estimators': 800, 'max_features': 15, 'max_depth': 9, 'n_jobs': -1}\n",
      "Training accuracy: 0.957289033879\n",
      "Training error: 0.020861710352000018\n",
      "Best Score: 0.876504988228\n",
      "Error of best model: 0.15954213096900005\n"
     ]
    }
   ],
   "source": [
    "print('Best Parameters:',grid_search.best_params_)\n",
    "print('Training accuracy:',grid_search.score(train_x, train_y)) #training accuracy\n",
    "print('Training error:', 1 - .979138289648) #training error\n",
    "print('Best Score:', grid_search.best_score_) #best score\n",
    "print('Error of best model:', 1 - .840457869031) #best model error\n",
    "#print('CV Results:',grid_search.cv_results_)"
   ]
  }
 ],
 "metadata": {
  "kernelspec": {
   "display_name": "Python 3",
   "language": "python",
   "name": "python3"
  },
  "language_info": {
   "codemirror_mode": {
    "name": "ipython",
    "version": 3
   },
   "file_extension": ".py",
   "mimetype": "text/x-python",
   "name": "python",
   "nbconvert_exporter": "python",
   "pygments_lexer": "ipython3",
   "version": "3.5.3"
  }
 },
 "nbformat": 4,
 "nbformat_minor": 2
}
